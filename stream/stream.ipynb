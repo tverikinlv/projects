{
 "cells": [
  {
   "cell_type": "markdown",
   "metadata": {},
   "source": [
    "# Анализ данных для интернет-магазина компьютерных игр «Стримчик»\n",
    "\n",
    "__Данные__: /datasets/games.csv\n",
    "\n",
    "__Описание данных__: \n",
    "- `Name` — название игры\n",
    "- `Platform` — платформа\n",
    "- `Year_of_Release` — год выпуска\n",
    "- `Genre` — жанр игры\n",
    "- `NA_sales` — продажи в Северной Америке (миллионы проданных копий)\n",
    "- `EU_sales` — продажи в Европе (миллионы проданных копий)\n",
    "- `JP_sales` — продажи в Японии (миллионы проданных копий)\n",
    "- `Other_sales` — продажи в других странах (миллионы проданных копий)\n",
    "- `Critic_Score` — оценка критиков (максимум 100)\n",
    "- `User_Score` — оценка пользователей (максимум 10)\n",
    "- `Rating` — рейтинг от организации ESRB (англ. Entertainment Software Rating Board). Эта ассоциация определяет рейтинг компьютерных игр и присваивает им подходящую возрастную категорию.\n",
    "\n",
    "__Цель:__ выявить определяющие успешность игры закономерности\n",
    "\n",
    "\n",
    "__План работ:__\n",
    "1. Открыть файл с данными и изучить общую информацию:\n",
    "    - Путь к файлу: /datasets/games.csv.\n",
    "2. Подготовить данные:\n",
    "    - заменить названия столбцов (привести к нижнему регистру);\n",
    "    - преобразовать данные в нужные типы;\n",
    "    - обработать пропуски при необходимости;\n",
    "    - выявить причины, которые могли привести к пропускам;\n",
    "    - обработать значение tbd\n",
    "    - посчитать суммарные продажи во всех регионах и записать их в отдельный столбец.\n",
    "3. Провести исследовательский анализ данных:\n",
    "    - посмотреть сколько игр выпускалось в разные годы.    \n",
    "    - посмотреть, как менялись продажи по платформам. выбрать платформы с наибольшими суммарными продажами и построить распределение по годам.\n",
    "    - выявить какие платформы лидируют по продажам, растут или падают. Выбирать несколько потенциально прибыльных платформ.\n",
    "    - построить график «ящик с усами» по глобальным продажам игр в разбивке по платформам.\n",
    "    - посмотреть, как влияют на продажи внутри одной популярной платформы отзывы пользователей и критиков. Построить диаграмму рассеяния и посчитать корреляцию между отзывами и продажами.\n",
    "    - соотнести выводы с продажами игр на других платформах.\n",
    "    - посмотреть на общее распределение игр по жанрам. \n",
    "4. Составить портрет пользователя каждого региона\n",
    "    - определить для пользователя каждого региона (NA, EU, JP):\n",
    "        - самые популярные платформы (топ-5).\n",
    "        - самые популярные жанры (топ-5).\n",
    "        - влияет ли рейтинг ESRB на продажи в отдельном регионе.\n",
    "5. Проверить гипотезы\n",
    "    - средние пользовательские рейтинги платформ Xbox One и PC одинаковые;\n",
    "    - средние пользовательские рейтинги жанров Action (англ. «действие», экшен-игры) и Sports (англ. «спортивные соревнования») разные.\n",
    "6. Написать общий вывод"
   ]
  },
  {
   "cell_type": "markdown",
   "metadata": {},
   "source": [
    "#### Загрузка данных"
   ]
  },
  {
   "cell_type": "code",
   "execution_count": 1,
   "metadata": {},
   "outputs": [],
   "source": [
    "import pandas as pd\n",
    "import numpy as np\n",
    "import matplotlib.pyplot as plt\n",
    "import seaborn as sns\n",
    "from math import sqrt\n",
    "from scipy import stats as st"
   ]
  },
  {
   "cell_type": "code",
   "execution_count": 2,
   "metadata": {},
   "outputs": [
    {
     "data": {
      "text/plain": [
       "(16715, 11)"
      ]
     },
     "execution_count": 2,
     "metadata": {},
     "output_type": "execute_result"
    }
   ],
   "source": [
    "try:\n",
    "    df = pd.read_csv('/datasets/games.csv')\n",
    "except:\n",
    "    df = pd.read_csv('https://code.s3.yandex.net/datasets/games.csv')\n",
    "df.shape"
   ]
  },
  {
   "cell_type": "code",
   "execution_count": 3,
   "metadata": {},
   "outputs": [
    {
     "data": {
      "text/html": [
       "<div>\n",
       "<style scoped>\n",
       "    .dataframe tbody tr th:only-of-type {\n",
       "        vertical-align: middle;\n",
       "    }\n",
       "\n",
       "    .dataframe tbody tr th {\n",
       "        vertical-align: top;\n",
       "    }\n",
       "\n",
       "    .dataframe thead th {\n",
       "        text-align: right;\n",
       "    }\n",
       "</style>\n",
       "<table border=\"1\" class=\"dataframe\">\n",
       "  <thead>\n",
       "    <tr style=\"text-align: right;\">\n",
       "      <th></th>\n",
       "      <th>Name</th>\n",
       "      <th>Platform</th>\n",
       "      <th>Year_of_Release</th>\n",
       "      <th>Genre</th>\n",
       "      <th>NA_sales</th>\n",
       "      <th>EU_sales</th>\n",
       "      <th>JP_sales</th>\n",
       "      <th>Other_sales</th>\n",
       "      <th>Critic_Score</th>\n",
       "      <th>User_Score</th>\n",
       "      <th>Rating</th>\n",
       "    </tr>\n",
       "  </thead>\n",
       "  <tbody>\n",
       "    <tr>\n",
       "      <th>0</th>\n",
       "      <td>Wii Sports</td>\n",
       "      <td>Wii</td>\n",
       "      <td>2006.0</td>\n",
       "      <td>Sports</td>\n",
       "      <td>41.36</td>\n",
       "      <td>28.96</td>\n",
       "      <td>3.77</td>\n",
       "      <td>8.45</td>\n",
       "      <td>76.0</td>\n",
       "      <td>8</td>\n",
       "      <td>E</td>\n",
       "    </tr>\n",
       "    <tr>\n",
       "      <th>1</th>\n",
       "      <td>Super Mario Bros.</td>\n",
       "      <td>NES</td>\n",
       "      <td>1985.0</td>\n",
       "      <td>Platform</td>\n",
       "      <td>29.08</td>\n",
       "      <td>3.58</td>\n",
       "      <td>6.81</td>\n",
       "      <td>0.77</td>\n",
       "      <td>NaN</td>\n",
       "      <td>NaN</td>\n",
       "      <td>NaN</td>\n",
       "    </tr>\n",
       "    <tr>\n",
       "      <th>2</th>\n",
       "      <td>Mario Kart Wii</td>\n",
       "      <td>Wii</td>\n",
       "      <td>2008.0</td>\n",
       "      <td>Racing</td>\n",
       "      <td>15.68</td>\n",
       "      <td>12.76</td>\n",
       "      <td>3.79</td>\n",
       "      <td>3.29</td>\n",
       "      <td>82.0</td>\n",
       "      <td>8.3</td>\n",
       "      <td>E</td>\n",
       "    </tr>\n",
       "    <tr>\n",
       "      <th>3</th>\n",
       "      <td>Wii Sports Resort</td>\n",
       "      <td>Wii</td>\n",
       "      <td>2009.0</td>\n",
       "      <td>Sports</td>\n",
       "      <td>15.61</td>\n",
       "      <td>10.93</td>\n",
       "      <td>3.28</td>\n",
       "      <td>2.95</td>\n",
       "      <td>80.0</td>\n",
       "      <td>8</td>\n",
       "      <td>E</td>\n",
       "    </tr>\n",
       "    <tr>\n",
       "      <th>4</th>\n",
       "      <td>Pokemon Red/Pokemon Blue</td>\n",
       "      <td>GB</td>\n",
       "      <td>1996.0</td>\n",
       "      <td>Role-Playing</td>\n",
       "      <td>11.27</td>\n",
       "      <td>8.89</td>\n",
       "      <td>10.22</td>\n",
       "      <td>1.00</td>\n",
       "      <td>NaN</td>\n",
       "      <td>NaN</td>\n",
       "      <td>NaN</td>\n",
       "    </tr>\n",
       "  </tbody>\n",
       "</table>\n",
       "</div>"
      ],
      "text/plain": [
       "                       Name Platform  Year_of_Release         Genre  NA_sales  \\\n",
       "0                Wii Sports      Wii           2006.0        Sports     41.36   \n",
       "1         Super Mario Bros.      NES           1985.0      Platform     29.08   \n",
       "2            Mario Kart Wii      Wii           2008.0        Racing     15.68   \n",
       "3         Wii Sports Resort      Wii           2009.0        Sports     15.61   \n",
       "4  Pokemon Red/Pokemon Blue       GB           1996.0  Role-Playing     11.27   \n",
       "\n",
       "   EU_sales  JP_sales  Other_sales  Critic_Score User_Score Rating  \n",
       "0     28.96      3.77         8.45          76.0          8      E  \n",
       "1      3.58      6.81         0.77           NaN        NaN    NaN  \n",
       "2     12.76      3.79         3.29          82.0        8.3      E  \n",
       "3     10.93      3.28         2.95          80.0          8      E  \n",
       "4      8.89     10.22         1.00           NaN        NaN    NaN  "
      ]
     },
     "execution_count": 3,
     "metadata": {},
     "output_type": "execute_result"
    }
   ],
   "source": [
    "df.head()"
   ]
  },
  {
   "cell_type": "code",
   "execution_count": 4,
   "metadata": {},
   "outputs": [
    {
     "name": "stdout",
     "output_type": "stream",
     "text": [
      "<class 'pandas.core.frame.DataFrame'>\n",
      "RangeIndex: 16715 entries, 0 to 16714\n",
      "Data columns (total 11 columns):\n",
      " #   Column           Non-Null Count  Dtype  \n",
      "---  ------           --------------  -----  \n",
      " 0   Name             16713 non-null  object \n",
      " 1   Platform         16715 non-null  object \n",
      " 2   Year_of_Release  16446 non-null  float64\n",
      " 3   Genre            16713 non-null  object \n",
      " 4   NA_sales         16715 non-null  float64\n",
      " 5   EU_sales         16715 non-null  float64\n",
      " 6   JP_sales         16715 non-null  float64\n",
      " 7   Other_sales      16715 non-null  float64\n",
      " 8   Critic_Score     8137 non-null   float64\n",
      " 9   User_Score       10014 non-null  object \n",
      " 10  Rating           9949 non-null   object \n",
      "dtypes: float64(6), object(5)\n",
      "memory usage: 1.4+ MB\n"
     ]
    }
   ],
   "source": [
    "df.info()"
   ]
  },
  {
   "cell_type": "markdown",
   "metadata": {},
   "source": [
    "##### Выводы\n",
    "\n",
    "Данные загружены, преобразованы в датафрейм без ошибок.\n",
    "\n",
    "В данных:\n",
    "- имеются пропуски в столбцах `Name`, `Year_of_Release`, `Genre`, `Critic_Score`, `User_score`, `Rating` \n",
    "- у столбцов `Year_of_Release`, `User_Score` тип данных не соответствует значениям\n",
    "- названия столбцов с заглавных букв\n",
    "\n",
    "Возможно, пропуски в столбцах с рейтингом связаны с годом выпуска игры."
   ]
  },
  {
   "cell_type": "markdown",
   "metadata": {},
   "source": [
    "#### Подготовка данных \n",
    "\n",
    "Начнем с изменения названия столбцов"
   ]
  },
  {
   "cell_type": "code",
   "execution_count": 5,
   "metadata": {},
   "outputs": [
    {
     "name": "stdout",
     "output_type": "stream",
     "text": [
      "<class 'pandas.core.frame.DataFrame'>\n",
      "RangeIndex: 16715 entries, 0 to 16714\n",
      "Data columns (total 11 columns):\n",
      " #   Column           Non-Null Count  Dtype  \n",
      "---  ------           --------------  -----  \n",
      " 0   name             16713 non-null  object \n",
      " 1   platform         16715 non-null  object \n",
      " 2   year_of_release  16446 non-null  float64\n",
      " 3   genre            16713 non-null  object \n",
      " 4   na_sales         16715 non-null  float64\n",
      " 5   eu_sales         16715 non-null  float64\n",
      " 6   jp_sales         16715 non-null  float64\n",
      " 7   other_sales      16715 non-null  float64\n",
      " 8   critic_score     8137 non-null   float64\n",
      " 9   user_score       10014 non-null  object \n",
      " 10  rating           9949 non-null   object \n",
      "dtypes: float64(6), object(5)\n",
      "memory usage: 1.4+ MB\n"
     ]
    }
   ],
   "source": [
    "df.columns = df.columns.str.lower()\n",
    "df.info()"
   ]
  },
  {
   "cell_type": "markdown",
   "metadata": {},
   "source": [
    "Теперь изучим пропуски"
   ]
  },
  {
   "cell_type": "code",
   "execution_count": 6,
   "metadata": {},
   "outputs": [
    {
     "data": {
      "text/plain": [
       "name                0.01\n",
       "platform            0.00\n",
       "year_of_release     1.61\n",
       "genre               0.01\n",
       "na_sales            0.00\n",
       "eu_sales            0.00\n",
       "jp_sales            0.00\n",
       "other_sales         0.00\n",
       "critic_score       51.32\n",
       "user_score         40.09\n",
       "rating             40.48\n",
       "dtype: float64"
      ]
     },
     "execution_count": 6,
     "metadata": {},
     "output_type": "execute_result"
    }
   ],
   "source": [
    "(df.isna().sum() / len(df)).round(4) * 100"
   ]
  },
  {
   "cell_type": "code",
   "execution_count": 7,
   "metadata": {},
   "outputs": [
    {
     "data": {
      "text/html": [
       "<div>\n",
       "<style scoped>\n",
       "    .dataframe tbody tr th:only-of-type {\n",
       "        vertical-align: middle;\n",
       "    }\n",
       "\n",
       "    .dataframe tbody tr th {\n",
       "        vertical-align: top;\n",
       "    }\n",
       "\n",
       "    .dataframe thead th {\n",
       "        text-align: right;\n",
       "    }\n",
       "</style>\n",
       "<table border=\"1\" class=\"dataframe\">\n",
       "  <thead>\n",
       "    <tr style=\"text-align: right;\">\n",
       "      <th></th>\n",
       "      <th>name</th>\n",
       "      <th>platform</th>\n",
       "      <th>year_of_release</th>\n",
       "      <th>genre</th>\n",
       "      <th>na_sales</th>\n",
       "      <th>eu_sales</th>\n",
       "      <th>jp_sales</th>\n",
       "      <th>other_sales</th>\n",
       "      <th>critic_score</th>\n",
       "      <th>user_score</th>\n",
       "      <th>rating</th>\n",
       "    </tr>\n",
       "  </thead>\n",
       "  <tbody>\n",
       "    <tr>\n",
       "      <th>659</th>\n",
       "      <td>NaN</td>\n",
       "      <td>GEN</td>\n",
       "      <td>1993.0</td>\n",
       "      <td>NaN</td>\n",
       "      <td>1.78</td>\n",
       "      <td>0.53</td>\n",
       "      <td>0.00</td>\n",
       "      <td>0.08</td>\n",
       "      <td>NaN</td>\n",
       "      <td>NaN</td>\n",
       "      <td>NaN</td>\n",
       "    </tr>\n",
       "    <tr>\n",
       "      <th>14244</th>\n",
       "      <td>NaN</td>\n",
       "      <td>GEN</td>\n",
       "      <td>1993.0</td>\n",
       "      <td>NaN</td>\n",
       "      <td>0.00</td>\n",
       "      <td>0.00</td>\n",
       "      <td>0.03</td>\n",
       "      <td>0.00</td>\n",
       "      <td>NaN</td>\n",
       "      <td>NaN</td>\n",
       "      <td>NaN</td>\n",
       "    </tr>\n",
       "  </tbody>\n",
       "</table>\n",
       "</div>"
      ],
      "text/plain": [
       "      name platform  year_of_release genre  na_sales  eu_sales  jp_sales  \\\n",
       "659    NaN      GEN           1993.0   NaN      1.78      0.53      0.00   \n",
       "14244  NaN      GEN           1993.0   NaN      0.00      0.00      0.03   \n",
       "\n",
       "       other_sales  critic_score user_score rating  \n",
       "659           0.08           NaN        NaN    NaN  \n",
       "14244         0.00           NaN        NaN    NaN  "
      ]
     },
     "execution_count": 7,
     "metadata": {},
     "output_type": "execute_result"
    }
   ],
   "source": [
    "df[df.name.isna()]"
   ]
  },
  {
   "cell_type": "code",
   "execution_count": 8,
   "metadata": {},
   "outputs": [
    {
     "data": {
      "text/html": [
       "<div>\n",
       "<style scoped>\n",
       "    .dataframe tbody tr th:only-of-type {\n",
       "        vertical-align: middle;\n",
       "    }\n",
       "\n",
       "    .dataframe tbody tr th {\n",
       "        vertical-align: top;\n",
       "    }\n",
       "\n",
       "    .dataframe thead th {\n",
       "        text-align: right;\n",
       "    }\n",
       "</style>\n",
       "<table border=\"1\" class=\"dataframe\">\n",
       "  <thead>\n",
       "    <tr style=\"text-align: right;\">\n",
       "      <th></th>\n",
       "      <th>name</th>\n",
       "      <th>platform</th>\n",
       "      <th>year_of_release</th>\n",
       "      <th>genre</th>\n",
       "      <th>na_sales</th>\n",
       "      <th>eu_sales</th>\n",
       "      <th>jp_sales</th>\n",
       "      <th>other_sales</th>\n",
       "      <th>critic_score</th>\n",
       "      <th>user_score</th>\n",
       "      <th>rating</th>\n",
       "    </tr>\n",
       "  </thead>\n",
       "  <tbody>\n",
       "    <tr>\n",
       "      <th>183</th>\n",
       "      <td>Madden NFL 2004</td>\n",
       "      <td>PS2</td>\n",
       "      <td>NaN</td>\n",
       "      <td>Sports</td>\n",
       "      <td>4.26</td>\n",
       "      <td>0.26</td>\n",
       "      <td>0.01</td>\n",
       "      <td>0.71</td>\n",
       "      <td>94.0</td>\n",
       "      <td>8.5</td>\n",
       "      <td>E</td>\n",
       "    </tr>\n",
       "    <tr>\n",
       "      <th>377</th>\n",
       "      <td>FIFA Soccer 2004</td>\n",
       "      <td>PS2</td>\n",
       "      <td>NaN</td>\n",
       "      <td>Sports</td>\n",
       "      <td>0.59</td>\n",
       "      <td>2.36</td>\n",
       "      <td>0.04</td>\n",
       "      <td>0.51</td>\n",
       "      <td>84.0</td>\n",
       "      <td>6.4</td>\n",
       "      <td>E</td>\n",
       "    </tr>\n",
       "    <tr>\n",
       "      <th>456</th>\n",
       "      <td>LEGO Batman: The Videogame</td>\n",
       "      <td>Wii</td>\n",
       "      <td>NaN</td>\n",
       "      <td>Action</td>\n",
       "      <td>1.80</td>\n",
       "      <td>0.97</td>\n",
       "      <td>0.00</td>\n",
       "      <td>0.29</td>\n",
       "      <td>74.0</td>\n",
       "      <td>7.9</td>\n",
       "      <td>E10+</td>\n",
       "    </tr>\n",
       "    <tr>\n",
       "      <th>475</th>\n",
       "      <td>wwe Smackdown vs. Raw 2006</td>\n",
       "      <td>PS2</td>\n",
       "      <td>NaN</td>\n",
       "      <td>Fighting</td>\n",
       "      <td>1.57</td>\n",
       "      <td>1.02</td>\n",
       "      <td>0.00</td>\n",
       "      <td>0.41</td>\n",
       "      <td>NaN</td>\n",
       "      <td>NaN</td>\n",
       "      <td>NaN</td>\n",
       "    </tr>\n",
       "    <tr>\n",
       "      <th>609</th>\n",
       "      <td>Space Invaders</td>\n",
       "      <td>2600</td>\n",
       "      <td>NaN</td>\n",
       "      <td>Shooter</td>\n",
       "      <td>2.36</td>\n",
       "      <td>0.14</td>\n",
       "      <td>0.00</td>\n",
       "      <td>0.03</td>\n",
       "      <td>NaN</td>\n",
       "      <td>NaN</td>\n",
       "      <td>NaN</td>\n",
       "    </tr>\n",
       "    <tr>\n",
       "      <th>627</th>\n",
       "      <td>Rock Band</td>\n",
       "      <td>X360</td>\n",
       "      <td>NaN</td>\n",
       "      <td>Misc</td>\n",
       "      <td>1.93</td>\n",
       "      <td>0.33</td>\n",
       "      <td>0.00</td>\n",
       "      <td>0.21</td>\n",
       "      <td>92.0</td>\n",
       "      <td>8.2</td>\n",
       "      <td>T</td>\n",
       "    </tr>\n",
       "    <tr>\n",
       "      <th>657</th>\n",
       "      <td>Frogger's Adventures: Temple of the Frog</td>\n",
       "      <td>GBA</td>\n",
       "      <td>NaN</td>\n",
       "      <td>Adventure</td>\n",
       "      <td>2.15</td>\n",
       "      <td>0.18</td>\n",
       "      <td>0.00</td>\n",
       "      <td>0.07</td>\n",
       "      <td>73.0</td>\n",
       "      <td>tbd</td>\n",
       "      <td>E</td>\n",
       "    </tr>\n",
       "    <tr>\n",
       "      <th>678</th>\n",
       "      <td>LEGO Indiana Jones: The Original Adventures</td>\n",
       "      <td>Wii</td>\n",
       "      <td>NaN</td>\n",
       "      <td>Action</td>\n",
       "      <td>1.51</td>\n",
       "      <td>0.61</td>\n",
       "      <td>0.00</td>\n",
       "      <td>0.21</td>\n",
       "      <td>78.0</td>\n",
       "      <td>6.6</td>\n",
       "      <td>E10+</td>\n",
       "    </tr>\n",
       "    <tr>\n",
       "      <th>719</th>\n",
       "      <td>Call of Duty 3</td>\n",
       "      <td>Wii</td>\n",
       "      <td>NaN</td>\n",
       "      <td>Shooter</td>\n",
       "      <td>1.17</td>\n",
       "      <td>0.84</td>\n",
       "      <td>0.00</td>\n",
       "      <td>0.23</td>\n",
       "      <td>69.0</td>\n",
       "      <td>6.7</td>\n",
       "      <td>T</td>\n",
       "    </tr>\n",
       "    <tr>\n",
       "      <th>805</th>\n",
       "      <td>Rock Band</td>\n",
       "      <td>Wii</td>\n",
       "      <td>NaN</td>\n",
       "      <td>Misc</td>\n",
       "      <td>1.33</td>\n",
       "      <td>0.56</td>\n",
       "      <td>0.00</td>\n",
       "      <td>0.20</td>\n",
       "      <td>80.0</td>\n",
       "      <td>6.3</td>\n",
       "      <td>T</td>\n",
       "    </tr>\n",
       "  </tbody>\n",
       "</table>\n",
       "</div>"
      ],
      "text/plain": [
       "                                            name platform  year_of_release  \\\n",
       "183                              Madden NFL 2004      PS2              NaN   \n",
       "377                             FIFA Soccer 2004      PS2              NaN   \n",
       "456                   LEGO Batman: The Videogame      Wii              NaN   \n",
       "475                   wwe Smackdown vs. Raw 2006      PS2              NaN   \n",
       "609                               Space Invaders     2600              NaN   \n",
       "627                                    Rock Band     X360              NaN   \n",
       "657     Frogger's Adventures: Temple of the Frog      GBA              NaN   \n",
       "678  LEGO Indiana Jones: The Original Adventures      Wii              NaN   \n",
       "719                               Call of Duty 3      Wii              NaN   \n",
       "805                                    Rock Band      Wii              NaN   \n",
       "\n",
       "         genre  na_sales  eu_sales  jp_sales  other_sales  critic_score  \\\n",
       "183     Sports      4.26      0.26      0.01         0.71          94.0   \n",
       "377     Sports      0.59      2.36      0.04         0.51          84.0   \n",
       "456     Action      1.80      0.97      0.00         0.29          74.0   \n",
       "475   Fighting      1.57      1.02      0.00         0.41           NaN   \n",
       "609    Shooter      2.36      0.14      0.00         0.03           NaN   \n",
       "627       Misc      1.93      0.33      0.00         0.21          92.0   \n",
       "657  Adventure      2.15      0.18      0.00         0.07          73.0   \n",
       "678     Action      1.51      0.61      0.00         0.21          78.0   \n",
       "719    Shooter      1.17      0.84      0.00         0.23          69.0   \n",
       "805       Misc      1.33      0.56      0.00         0.20          80.0   \n",
       "\n",
       "    user_score rating  \n",
       "183        8.5      E  \n",
       "377        6.4      E  \n",
       "456        7.9   E10+  \n",
       "475        NaN    NaN  \n",
       "609        NaN    NaN  \n",
       "627        8.2      T  \n",
       "657        tbd      E  \n",
       "678        6.6   E10+  \n",
       "719        6.7      T  \n",
       "805        6.3      T  "
      ]
     },
     "execution_count": 8,
     "metadata": {},
     "output_type": "execute_result"
    }
   ],
   "source": [
    "df[df.year_of_release.isna()].head(10)"
   ]
  },
  {
   "cell_type": "code",
   "execution_count": 9,
   "metadata": {},
   "outputs": [
    {
     "data": {
      "text/plain": [
       "(269, 11)"
      ]
     },
     "execution_count": 9,
     "metadata": {},
     "output_type": "execute_result"
    }
   ],
   "source": [
    "df[df.year_of_release.isna()].shape"
   ]
  },
  {
   "cell_type": "code",
   "execution_count": 10,
   "metadata": {},
   "outputs": [
    {
     "data": {
      "text/html": [
       "<div>\n",
       "<style scoped>\n",
       "    .dataframe tbody tr th:only-of-type {\n",
       "        vertical-align: middle;\n",
       "    }\n",
       "\n",
       "    .dataframe tbody tr th {\n",
       "        vertical-align: top;\n",
       "    }\n",
       "\n",
       "    .dataframe thead th {\n",
       "        text-align: right;\n",
       "    }\n",
       "</style>\n",
       "<table border=\"1\" class=\"dataframe\">\n",
       "  <thead>\n",
       "    <tr style=\"text-align: right;\">\n",
       "      <th></th>\n",
       "      <th>name</th>\n",
       "      <th>platform</th>\n",
       "      <th>year_of_release</th>\n",
       "      <th>genre</th>\n",
       "      <th>na_sales</th>\n",
       "      <th>eu_sales</th>\n",
       "      <th>jp_sales</th>\n",
       "      <th>other_sales</th>\n",
       "      <th>critic_score</th>\n",
       "      <th>user_score</th>\n",
       "      <th>rating</th>\n",
       "    </tr>\n",
       "  </thead>\n",
       "  <tbody>\n",
       "    <tr>\n",
       "      <th>659</th>\n",
       "      <td>NaN</td>\n",
       "      <td>GEN</td>\n",
       "      <td>1993.0</td>\n",
       "      <td>NaN</td>\n",
       "      <td>1.78</td>\n",
       "      <td>0.53</td>\n",
       "      <td>0.00</td>\n",
       "      <td>0.08</td>\n",
       "      <td>NaN</td>\n",
       "      <td>NaN</td>\n",
       "      <td>NaN</td>\n",
       "    </tr>\n",
       "    <tr>\n",
       "      <th>14244</th>\n",
       "      <td>NaN</td>\n",
       "      <td>GEN</td>\n",
       "      <td>1993.0</td>\n",
       "      <td>NaN</td>\n",
       "      <td>0.00</td>\n",
       "      <td>0.00</td>\n",
       "      <td>0.03</td>\n",
       "      <td>0.00</td>\n",
       "      <td>NaN</td>\n",
       "      <td>NaN</td>\n",
       "      <td>NaN</td>\n",
       "    </tr>\n",
       "  </tbody>\n",
       "</table>\n",
       "</div>"
      ],
      "text/plain": [
       "      name platform  year_of_release genre  na_sales  eu_sales  jp_sales  \\\n",
       "659    NaN      GEN           1993.0   NaN      1.78      0.53      0.00   \n",
       "14244  NaN      GEN           1993.0   NaN      0.00      0.00      0.03   \n",
       "\n",
       "       other_sales  critic_score user_score rating  \n",
       "659           0.08           NaN        NaN    NaN  \n",
       "14244         0.00           NaN        NaN    NaN  "
      ]
     },
     "execution_count": 10,
     "metadata": {},
     "output_type": "execute_result"
    }
   ],
   "source": [
    "df[df.genre.isna()]"
   ]
  },
  {
   "cell_type": "code",
   "execution_count": 11,
   "metadata": {},
   "outputs": [
    {
     "data": {
      "text/html": [
       "<div>\n",
       "<style scoped>\n",
       "    .dataframe tbody tr th:only-of-type {\n",
       "        vertical-align: middle;\n",
       "    }\n",
       "\n",
       "    .dataframe tbody tr th {\n",
       "        vertical-align: top;\n",
       "    }\n",
       "\n",
       "    .dataframe thead th {\n",
       "        text-align: right;\n",
       "    }\n",
       "</style>\n",
       "<table border=\"1\" class=\"dataframe\">\n",
       "  <thead>\n",
       "    <tr style=\"text-align: right;\">\n",
       "      <th></th>\n",
       "      <th>name</th>\n",
       "      <th>platform</th>\n",
       "      <th>year_of_release</th>\n",
       "      <th>genre</th>\n",
       "      <th>na_sales</th>\n",
       "      <th>eu_sales</th>\n",
       "      <th>jp_sales</th>\n",
       "      <th>other_sales</th>\n",
       "      <th>critic_score</th>\n",
       "      <th>user_score</th>\n",
       "      <th>rating</th>\n",
       "    </tr>\n",
       "  </thead>\n",
       "  <tbody>\n",
       "    <tr>\n",
       "      <th>1</th>\n",
       "      <td>Super Mario Bros.</td>\n",
       "      <td>NES</td>\n",
       "      <td>1985.0</td>\n",
       "      <td>Platform</td>\n",
       "      <td>29.08</td>\n",
       "      <td>3.58</td>\n",
       "      <td>6.81</td>\n",
       "      <td>0.77</td>\n",
       "      <td>NaN</td>\n",
       "      <td>NaN</td>\n",
       "      <td>NaN</td>\n",
       "    </tr>\n",
       "    <tr>\n",
       "      <th>4</th>\n",
       "      <td>Pokemon Red/Pokemon Blue</td>\n",
       "      <td>GB</td>\n",
       "      <td>1996.0</td>\n",
       "      <td>Role-Playing</td>\n",
       "      <td>11.27</td>\n",
       "      <td>8.89</td>\n",
       "      <td>10.22</td>\n",
       "      <td>1.00</td>\n",
       "      <td>NaN</td>\n",
       "      <td>NaN</td>\n",
       "      <td>NaN</td>\n",
       "    </tr>\n",
       "    <tr>\n",
       "      <th>5</th>\n",
       "      <td>Tetris</td>\n",
       "      <td>GB</td>\n",
       "      <td>1989.0</td>\n",
       "      <td>Puzzle</td>\n",
       "      <td>23.20</td>\n",
       "      <td>2.26</td>\n",
       "      <td>4.22</td>\n",
       "      <td>0.58</td>\n",
       "      <td>NaN</td>\n",
       "      <td>NaN</td>\n",
       "      <td>NaN</td>\n",
       "    </tr>\n",
       "    <tr>\n",
       "      <th>9</th>\n",
       "      <td>Duck Hunt</td>\n",
       "      <td>NES</td>\n",
       "      <td>1984.0</td>\n",
       "      <td>Shooter</td>\n",
       "      <td>26.93</td>\n",
       "      <td>0.63</td>\n",
       "      <td>0.28</td>\n",
       "      <td>0.47</td>\n",
       "      <td>NaN</td>\n",
       "      <td>NaN</td>\n",
       "      <td>NaN</td>\n",
       "    </tr>\n",
       "    <tr>\n",
       "      <th>10</th>\n",
       "      <td>Nintendogs</td>\n",
       "      <td>DS</td>\n",
       "      <td>2005.0</td>\n",
       "      <td>Simulation</td>\n",
       "      <td>9.05</td>\n",
       "      <td>10.95</td>\n",
       "      <td>1.93</td>\n",
       "      <td>2.74</td>\n",
       "      <td>NaN</td>\n",
       "      <td>NaN</td>\n",
       "      <td>NaN</td>\n",
       "    </tr>\n",
       "    <tr>\n",
       "      <th>12</th>\n",
       "      <td>Pokemon Gold/Pokemon Silver</td>\n",
       "      <td>GB</td>\n",
       "      <td>1999.0</td>\n",
       "      <td>Role-Playing</td>\n",
       "      <td>9.00</td>\n",
       "      <td>6.18</td>\n",
       "      <td>7.20</td>\n",
       "      <td>0.71</td>\n",
       "      <td>NaN</td>\n",
       "      <td>NaN</td>\n",
       "      <td>NaN</td>\n",
       "    </tr>\n",
       "    <tr>\n",
       "      <th>18</th>\n",
       "      <td>Super Mario World</td>\n",
       "      <td>SNES</td>\n",
       "      <td>1990.0</td>\n",
       "      <td>Platform</td>\n",
       "      <td>12.78</td>\n",
       "      <td>3.75</td>\n",
       "      <td>3.54</td>\n",
       "      <td>0.55</td>\n",
       "      <td>NaN</td>\n",
       "      <td>NaN</td>\n",
       "      <td>NaN</td>\n",
       "    </tr>\n",
       "    <tr>\n",
       "      <th>20</th>\n",
       "      <td>Pokemon Diamond/Pokemon Pearl</td>\n",
       "      <td>DS</td>\n",
       "      <td>2006.0</td>\n",
       "      <td>Role-Playing</td>\n",
       "      <td>6.38</td>\n",
       "      <td>4.46</td>\n",
       "      <td>6.04</td>\n",
       "      <td>1.36</td>\n",
       "      <td>NaN</td>\n",
       "      <td>NaN</td>\n",
       "      <td>NaN</td>\n",
       "    </tr>\n",
       "    <tr>\n",
       "      <th>21</th>\n",
       "      <td>Super Mario Land</td>\n",
       "      <td>GB</td>\n",
       "      <td>1989.0</td>\n",
       "      <td>Platform</td>\n",
       "      <td>10.83</td>\n",
       "      <td>2.71</td>\n",
       "      <td>4.18</td>\n",
       "      <td>0.42</td>\n",
       "      <td>NaN</td>\n",
       "      <td>NaN</td>\n",
       "      <td>NaN</td>\n",
       "    </tr>\n",
       "    <tr>\n",
       "      <th>22</th>\n",
       "      <td>Super Mario Bros. 3</td>\n",
       "      <td>NES</td>\n",
       "      <td>1988.0</td>\n",
       "      <td>Platform</td>\n",
       "      <td>9.54</td>\n",
       "      <td>3.44</td>\n",
       "      <td>3.84</td>\n",
       "      <td>0.46</td>\n",
       "      <td>NaN</td>\n",
       "      <td>NaN</td>\n",
       "      <td>NaN</td>\n",
       "    </tr>\n",
       "  </tbody>\n",
       "</table>\n",
       "</div>"
      ],
      "text/plain": [
       "                             name platform  year_of_release         genre  \\\n",
       "1               Super Mario Bros.      NES           1985.0      Platform   \n",
       "4        Pokemon Red/Pokemon Blue       GB           1996.0  Role-Playing   \n",
       "5                          Tetris       GB           1989.0        Puzzle   \n",
       "9                       Duck Hunt      NES           1984.0       Shooter   \n",
       "10                     Nintendogs       DS           2005.0    Simulation   \n",
       "12    Pokemon Gold/Pokemon Silver       GB           1999.0  Role-Playing   \n",
       "18              Super Mario World     SNES           1990.0      Platform   \n",
       "20  Pokemon Diamond/Pokemon Pearl       DS           2006.0  Role-Playing   \n",
       "21               Super Mario Land       GB           1989.0      Platform   \n",
       "22            Super Mario Bros. 3      NES           1988.0      Platform   \n",
       "\n",
       "    na_sales  eu_sales  jp_sales  other_sales  critic_score user_score rating  \n",
       "1      29.08      3.58      6.81         0.77           NaN        NaN    NaN  \n",
       "4      11.27      8.89     10.22         1.00           NaN        NaN    NaN  \n",
       "5      23.20      2.26      4.22         0.58           NaN        NaN    NaN  \n",
       "9      26.93      0.63      0.28         0.47           NaN        NaN    NaN  \n",
       "10      9.05     10.95      1.93         2.74           NaN        NaN    NaN  \n",
       "12      9.00      6.18      7.20         0.71           NaN        NaN    NaN  \n",
       "18     12.78      3.75      3.54         0.55           NaN        NaN    NaN  \n",
       "20      6.38      4.46      6.04         1.36           NaN        NaN    NaN  \n",
       "21     10.83      2.71      4.18         0.42           NaN        NaN    NaN  \n",
       "22      9.54      3.44      3.84         0.46           NaN        NaN    NaN  "
      ]
     },
     "execution_count": 11,
     "metadata": {},
     "output_type": "execute_result"
    }
   ],
   "source": [
    "df[df.critic_score.isna()].head(10)"
   ]
  },
  {
   "cell_type": "code",
   "execution_count": 12,
   "metadata": {},
   "outputs": [
    {
     "data": {
      "text/html": [
       "<div>\n",
       "<style scoped>\n",
       "    .dataframe tbody tr th:only-of-type {\n",
       "        vertical-align: middle;\n",
       "    }\n",
       "\n",
       "    .dataframe tbody tr th {\n",
       "        vertical-align: top;\n",
       "    }\n",
       "\n",
       "    .dataframe thead th {\n",
       "        text-align: right;\n",
       "    }\n",
       "</style>\n",
       "<table border=\"1\" class=\"dataframe\">\n",
       "  <thead>\n",
       "    <tr style=\"text-align: right;\">\n",
       "      <th></th>\n",
       "      <th>name</th>\n",
       "      <th>platform</th>\n",
       "      <th>year_of_release</th>\n",
       "      <th>genre</th>\n",
       "      <th>na_sales</th>\n",
       "      <th>eu_sales</th>\n",
       "      <th>jp_sales</th>\n",
       "      <th>other_sales</th>\n",
       "      <th>critic_score</th>\n",
       "      <th>user_score</th>\n",
       "      <th>rating</th>\n",
       "    </tr>\n",
       "  </thead>\n",
       "  <tbody>\n",
       "    <tr>\n",
       "      <th>1</th>\n",
       "      <td>Super Mario Bros.</td>\n",
       "      <td>NES</td>\n",
       "      <td>1985.0</td>\n",
       "      <td>Platform</td>\n",
       "      <td>29.08</td>\n",
       "      <td>3.58</td>\n",
       "      <td>6.81</td>\n",
       "      <td>0.77</td>\n",
       "      <td>NaN</td>\n",
       "      <td>NaN</td>\n",
       "      <td>NaN</td>\n",
       "    </tr>\n",
       "    <tr>\n",
       "      <th>4</th>\n",
       "      <td>Pokemon Red/Pokemon Blue</td>\n",
       "      <td>GB</td>\n",
       "      <td>1996.0</td>\n",
       "      <td>Role-Playing</td>\n",
       "      <td>11.27</td>\n",
       "      <td>8.89</td>\n",
       "      <td>10.22</td>\n",
       "      <td>1.00</td>\n",
       "      <td>NaN</td>\n",
       "      <td>NaN</td>\n",
       "      <td>NaN</td>\n",
       "    </tr>\n",
       "    <tr>\n",
       "      <th>5</th>\n",
       "      <td>Tetris</td>\n",
       "      <td>GB</td>\n",
       "      <td>1989.0</td>\n",
       "      <td>Puzzle</td>\n",
       "      <td>23.20</td>\n",
       "      <td>2.26</td>\n",
       "      <td>4.22</td>\n",
       "      <td>0.58</td>\n",
       "      <td>NaN</td>\n",
       "      <td>NaN</td>\n",
       "      <td>NaN</td>\n",
       "    </tr>\n",
       "    <tr>\n",
       "      <th>9</th>\n",
       "      <td>Duck Hunt</td>\n",
       "      <td>NES</td>\n",
       "      <td>1984.0</td>\n",
       "      <td>Shooter</td>\n",
       "      <td>26.93</td>\n",
       "      <td>0.63</td>\n",
       "      <td>0.28</td>\n",
       "      <td>0.47</td>\n",
       "      <td>NaN</td>\n",
       "      <td>NaN</td>\n",
       "      <td>NaN</td>\n",
       "    </tr>\n",
       "    <tr>\n",
       "      <th>10</th>\n",
       "      <td>Nintendogs</td>\n",
       "      <td>DS</td>\n",
       "      <td>2005.0</td>\n",
       "      <td>Simulation</td>\n",
       "      <td>9.05</td>\n",
       "      <td>10.95</td>\n",
       "      <td>1.93</td>\n",
       "      <td>2.74</td>\n",
       "      <td>NaN</td>\n",
       "      <td>NaN</td>\n",
       "      <td>NaN</td>\n",
       "    </tr>\n",
       "    <tr>\n",
       "      <th>12</th>\n",
       "      <td>Pokemon Gold/Pokemon Silver</td>\n",
       "      <td>GB</td>\n",
       "      <td>1999.0</td>\n",
       "      <td>Role-Playing</td>\n",
       "      <td>9.00</td>\n",
       "      <td>6.18</td>\n",
       "      <td>7.20</td>\n",
       "      <td>0.71</td>\n",
       "      <td>NaN</td>\n",
       "      <td>NaN</td>\n",
       "      <td>NaN</td>\n",
       "    </tr>\n",
       "    <tr>\n",
       "      <th>18</th>\n",
       "      <td>Super Mario World</td>\n",
       "      <td>SNES</td>\n",
       "      <td>1990.0</td>\n",
       "      <td>Platform</td>\n",
       "      <td>12.78</td>\n",
       "      <td>3.75</td>\n",
       "      <td>3.54</td>\n",
       "      <td>0.55</td>\n",
       "      <td>NaN</td>\n",
       "      <td>NaN</td>\n",
       "      <td>NaN</td>\n",
       "    </tr>\n",
       "    <tr>\n",
       "      <th>20</th>\n",
       "      <td>Pokemon Diamond/Pokemon Pearl</td>\n",
       "      <td>DS</td>\n",
       "      <td>2006.0</td>\n",
       "      <td>Role-Playing</td>\n",
       "      <td>6.38</td>\n",
       "      <td>4.46</td>\n",
       "      <td>6.04</td>\n",
       "      <td>1.36</td>\n",
       "      <td>NaN</td>\n",
       "      <td>NaN</td>\n",
       "      <td>NaN</td>\n",
       "    </tr>\n",
       "    <tr>\n",
       "      <th>21</th>\n",
       "      <td>Super Mario Land</td>\n",
       "      <td>GB</td>\n",
       "      <td>1989.0</td>\n",
       "      <td>Platform</td>\n",
       "      <td>10.83</td>\n",
       "      <td>2.71</td>\n",
       "      <td>4.18</td>\n",
       "      <td>0.42</td>\n",
       "      <td>NaN</td>\n",
       "      <td>NaN</td>\n",
       "      <td>NaN</td>\n",
       "    </tr>\n",
       "    <tr>\n",
       "      <th>22</th>\n",
       "      <td>Super Mario Bros. 3</td>\n",
       "      <td>NES</td>\n",
       "      <td>1988.0</td>\n",
       "      <td>Platform</td>\n",
       "      <td>9.54</td>\n",
       "      <td>3.44</td>\n",
       "      <td>3.84</td>\n",
       "      <td>0.46</td>\n",
       "      <td>NaN</td>\n",
       "      <td>NaN</td>\n",
       "      <td>NaN</td>\n",
       "    </tr>\n",
       "  </tbody>\n",
       "</table>\n",
       "</div>"
      ],
      "text/plain": [
       "                             name platform  year_of_release         genre  \\\n",
       "1               Super Mario Bros.      NES           1985.0      Platform   \n",
       "4        Pokemon Red/Pokemon Blue       GB           1996.0  Role-Playing   \n",
       "5                          Tetris       GB           1989.0        Puzzle   \n",
       "9                       Duck Hunt      NES           1984.0       Shooter   \n",
       "10                     Nintendogs       DS           2005.0    Simulation   \n",
       "12    Pokemon Gold/Pokemon Silver       GB           1999.0  Role-Playing   \n",
       "18              Super Mario World     SNES           1990.0      Platform   \n",
       "20  Pokemon Diamond/Pokemon Pearl       DS           2006.0  Role-Playing   \n",
       "21               Super Mario Land       GB           1989.0      Platform   \n",
       "22            Super Mario Bros. 3      NES           1988.0      Platform   \n",
       "\n",
       "    na_sales  eu_sales  jp_sales  other_sales  critic_score user_score rating  \n",
       "1      29.08      3.58      6.81         0.77           NaN        NaN    NaN  \n",
       "4      11.27      8.89     10.22         1.00           NaN        NaN    NaN  \n",
       "5      23.20      2.26      4.22         0.58           NaN        NaN    NaN  \n",
       "9      26.93      0.63      0.28         0.47           NaN        NaN    NaN  \n",
       "10      9.05     10.95      1.93         2.74           NaN        NaN    NaN  \n",
       "12      9.00      6.18      7.20         0.71           NaN        NaN    NaN  \n",
       "18     12.78      3.75      3.54         0.55           NaN        NaN    NaN  \n",
       "20      6.38      4.46      6.04         1.36           NaN        NaN    NaN  \n",
       "21     10.83      2.71      4.18         0.42           NaN        NaN    NaN  \n",
       "22      9.54      3.44      3.84         0.46           NaN        NaN    NaN  "
      ]
     },
     "execution_count": 12,
     "metadata": {},
     "output_type": "execute_result"
    }
   ],
   "source": [
    "df[df.user_score.isna()].head(10)"
   ]
  },
  {
   "cell_type": "code",
   "execution_count": 13,
   "metadata": {},
   "outputs": [
    {
     "data": {
      "text/html": [
       "<div>\n",
       "<style scoped>\n",
       "    .dataframe tbody tr th:only-of-type {\n",
       "        vertical-align: middle;\n",
       "    }\n",
       "\n",
       "    .dataframe tbody tr th {\n",
       "        vertical-align: top;\n",
       "    }\n",
       "\n",
       "    .dataframe thead th {\n",
       "        text-align: right;\n",
       "    }\n",
       "</style>\n",
       "<table border=\"1\" class=\"dataframe\">\n",
       "  <thead>\n",
       "    <tr style=\"text-align: right;\">\n",
       "      <th></th>\n",
       "      <th>name</th>\n",
       "      <th>platform</th>\n",
       "      <th>year_of_release</th>\n",
       "      <th>genre</th>\n",
       "      <th>na_sales</th>\n",
       "      <th>eu_sales</th>\n",
       "      <th>jp_sales</th>\n",
       "      <th>other_sales</th>\n",
       "      <th>critic_score</th>\n",
       "      <th>user_score</th>\n",
       "      <th>rating</th>\n",
       "    </tr>\n",
       "  </thead>\n",
       "  <tbody>\n",
       "    <tr>\n",
       "      <th>1</th>\n",
       "      <td>Super Mario Bros.</td>\n",
       "      <td>NES</td>\n",
       "      <td>1985.0</td>\n",
       "      <td>Platform</td>\n",
       "      <td>29.08</td>\n",
       "      <td>3.58</td>\n",
       "      <td>6.81</td>\n",
       "      <td>0.77</td>\n",
       "      <td>NaN</td>\n",
       "      <td>NaN</td>\n",
       "      <td>NaN</td>\n",
       "    </tr>\n",
       "    <tr>\n",
       "      <th>4</th>\n",
       "      <td>Pokemon Red/Pokemon Blue</td>\n",
       "      <td>GB</td>\n",
       "      <td>1996.0</td>\n",
       "      <td>Role-Playing</td>\n",
       "      <td>11.27</td>\n",
       "      <td>8.89</td>\n",
       "      <td>10.22</td>\n",
       "      <td>1.00</td>\n",
       "      <td>NaN</td>\n",
       "      <td>NaN</td>\n",
       "      <td>NaN</td>\n",
       "    </tr>\n",
       "    <tr>\n",
       "      <th>5</th>\n",
       "      <td>Tetris</td>\n",
       "      <td>GB</td>\n",
       "      <td>1989.0</td>\n",
       "      <td>Puzzle</td>\n",
       "      <td>23.20</td>\n",
       "      <td>2.26</td>\n",
       "      <td>4.22</td>\n",
       "      <td>0.58</td>\n",
       "      <td>NaN</td>\n",
       "      <td>NaN</td>\n",
       "      <td>NaN</td>\n",
       "    </tr>\n",
       "    <tr>\n",
       "      <th>9</th>\n",
       "      <td>Duck Hunt</td>\n",
       "      <td>NES</td>\n",
       "      <td>1984.0</td>\n",
       "      <td>Shooter</td>\n",
       "      <td>26.93</td>\n",
       "      <td>0.63</td>\n",
       "      <td>0.28</td>\n",
       "      <td>0.47</td>\n",
       "      <td>NaN</td>\n",
       "      <td>NaN</td>\n",
       "      <td>NaN</td>\n",
       "    </tr>\n",
       "    <tr>\n",
       "      <th>10</th>\n",
       "      <td>Nintendogs</td>\n",
       "      <td>DS</td>\n",
       "      <td>2005.0</td>\n",
       "      <td>Simulation</td>\n",
       "      <td>9.05</td>\n",
       "      <td>10.95</td>\n",
       "      <td>1.93</td>\n",
       "      <td>2.74</td>\n",
       "      <td>NaN</td>\n",
       "      <td>NaN</td>\n",
       "      <td>NaN</td>\n",
       "    </tr>\n",
       "    <tr>\n",
       "      <th>12</th>\n",
       "      <td>Pokemon Gold/Pokemon Silver</td>\n",
       "      <td>GB</td>\n",
       "      <td>1999.0</td>\n",
       "      <td>Role-Playing</td>\n",
       "      <td>9.00</td>\n",
       "      <td>6.18</td>\n",
       "      <td>7.20</td>\n",
       "      <td>0.71</td>\n",
       "      <td>NaN</td>\n",
       "      <td>NaN</td>\n",
       "      <td>NaN</td>\n",
       "    </tr>\n",
       "    <tr>\n",
       "      <th>18</th>\n",
       "      <td>Super Mario World</td>\n",
       "      <td>SNES</td>\n",
       "      <td>1990.0</td>\n",
       "      <td>Platform</td>\n",
       "      <td>12.78</td>\n",
       "      <td>3.75</td>\n",
       "      <td>3.54</td>\n",
       "      <td>0.55</td>\n",
       "      <td>NaN</td>\n",
       "      <td>NaN</td>\n",
       "      <td>NaN</td>\n",
       "    </tr>\n",
       "    <tr>\n",
       "      <th>20</th>\n",
       "      <td>Pokemon Diamond/Pokemon Pearl</td>\n",
       "      <td>DS</td>\n",
       "      <td>2006.0</td>\n",
       "      <td>Role-Playing</td>\n",
       "      <td>6.38</td>\n",
       "      <td>4.46</td>\n",
       "      <td>6.04</td>\n",
       "      <td>1.36</td>\n",
       "      <td>NaN</td>\n",
       "      <td>NaN</td>\n",
       "      <td>NaN</td>\n",
       "    </tr>\n",
       "    <tr>\n",
       "      <th>21</th>\n",
       "      <td>Super Mario Land</td>\n",
       "      <td>GB</td>\n",
       "      <td>1989.0</td>\n",
       "      <td>Platform</td>\n",
       "      <td>10.83</td>\n",
       "      <td>2.71</td>\n",
       "      <td>4.18</td>\n",
       "      <td>0.42</td>\n",
       "      <td>NaN</td>\n",
       "      <td>NaN</td>\n",
       "      <td>NaN</td>\n",
       "    </tr>\n",
       "    <tr>\n",
       "      <th>22</th>\n",
       "      <td>Super Mario Bros. 3</td>\n",
       "      <td>NES</td>\n",
       "      <td>1988.0</td>\n",
       "      <td>Platform</td>\n",
       "      <td>9.54</td>\n",
       "      <td>3.44</td>\n",
       "      <td>3.84</td>\n",
       "      <td>0.46</td>\n",
       "      <td>NaN</td>\n",
       "      <td>NaN</td>\n",
       "      <td>NaN</td>\n",
       "    </tr>\n",
       "  </tbody>\n",
       "</table>\n",
       "</div>"
      ],
      "text/plain": [
       "                             name platform  year_of_release         genre  \\\n",
       "1               Super Mario Bros.      NES           1985.0      Platform   \n",
       "4        Pokemon Red/Pokemon Blue       GB           1996.0  Role-Playing   \n",
       "5                          Tetris       GB           1989.0        Puzzle   \n",
       "9                       Duck Hunt      NES           1984.0       Shooter   \n",
       "10                     Nintendogs       DS           2005.0    Simulation   \n",
       "12    Pokemon Gold/Pokemon Silver       GB           1999.0  Role-Playing   \n",
       "18              Super Mario World     SNES           1990.0      Platform   \n",
       "20  Pokemon Diamond/Pokemon Pearl       DS           2006.0  Role-Playing   \n",
       "21               Super Mario Land       GB           1989.0      Platform   \n",
       "22            Super Mario Bros. 3      NES           1988.0      Platform   \n",
       "\n",
       "    na_sales  eu_sales  jp_sales  other_sales  critic_score user_score rating  \n",
       "1      29.08      3.58      6.81         0.77           NaN        NaN    NaN  \n",
       "4      11.27      8.89     10.22         1.00           NaN        NaN    NaN  \n",
       "5      23.20      2.26      4.22         0.58           NaN        NaN    NaN  \n",
       "9      26.93      0.63      0.28         0.47           NaN        NaN    NaN  \n",
       "10      9.05     10.95      1.93         2.74           NaN        NaN    NaN  \n",
       "12      9.00      6.18      7.20         0.71           NaN        NaN    NaN  \n",
       "18     12.78      3.75      3.54         0.55           NaN        NaN    NaN  \n",
       "20      6.38      4.46      6.04         1.36           NaN        NaN    NaN  \n",
       "21     10.83      2.71      4.18         0.42           NaN        NaN    NaN  \n",
       "22      9.54      3.44      3.84         0.46           NaN        NaN    NaN  "
      ]
     },
     "execution_count": 13,
     "metadata": {},
     "output_type": "execute_result"
    }
   ],
   "source": [
    "df[df.rating.isna()].head(10)"
   ]
  },
  {
   "cell_type": "markdown",
   "metadata": {},
   "source": [
    "В столбцах `name` и `genre` всего две идентичные записи с пропусками. В этих же записях присутствуют пропуски в столбцах рейтингов. Т.к. записей всего 2 и год выпуска игр - 1993, а восстановить название и жанр при помощи других записей невозможно - их можно убрать.\n",
    "\n",
    "В столбце `year_of_release` 269 пропусков. Их можно попробовать восстановить при помощи данных из названия самой игры или открытых источников. \n",
    "С другой стороны, записей всего 1% от общего числа и возможно они не имеют значимости для исследования из-за неактуальной на момент 2016 года игровой платформы. \n",
    "\n",
    "В столбцах с рейтингами есть одновременные пропуски, но так же имеются и пропуски отдельно в каждом столбце. Явной зависимости от каких-то других столбцов не просматривается. Вероятнее всего, пропуски здесь появились в следствие нескольких причин, например не все игры попадают на оценку критикам, не очень популярные проекты проходят незамеченными - особенно в те времена, когда игры не распространялись через онлайн-сервисы. \n",
    "\n",
    "Заполнять медианным, средним значением или модой - не самый лучший выбор, т.к. заполнение может сильно повлиять на репрезентативность данных. \n",
    "\n",
    "Так же в рейтинге встречается значение tbd, аббревиатура от 'to be decided' или 'to be determined', т.е на момент внесения данных рейтинг был неизвестен. \n",
    "\n",
    "Заменим отсутствующие значения на маркер -1. \n",
    "\n",
    "Рейтинг ESRB возможно заполнить только внешними данными, т.к. он не привязан ни к одному из столбцов датафрейма. Здесь данные отсутствуют скорее всего по двум основным причинам. Первая - ESRB появилась только в 1994 году и не сразу набрала популярность и не носит обязательных характер. Вторая - это организация появилась в США и Канаде, а у нас данные по продажам в том числе и по Японии. Отсутствующие значения в рейтинге заменим на unknown "
   ]
  },
  {
   "cell_type": "code",
   "execution_count": 14,
   "metadata": {},
   "outputs": [
    {
     "data": {
      "text/plain": [
       "0"
      ]
     },
     "execution_count": 14,
     "metadata": {},
     "output_type": "execute_result"
    }
   ],
   "source": [
    "df = df.dropna(subset=['name'])\n",
    "df.name.isna().sum()"
   ]
  },
  {
   "cell_type": "code",
   "execution_count": 15,
   "metadata": {
    "scrolled": true
   },
   "outputs": [
    {
     "data": {
      "text/plain": [
       "PS2     34\n",
       "Wii     34\n",
       "X360    30\n",
       "DS      30\n",
       "PS3     25\n",
       "XB      21\n",
       "PC      17\n",
       "2600    17\n",
       "PSP     16\n",
       "GC      14\n",
       "GBA     11\n",
       "3DS      8\n",
       "PS       7\n",
       "N64      3\n",
       "PSV      1\n",
       "GB       1\n",
       "Name: platform, dtype: int64"
      ]
     },
     "execution_count": 15,
     "metadata": {},
     "output_type": "execute_result"
    }
   ],
   "source": [
    "df[df.year_of_release.isna()].platform.value_counts()"
   ]
  },
  {
   "cell_type": "markdown",
   "metadata": {},
   "source": [
    "На 2016 год, всё ещё актуальной является PC, PSV, 3DS. Все остальные платформы уже не поддерживаются. Итого, значимых для исследования записей - 25, что сильно меньше даже процента. Так же заполним пропуски маркером. "
   ]
  },
  {
   "cell_type": "code",
   "execution_count": 16,
   "metadata": {},
   "outputs": [],
   "source": [
    "df['user_score'] = df['user_score'].replace('tbd', np.nan)\n",
    "df.fillna({'year_of_release': -1, 'critic_score': -1 , 'user_score': -1, 'rating': 'unknown'}, inplace=True)"
   ]
  },
  {
   "cell_type": "code",
   "execution_count": 17,
   "metadata": {},
   "outputs": [
    {
     "data": {
      "text/plain": [
       "name               0\n",
       "platform           0\n",
       "year_of_release    0\n",
       "genre              0\n",
       "na_sales           0\n",
       "eu_sales           0\n",
       "jp_sales           0\n",
       "other_sales        0\n",
       "critic_score       0\n",
       "user_score         0\n",
       "rating             0\n",
       "dtype: int64"
      ]
     },
     "execution_count": 17,
     "metadata": {},
     "output_type": "execute_result"
    }
   ],
   "source": [
    "df.isna().sum()"
   ]
  },
  {
   "cell_type": "markdown",
   "metadata": {},
   "source": [
    "Теперь преобразуем типы данных"
   ]
  },
  {
   "cell_type": "code",
   "execution_count": 18,
   "metadata": {},
   "outputs": [
    {
     "name": "stdout",
     "output_type": "stream",
     "text": [
      "<class 'pandas.core.frame.DataFrame'>\n",
      "Int64Index: 16713 entries, 0 to 16714\n",
      "Data columns (total 11 columns):\n",
      " #   Column           Non-Null Count  Dtype  \n",
      "---  ------           --------------  -----  \n",
      " 0   name             16713 non-null  object \n",
      " 1   platform         16713 non-null  object \n",
      " 2   year_of_release  16713 non-null  int32  \n",
      " 3   genre            16713 non-null  object \n",
      " 4   na_sales         16713 non-null  float64\n",
      " 5   eu_sales         16713 non-null  float64\n",
      " 6   jp_sales         16713 non-null  float64\n",
      " 7   other_sales      16713 non-null  float64\n",
      " 8   critic_score     16713 non-null  float64\n",
      " 9   user_score       16713 non-null  float64\n",
      " 10  rating           16713 non-null  object \n",
      "dtypes: float64(6), int32(1), object(4)\n",
      "memory usage: 1.5+ MB\n"
     ]
    }
   ],
   "source": [
    "df = df.astype({'year_of_release' : 'int32','user_score' : 'float64'})\n",
    "df.info() "
   ]
  },
  {
   "cell_type": "markdown",
   "metadata": {},
   "source": [
    "Рассмотрим датафрейм на наличие дубликатов по имени и платформе."
   ]
  },
  {
   "cell_type": "code",
   "execution_count": 19,
   "metadata": {},
   "outputs": [
    {
     "data": {
      "text/plain": [
       "0"
      ]
     },
     "execution_count": 19,
     "metadata": {},
     "output_type": "execute_result"
    }
   ],
   "source": [
    "df.duplicated().sum()"
   ]
  },
  {
   "cell_type": "code",
   "execution_count": 20,
   "metadata": {},
   "outputs": [
    {
     "data": {
      "text/html": [
       "<div>\n",
       "<style scoped>\n",
       "    .dataframe tbody tr th:only-of-type {\n",
       "        vertical-align: middle;\n",
       "    }\n",
       "\n",
       "    .dataframe tbody tr th {\n",
       "        vertical-align: top;\n",
       "    }\n",
       "\n",
       "    .dataframe thead th {\n",
       "        text-align: right;\n",
       "    }\n",
       "</style>\n",
       "<table border=\"1\" class=\"dataframe\">\n",
       "  <thead>\n",
       "    <tr style=\"text-align: right;\">\n",
       "      <th></th>\n",
       "      <th>name</th>\n",
       "      <th>platform</th>\n",
       "      <th>year_of_release</th>\n",
       "      <th>genre</th>\n",
       "      <th>na_sales</th>\n",
       "      <th>eu_sales</th>\n",
       "      <th>jp_sales</th>\n",
       "      <th>other_sales</th>\n",
       "      <th>critic_score</th>\n",
       "      <th>user_score</th>\n",
       "      <th>rating</th>\n",
       "    </tr>\n",
       "  </thead>\n",
       "  <tbody>\n",
       "    <tr>\n",
       "      <th>1591</th>\n",
       "      <td>Need for Speed: Most Wanted</td>\n",
       "      <td>X360</td>\n",
       "      <td>2005</td>\n",
       "      <td>Racing</td>\n",
       "      <td>1.0</td>\n",
       "      <td>0.13</td>\n",
       "      <td>0.02</td>\n",
       "      <td>0.10</td>\n",
       "      <td>83.0</td>\n",
       "      <td>8.5</td>\n",
       "      <td>T</td>\n",
       "    </tr>\n",
       "    <tr>\n",
       "      <th>4127</th>\n",
       "      <td>Sonic the Hedgehog</td>\n",
       "      <td>PS3</td>\n",
       "      <td>-1</td>\n",
       "      <td>Platform</td>\n",
       "      <td>0.0</td>\n",
       "      <td>0.48</td>\n",
       "      <td>0.00</td>\n",
       "      <td>0.00</td>\n",
       "      <td>43.0</td>\n",
       "      <td>4.1</td>\n",
       "      <td>E10+</td>\n",
       "    </tr>\n",
       "    <tr>\n",
       "      <th>11715</th>\n",
       "      <td>Need for Speed: Most Wanted</td>\n",
       "      <td>PC</td>\n",
       "      <td>2012</td>\n",
       "      <td>Racing</td>\n",
       "      <td>0.0</td>\n",
       "      <td>0.06</td>\n",
       "      <td>0.00</td>\n",
       "      <td>0.02</td>\n",
       "      <td>82.0</td>\n",
       "      <td>8.5</td>\n",
       "      <td>T</td>\n",
       "    </tr>\n",
       "    <tr>\n",
       "      <th>16230</th>\n",
       "      <td>Madden NFL 13</td>\n",
       "      <td>PS3</td>\n",
       "      <td>2012</td>\n",
       "      <td>Sports</td>\n",
       "      <td>0.0</td>\n",
       "      <td>0.01</td>\n",
       "      <td>0.00</td>\n",
       "      <td>0.00</td>\n",
       "      <td>83.0</td>\n",
       "      <td>5.5</td>\n",
       "      <td>E</td>\n",
       "    </tr>\n",
       "  </tbody>\n",
       "</table>\n",
       "</div>"
      ],
      "text/plain": [
       "                              name platform  year_of_release     genre  \\\n",
       "1591   Need for Speed: Most Wanted     X360             2005    Racing   \n",
       "4127            Sonic the Hedgehog      PS3               -1  Platform   \n",
       "11715  Need for Speed: Most Wanted       PC             2012    Racing   \n",
       "16230                Madden NFL 13      PS3             2012    Sports   \n",
       "\n",
       "       na_sales  eu_sales  jp_sales  other_sales  critic_score  user_score  \\\n",
       "1591        1.0      0.13      0.02         0.10          83.0         8.5   \n",
       "4127        0.0      0.48      0.00         0.00          43.0         4.1   \n",
       "11715       0.0      0.06      0.00         0.02          82.0         8.5   \n",
       "16230       0.0      0.01      0.00         0.00          83.0         5.5   \n",
       "\n",
       "      rating  \n",
       "1591       T  \n",
       "4127    E10+  \n",
       "11715      T  \n",
       "16230      E  "
      ]
     },
     "execution_count": 20,
     "metadata": {},
     "output_type": "execute_result"
    }
   ],
   "source": [
    "df[df.duplicated(subset=['name', 'platform'])]"
   ]
  },
  {
   "cell_type": "code",
   "execution_count": 21,
   "metadata": {},
   "outputs": [
    {
     "data": {
      "text/html": [
       "<div>\n",
       "<style scoped>\n",
       "    .dataframe tbody tr th:only-of-type {\n",
       "        vertical-align: middle;\n",
       "    }\n",
       "\n",
       "    .dataframe tbody tr th {\n",
       "        vertical-align: top;\n",
       "    }\n",
       "\n",
       "    .dataframe thead th {\n",
       "        text-align: right;\n",
       "    }\n",
       "</style>\n",
       "<table border=\"1\" class=\"dataframe\">\n",
       "  <thead>\n",
       "    <tr style=\"text-align: right;\">\n",
       "      <th></th>\n",
       "      <th>name</th>\n",
       "      <th>platform</th>\n",
       "      <th>year_of_release</th>\n",
       "      <th>genre</th>\n",
       "      <th>na_sales</th>\n",
       "      <th>eu_sales</th>\n",
       "      <th>jp_sales</th>\n",
       "      <th>other_sales</th>\n",
       "      <th>critic_score</th>\n",
       "      <th>user_score</th>\n",
       "      <th>rating</th>\n",
       "    </tr>\n",
       "  </thead>\n",
       "  <tbody>\n",
       "    <tr>\n",
       "      <th>253</th>\n",
       "      <td>Need for Speed: Most Wanted</td>\n",
       "      <td>PS2</td>\n",
       "      <td>2005</td>\n",
       "      <td>Racing</td>\n",
       "      <td>2.03</td>\n",
       "      <td>1.79</td>\n",
       "      <td>0.08</td>\n",
       "      <td>0.47</td>\n",
       "      <td>82.0</td>\n",
       "      <td>9.1</td>\n",
       "      <td>T</td>\n",
       "    </tr>\n",
       "    <tr>\n",
       "      <th>1591</th>\n",
       "      <td>Need for Speed: Most Wanted</td>\n",
       "      <td>X360</td>\n",
       "      <td>2005</td>\n",
       "      <td>Racing</td>\n",
       "      <td>1.00</td>\n",
       "      <td>0.13</td>\n",
       "      <td>0.02</td>\n",
       "      <td>0.10</td>\n",
       "      <td>83.0</td>\n",
       "      <td>8.5</td>\n",
       "      <td>T</td>\n",
       "    </tr>\n",
       "    <tr>\n",
       "      <th>1998</th>\n",
       "      <td>Need for Speed: Most Wanted</td>\n",
       "      <td>XB</td>\n",
       "      <td>2005</td>\n",
       "      <td>Racing</td>\n",
       "      <td>0.53</td>\n",
       "      <td>0.46</td>\n",
       "      <td>0.00</td>\n",
       "      <td>0.05</td>\n",
       "      <td>83.0</td>\n",
       "      <td>8.8</td>\n",
       "      <td>T</td>\n",
       "    </tr>\n",
       "    <tr>\n",
       "      <th>3581</th>\n",
       "      <td>Need for Speed: Most Wanted</td>\n",
       "      <td>GC</td>\n",
       "      <td>2005</td>\n",
       "      <td>Racing</td>\n",
       "      <td>0.43</td>\n",
       "      <td>0.11</td>\n",
       "      <td>0.00</td>\n",
       "      <td>0.02</td>\n",
       "      <td>80.0</td>\n",
       "      <td>9.1</td>\n",
       "      <td>T</td>\n",
       "    </tr>\n",
       "    <tr>\n",
       "      <th>5972</th>\n",
       "      <td>Need for Speed: Most Wanted</td>\n",
       "      <td>PC</td>\n",
       "      <td>2005</td>\n",
       "      <td>Racing</td>\n",
       "      <td>0.02</td>\n",
       "      <td>0.23</td>\n",
       "      <td>0.00</td>\n",
       "      <td>0.04</td>\n",
       "      <td>82.0</td>\n",
       "      <td>8.5</td>\n",
       "      <td>T</td>\n",
       "    </tr>\n",
       "    <tr>\n",
       "      <th>6410</th>\n",
       "      <td>Need for Speed: Most Wanted</td>\n",
       "      <td>DS</td>\n",
       "      <td>2005</td>\n",
       "      <td>Racing</td>\n",
       "      <td>0.24</td>\n",
       "      <td>0.01</td>\n",
       "      <td>0.00</td>\n",
       "      <td>0.02</td>\n",
       "      <td>45.0</td>\n",
       "      <td>6.1</td>\n",
       "      <td>E</td>\n",
       "    </tr>\n",
       "    <tr>\n",
       "      <th>6473</th>\n",
       "      <td>Need for Speed: Most Wanted</td>\n",
       "      <td>GBA</td>\n",
       "      <td>2005</td>\n",
       "      <td>Racing</td>\n",
       "      <td>0.19</td>\n",
       "      <td>0.07</td>\n",
       "      <td>0.00</td>\n",
       "      <td>0.00</td>\n",
       "      <td>-1.0</td>\n",
       "      <td>8.3</td>\n",
       "      <td>E</td>\n",
       "    </tr>\n",
       "    <tr>\n",
       "      <th>523</th>\n",
       "      <td>Need for Speed: Most Wanted</td>\n",
       "      <td>PS3</td>\n",
       "      <td>2012</td>\n",
       "      <td>Racing</td>\n",
       "      <td>0.71</td>\n",
       "      <td>1.46</td>\n",
       "      <td>0.06</td>\n",
       "      <td>0.58</td>\n",
       "      <td>-1.0</td>\n",
       "      <td>-1.0</td>\n",
       "      <td>unknown</td>\n",
       "    </tr>\n",
       "    <tr>\n",
       "      <th>1190</th>\n",
       "      <td>Need for Speed: Most Wanted</td>\n",
       "      <td>X360</td>\n",
       "      <td>2012</td>\n",
       "      <td>Racing</td>\n",
       "      <td>0.62</td>\n",
       "      <td>0.78</td>\n",
       "      <td>0.01</td>\n",
       "      <td>0.15</td>\n",
       "      <td>83.0</td>\n",
       "      <td>8.5</td>\n",
       "      <td>T</td>\n",
       "    </tr>\n",
       "    <tr>\n",
       "      <th>2048</th>\n",
       "      <td>Need for Speed: Most Wanted</td>\n",
       "      <td>PSV</td>\n",
       "      <td>2012</td>\n",
       "      <td>Racing</td>\n",
       "      <td>0.33</td>\n",
       "      <td>0.45</td>\n",
       "      <td>0.01</td>\n",
       "      <td>0.22</td>\n",
       "      <td>-1.0</td>\n",
       "      <td>-1.0</td>\n",
       "      <td>unknown</td>\n",
       "    </tr>\n",
       "    <tr>\n",
       "      <th>11715</th>\n",
       "      <td>Need for Speed: Most Wanted</td>\n",
       "      <td>PC</td>\n",
       "      <td>2012</td>\n",
       "      <td>Racing</td>\n",
       "      <td>0.00</td>\n",
       "      <td>0.06</td>\n",
       "      <td>0.00</td>\n",
       "      <td>0.02</td>\n",
       "      <td>82.0</td>\n",
       "      <td>8.5</td>\n",
       "      <td>T</td>\n",
       "    </tr>\n",
       "    <tr>\n",
       "      <th>6273</th>\n",
       "      <td>Need for Speed: Most Wanted</td>\n",
       "      <td>WiiU</td>\n",
       "      <td>2013</td>\n",
       "      <td>Racing</td>\n",
       "      <td>0.13</td>\n",
       "      <td>0.12</td>\n",
       "      <td>0.00</td>\n",
       "      <td>0.02</td>\n",
       "      <td>-1.0</td>\n",
       "      <td>-1.0</td>\n",
       "      <td>unknown</td>\n",
       "    </tr>\n",
       "  </tbody>\n",
       "</table>\n",
       "</div>"
      ],
      "text/plain": [
       "                              name platform  year_of_release   genre  \\\n",
       "253    Need for Speed: Most Wanted      PS2             2005  Racing   \n",
       "1591   Need for Speed: Most Wanted     X360             2005  Racing   \n",
       "1998   Need for Speed: Most Wanted       XB             2005  Racing   \n",
       "3581   Need for Speed: Most Wanted       GC             2005  Racing   \n",
       "5972   Need for Speed: Most Wanted       PC             2005  Racing   \n",
       "6410   Need for Speed: Most Wanted       DS             2005  Racing   \n",
       "6473   Need for Speed: Most Wanted      GBA             2005  Racing   \n",
       "523    Need for Speed: Most Wanted      PS3             2012  Racing   \n",
       "1190   Need for Speed: Most Wanted     X360             2012  Racing   \n",
       "2048   Need for Speed: Most Wanted      PSV             2012  Racing   \n",
       "11715  Need for Speed: Most Wanted       PC             2012  Racing   \n",
       "6273   Need for Speed: Most Wanted     WiiU             2013  Racing   \n",
       "\n",
       "       na_sales  eu_sales  jp_sales  other_sales  critic_score  user_score  \\\n",
       "253        2.03      1.79      0.08         0.47          82.0         9.1   \n",
       "1591       1.00      0.13      0.02         0.10          83.0         8.5   \n",
       "1998       0.53      0.46      0.00         0.05          83.0         8.8   \n",
       "3581       0.43      0.11      0.00         0.02          80.0         9.1   \n",
       "5972       0.02      0.23      0.00         0.04          82.0         8.5   \n",
       "6410       0.24      0.01      0.00         0.02          45.0         6.1   \n",
       "6473       0.19      0.07      0.00         0.00          -1.0         8.3   \n",
       "523        0.71      1.46      0.06         0.58          -1.0        -1.0   \n",
       "1190       0.62      0.78      0.01         0.15          83.0         8.5   \n",
       "2048       0.33      0.45      0.01         0.22          -1.0        -1.0   \n",
       "11715      0.00      0.06      0.00         0.02          82.0         8.5   \n",
       "6273       0.13      0.12      0.00         0.02          -1.0        -1.0   \n",
       "\n",
       "        rating  \n",
       "253          T  \n",
       "1591         T  \n",
       "1998         T  \n",
       "3581         T  \n",
       "5972         T  \n",
       "6410         E  \n",
       "6473         E  \n",
       "523    unknown  \n",
       "1190         T  \n",
       "2048   unknown  \n",
       "11715        T  \n",
       "6273   unknown  "
      ]
     },
     "execution_count": 21,
     "metadata": {},
     "output_type": "execute_result"
    }
   ],
   "source": [
    "df[df.name == 'Need for Speed: Most Wanted'].sort_values(by='year_of_release')"
   ]
  },
  {
   "cell_type": "code",
   "execution_count": 22,
   "metadata": {},
   "outputs": [
    {
     "data": {
      "text/html": [
       "<div>\n",
       "<style scoped>\n",
       "    .dataframe tbody tr th:only-of-type {\n",
       "        vertical-align: middle;\n",
       "    }\n",
       "\n",
       "    .dataframe tbody tr th {\n",
       "        vertical-align: top;\n",
       "    }\n",
       "\n",
       "    .dataframe thead th {\n",
       "        text-align: right;\n",
       "    }\n",
       "</style>\n",
       "<table border=\"1\" class=\"dataframe\">\n",
       "  <thead>\n",
       "    <tr style=\"text-align: right;\">\n",
       "      <th></th>\n",
       "      <th>name</th>\n",
       "      <th>platform</th>\n",
       "      <th>year_of_release</th>\n",
       "      <th>genre</th>\n",
       "      <th>na_sales</th>\n",
       "      <th>eu_sales</th>\n",
       "      <th>jp_sales</th>\n",
       "      <th>other_sales</th>\n",
       "      <th>critic_score</th>\n",
       "      <th>user_score</th>\n",
       "      <th>rating</th>\n",
       "    </tr>\n",
       "  </thead>\n",
       "  <tbody>\n",
       "    <tr>\n",
       "      <th>257</th>\n",
       "      <td>Sonic the Hedgehog</td>\n",
       "      <td>GEN</td>\n",
       "      <td>1991</td>\n",
       "      <td>Platform</td>\n",
       "      <td>3.03</td>\n",
       "      <td>0.91</td>\n",
       "      <td>0.26</td>\n",
       "      <td>0.13</td>\n",
       "      <td>-1.0</td>\n",
       "      <td>-1.0</td>\n",
       "      <td>unknown</td>\n",
       "    </tr>\n",
       "    <tr>\n",
       "      <th>1745</th>\n",
       "      <td>Sonic the Hedgehog</td>\n",
       "      <td>PS3</td>\n",
       "      <td>2006</td>\n",
       "      <td>Platform</td>\n",
       "      <td>0.41</td>\n",
       "      <td>0.06</td>\n",
       "      <td>0.04</td>\n",
       "      <td>0.66</td>\n",
       "      <td>43.0</td>\n",
       "      <td>4.1</td>\n",
       "      <td>E10+</td>\n",
       "    </tr>\n",
       "    <tr>\n",
       "      <th>1996</th>\n",
       "      <td>Sonic the Hedgehog</td>\n",
       "      <td>X360</td>\n",
       "      <td>2006</td>\n",
       "      <td>Platform</td>\n",
       "      <td>0.44</td>\n",
       "      <td>0.48</td>\n",
       "      <td>0.00</td>\n",
       "      <td>0.11</td>\n",
       "      <td>46.0</td>\n",
       "      <td>4.4</td>\n",
       "      <td>E10+</td>\n",
       "    </tr>\n",
       "    <tr>\n",
       "      <th>4127</th>\n",
       "      <td>Sonic the Hedgehog</td>\n",
       "      <td>PS3</td>\n",
       "      <td>-1</td>\n",
       "      <td>Platform</td>\n",
       "      <td>0.00</td>\n",
       "      <td>0.48</td>\n",
       "      <td>0.00</td>\n",
       "      <td>0.00</td>\n",
       "      <td>43.0</td>\n",
       "      <td>4.1</td>\n",
       "      <td>E10+</td>\n",
       "    </tr>\n",
       "  </tbody>\n",
       "</table>\n",
       "</div>"
      ],
      "text/plain": [
       "                    name platform  year_of_release     genre  na_sales  \\\n",
       "257   Sonic the Hedgehog      GEN             1991  Platform      3.03   \n",
       "1745  Sonic the Hedgehog      PS3             2006  Platform      0.41   \n",
       "1996  Sonic the Hedgehog     X360             2006  Platform      0.44   \n",
       "4127  Sonic the Hedgehog      PS3               -1  Platform      0.00   \n",
       "\n",
       "      eu_sales  jp_sales  other_sales  critic_score  user_score   rating  \n",
       "257       0.91      0.26         0.13          -1.0        -1.0  unknown  \n",
       "1745      0.06      0.04         0.66          43.0         4.1     E10+  \n",
       "1996      0.48      0.00         0.11          46.0         4.4     E10+  \n",
       "4127      0.48      0.00         0.00          43.0         4.1     E10+  "
      ]
     },
     "execution_count": 22,
     "metadata": {},
     "output_type": "execute_result"
    }
   ],
   "source": [
    "df[df.name == 'Sonic the Hedgehog']"
   ]
  },
  {
   "cell_type": "code",
   "execution_count": 23,
   "metadata": {},
   "outputs": [
    {
     "data": {
      "text/html": [
       "<div>\n",
       "<style scoped>\n",
       "    .dataframe tbody tr th:only-of-type {\n",
       "        vertical-align: middle;\n",
       "    }\n",
       "\n",
       "    .dataframe tbody tr th {\n",
       "        vertical-align: top;\n",
       "    }\n",
       "\n",
       "    .dataframe thead th {\n",
       "        text-align: right;\n",
       "    }\n",
       "</style>\n",
       "<table border=\"1\" class=\"dataframe\">\n",
       "  <thead>\n",
       "    <tr style=\"text-align: right;\">\n",
       "      <th></th>\n",
       "      <th>name</th>\n",
       "      <th>platform</th>\n",
       "      <th>year_of_release</th>\n",
       "      <th>genre</th>\n",
       "      <th>na_sales</th>\n",
       "      <th>eu_sales</th>\n",
       "      <th>jp_sales</th>\n",
       "      <th>other_sales</th>\n",
       "      <th>critic_score</th>\n",
       "      <th>user_score</th>\n",
       "      <th>rating</th>\n",
       "    </tr>\n",
       "  </thead>\n",
       "  <tbody>\n",
       "    <tr>\n",
       "      <th>507</th>\n",
       "      <td>Madden NFL 13</td>\n",
       "      <td>X360</td>\n",
       "      <td>2012</td>\n",
       "      <td>Sports</td>\n",
       "      <td>2.53</td>\n",
       "      <td>0.15</td>\n",
       "      <td>0.0</td>\n",
       "      <td>0.17</td>\n",
       "      <td>81.0</td>\n",
       "      <td>5.8</td>\n",
       "      <td>E</td>\n",
       "    </tr>\n",
       "    <tr>\n",
       "      <th>604</th>\n",
       "      <td>Madden NFL 13</td>\n",
       "      <td>PS3</td>\n",
       "      <td>2012</td>\n",
       "      <td>Sports</td>\n",
       "      <td>2.11</td>\n",
       "      <td>0.22</td>\n",
       "      <td>0.0</td>\n",
       "      <td>0.23</td>\n",
       "      <td>83.0</td>\n",
       "      <td>5.5</td>\n",
       "      <td>E</td>\n",
       "    </tr>\n",
       "    <tr>\n",
       "      <th>3986</th>\n",
       "      <td>Madden NFL 13</td>\n",
       "      <td>Wii</td>\n",
       "      <td>2012</td>\n",
       "      <td>Sports</td>\n",
       "      <td>0.47</td>\n",
       "      <td>0.00</td>\n",
       "      <td>0.0</td>\n",
       "      <td>0.03</td>\n",
       "      <td>-1.0</td>\n",
       "      <td>7.3</td>\n",
       "      <td>E</td>\n",
       "    </tr>\n",
       "    <tr>\n",
       "      <th>5887</th>\n",
       "      <td>Madden NFL 13</td>\n",
       "      <td>PSV</td>\n",
       "      <td>2012</td>\n",
       "      <td>Sports</td>\n",
       "      <td>0.28</td>\n",
       "      <td>0.00</td>\n",
       "      <td>0.0</td>\n",
       "      <td>0.02</td>\n",
       "      <td>63.0</td>\n",
       "      <td>7.3</td>\n",
       "      <td>E</td>\n",
       "    </tr>\n",
       "    <tr>\n",
       "      <th>7066</th>\n",
       "      <td>Madden NFL 13</td>\n",
       "      <td>WiiU</td>\n",
       "      <td>2012</td>\n",
       "      <td>Sports</td>\n",
       "      <td>0.21</td>\n",
       "      <td>0.00</td>\n",
       "      <td>0.0</td>\n",
       "      <td>0.02</td>\n",
       "      <td>75.0</td>\n",
       "      <td>6.7</td>\n",
       "      <td>E</td>\n",
       "    </tr>\n",
       "    <tr>\n",
       "      <th>16230</th>\n",
       "      <td>Madden NFL 13</td>\n",
       "      <td>PS3</td>\n",
       "      <td>2012</td>\n",
       "      <td>Sports</td>\n",
       "      <td>0.00</td>\n",
       "      <td>0.01</td>\n",
       "      <td>0.0</td>\n",
       "      <td>0.00</td>\n",
       "      <td>83.0</td>\n",
       "      <td>5.5</td>\n",
       "      <td>E</td>\n",
       "    </tr>\n",
       "  </tbody>\n",
       "</table>\n",
       "</div>"
      ],
      "text/plain": [
       "                name platform  year_of_release   genre  na_sales  eu_sales  \\\n",
       "507    Madden NFL 13     X360             2012  Sports      2.53      0.15   \n",
       "604    Madden NFL 13      PS3             2012  Sports      2.11      0.22   \n",
       "3986   Madden NFL 13      Wii             2012  Sports      0.47      0.00   \n",
       "5887   Madden NFL 13      PSV             2012  Sports      0.28      0.00   \n",
       "7066   Madden NFL 13     WiiU             2012  Sports      0.21      0.00   \n",
       "16230  Madden NFL 13      PS3             2012  Sports      0.00      0.01   \n",
       "\n",
       "       jp_sales  other_sales  critic_score  user_score rating  \n",
       "507         0.0         0.17          81.0         5.8      E  \n",
       "604         0.0         0.23          83.0         5.5      E  \n",
       "3986        0.0         0.03          -1.0         7.3      E  \n",
       "5887        0.0         0.02          63.0         7.3      E  \n",
       "7066        0.0         0.02          75.0         6.7      E  \n",
       "16230       0.0         0.00          83.0         5.5      E  "
      ]
     },
     "execution_count": 23,
     "metadata": {},
     "output_type": "execute_result"
    }
   ],
   "source": [
    "df[df.name == 'Madden NFL 13']"
   ]
  },
  {
   "cell_type": "markdown",
   "metadata": {},
   "source": [
    "Похоже, в случае с 'Need for Speed: Most Wanted' мы имеем дело не с дубликатом, а с игрой с одинаковыми названиями и платформами, но вышедших в 2005 и 2012 году соответственно. Их оставим без изменений.\n",
    "\n",
    "В случае 'Sonic the Hedgehog' вероятно случилась ошибка во внесении данных из-за разницы в старте продаж игры на PS3. \n",
    ">The Xbox 360 version of Sonic the Hedgehog was released in North America on November 14, 2006, followed by a European release on November 24. Both versions were released in Japan on December 21. The PlayStation 3 version was released in North America on January 30, 2007, and in Europe on March 23.\n",
    "\n",
    "Вполне возможно, что отсутствующее значение в столбце года выпуска возникло по этой же причине - в одном регионе игра была выпущена в 2006, а в другом - в 2007. Видно, что число продаж для EU в записях различается. Прибавим число продаж из EU в более полную запись и удалим дубликат.\n",
    "\n",
    "В случае Madden NFL 13 можно говорить о дублировании записей, но также, как и в случае с 'Sonic the Hedgehog', неполном. Здесь поступим аналогично."
   ]
  },
  {
   "cell_type": "code",
   "execution_count": 24,
   "metadata": {},
   "outputs": [
    {
     "data": {
      "text/html": [
       "<div>\n",
       "<style scoped>\n",
       "    .dataframe tbody tr th:only-of-type {\n",
       "        vertical-align: middle;\n",
       "    }\n",
       "\n",
       "    .dataframe tbody tr th {\n",
       "        vertical-align: top;\n",
       "    }\n",
       "\n",
       "    .dataframe thead th {\n",
       "        text-align: right;\n",
       "    }\n",
       "</style>\n",
       "<table border=\"1\" class=\"dataframe\">\n",
       "  <thead>\n",
       "    <tr style=\"text-align: right;\">\n",
       "      <th></th>\n",
       "      <th>name</th>\n",
       "      <th>platform</th>\n",
       "      <th>year_of_release</th>\n",
       "      <th>genre</th>\n",
       "      <th>na_sales</th>\n",
       "      <th>eu_sales</th>\n",
       "      <th>jp_sales</th>\n",
       "      <th>other_sales</th>\n",
       "      <th>critic_score</th>\n",
       "      <th>user_score</th>\n",
       "      <th>rating</th>\n",
       "    </tr>\n",
       "  </thead>\n",
       "  <tbody>\n",
       "    <tr>\n",
       "      <th>1591</th>\n",
       "      <td>Need for Speed: Most Wanted</td>\n",
       "      <td>X360</td>\n",
       "      <td>2005</td>\n",
       "      <td>Racing</td>\n",
       "      <td>1.0</td>\n",
       "      <td>0.13</td>\n",
       "      <td>0.02</td>\n",
       "      <td>0.10</td>\n",
       "      <td>83.0</td>\n",
       "      <td>8.5</td>\n",
       "      <td>T</td>\n",
       "    </tr>\n",
       "    <tr>\n",
       "      <th>11715</th>\n",
       "      <td>Need for Speed: Most Wanted</td>\n",
       "      <td>PC</td>\n",
       "      <td>2012</td>\n",
       "      <td>Racing</td>\n",
       "      <td>0.0</td>\n",
       "      <td>0.06</td>\n",
       "      <td>0.00</td>\n",
       "      <td>0.02</td>\n",
       "      <td>82.0</td>\n",
       "      <td>8.5</td>\n",
       "      <td>T</td>\n",
       "    </tr>\n",
       "  </tbody>\n",
       "</table>\n",
       "</div>"
      ],
      "text/plain": [
       "                              name platform  year_of_release   genre  \\\n",
       "1591   Need for Speed: Most Wanted     X360             2005  Racing   \n",
       "11715  Need for Speed: Most Wanted       PC             2012  Racing   \n",
       "\n",
       "       na_sales  eu_sales  jp_sales  other_sales  critic_score  user_score  \\\n",
       "1591        1.0      0.13      0.02         0.10          83.0         8.5   \n",
       "11715       0.0      0.06      0.00         0.02          82.0         8.5   \n",
       "\n",
       "      rating  \n",
       "1591       T  \n",
       "11715      T  "
      ]
     },
     "execution_count": 24,
     "metadata": {},
     "output_type": "execute_result"
    }
   ],
   "source": [
    "df.loc[1745, 'eu_sales'] +=  df.loc[4127, 'eu_sales']\n",
    "df.loc[604, 'eu_sales'] +=  df.loc[16230, 'eu_sales']\n",
    "df = df.drop(index=[4127, 16230])\n",
    "df[df.duplicated(subset=['name', 'platform'])]"
   ]
  },
  {
   "cell_type": "code",
   "execution_count": 25,
   "metadata": {},
   "outputs": [],
   "source": [
    "df['total_sales'] = df.na_sales + df.eu_sales + df.jp_sales + df.other_sales"
   ]
  },
  {
   "cell_type": "markdown",
   "metadata": {},
   "source": [
    "##### Выводы\n",
    "\n",
    "- названия столбцов приведены к нижнему регистру;\n",
    "- обработаны пропуски и значение 'tbd' в столбцах: год выпуска, оценка критиков, оценка пользователей, рейтинг ESRB;\n",
    "- в рейтинге ESRB пропуски заменены на unknown, в остальных на -1; \n",
    "- столбцы с годом выпуска и с оценкой пользователей приведены к необходимым типам данным\n",
    "- посчитаны суммарные продажи во всех регионах и записаны в отдельный столбец `total_sales`"
   ]
  },
  {
   "cell_type": "markdown",
   "metadata": {},
   "source": [
    "#### Исследовательский анализ данных"
   ]
  },
  {
   "cell_type": "code",
   "execution_count": 26,
   "metadata": {},
   "outputs": [
    {
     "data": {
      "image/png": "[encoded data removed]",
      "text/plain": [
       "<Figure size 1080x360 with 1 Axes>"
      ]
     },
     "metadata": {
      "needs_background": "light"
     },
     "output_type": "display_data"
    }
   ],
   "source": [
    "(\n",
    "    df.year_of_release.value_counts().sort_index().plot(kind='bar', figsize=(15,5), grid=True)\n",
    "    .set_title('Количество выпускаемых игр по годам\\n', fontsize = 18)\n",
    ")\n",
    "plt.xlabel('Год', fontsize=14)\n",
    "plt.ylabel('Количество игр', fontsize=14);"
   ]
  },
  {
   "cell_type": "markdown",
   "metadata": {},
   "source": [
    "Начиная с 1993 по 2009 год видим постоянный рост количества выпускаемых игр. В 2009 количество выпускаемых игр для имеющихся на рынке платформ начало снижаться. Вероятно, в это время начал активно развиваться рынок смартфонов и часть продаж ушла туда. \n",
    "\n",
    "Данных до 1993 года незначительное количество и их можно не учитывать в дальнейших исследованиях."
   ]
  },
  {
   "cell_type": "code",
   "execution_count": 27,
   "metadata": {},
   "outputs": [
    {
     "data": {
      "text/plain": [
       "platform\n",
       "PS2     1255.77\n",
       "X360     971.42\n",
       "PS3      939.65\n",
       "Wii      907.51\n",
       "DS       806.12\n",
       "PS       730.86\n",
       "GBA      317.85\n",
       "PS4      314.14\n",
       "PSP      294.05\n",
       "PC       259.52\n",
       "3DS      259.00\n",
       "XB       257.74\n",
       "GB       255.46\n",
       "NES      251.05\n",
       "N64      218.68\n",
       "SNES     200.04\n",
       "GC       198.93\n",
       "XOne     159.32\n",
       "2600      96.98\n",
       "WiiU      82.19\n",
       "PSV       54.07\n",
       "SAT       33.59\n",
       "GEN       28.35\n",
       "DC        15.95\n",
       "SCD        1.86\n",
       "NG         1.44\n",
       "WS         1.42\n",
       "TG16       0.16\n",
       "3DO        0.10\n",
       "GG         0.04\n",
       "PCFX       0.03\n",
       "Name: total_sales, dtype: float64"
      ]
     },
     "execution_count": 27,
     "metadata": {},
     "output_type": "execute_result"
    }
   ],
   "source": [
    "platform_group = df.groupby('platform').sum().total_sales.sort_values(ascending=False)\n",
    "platform_group"
   ]
  },
  {
   "cell_type": "markdown",
   "metadata": {},
   "source": [
    "Топ 7 платформ по количеству продаж: \n",
    "\n",
    "1. PS2\n",
    "2. X360\n",
    "3. Wii\n",
    "4. PS3\n",
    "5. DS\n",
    "6. PS\n",
    "7. GBA\n",
    "\n",
    "Далее идут платформы с продажами в 1% от общего количества и менее. \n",
    "\n",
    "Посмотрим на графики продаж по годам.\n",
    "Пока что оставим маркер -1, чтобы визуально оценить какое количество записей не было учтено для каждой платформы."
   ]
  },
  {
   "cell_type": "code",
   "execution_count": 28,
   "metadata": {},
   "outputs": [],
   "source": [
    "def platform_bar_plot(platform_name:str):\n",
    "    (df[df.platform == platform_name].groupby('year_of_release').count().total_sales.plot(kind='bar', figsize=(15,5), grid=True)\n",
    " .set_title(f'Количество продаж игр на {platform_name} по годам\\n', fontsize = 18)\n",
    ")\n",
    "    plt.xlabel('Год', fontsize=14)\n",
    "    plt.ylabel('Количество игр', fontsize=14)\n",
    "    plt.show();"
   ]
  },
  {
   "cell_type": "code",
   "execution_count": 29,
   "metadata": {
    "scrolled": false
   },
   "outputs": [
    {
     "data": {
      "image/png": "[encoded data removed]",
      "text/plain": [
       "<Figure size 1080x360 with 1 Axes>"
      ]
     },
     "metadata": {
      "needs_background": "light"
     },
     "output_type": "display_data"
    },
    {
     "data": {
      "image/png": "[encoded data removed]",
      "text/plain": [
       "<Figure size 1080x360 with 1 Axes>"
      ]
     },
     "metadata": {
      "needs_background": "light"
     },
     "output_type": "display_data"
    },
    {
     "data": {
      "image/png": "[encoded data removed]",
      "text/plain": [
       "<Figure size 1080x360 with 1 Axes>"
      ]
     },
     "metadata": {
      "needs_background": "light"
     },
     "output_type": "display_data"
    },
    {
     "data": {
      "image/png": "[encoded data removed]",
      "text/plain": [
       "<Figure size 1080x360 with 1 Axes>"
      ]
     },
     "metadata": {
      "needs_background": "light"
     },
     "output_type": "display_data"
    },
    {
     "data": {
      "image/png": "[encoded data removed]",
      "text/plain": [
       "<Figure size 1080x360 with 1 Axes>"
      ]
     },
     "metadata": {
      "needs_background": "light"
     },
     "output_type": "display_data"
    },
    {
     "data": {
      "image/png": "[encoded data removed]",
      "text/plain": [
       "<Figure size 1080x360 with 1 Axes>"
      ]
     },
     "metadata": {
      "needs_background": "light"
     },
     "output_type": "display_data"
    },
    {
     "data": {
      "image/png": "[encoded data removed]",
      "text/plain": [
       "<Figure size 1080x360 with 1 Axes>"
      ]
     },
     "metadata": {
      "needs_background": "light"
     },
     "output_type": "display_data"
    }
   ],
   "source": [
    "for platform in platform_group.index[:7]:\n",
    "    platform_bar_plot(platform)"
   ]
  },
  {
   "cell_type": "code",
   "execution_count": 30,
   "metadata": {},
   "outputs": [
    {
     "data": {
      "text/html": [
       "<div>\n",
       "<style scoped>\n",
       "    .dataframe tbody tr th:only-of-type {\n",
       "        vertical-align: middle;\n",
       "    }\n",
       "\n",
       "    .dataframe tbody tr th {\n",
       "        vertical-align: top;\n",
       "    }\n",
       "\n",
       "    .dataframe thead th {\n",
       "        text-align: right;\n",
       "    }\n",
       "</style>\n",
       "<table border=\"1\" class=\"dataframe\">\n",
       "  <thead>\n",
       "    <tr style=\"text-align: right;\">\n",
       "      <th></th>\n",
       "      <th>name</th>\n",
       "      <th>platform</th>\n",
       "      <th>year_of_release</th>\n",
       "      <th>genre</th>\n",
       "      <th>na_sales</th>\n",
       "      <th>eu_sales</th>\n",
       "      <th>jp_sales</th>\n",
       "      <th>other_sales</th>\n",
       "      <th>critic_score</th>\n",
       "      <th>user_score</th>\n",
       "      <th>rating</th>\n",
       "      <th>total_sales</th>\n",
       "    </tr>\n",
       "  </thead>\n",
       "  <tbody>\n",
       "    <tr>\n",
       "      <th>15957</th>\n",
       "      <td>Strongest Tokyo University Shogi DS</td>\n",
       "      <td>DS</td>\n",
       "      <td>1985</td>\n",
       "      <td>Action</td>\n",
       "      <td>0.0</td>\n",
       "      <td>0.0</td>\n",
       "      <td>0.02</td>\n",
       "      <td>0.0</td>\n",
       "      <td>-1.0</td>\n",
       "      <td>-1.0</td>\n",
       "      <td>unknown</td>\n",
       "      <td>0.02</td>\n",
       "    </tr>\n",
       "  </tbody>\n",
       "</table>\n",
       "</div>"
      ],
      "text/plain": [
       "                                      name platform  year_of_release   genre  \\\n",
       "15957  Strongest Tokyo University Shogi DS       DS             1985  Action   \n",
       "\n",
       "       na_sales  eu_sales  jp_sales  other_sales  critic_score  user_score  \\\n",
       "15957       0.0       0.0      0.02          0.0          -1.0        -1.0   \n",
       "\n",
       "        rating  total_sales  \n",
       "15957  unknown         0.02  "
      ]
     },
     "execution_count": 30,
     "metadata": {},
     "output_type": "execute_result"
    }
   ],
   "source": [
    "df[(df.platform=='DS') & (df.year_of_release == 1985)]"
   ]
  },
  {
   "cell_type": "markdown",
   "metadata": {},
   "source": [
    "У платформы DS обнаруживается игра с аномальным годом выпуска - 1985. Аномальный, т.к. сама платформа начала выпускаться с 2004. Как говорит интернет - это перевыпуск игры 1985 года для DS. Перевыпуск был в 2007 году, заменим это значение."
   ]
  },
  {
   "cell_type": "code",
   "execution_count": 31,
   "metadata": {},
   "outputs": [],
   "source": [
    "df.loc[15957, 'year_of_release'] = 2007"
   ]
  },
  {
   "cell_type": "markdown",
   "metadata": {},
   "source": [
    "Посмотрим теперь на общую картину."
   ]
  },
  {
   "cell_type": "code",
   "execution_count": 32,
   "metadata": {},
   "outputs": [
    {
     "data": {
      "image/png": "[encoded data removed]",
      "text/plain": [
       "<Figure size 1224x504 with 1 Axes>"
      ]
     },
     "metadata": {
      "needs_background": "light"
     },
     "output_type": "display_data"
    }
   ],
   "source": [
    "sales_by_year = df[df.year_of_release != -1].pivot_table(index='year_of_release', \n",
    "                                                         columns='platform', \n",
    "                                                         values='total_sales', \n",
    "                                                         aggfunc='sum')\n",
    "\n",
    "most_sales_by_year = sales_by_year.loc[:, ['PS2', 'X360', 'Wii', 'PS3', 'DS', 'PS', 'GBA']]\n",
    "\n",
    "plt.figure(figsize=(17, 7))\n",
    "sns.lineplot(data=most_sales_by_year, linewidth=5, dashes=False)\n",
    "plt.title('Динамика продаж для платформ с наибольшими количеством продаж \\n', fontsize=18)\n",
    "plt.legend(loc='upper right', fontsize=18)\n",
    "plt.xticks(range(1994, 2017, 1))\n",
    "plt.xlabel('Год', fontsize=14)\n",
    "plt.ylabel('Количество продаж, млн \\n', fontsize=14)\n",
    "plt.grid(visible=True)\n",
    "plt.show()"
   ]
  },
  {
   "cell_type": "markdown",
   "metadata": {},
   "source": [
    "Судя по графикам продаж игр по годам для платформ с самым большим числом продаж - платформа живет от 7 до 11 лет. \n",
    "Посчитаем среднее по всем платформам"
   ]
  },
  {
   "cell_type": "code",
   "execution_count": 33,
   "metadata": {},
   "outputs": [
    {
     "name": "stdout",
     "output_type": "stream",
     "text": [
      "Средняя продолжительность жизни платформы - 8.0 лет\n"
     ]
    }
   ],
   "source": [
    "platforms_lifespan = []\n",
    "\n",
    "for platform in sales_by_year.columns:\n",
    "    platform_years = (sales_by_year.index[~sales_by_year[platform].isnull()])\n",
    "    lifespan = platform_years.max() - platform_years.min() + 1\n",
    "    platforms_lifespan.append(lifespan)\n",
    "\n",
    "print(f'Средняя продолжительность жизни платформы - {np.mean(platforms_lifespan)} лет')"
   ]
  },
  {
   "cell_type": "markdown",
   "metadata": {},
   "source": [
    "Средняя продолжительность жизни платформы - 8 лет. Однако, нам необходимо составить прогноз на 2017 год, следовательно полный цикл жизни в данном случае не сильно интересен, интересно только его начало, т.е. интересно знать - что точно будет выгодно в следующем году, где продажи будут расти. \n",
    "\n",
    "По графикам видно, что рост продаж приходится на первые 3-4 года (в зависимости от того, в какое десятилетие начала выпускаться платформа). Можно наблюдать тенденцию к сокращению срока роста продаж с течением времени. \n",
    "\n",
    "В таком случае, возьмём актуальный для нашего исследования период с 2014 года. "
   ]
  },
  {
   "cell_type": "code",
   "execution_count": 34,
   "metadata": {},
   "outputs": [],
   "source": [
    "actual_df = df[df.year_of_release >= 2014]"
   ]
  },
  {
   "cell_type": "code",
   "execution_count": 35,
   "metadata": {},
   "outputs": [
    {
     "data": {
      "image/png": "[encoded data removed]",
      "text/plain": [
       "<Figure size 1080x720 with 1 Axes>"
      ]
     },
     "metadata": {
      "needs_background": "light"
     },
     "output_type": "display_data"
    }
   ],
   "source": [
    "actual_sales = actual_df[actual_df.year_of_release != -1].pivot_table(index='year_of_release', \n",
    "                                                         columns='platform', \n",
    "                                                         values='total_sales', \n",
    "                                                         aggfunc='sum')\n",
    "\n",
    "plt.figure(figsize=(15, 10))\n",
    "sns.lineplot(data=actual_sales, linewidth=4, dashes=False, palette='tab20')\n",
    "plt.title('Динамика продаж по платформам \\n', fontsize=18)\n",
    "plt.legend(loc='upper left', fontsize=18, bbox_to_anchor=(1, 1))\n",
    "plt.xticks(range(2014, 2017, 1))\n",
    "plt.xlabel('Год', fontsize=14)\n",
    "plt.ylabel('Количество продаж, млн \\n', fontsize=14)\n",
    "plt.grid(visible=True)\n",
    "plt.show()"
   ]
  },
  {
   "cell_type": "markdown",
   "metadata": {},
   "source": [
    "На графике отчетливо видим потенциально прибыльные платформы - ХOne и PS4.  \n",
    "Снижение продаж в 2016 году можно объяснить отсутствием полных данных за этот период.\n",
    "\n",
    "Также условно прибыльной (в течение года-двух) еще можно назвать платформу 3DS, хотя на графике отчетливо видим тенденцию к снижению числа продаж. "
   ]
  },
  {
   "cell_type": "code",
   "execution_count": 36,
   "metadata": {},
   "outputs": [
    {
     "data": {
      "image/png": "[encoded data removed]",
      "text/plain": [
       "<Figure size 1224x720 with 1 Axes>"
      ]
     },
     "metadata": {
      "needs_background": "light"
     },
     "output_type": "display_data"
    }
   ],
   "source": [
    "plt.figure(figsize=(17, 10))\n",
    "plt.grid(visible=True, axis='y')\n",
    "sns.boxplot(data=actual_df, y='platform', x='total_sales')\n",
    "plt.grid(visible=True, axis='x')\n",
    "plt.title('Распределение продаж по платформам \\n', fontsize=18)\n",
    "plt.xlabel('Количество продаж, млн', fontsize=14)\n",
    "plt.ylabel('Платформа \\n', fontsize=14);"
   ]
  },
  {
   "cell_type": "code",
   "execution_count": 37,
   "metadata": {},
   "outputs": [
    {
     "data": {
      "image/png": "[encoded data removed]",
      "text/plain": [
       "<Figure size 1224x720 with 1 Axes>"
      ]
     },
     "metadata": {
      "needs_background": "light"
     },
     "output_type": "display_data"
    }
   ],
   "source": [
    "plt.figure(figsize=(17, 10))\n",
    "plt.grid(visible=True, axis='y')\n",
    "sns.boxplot(data=actual_df, y='platform', x='total_sales')\n",
    "plt.xlim([0, 0.76])\n",
    "plt.grid(visible=True, axis='x')\n",
    "plt.title('Распределение продаж по платформам \\n', fontsize=18)\n",
    "plt.xlabel('Количество продаж, млн', fontsize=14)\n",
    "plt.ylabel('Платформа \\n', fontsize=14);"
   ]
  },
  {
   "cell_type": "markdown",
   "metadata": {},
   "source": [
    "На диаграмме размаха отчетливо видны предыдущие лидеры продаж(Х360 и PS3, Wii) и набирающие популярность платформы Xone и PS4e.\n",
    "Встречается очень много выбросов, что неудивительно, ведь есть игры популярные и не очень. Соответственно у популярных игр продаж будет очень много и наоборот.\n",
    "\n",
    "\n",
    "Посмотрим, как влияют на продажи внутри одной популярной платформы отзывы пользователей и критиков"
   ]
  },
  {
   "cell_type": "code",
   "execution_count": 38,
   "metadata": {},
   "outputs": [],
   "source": [
    "x_one_user = actual_df[(actual_df.platform == 'XOne') & (actual_df.user_score >= 0)]\n",
    "x_one_critic = actual_df[(actual_df.platform == 'XOne') & (actual_df.critic_score >= 0)]"
   ]
  },
  {
   "cell_type": "code",
   "execution_count": 39,
   "metadata": {},
   "outputs": [
    {
     "data": {
      "text/plain": [
       "year_of_release   -0.033366\n",
       "na_sales          -0.068053\n",
       "eu_sales          -0.061547\n",
       "jp_sales           0.062259\n",
       "other_sales       -0.069776\n",
       "critic_score       0.250183\n",
       "user_score         1.000000\n",
       "total_sales       -0.070384\n",
       "Name: user_score, dtype: float64"
      ]
     },
     "execution_count": 39,
     "metadata": {},
     "output_type": "execute_result"
    }
   ],
   "source": [
    "corr = x_one_user.corr()\n",
    "corr['user_score']"
   ]
  },
  {
   "cell_type": "code",
   "execution_count": 40,
   "metadata": {},
   "outputs": [
    {
     "data": {
      "text/plain": [
       "SpearmanrResult(correlation=-0.07614016867771539, pvalue=0.33104323742962727)"
      ]
     },
     "execution_count": 40,
     "metadata": {},
     "output_type": "execute_result"
    }
   ],
   "source": [
    "st.spearmanr(x_one_user.user_score, x_one_user.total_sales)"
   ]
  },
  {
   "cell_type": "code",
   "execution_count": 41,
   "metadata": {},
   "outputs": [
    {
     "data": {
      "text/plain": [
       "year_of_release   -0.012092\n",
       "na_sales           0.401137\n",
       "eu_sales           0.385121\n",
       "jp_sales           0.207366\n",
       "other_sales        0.425689\n",
       "critic_score       1.000000\n",
       "user_score         0.429468\n",
       "total_sales        0.428677\n",
       "Name: critic_score, dtype: float64"
      ]
     },
     "execution_count": 41,
     "metadata": {},
     "output_type": "execute_result"
    }
   ],
   "source": [
    "corr = x_one_critic.corr()\n",
    "corr['critic_score']"
   ]
  },
  {
   "cell_type": "code",
   "execution_count": 42,
   "metadata": {},
   "outputs": [
    {
     "data": {
      "text/plain": [
       "SpearmanrResult(correlation=0.5450763498170512, pvalue=2.2542310713878327e-13)"
      ]
     },
     "execution_count": 42,
     "metadata": {},
     "output_type": "execute_result"
    }
   ],
   "source": [
    "st.spearmanr(x_one_critic.critic_score, x_one_critic.total_sales)"
   ]
  },
  {
   "cell_type": "markdown",
   "metadata": {},
   "source": [
    "Видим, что и расчет коэффициента Пирсона, и коэффициента Спирмена на дали сколько-нибудь значимых результатов (p-value по методу Спирмена больше 0.05).\n",
    "Коэффициент Спирмена применялся, т.к. оценки критиков и пользователей являются дискретными велчинами и расчет коэффициента корреляции Пирсона может дать некорректные результаты."
   ]
  },
  {
   "cell_type": "code",
   "execution_count": 43,
   "metadata": {},
   "outputs": [
    {
     "data": {
      "image/png": "[encoded data removed]",
      "text/plain": [
       "<Figure size 720x720 with 1 Axes>"
      ]
     },
     "metadata": {
      "needs_background": "light"
     },
     "output_type": "display_data"
    }
   ],
   "source": [
    "(\n",
    "    x_one_user.plot(x='user_score', y='total_sales', kind='scatter', figsize=(10,10), grid=True)\n",
    "        .set_title('Отношение продаж к оценке пользователей \\n', fontsize = 18)\n",
    ")\n",
    "plt.xlabel('Оценка пользователей', fontsize=14)\n",
    "plt.ylabel('Количество продаж, млн', fontsize=14);"
   ]
  },
  {
   "cell_type": "code",
   "execution_count": 44,
   "metadata": {},
   "outputs": [
    {
     "data": {
      "image/png": "[encoded data removed]",
      "text/plain": [
       "<Figure size 720x720 with 1 Axes>"
      ]
     },
     "metadata": {
      "needs_background": "light"
     },
     "output_type": "display_data"
    }
   ],
   "source": [
    "(\n",
    "    x_one_critic.plot(x='critic_score', y='total_sales', kind='scatter', alpha=0.7, figsize=(10,10), grid=True)\n",
    "        .set_title('Отношение продаж к оценке критиков \\n', fontsize = 18)\n",
    ")\n",
    "plt.xlabel('Оценка критиков', fontsize=14)\n",
    "plt.ylabel('Количество продаж, млн', fontsize=14);"
   ]
  },
  {
   "cell_type": "markdown",
   "metadata": {},
   "source": [
    "Как видим, оценки пользователей и критиков слабо связаны с продажами. Связь оценки критиков с продажами немного сильнее, однако нельзя точно сказать - это продажи увеличиваются из-за оценки критиков, или оценка критиков растёт из-за количества продаж? Так же нет возможности говорить о значимости этой корреляции.\n",
    "\n",
    "Посмотрим так ли это для всех остальных платформ."
   ]
  },
  {
   "cell_type": "code",
   "execution_count": 45,
   "metadata": {},
   "outputs": [
    {
     "data": {
      "text/html": [
       "<div>\n",
       "<style scoped>\n",
       "    .dataframe tbody tr th:only-of-type {\n",
       "        vertical-align: middle;\n",
       "    }\n",
       "\n",
       "    .dataframe tbody tr th {\n",
       "        vertical-align: top;\n",
       "    }\n",
       "\n",
       "    .dataframe thead th {\n",
       "        text-align: right;\n",
       "    }\n",
       "</style>\n",
       "<table border=\"1\" class=\"dataframe\">\n",
       "  <thead>\n",
       "    <tr style=\"text-align: right;\">\n",
       "      <th></th>\n",
       "      <th>platform</th>\n",
       "      <th>users_score_sales_corr</th>\n",
       "      <th>critic_score_sales_corr</th>\n",
       "    </tr>\n",
       "  </thead>\n",
       "  <tbody>\n",
       "    <tr>\n",
       "      <th>0</th>\n",
       "      <td>PS4</td>\n",
       "      <td>-0.040132</td>\n",
       "      <td>-0.005041</td>\n",
       "    </tr>\n",
       "    <tr>\n",
       "      <th>1</th>\n",
       "      <td>3DS</td>\n",
       "      <td>0.215193</td>\n",
       "      <td>0.274369</td>\n",
       "    </tr>\n",
       "    <tr>\n",
       "      <th>2</th>\n",
       "      <td>XOne</td>\n",
       "      <td>-0.070384</td>\n",
       "      <td>0.007396</td>\n",
       "    </tr>\n",
       "    <tr>\n",
       "      <th>3</th>\n",
       "      <td>WiiU</td>\n",
       "      <td>0.407926</td>\n",
       "      <td>0.346501</td>\n",
       "    </tr>\n",
       "    <tr>\n",
       "      <th>4</th>\n",
       "      <td>PS3</td>\n",
       "      <td>-0.166761</td>\n",
       "      <td>0.156595</td>\n",
       "    </tr>\n",
       "    <tr>\n",
       "      <th>5</th>\n",
       "      <td>X360</td>\n",
       "      <td>-0.138445</td>\n",
       "      <td>0.336514</td>\n",
       "    </tr>\n",
       "    <tr>\n",
       "      <th>6</th>\n",
       "      <td>PC</td>\n",
       "      <td>-0.071597</td>\n",
       "      <td>-0.067356</td>\n",
       "    </tr>\n",
       "    <tr>\n",
       "      <th>7</th>\n",
       "      <td>Wii</td>\n",
       "      <td>1.000000</td>\n",
       "      <td>NaN</td>\n",
       "    </tr>\n",
       "    <tr>\n",
       "      <th>8</th>\n",
       "      <td>PSV</td>\n",
       "      <td>-0.168455</td>\n",
       "      <td>0.048583</td>\n",
       "    </tr>\n",
       "    <tr>\n",
       "      <th>9</th>\n",
       "      <td>PSP</td>\n",
       "      <td>NaN</td>\n",
       "      <td>NaN</td>\n",
       "    </tr>\n",
       "  </tbody>\n",
       "</table>\n",
       "</div>"
      ],
      "text/plain": [
       "  platform  users_score_sales_corr  critic_score_sales_corr\n",
       "0      PS4               -0.040132                -0.005041\n",
       "1      3DS                0.215193                 0.274369\n",
       "2     XOne               -0.070384                 0.007396\n",
       "3     WiiU                0.407926                 0.346501\n",
       "4      PS3               -0.166761                 0.156595\n",
       "5     X360               -0.138445                 0.336514\n",
       "6       PC               -0.071597                -0.067356\n",
       "7      Wii                1.000000                      NaN\n",
       "8      PSV               -0.168455                 0.048583\n",
       "9      PSP                     NaN                      NaN"
      ]
     },
     "execution_count": 45,
     "metadata": {},
     "output_type": "execute_result"
    }
   ],
   "source": [
    "corr_df = pd.DataFrame(columns=['platform', 'users_score_sales_corr', 'critic_score_sales_corr'])\n",
    "\n",
    "for platform in actual_df.platform.unique():\n",
    "    \n",
    "    users_rating = actual_df[(actual_df.platform == platform) & (actual_df.user_score >= 0)]\n",
    "    critic_rating = actual_df[(actual_df.platform == platform) & (actual_df.critic_score >= 0)]\n",
    "\n",
    "    corr_df.loc[len(corr_df.index )] = [platform, \n",
    "                                        users_rating['user_score'].corr(users_rating['total_sales']),\n",
    "                                        critic_rating['user_score'].corr(critic_rating['total_sales'])]\n",
    "\n",
    "corr_df"
   ]
  },
  {
   "cell_type": "markdown",
   "metadata": {},
   "source": [
    "Как видим, для остальных платформ ситуация в среднем аналогичная.\n",
    "\n",
    "Посмотрим на распределение игр по жанрам."
   ]
  },
  {
   "cell_type": "code",
   "execution_count": 46,
   "metadata": {},
   "outputs": [
    {
     "data": {
      "text/plain": [
       "genre\n",
       "Action          619\n",
       "Role-Playing    221\n",
       "Adventure       185\n",
       "Sports          161\n",
       "Shooter         128\n",
       "Misc            113\n",
       "Racing           69\n",
       "Fighting         60\n",
       "Simulation       44\n",
       "Platform         38\n",
       "Strategy         37\n",
       "Puzzle           14\n",
       "Name: name, dtype: int64"
      ]
     },
     "execution_count": 46,
     "metadata": {},
     "output_type": "execute_result"
    }
   ],
   "source": [
    "actual_df.groupby('genre').count().name.sort_values(ascending=False)"
   ]
  },
  {
   "cell_type": "code",
   "execution_count": 47,
   "metadata": {},
   "outputs": [
    {
     "data": {
      "image/png": "[encoded data removed]",
      "text/plain": [
       "<Figure size 1080x504 with 1 Axes>"
      ]
     },
     "metadata": {
      "needs_background": "light"
     },
     "output_type": "display_data"
    }
   ],
   "source": [
    "(\n",
    "    actual_df.groupby('genre').count().name.sort_values()\n",
    "    .plot(kind='barh', figsize=(15, 7), grid=True)\n",
    "    .set_title(f'Количество игр по жанрам \\n', fontsize = 18)\n",
    ")\n",
    "plt.xlabel('Жанр', fontsize=14)\n",
    "plt.ylabel('Количество игр', fontsize=14);"
   ]
  },
  {
   "cell_type": "code",
   "execution_count": 48,
   "metadata": {},
   "outputs": [
    {
     "data": {
      "text/plain": [
       "genre\n",
       "Action          199.36\n",
       "Shooter         170.94\n",
       "Sports          109.48\n",
       "Role-Playing    101.44\n",
       "Misc             37.55\n",
       "Fighting         28.22\n",
       "Racing           27.52\n",
       "Platform         18.09\n",
       "Adventure        17.55\n",
       "Simulation       13.13\n",
       "Strategy          3.96\n",
       "Puzzle            2.21\n",
       "Name: total_sales, dtype: float64"
      ]
     },
     "execution_count": 48,
     "metadata": {},
     "output_type": "execute_result"
    }
   ],
   "source": [
    "actual_df.groupby('genre').sum().total_sales.sort_values(ascending=False)"
   ]
  },
  {
   "cell_type": "code",
   "execution_count": 49,
   "metadata": {},
   "outputs": [
    {
     "data": {
      "text/plain": [
       "Text(0, 0.5, 'Количество продаж')"
      ]
     },
     "execution_count": 49,
     "metadata": {},
     "output_type": "execute_result"
    },
    {
     "data": {
      "image/png": "[encoded data removed]",
      "text/plain": [
       "<Figure size 1080x504 with 1 Axes>"
      ]
     },
     "metadata": {
      "needs_background": "light"
     },
     "output_type": "display_data"
    }
   ],
   "source": [
    "(\n",
    "    actual_df.groupby('genre').sum().total_sales.sort_values()\n",
    "    .plot(kind='barh', figsize=(15, 7), grid=True)\n",
    "    .set_title(f'Количество продаж по жанрам \\n', fontsize = 18)\n",
    ")\n",
    "plt.xlabel('Жанр', fontsize=14)\n",
    "plt.ylabel('Количество продаж', fontsize=14)"
   ]
  },
  {
   "cell_type": "code",
   "execution_count": 50,
   "metadata": {},
   "outputs": [
    {
     "data": {
      "text/html": [
       "<div>\n",
       "<style scoped>\n",
       "    .dataframe tbody tr th:only-of-type {\n",
       "        vertical-align: middle;\n",
       "    }\n",
       "\n",
       "    .dataframe tbody tr th {\n",
       "        vertical-align: top;\n",
       "    }\n",
       "\n",
       "    .dataframe thead th {\n",
       "        text-align: right;\n",
       "    }\n",
       "</style>\n",
       "<table border=\"1\" class=\"dataframe\">\n",
       "  <thead>\n",
       "    <tr style=\"text-align: right;\">\n",
       "      <th></th>\n",
       "      <th>genre</th>\n",
       "      <th>count</th>\n",
       "      <th>total_sales</th>\n",
       "      <th>sales_number_ratio</th>\n",
       "    </tr>\n",
       "  </thead>\n",
       "  <tbody>\n",
       "    <tr>\n",
       "      <th>8</th>\n",
       "      <td>Shooter</td>\n",
       "      <td>128</td>\n",
       "      <td>170.94</td>\n",
       "      <td>1.34</td>\n",
       "    </tr>\n",
       "    <tr>\n",
       "      <th>10</th>\n",
       "      <td>Sports</td>\n",
       "      <td>161</td>\n",
       "      <td>109.48</td>\n",
       "      <td>0.68</td>\n",
       "    </tr>\n",
       "    <tr>\n",
       "      <th>4</th>\n",
       "      <td>Platform</td>\n",
       "      <td>38</td>\n",
       "      <td>18.09</td>\n",
       "      <td>0.48</td>\n",
       "    </tr>\n",
       "    <tr>\n",
       "      <th>2</th>\n",
       "      <td>Fighting</td>\n",
       "      <td>60</td>\n",
       "      <td>28.22</td>\n",
       "      <td>0.47</td>\n",
       "    </tr>\n",
       "    <tr>\n",
       "      <th>7</th>\n",
       "      <td>Role-Playing</td>\n",
       "      <td>221</td>\n",
       "      <td>101.44</td>\n",
       "      <td>0.46</td>\n",
       "    </tr>\n",
       "    <tr>\n",
       "      <th>6</th>\n",
       "      <td>Racing</td>\n",
       "      <td>69</td>\n",
       "      <td>27.52</td>\n",
       "      <td>0.40</td>\n",
       "    </tr>\n",
       "    <tr>\n",
       "      <th>3</th>\n",
       "      <td>Misc</td>\n",
       "      <td>113</td>\n",
       "      <td>37.55</td>\n",
       "      <td>0.33</td>\n",
       "    </tr>\n",
       "    <tr>\n",
       "      <th>0</th>\n",
       "      <td>Action</td>\n",
       "      <td>619</td>\n",
       "      <td>199.36</td>\n",
       "      <td>0.32</td>\n",
       "    </tr>\n",
       "    <tr>\n",
       "      <th>9</th>\n",
       "      <td>Simulation</td>\n",
       "      <td>44</td>\n",
       "      <td>13.13</td>\n",
       "      <td>0.30</td>\n",
       "    </tr>\n",
       "    <tr>\n",
       "      <th>5</th>\n",
       "      <td>Puzzle</td>\n",
       "      <td>14</td>\n",
       "      <td>2.21</td>\n",
       "      <td>0.16</td>\n",
       "    </tr>\n",
       "    <tr>\n",
       "      <th>11</th>\n",
       "      <td>Strategy</td>\n",
       "      <td>37</td>\n",
       "      <td>3.96</td>\n",
       "      <td>0.11</td>\n",
       "    </tr>\n",
       "    <tr>\n",
       "      <th>1</th>\n",
       "      <td>Adventure</td>\n",
       "      <td>185</td>\n",
       "      <td>17.55</td>\n",
       "      <td>0.09</td>\n",
       "    </tr>\n",
       "  </tbody>\n",
       "</table>\n",
       "</div>"
      ],
      "text/plain": [
       "           genre  count  total_sales  sales_number_ratio\n",
       "8        Shooter    128       170.94                1.34\n",
       "10        Sports    161       109.48                0.68\n",
       "4       Platform     38        18.09                0.48\n",
       "2       Fighting     60        28.22                0.47\n",
       "7   Role-Playing    221       101.44                0.46\n",
       "6         Racing     69        27.52                0.40\n",
       "3           Misc    113        37.55                0.33\n",
       "0         Action    619       199.36                0.32\n",
       "9     Simulation     44        13.13                0.30\n",
       "5         Puzzle     14         2.21                0.16\n",
       "11      Strategy     37         3.96                0.11\n",
       "1      Adventure    185        17.55                0.09"
      ]
     },
     "execution_count": 50,
     "metadata": {},
     "output_type": "execute_result"
    }
   ],
   "source": [
    "table = actual_df.pivot_table(index='genre',  values='total_sales', aggfunc=['count', 'sum'])\n",
    "table.columns = ['count', 'total_sales']\n",
    "table.reset_index(inplace=True)\n",
    "table['sales_number_ratio'] = (table['total_sales'] / table['count']).round(2)\n",
    "table.sort_values(by='sales_number_ratio', ascending=False)"
   ]
  },
  {
   "cell_type": "markdown",
   "metadata": {},
   "source": [
    "Как видно из графиков и таблиц, больше всего игр выпускается в жанре Action и за счет этого в этом же жанре больше всего продаж. \n",
    "\n",
    "Однако по соотношению продаж к общему числу игр, можно сделать вывод что прибыльнее всего жанры Shooter, Sports. \n",
    "\n",
    "Хуже всего продаются игры в жанре Adventure и Strategy. "
   ]
  },
  {
   "cell_type": "markdown",
   "metadata": {},
   "source": [
    "##### Выводы\n",
    "\n",
    "- начиная с 1993 по 2009 год видим постоянный рост количества выпускаемых игр. В 2009 количество выпускаемых игр для имеющихся на рынке платформ начало снижаться. Вероятно, в это время начал активно развиваться рынок смартфонов и часть продаж ушла туда. \n",
    "- данных до 1993 год незначительное количество и их можно не учитывать в дальнейших исследованиях.\n",
    "- средняя продолжительность жизни платформы - 8 лет\n",
    "- потенциально прибыльные платформы на актуальный период - Хbox One и PS4\n",
    "- на диаграмме размаха встречается очень много выбросов - некоторые игры имеют большее число продаж, чем все остальные \n",
    "- оценки пользователей и критиков слабо связаны с количеством продаж\n",
    "- жанр Action имеет больше всего продаж, но и число выпускаемых игр в этом жанре больше \n",
    "- лучше всего продаются игры жанров Shooter и Sports\n",
    "- хуже всего продаются игры жанра Adventure и Strategy"
   ]
  },
  {
   "cell_type": "markdown",
   "metadata": {},
   "source": [
    "####   Портрет пользователя каждого региона\n",
    "\n",
    "Составим портрет для пользователя каждого региона. Выделим:  \n",
    " - самые популярные платформы (топ-5)\n",
    " - самые популярные жанры (топ-5)\n",
    " - рейтинг ESRB"
   ]
  },
  {
   "cell_type": "code",
   "execution_count": 51,
   "metadata": {},
   "outputs": [],
   "source": [
    "# функция для создания pivot_table с заранее заданными параметрами\n",
    "def top(prop:str, market:str, num: int):\n",
    "    table = ( \n",
    "        actual_df.pivot_table(index=prop, values=market, aggfunc='sum')\n",
    "        .sort_values(by=market, ascending=False)\n",
    "        .head(num)\n",
    ")\n",
    "    table.columns = [market]\n",
    "    table.reset_index(inplace=True)\n",
    "    table['share'] = (table[market] / actual_df[market].sum()).round(2)\n",
    "    return table"
   ]
  },
  {
   "cell_type": "code",
   "execution_count": 52,
   "metadata": {},
   "outputs": [],
   "source": [
    "# функция для построения графика общего вида\n",
    "def top_bar(df:pd.DataFrame, prop:str, market:str, prop_plot_name:str, market_plot_name:str, x_label_name:str):\n",
    "    df.plot(kind='bar', figsize=(15,5), grid=True, x=prop, y=market, legend=False)\n",
    "    plt.title(f'Топ 5 {prop_plot_name} в {market_plot_name}\\n', fontsize = 18)\n",
    "    plt.xlabel(x_label_name, fontsize=14)\n",
    "    plt.xticks(rotation=0)\n",
    "    plt.ylabel('Количество продаж \\n', fontsize=14)\n",
    "    plt.show();"
   ]
  },
  {
   "cell_type": "code",
   "execution_count": 53,
   "metadata": {},
   "outputs": [
    {
     "data": {
      "text/html": [
       "<div>\n",
       "<style scoped>\n",
       "    .dataframe tbody tr th:only-of-type {\n",
       "        vertical-align: middle;\n",
       "    }\n",
       "\n",
       "    .dataframe tbody tr th {\n",
       "        vertical-align: top;\n",
       "    }\n",
       "\n",
       "    .dataframe thead th {\n",
       "        text-align: right;\n",
       "    }\n",
       "</style>\n",
       "<table border=\"1\" class=\"dataframe\">\n",
       "  <thead>\n",
       "    <tr style=\"text-align: right;\">\n",
       "      <th></th>\n",
       "      <th>platform</th>\n",
       "      <th>na_sales</th>\n",
       "      <th>share</th>\n",
       "    </tr>\n",
       "  </thead>\n",
       "  <tbody>\n",
       "    <tr>\n",
       "      <th>0</th>\n",
       "      <td>PS4</td>\n",
       "      <td>98.61</td>\n",
       "      <td>0.35</td>\n",
       "    </tr>\n",
       "    <tr>\n",
       "      <th>1</th>\n",
       "      <td>XOne</td>\n",
       "      <td>81.27</td>\n",
       "      <td>0.29</td>\n",
       "    </tr>\n",
       "    <tr>\n",
       "      <th>2</th>\n",
       "      <td>X360</td>\n",
       "      <td>28.30</td>\n",
       "      <td>0.10</td>\n",
       "    </tr>\n",
       "    <tr>\n",
       "      <th>3</th>\n",
       "      <td>3DS</td>\n",
       "      <td>22.64</td>\n",
       "      <td>0.08</td>\n",
       "    </tr>\n",
       "    <tr>\n",
       "      <th>4</th>\n",
       "      <td>PS3</td>\n",
       "      <td>22.05</td>\n",
       "      <td>0.08</td>\n",
       "    </tr>\n",
       "  </tbody>\n",
       "</table>\n",
       "</div>"
      ],
      "text/plain": [
       "  platform  na_sales  share\n",
       "0      PS4     98.61   0.35\n",
       "1     XOne     81.27   0.29\n",
       "2     X360     28.30   0.10\n",
       "3      3DS     22.64   0.08\n",
       "4      PS3     22.05   0.08"
      ]
     },
     "execution_count": 53,
     "metadata": {},
     "output_type": "execute_result"
    }
   ],
   "source": [
    "top_na_platforms = top('platform', 'na_sales', 5)\n",
    "top_na_platforms"
   ]
  },
  {
   "cell_type": "code",
   "execution_count": 54,
   "metadata": {},
   "outputs": [
    {
     "data": {
      "image/png": "[encoded data removed]",
      "text/plain": [
       "<Figure size 1080x360 with 1 Axes>"
      ]
     },
     "metadata": {
      "needs_background": "light"
     },
     "output_type": "display_data"
    }
   ],
   "source": [
    "top_bar(top_na_platforms, 'platform', 'na_sales', 'платформ', 'NA', 'Платформа')"
   ]
  },
  {
   "cell_type": "code",
   "execution_count": 55,
   "metadata": {},
   "outputs": [
    {
     "data": {
      "text/html": [
       "<div>\n",
       "<style scoped>\n",
       "    .dataframe tbody tr th:only-of-type {\n",
       "        vertical-align: middle;\n",
       "    }\n",
       "\n",
       "    .dataframe tbody tr th {\n",
       "        vertical-align: top;\n",
       "    }\n",
       "\n",
       "    .dataframe thead th {\n",
       "        text-align: right;\n",
       "    }\n",
       "</style>\n",
       "<table border=\"1\" class=\"dataframe\">\n",
       "  <thead>\n",
       "    <tr style=\"text-align: right;\">\n",
       "      <th></th>\n",
       "      <th>genre</th>\n",
       "      <th>na_sales</th>\n",
       "      <th>share</th>\n",
       "    </tr>\n",
       "  </thead>\n",
       "  <tbody>\n",
       "    <tr>\n",
       "      <th>0</th>\n",
       "      <td>Shooter</td>\n",
       "      <td>79.02</td>\n",
       "      <td>0.28</td>\n",
       "    </tr>\n",
       "    <tr>\n",
       "      <th>1</th>\n",
       "      <td>Action</td>\n",
       "      <td>72.53</td>\n",
       "      <td>0.26</td>\n",
       "    </tr>\n",
       "    <tr>\n",
       "      <th>2</th>\n",
       "      <td>Sports</td>\n",
       "      <td>46.13</td>\n",
       "      <td>0.16</td>\n",
       "    </tr>\n",
       "    <tr>\n",
       "      <th>3</th>\n",
       "      <td>Role-Playing</td>\n",
       "      <td>33.47</td>\n",
       "      <td>0.12</td>\n",
       "    </tr>\n",
       "    <tr>\n",
       "      <th>4</th>\n",
       "      <td>Misc</td>\n",
       "      <td>15.05</td>\n",
       "      <td>0.05</td>\n",
       "    </tr>\n",
       "  </tbody>\n",
       "</table>\n",
       "</div>"
      ],
      "text/plain": [
       "          genre  na_sales  share\n",
       "0       Shooter     79.02   0.28\n",
       "1        Action     72.53   0.26\n",
       "2        Sports     46.13   0.16\n",
       "3  Role-Playing     33.47   0.12\n",
       "4          Misc     15.05   0.05"
      ]
     },
     "execution_count": 55,
     "metadata": {},
     "output_type": "execute_result"
    }
   ],
   "source": [
    "top_na_genres = top('genre', 'na_sales', 5)\n",
    "top_na_genres"
   ]
  },
  {
   "cell_type": "code",
   "execution_count": 56,
   "metadata": {},
   "outputs": [
    {
     "data": {
      "image/png": "[encoded data removed]",
      "text/plain": [
       "<Figure size 1080x360 with 1 Axes>"
      ]
     },
     "metadata": {
      "needs_background": "light"
     },
     "output_type": "display_data"
    }
   ],
   "source": [
    "top_bar(top_na_genres, 'genre', 'na_sales', 'жанров', 'NA', 'Жанр')"
   ]
  },
  {
   "cell_type": "code",
   "execution_count": 57,
   "metadata": {},
   "outputs": [
    {
     "data": {
      "text/html": [
       "<div>\n",
       "<style scoped>\n",
       "    .dataframe tbody tr th:only-of-type {\n",
       "        vertical-align: middle;\n",
       "    }\n",
       "\n",
       "    .dataframe tbody tr th {\n",
       "        vertical-align: top;\n",
       "    }\n",
       "\n",
       "    .dataframe thead th {\n",
       "        text-align: right;\n",
       "    }\n",
       "</style>\n",
       "<table border=\"1\" class=\"dataframe\">\n",
       "  <thead>\n",
       "    <tr style=\"text-align: right;\">\n",
       "      <th></th>\n",
       "      <th>rating</th>\n",
       "      <th>na_sales</th>\n",
       "      <th>share</th>\n",
       "    </tr>\n",
       "  </thead>\n",
       "  <tbody>\n",
       "    <tr>\n",
       "      <th>0</th>\n",
       "      <td>M</td>\n",
       "      <td>96.42</td>\n",
       "      <td>0.34</td>\n",
       "    </tr>\n",
       "    <tr>\n",
       "      <th>1</th>\n",
       "      <td>unknown</td>\n",
       "      <td>64.72</td>\n",
       "      <td>0.23</td>\n",
       "    </tr>\n",
       "    <tr>\n",
       "      <th>2</th>\n",
       "      <td>E</td>\n",
       "      <td>50.74</td>\n",
       "      <td>0.18</td>\n",
       "    </tr>\n",
       "    <tr>\n",
       "      <th>3</th>\n",
       "      <td>T</td>\n",
       "      <td>38.95</td>\n",
       "      <td>0.14</td>\n",
       "    </tr>\n",
       "    <tr>\n",
       "      <th>4</th>\n",
       "      <td>E10+</td>\n",
       "      <td>33.23</td>\n",
       "      <td>0.12</td>\n",
       "    </tr>\n",
       "  </tbody>\n",
       "</table>\n",
       "</div>"
      ],
      "text/plain": [
       "    rating  na_sales  share\n",
       "0        M     96.42   0.34\n",
       "1  unknown     64.72   0.23\n",
       "2        E     50.74   0.18\n",
       "3        T     38.95   0.14\n",
       "4     E10+     33.23   0.12"
      ]
     },
     "execution_count": 57,
     "metadata": {},
     "output_type": "execute_result"
    }
   ],
   "source": [
    "esrb_na = top('rating', 'na_sales', actual_df.rating.nunique())\n",
    "esrb_na"
   ]
  },
  {
   "cell_type": "markdown",
   "metadata": {},
   "source": [
    "##### Итого для для рынка Северной Америки: \n",
    "\n",
    "Самые популярные платформы:\n",
    "1. PS4 (35% продаж)\n",
    "2. XOne (29% продаж)\n",
    "3. X360 (10% продаж)\n",
    "4. PS3 (8% продаж)\n",
    "5. 3DS (8% продаж)\n",
    "\n",
    "Наибольшее число продаж приходит на Хbox 360 - более четверти рынка 27% \n",
    "\n",
    "Самые популярные жанры:\n",
    "\n",
    "1. Shooter (28% продаж)\n",
    "2. Action (26% продаж)\n",
    "3. Sports (16% продаж)\n",
    "4. Role-Playing (12% продаж)\n",
    "5. Misc (5% продаж)\n",
    "\n",
    "Скорее всего, рейтинг жанров выстраивается подобным образом, т.к. данные жанры игр более всего распространены на консолях.\n",
    "\n",
    "Наибольшее число игр с рейтингом ESRB:\n",
    "1. M (34% продаж)\n",
    "2. unknown (23% продаж)\n",
    "3. E (18% продаж)\n",
    "4. T (14% продаж)\n",
    "5. E10+ (12% продаж)\n",
    "\n",
    "Наибольшей популярностью пользуются игры с рейтингом E и M, у 23% нет рейтинга ESRB - возможно, это японские игры?"
   ]
  },
  {
   "cell_type": "code",
   "execution_count": 58,
   "metadata": {},
   "outputs": [
    {
     "data": {
      "text/html": [
       "<div>\n",
       "<style scoped>\n",
       "    .dataframe tbody tr th:only-of-type {\n",
       "        vertical-align: middle;\n",
       "    }\n",
       "\n",
       "    .dataframe tbody tr th {\n",
       "        vertical-align: top;\n",
       "    }\n",
       "\n",
       "    .dataframe thead th {\n",
       "        text-align: right;\n",
       "    }\n",
       "</style>\n",
       "<table border=\"1\" class=\"dataframe\">\n",
       "  <thead>\n",
       "    <tr style=\"text-align: right;\">\n",
       "      <th></th>\n",
       "      <th>platform</th>\n",
       "      <th>eu_sales</th>\n",
       "      <th>share</th>\n",
       "    </tr>\n",
       "  </thead>\n",
       "  <tbody>\n",
       "    <tr>\n",
       "      <th>0</th>\n",
       "      <td>PS4</td>\n",
       "      <td>130.04</td>\n",
       "      <td>0.48</td>\n",
       "    </tr>\n",
       "    <tr>\n",
       "      <th>1</th>\n",
       "      <td>XOne</td>\n",
       "      <td>46.25</td>\n",
       "      <td>0.17</td>\n",
       "    </tr>\n",
       "    <tr>\n",
       "      <th>2</th>\n",
       "      <td>PS3</td>\n",
       "      <td>25.54</td>\n",
       "      <td>0.09</td>\n",
       "    </tr>\n",
       "    <tr>\n",
       "      <th>3</th>\n",
       "      <td>PC</td>\n",
       "      <td>17.97</td>\n",
       "      <td>0.07</td>\n",
       "    </tr>\n",
       "    <tr>\n",
       "      <th>4</th>\n",
       "      <td>3DS</td>\n",
       "      <td>16.12</td>\n",
       "      <td>0.06</td>\n",
       "    </tr>\n",
       "  </tbody>\n",
       "</table>\n",
       "</div>"
      ],
      "text/plain": [
       "  platform  eu_sales  share\n",
       "0      PS4    130.04   0.48\n",
       "1     XOne     46.25   0.17\n",
       "2      PS3     25.54   0.09\n",
       "3       PC     17.97   0.07\n",
       "4      3DS     16.12   0.06"
      ]
     },
     "execution_count": 58,
     "metadata": {},
     "output_type": "execute_result"
    }
   ],
   "source": [
    "top_eu_platforms = top('platform', 'eu_sales', 5)\n",
    "top_eu_platforms"
   ]
  },
  {
   "cell_type": "code",
   "execution_count": 59,
   "metadata": {},
   "outputs": [
    {
     "data": {
      "image/png": "[encoded data removed]",
      "text/plain": [
       "<Figure size 1080x360 with 1 Axes>"
      ]
     },
     "metadata": {
      "needs_background": "light"
     },
     "output_type": "display_data"
    }
   ],
   "source": [
    "top_bar(top_eu_platforms, 'platform', 'eu_sales', 'платформ', 'EU', 'Платформа')"
   ]
  },
  {
   "cell_type": "code",
   "execution_count": 60,
   "metadata": {},
   "outputs": [
    {
     "data": {
      "text/html": [
       "<div>\n",
       "<style scoped>\n",
       "    .dataframe tbody tr th:only-of-type {\n",
       "        vertical-align: middle;\n",
       "    }\n",
       "\n",
       "    .dataframe tbody tr th {\n",
       "        vertical-align: top;\n",
       "    }\n",
       "\n",
       "    .dataframe thead th {\n",
       "        text-align: right;\n",
       "    }\n",
       "</style>\n",
       "<table border=\"1\" class=\"dataframe\">\n",
       "  <thead>\n",
       "    <tr style=\"text-align: right;\">\n",
       "      <th></th>\n",
       "      <th>genre</th>\n",
       "      <th>eu_sales</th>\n",
       "      <th>share</th>\n",
       "    </tr>\n",
       "  </thead>\n",
       "  <tbody>\n",
       "    <tr>\n",
       "      <th>0</th>\n",
       "      <td>Action</td>\n",
       "      <td>74.68</td>\n",
       "      <td>0.28</td>\n",
       "    </tr>\n",
       "    <tr>\n",
       "      <th>1</th>\n",
       "      <td>Shooter</td>\n",
       "      <td>65.52</td>\n",
       "      <td>0.24</td>\n",
       "    </tr>\n",
       "    <tr>\n",
       "      <th>2</th>\n",
       "      <td>Sports</td>\n",
       "      <td>45.73</td>\n",
       "      <td>0.17</td>\n",
       "    </tr>\n",
       "    <tr>\n",
       "      <th>3</th>\n",
       "      <td>Role-Playing</td>\n",
       "      <td>28.17</td>\n",
       "      <td>0.10</td>\n",
       "    </tr>\n",
       "    <tr>\n",
       "      <th>4</th>\n",
       "      <td>Racing</td>\n",
       "      <td>14.13</td>\n",
       "      <td>0.05</td>\n",
       "    </tr>\n",
       "  </tbody>\n",
       "</table>\n",
       "</div>"
      ],
      "text/plain": [
       "          genre  eu_sales  share\n",
       "0        Action     74.68   0.28\n",
       "1       Shooter     65.52   0.24\n",
       "2        Sports     45.73   0.17\n",
       "3  Role-Playing     28.17   0.10\n",
       "4        Racing     14.13   0.05"
      ]
     },
     "execution_count": 60,
     "metadata": {},
     "output_type": "execute_result"
    }
   ],
   "source": [
    "top_eu_genres = top('genre', 'eu_sales', 5)\n",
    "top_eu_genres"
   ]
  },
  {
   "cell_type": "code",
   "execution_count": 61,
   "metadata": {},
   "outputs": [
    {
     "data": {
      "image/png": "[encoded data removed]",
      "text/plain": [
       "<Figure size 1080x360 with 1 Axes>"
      ]
     },
     "metadata": {
      "needs_background": "light"
     },
     "output_type": "display_data"
    }
   ],
   "source": [
    "top_bar(top_eu_genres, 'genre', 'eu_sales', 'жанров', 'EU', 'Жанр')"
   ]
  },
  {
   "cell_type": "code",
   "execution_count": 62,
   "metadata": {},
   "outputs": [
    {
     "data": {
      "text/html": [
       "<div>\n",
       "<style scoped>\n",
       "    .dataframe tbody tr th:only-of-type {\n",
       "        vertical-align: middle;\n",
       "    }\n",
       "\n",
       "    .dataframe tbody tr th {\n",
       "        vertical-align: top;\n",
       "    }\n",
       "\n",
       "    .dataframe thead th {\n",
       "        text-align: right;\n",
       "    }\n",
       "</style>\n",
       "<table border=\"1\" class=\"dataframe\">\n",
       "  <thead>\n",
       "    <tr style=\"text-align: right;\">\n",
       "      <th></th>\n",
       "      <th>rating</th>\n",
       "      <th>eu_sales</th>\n",
       "      <th>share</th>\n",
       "    </tr>\n",
       "  </thead>\n",
       "  <tbody>\n",
       "    <tr>\n",
       "      <th>0</th>\n",
       "      <td>M</td>\n",
       "      <td>93.44</td>\n",
       "      <td>0.35</td>\n",
       "    </tr>\n",
       "    <tr>\n",
       "      <th>1</th>\n",
       "      <td>unknown</td>\n",
       "      <td>58.95</td>\n",
       "      <td>0.22</td>\n",
       "    </tr>\n",
       "    <tr>\n",
       "      <th>2</th>\n",
       "      <td>E</td>\n",
       "      <td>58.06</td>\n",
       "      <td>0.21</td>\n",
       "    </tr>\n",
       "    <tr>\n",
       "      <th>3</th>\n",
       "      <td>T</td>\n",
       "      <td>34.07</td>\n",
       "      <td>0.13</td>\n",
       "    </tr>\n",
       "    <tr>\n",
       "      <th>4</th>\n",
       "      <td>E10+</td>\n",
       "      <td>26.16</td>\n",
       "      <td>0.10</td>\n",
       "    </tr>\n",
       "  </tbody>\n",
       "</table>\n",
       "</div>"
      ],
      "text/plain": [
       "    rating  eu_sales  share\n",
       "0        M     93.44   0.35\n",
       "1  unknown     58.95   0.22\n",
       "2        E     58.06   0.21\n",
       "3        T     34.07   0.13\n",
       "4     E10+     26.16   0.10"
      ]
     },
     "execution_count": 62,
     "metadata": {},
     "output_type": "execute_result"
    }
   ],
   "source": [
    "esrb_eu = top('rating', 'eu_sales', actual_df.rating.nunique())\n",
    "esrb_eu"
   ]
  },
  {
   "cell_type": "markdown",
   "metadata": {},
   "source": [
    "##### Итого для европейского рынка:\n",
    "\n",
    "Самые популярные платформы:\n",
    "1. PS4 (48% продаж)\n",
    "2. XOne (17% продаж)\n",
    "3. PS3 (9% продаж)\n",
    "4. PC (7% продаж)\n",
    "5. 3DS (6% продаж)\n",
    "\n",
    "Самые популярные жанры:\n",
    "1. Action (28% продаж)\n",
    "2. Shooter (24% продаж)\n",
    "3. Sports (17% продаж)\n",
    "4. Role-Playing (10% продаж)\n",
    "5. Racing (5% продаж)\n",
    "\n",
    "Наибольшее число игр с рейтингом ESRB:\n",
    "1. M (35% продаж)\n",
    "2. unknown (22% продаж)\n",
    "3. E (21% продаж)\n",
    "4. T (13% продаж)\n",
    "5. E10+ (10% продаж)\n",
    "\n",
    "В целом, европейский рынок похож на североамериканский, однако тут Xbox 360 был вытеснен PC и PS4 уже захватила почти половину рынка. В жанрах в топ вырвались гонки, в отличие от Misc в NA. С топ-5 рейтинга ESRB ситуация аналогичная рынку NA "
   ]
  },
  {
   "cell_type": "code",
   "execution_count": 63,
   "metadata": {},
   "outputs": [
    {
     "data": {
      "text/html": [
       "<div>\n",
       "<style scoped>\n",
       "    .dataframe tbody tr th:only-of-type {\n",
       "        vertical-align: middle;\n",
       "    }\n",
       "\n",
       "    .dataframe tbody tr th {\n",
       "        vertical-align: top;\n",
       "    }\n",
       "\n",
       "    .dataframe thead th {\n",
       "        text-align: right;\n",
       "    }\n",
       "</style>\n",
       "<table border=\"1\" class=\"dataframe\">\n",
       "  <thead>\n",
       "    <tr style=\"text-align: right;\">\n",
       "      <th></th>\n",
       "      <th>platform</th>\n",
       "      <th>jp_sales</th>\n",
       "      <th>share</th>\n",
       "    </tr>\n",
       "  </thead>\n",
       "  <tbody>\n",
       "    <tr>\n",
       "      <th>0</th>\n",
       "      <td>3DS</td>\n",
       "      <td>44.24</td>\n",
       "      <td>0.48</td>\n",
       "    </tr>\n",
       "    <tr>\n",
       "      <th>1</th>\n",
       "      <td>PS4</td>\n",
       "      <td>15.02</td>\n",
       "      <td>0.16</td>\n",
       "    </tr>\n",
       "    <tr>\n",
       "      <th>2</th>\n",
       "      <td>PSV</td>\n",
       "      <td>14.54</td>\n",
       "      <td>0.16</td>\n",
       "    </tr>\n",
       "    <tr>\n",
       "      <th>3</th>\n",
       "      <td>PS3</td>\n",
       "      <td>11.22</td>\n",
       "      <td>0.12</td>\n",
       "    </tr>\n",
       "    <tr>\n",
       "      <th>4</th>\n",
       "      <td>WiiU</td>\n",
       "      <td>7.31</td>\n",
       "      <td>0.08</td>\n",
       "    </tr>\n",
       "  </tbody>\n",
       "</table>\n",
       "</div>"
      ],
      "text/plain": [
       "  platform  jp_sales  share\n",
       "0      3DS     44.24   0.48\n",
       "1      PS4     15.02   0.16\n",
       "2      PSV     14.54   0.16\n",
       "3      PS3     11.22   0.12\n",
       "4     WiiU      7.31   0.08"
      ]
     },
     "execution_count": 63,
     "metadata": {},
     "output_type": "execute_result"
    }
   ],
   "source": [
    "top_jp_platforms = top('platform', 'jp_sales', 5)\n",
    "top_jp_platforms"
   ]
  },
  {
   "cell_type": "code",
   "execution_count": 64,
   "metadata": {},
   "outputs": [
    {
     "data": {
      "image/png": "[encoded data removed]",
      "text/plain": [
       "<Figure size 1080x360 with 1 Axes>"
      ]
     },
     "metadata": {
      "needs_background": "light"
     },
     "output_type": "display_data"
    }
   ],
   "source": [
    "top_bar(top_jp_platforms, 'platform', 'jp_sales', 'платформ', 'JP', 'Платформа')"
   ]
  },
  {
   "cell_type": "code",
   "execution_count": 65,
   "metadata": {},
   "outputs": [
    {
     "data": {
      "text/html": [
       "<div>\n",
       "<style scoped>\n",
       "    .dataframe tbody tr th:only-of-type {\n",
       "        vertical-align: middle;\n",
       "    }\n",
       "\n",
       "    .dataframe tbody tr th {\n",
       "        vertical-align: top;\n",
       "    }\n",
       "\n",
       "    .dataframe thead th {\n",
       "        text-align: right;\n",
       "    }\n",
       "</style>\n",
       "<table border=\"1\" class=\"dataframe\">\n",
       "  <thead>\n",
       "    <tr style=\"text-align: right;\">\n",
       "      <th></th>\n",
       "      <th>genre</th>\n",
       "      <th>jp_sales</th>\n",
       "      <th>share</th>\n",
       "    </tr>\n",
       "  </thead>\n",
       "  <tbody>\n",
       "    <tr>\n",
       "      <th>0</th>\n",
       "      <td>Role-Playing</td>\n",
       "      <td>31.16</td>\n",
       "      <td>0.33</td>\n",
       "    </tr>\n",
       "    <tr>\n",
       "      <th>1</th>\n",
       "      <td>Action</td>\n",
       "      <td>29.58</td>\n",
       "      <td>0.32</td>\n",
       "    </tr>\n",
       "    <tr>\n",
       "      <th>2</th>\n",
       "      <td>Fighting</td>\n",
       "      <td>6.37</td>\n",
       "      <td>0.07</td>\n",
       "    </tr>\n",
       "    <tr>\n",
       "      <th>3</th>\n",
       "      <td>Misc</td>\n",
       "      <td>5.61</td>\n",
       "      <td>0.06</td>\n",
       "    </tr>\n",
       "    <tr>\n",
       "      <th>4</th>\n",
       "      <td>Shooter</td>\n",
       "      <td>4.87</td>\n",
       "      <td>0.05</td>\n",
       "    </tr>\n",
       "  </tbody>\n",
       "</table>\n",
       "</div>"
      ],
      "text/plain": [
       "          genre  jp_sales  share\n",
       "0  Role-Playing     31.16   0.33\n",
       "1        Action     29.58   0.32\n",
       "2      Fighting      6.37   0.07\n",
       "3          Misc      5.61   0.06\n",
       "4       Shooter      4.87   0.05"
      ]
     },
     "execution_count": 65,
     "metadata": {},
     "output_type": "execute_result"
    }
   ],
   "source": [
    "top_jp_genres = top('genre', 'jp_sales', 5)\n",
    "top_jp_genres"
   ]
  },
  {
   "cell_type": "code",
   "execution_count": 66,
   "metadata": {},
   "outputs": [
    {
     "data": {
      "image/png": "[encoded data removed]",
      "text/plain": [
       "<Figure size 1080x360 with 1 Axes>"
      ]
     },
     "metadata": {
      "needs_background": "light"
     },
     "output_type": "display_data"
    }
   ],
   "source": [
    "top_bar(top_jp_genres, 'genre', 'jp_sales', 'жанров', 'JP', 'Жанр')"
   ]
  },
  {
   "cell_type": "code",
   "execution_count": 67,
   "metadata": {},
   "outputs": [
    {
     "data": {
      "text/html": [
       "<div>\n",
       "<style scoped>\n",
       "    .dataframe tbody tr th:only-of-type {\n",
       "        vertical-align: middle;\n",
       "    }\n",
       "\n",
       "    .dataframe tbody tr th {\n",
       "        vertical-align: top;\n",
       "    }\n",
       "\n",
       "    .dataframe thead th {\n",
       "        text-align: right;\n",
       "    }\n",
       "</style>\n",
       "<table border=\"1\" class=\"dataframe\">\n",
       "  <thead>\n",
       "    <tr style=\"text-align: right;\">\n",
       "      <th></th>\n",
       "      <th>rating</th>\n",
       "      <th>jp_sales</th>\n",
       "      <th>share</th>\n",
       "    </tr>\n",
       "  </thead>\n",
       "  <tbody>\n",
       "    <tr>\n",
       "      <th>0</th>\n",
       "      <td>unknown</td>\n",
       "      <td>56.90</td>\n",
       "      <td>0.61</td>\n",
       "    </tr>\n",
       "    <tr>\n",
       "      <th>1</th>\n",
       "      <td>T</td>\n",
       "      <td>14.78</td>\n",
       "      <td>0.16</td>\n",
       "    </tr>\n",
       "    <tr>\n",
       "      <th>2</th>\n",
       "      <td>E</td>\n",
       "      <td>8.94</td>\n",
       "      <td>0.10</td>\n",
       "    </tr>\n",
       "    <tr>\n",
       "      <th>3</th>\n",
       "      <td>M</td>\n",
       "      <td>8.01</td>\n",
       "      <td>0.09</td>\n",
       "    </tr>\n",
       "    <tr>\n",
       "      <th>4</th>\n",
       "      <td>E10+</td>\n",
       "      <td>4.46</td>\n",
       "      <td>0.05</td>\n",
       "    </tr>\n",
       "  </tbody>\n",
       "</table>\n",
       "</div>"
      ],
      "text/plain": [
       "    rating  jp_sales  share\n",
       "0  unknown     56.90   0.61\n",
       "1        T     14.78   0.16\n",
       "2        E      8.94   0.10\n",
       "3        M      8.01   0.09\n",
       "4     E10+      4.46   0.05"
      ]
     },
     "execution_count": 67,
     "metadata": {},
     "output_type": "execute_result"
    }
   ],
   "source": [
    "esrb_jp = top('rating', 'jp_sales', actual_df.rating.nunique())\n",
    "esrb_jp"
   ]
  },
  {
   "cell_type": "markdown",
   "metadata": {},
   "source": [
    "##### Итого по японскому рынку:\n",
    "\n",
    "Самые популярные платформы:\n",
    "\n",
    "1. 3DS (48% продаж)\n",
    "2. PS4 (16% продаж)\n",
    "3. PSV (16% продаж)\n",
    "4. PS3 (12% продаж)\n",
    "5. WiiU (8% продаж)\n",
    "\n",
    "Самые популярные жанры:\n",
    "\n",
    "1. Role-Playing\t(33% продаж)\n",
    "2. Action (32% продаж)\n",
    "3. Fighting (7% продаж)\n",
    "4. Misc (6% продаж)\n",
    "5. Shooter (5% продаж)\n",
    "\n",
    "Наибольшее число игр с рейтингом ESRB:\n",
    "\n",
    "1. unknown (61% продаж)\n",
    "2. T (16% продаж)\n",
    "3. E (10% продаж)\n",
    "4. M (9% продаж)\n",
    "5. E10+ (5% продаж)\n",
    "\n",
    "А вот японский рынок игр сильно отличается от европейского и североамериканского. \n",
    "1. наиболее популярны здесь карманная платформы от Nintendo и Sony. \n",
    "2. наиболее популярный жанр - RPG, в топ-5 вышел жанр Fighting.\n",
    "3. похоже игры на японском рынке редко проходят процедуру присвоения рейтинга ESRB."
   ]
  },
  {
   "cell_type": "markdown",
   "metadata": {},
   "source": [
    "#### Проверка гипотез"
   ]
  },
  {
   "cell_type": "markdown",
   "metadata": {},
   "source": [
    "##### Гипотеза 1: Средние пользовательские рейтинги платформ Xbox One и PC одинаковые;\n",
    "\n",
    "Необходимо сравнить две независимые выборки, для этого используем t-тест для независимых выборок.\n",
    "\n",
    "Нулевая гипотеза - средние пользовательские рейтинги платформ Xbox One и PC одинаковые;\n",
    "\n",
    "Альтернативная гипотеза - средние пользовательские рейтинги разные.\n",
    "\n",
    "Для начала сделаем соответствующие срезы и посмотрим насколько различаются дисперсии, чтобы выбрать значение аргумента `equal_var` и провести тест более точно."
   ]
  },
  {
   "cell_type": "code",
   "execution_count": 68,
   "metadata": {},
   "outputs": [
    {
     "name": "stdout",
     "output_type": "stream",
     "text": [
      "Дисперсия пользовательского рейтнига для Xbox One 1.8795460055096425\n",
      "Дисперсия пользовательского рейтнига для PC 2.8773743617307175\n"
     ]
    }
   ],
   "source": [
    "x_one = actual_df[(actual_df.platform == 'XOne') & (actual_df.user_score != -1)].user_score\n",
    "pc = actual_df[(actual_df.platform == 'PC') & (actual_df.user_score != -1)].user_score\n",
    "\n",
    "print(f'Дисперсия пользовательского рейтнига для Xbox One {np.var(x_one)}')\n",
    "print(f'Дисперсия пользовательского рейтнига для PC {np.var(pc)}')"
   ]
  },
  {
   "cell_type": "markdown",
   "metadata": {},
   "source": [
    "Дисперсия различается значительно, поэтому ставим equal_var=False\n",
    "\n",
    "Уровень статистической значимости выбираем 0.01, т.к. имеем не самые надежные данные, поэтому постараемся скомпенсировать их недостатки строгостью теста"
   ]
  },
  {
   "cell_type": "code",
   "execution_count": 69,
   "metadata": {},
   "outputs": [
    {
     "name": "stdout",
     "output_type": "stream",
     "text": [
      "0.11601398086668832\n",
      "Не получилось отвергнуть нулевую гипотезу\n"
     ]
    }
   ],
   "source": [
    "alpha = 0.01\n",
    "\n",
    "result = st.ttest_ind(x_one, pc, equal_var=False)\n",
    "\n",
    "print(result.pvalue)\n",
    "\n",
    "if result.pvalue < alpha: \n",
    "     print('Отвергаем нулевую гипотезу')\n",
    "else:\n",
    "    print('Не получилось отвергнуть нулевую гипотезу') "
   ]
  },
  {
   "cell_type": "markdown",
   "metadata": {},
   "source": [
    "Нулевую гипотезу отвергнуть не получилось, а значит, из имеющихся данных мы не можем сделать вывод, что средние пользовательские рейтинги платформ Xbox One и PC значительно различаются"
   ]
  },
  {
   "cell_type": "markdown",
   "metadata": {},
   "source": [
    "##### Гипотеза 2: Средние пользовательские рейтинги жанров Action (англ. «действие», экшен-игры) и Sports (англ. «спортивные соревнования») разные.\n",
    "\n",
    "Необходимо сравнить две независимые выборки, для этого используем t-тест для независимых выборок.\n",
    "\n",
    "Нулевая гипотеза - средние пользовательские рейтинги жанров Action и Sports одинаковые;\n",
    "\n",
    "Альтернативная гипотеза - средние пользовательские рейтинги разные.\n",
    "\n",
    "Для начала сделаем соответствующие срезы и посмотрим насколько различаются дисперсии, чтобы выбрать значение аргумента `equal_var` и провести тест более точно."
   ]
  },
  {
   "cell_type": "code",
   "execution_count": 70,
   "metadata": {},
   "outputs": [
    {
     "name": "stdout",
     "output_type": "stream",
     "text": [
      "Дисперсия пользовательского рейтнига для жанра \"Action\" 1.89208448117539\n",
      "Дисперсия пользовательского рейтнига для жанра \"Sports\" 3.4198375596751185\n"
     ]
    }
   ],
   "source": [
    "action = actual_df[(actual_df.genre == 'Action') & (actual_df.user_score != -1)].user_score\n",
    "sports = actual_df[(actual_df.genre == 'Sports') & (actual_df.user_score != -1)].user_score \n",
    "\n",
    "print(f'Дисперсия пользовательского рейтнига для жанра \"Action\" {np.var(action)}')\n",
    "print(f'Дисперсия пользовательского рейтнига для жанра \"Sports\" {np.var(sports)}')"
   ]
  },
  {
   "cell_type": "markdown",
   "metadata": {},
   "source": [
    "Дисперсия различается значительно, поэтому ставим equal_var=False\n",
    "\n",
    "В данном случае, нам важно проверить неравенство средних, то необходимо указать в качестве аргумента alternative='two-sided', однако это является аргументом по умолчанию.\n",
    "\n",
    "Уровень статистической значимости выбираем 0.01, т.к. имеем не самые надежные данные, поэтому постараемся скомпенсировав их недостатки строгостью теста"
   ]
  },
  {
   "cell_type": "code",
   "execution_count": 71,
   "metadata": {},
   "outputs": [
    {
     "name": "stdout",
     "output_type": "stream",
     "text": [
      "1.1825550382644557e-14\n",
      "Отвергаем нулевую гипотезу\n"
     ]
    }
   ],
   "source": [
    "alpha = 0.01\n",
    "\n",
    "result = st.ttest_ind(action, sports, equal_var=False)\n",
    "\n",
    "print(result.pvalue)\n",
    "\n",
    "if result.pvalue < alpha: \n",
    "     print('Отвергаем нулевую гипотезу')\n",
    "else:\n",
    "    print('Не получилось отвергнуть нулевую гипотезу') "
   ]
  },
  {
   "cell_type": "markdown",
   "metadata": {},
   "source": [
    "В данном случе нулевую гипотезу можно отвергнуть, а значит, из имеющихся данных можно сделать вывод, что средние пользовательские рейтниги жанров Action и Sports имеют значимую разницу. "
   ]
  },
  {
   "cell_type": "markdown",
   "metadata": {},
   "source": [
    "#### Общий вывод.\n",
    "\n",
    "__1. Данные__.\n",
    "\n",
    "- имеются пропуски в столбцах `Name`, `Year_of_Release`, `Genre`, `Critic_Score`, `User_score`, `Rating` \n",
    "- у столбцов `Year_of_Release`, `User_Score` тип данных не соответствует значениям\n",
    "- названия столбцов с заглавных букв\n",
    "- пропуски в столбцах `Name`, `Year_of_Release`, `Genre` скорее всего связаны с ошибкой ввода данных \n",
    "- пропуски в столбцах `Critic_Score`, `User_score`, `Rating` могут быть вызваны несколькими причинами: непопулярность игры, отсутствие обратной связи от пользователей, неактуально рейтинга ESRB в регионе продажи игры\n",
    "- имеется несколько неполных дубликатов в столбцах `Name` и `Platform` связанных с одинаковым названием игр, но разным годом выпуска. Также есть несколько неполных дубликатов, вероятно связанных с разной датой старта продаж в различных регионах.\n",
    "- в столбце `Year_of_Release` была аномалия: у игры Strongest Tokyo University Shogi для DS стоит год выпуска 1985, в то время как Nintendo DS начал производится только в 2004 года. Игра была перевыпущена в 2007.\n",
    "\n",
    "__2. Выводы по результатам исследований__\n",
    "\n",
    "- начиная с 1993 по 2009 год видим постоянный рост количества выпускаемых игр. В 2009 количество выпускаемых игр для имеющихся на рынке платформ начало снижаться. Вероятно, в это время начал активно развиваться рынок смартфонов и часть продаж ушла туда. \n",
    "- данных до 1993 год незначительное количество и их можно не учитывать в дальнейших исследованиях.\n",
    "- топ 7 платформ по количеству продаж:\n",
    "    1. PS2\n",
    "    2. X360\n",
    "    3. Wii\n",
    "    4. PS3\n",
    "    5. DS\n",
    "    6. PS\n",
    "    7. GBA\n",
    "- средняя продолжительность жизни платформы - 8 лет\n",
    "- актуальный период для исследования данных начинается с 2014 года, т.к в исследовании более важно увидеть будущих лидеров рынка. \n",
    "- потенциально прибыльные платформы на актуальный период - Хbox One и PS4\n",
    "- на диаграмме размаха встречается очень много выбросов - очевидно, что некоторые игры имеют большее число продаж, чем все остальные, следовательно, чем больше выбросов, тем больше популярных игр и более популярна платформа. \n",
    "- оценки пользователей и критиков слабо связаны с количеством продаж.\n",
    "- связь оценки критиков с количеством продаж немного больше чем связь оценки пользователей\n",
    "- жанр Action имеет больше всего продаж, но и число выпускаемых игр в этом жанре тоже больше \n",
    "- лучше всего продаются игры жанров Shooter и Sports\n",
    "- хуже всего продаются игры жанра Adventure и Strategy\n",
    "- североамериканский и европейский игроки довольно схожи:\n",
    "    1. в топе-5 платформ совпадают 4, разница: Xbox 360 был вытеснен PC и PS4 уже захватила почти половину рынка\n",
    "    2. в топ-5 жанров совпадает 4, разница: жанр Racing и Misc\n",
    "    3. наиболее популярны игры с рейтингом M, на втором месте игры не получившие оценку ESRB\n",
    "- японский игрок сильно отличается от европейского и североамериканского:  \n",
    "    1. наиболее популярны здесь карманные платформы от Nintendo и Sony. \n",
    "    2. наиболее популярный жанр RPG, в топ-5 есть жанр Fighting, которого нет в NA и EU\n",
    "    3. похоже игры на японском рынке редко проходят процедуру присвоения рейтинга ESRB.\n",
    "- средние пользовательские рейтинги платформ Xbox One и PC не имеют значимой разницы в представленных данных\n",
    "- средние пользовательские рейтинги жанров Action и Sports имеют значимую разницу в представленных данных\n",
    "\n",
    "__Итог__. Для того, чтобы игра была успешной в обозримом будущем необходимо:\n",
    "\n",
    "    1. Принадлежала к платформам Xbox One, PS4. Для Японии - 3DS\n",
    "    2. Принадлежала к жанру Action, Shooter (для рынков EU и NA) и Role-Playing (для рынка JP)\n",
    "    4. Должна иметь рейтинг ESRB М\n",
    "\n",
    "\n",
    "__3. Рекомендации__\n",
    "\n",
    " - возможно стоит обратить внимание на рынок мобильных игр, т.к. с 2009 года наблюдается снижение количества выпускаемых игр, а смартфоны становятся всё мощнее? \n",
    " - возможно, стоит продумать способы получения обратной связи от игроков по проданным играм\n",
    " - может быть стоит добавить в наборы данных оценку СERO для лучшей оценки влияния возрастного рейтинга на продажи игр "
   ]
  }
 ],
 "metadata": {
  "ExecuteTimeLog": [
   {
    "duration": 1247,
    "start_time": "2024-03-27T19:16:35.327Z"
   },
   {
    "duration": 207,
    "start_time": "2024-03-27T19:17:22.959Z"
   },
   {
    "duration": 16,
    "start_time": "2024-03-27T19:17:38.736Z"
   },
   {
    "duration": 16,
    "start_time": "2024-03-27T19:27:44.596Z"
   },
   {
    "duration": 68,
    "start_time": "2024-03-27T20:01:08.048Z"
   },
   {
    "duration": 70,
    "start_time": "2024-03-27T20:04:34.117Z"
   },
   {
    "duration": 72,
    "start_time": "2024-03-27T20:04:43.539Z"
   },
   {
    "duration": 16,
    "start_time": "2024-03-27T20:04:54.648Z"
   },
   {
    "duration": 16,
    "start_time": "2024-03-27T20:05:07.826Z"
   },
   {
    "duration": 17,
    "start_time": "2024-03-27T20:05:46.059Z"
   },
   {
    "duration": 99,
    "start_time": "2024-03-27T20:12:48.830Z"
   },
   {
    "duration": 26,
    "start_time": "2024-03-27T20:23:17.558Z"
   },
   {
    "duration": 13,
    "start_time": "2024-03-27T20:23:35.919Z"
   },
   {
    "duration": 22,
    "start_time": "2024-03-27T20:24:44.247Z"
   },
   {
    "duration": 1071,
    "start_time": "2024-03-28T10:34:22.199Z"
   },
   {
    "duration": 108,
    "start_time": "2024-03-28T10:34:23.272Z"
   },
   {
    "duration": 14,
    "start_time": "2024-03-28T10:34:23.382Z"
   },
   {
    "duration": 13,
    "start_time": "2024-03-28T10:34:23.398Z"
   },
   {
    "duration": 13,
    "start_time": "2024-03-28T10:34:23.413Z"
   },
   {
    "duration": 12,
    "start_time": "2024-03-28T10:34:29.309Z"
   },
   {
    "duration": 15,
    "start_time": "2024-03-28T10:35:06.628Z"
   },
   {
    "duration": 15,
    "start_time": "2024-03-28T10:36:19.710Z"
   },
   {
    "duration": 14,
    "start_time": "2024-03-28T10:39:43.702Z"
   },
   {
    "duration": 15,
    "start_time": "2024-03-28T10:41:04.447Z"
   },
   {
    "duration": 5,
    "start_time": "2024-03-28T10:42:58.929Z"
   },
   {
    "duration": 12,
    "start_time": "2024-03-28T10:43:30.398Z"
   },
   {
    "duration": 19,
    "start_time": "2024-03-28T11:43:37.608Z"
   },
   {
    "duration": 8,
    "start_time": "2024-03-28T11:44:04.458Z"
   },
   {
    "duration": 92,
    "start_time": "2024-03-28T16:44:20.612Z"
   },
   {
    "duration": 8,
    "start_time": "2024-03-28T16:44:27.902Z"
   },
   {
    "duration": 150,
    "start_time": "2024-03-28T16:45:33.213Z"
   },
   {
    "duration": 8,
    "start_time": "2024-03-28T16:45:46.680Z"
   },
   {
    "duration": 11,
    "start_time": "2024-03-28T16:46:17.200Z"
   },
   {
    "duration": 7,
    "start_time": "2024-03-28T16:46:23.186Z"
   },
   {
    "duration": 8,
    "start_time": "2024-03-28T16:48:36.005Z"
   },
   {
    "duration": 7,
    "start_time": "2024-03-28T16:48:55.138Z"
   },
   {
    "duration": 7,
    "start_time": "2024-03-28T16:56:58.060Z"
   },
   {
    "duration": 8,
    "start_time": "2024-03-28T16:58:15.470Z"
   },
   {
    "duration": 24,
    "start_time": "2024-03-28T16:58:27.149Z"
   },
   {
    "duration": 6,
    "start_time": "2024-03-28T16:59:05.920Z"
   },
   {
    "duration": 24,
    "start_time": "2024-03-28T16:59:12.350Z"
   },
   {
    "duration": 11,
    "start_time": "2024-03-28T16:59:31.623Z"
   },
   {
    "duration": 16,
    "start_time": "2024-03-28T16:59:57.559Z"
   },
   {
    "duration": 7,
    "start_time": "2024-03-28T17:00:13.611Z"
   },
   {
    "duration": 25,
    "start_time": "2024-03-28T17:00:13.643Z"
   },
   {
    "duration": 6,
    "start_time": "2024-03-28T17:02:38.469Z"
   },
   {
    "duration": 12,
    "start_time": "2024-03-28T17:02:56.016Z"
   },
   {
    "duration": 24,
    "start_time": "2024-03-28T17:03:10.307Z"
   },
   {
    "duration": 20,
    "start_time": "2024-03-28T17:04:33.683Z"
   },
   {
    "duration": 20,
    "start_time": "2024-03-28T17:04:50.578Z"
   },
   {
    "duration": 7,
    "start_time": "2024-03-28T17:05:11.109Z"
   },
   {
    "duration": 7,
    "start_time": "2024-03-28T17:05:54.819Z"
   },
   {
    "duration": 8,
    "start_time": "2024-03-28T17:07:34.825Z"
   },
   {
    "duration": 9,
    "start_time": "2024-03-28T17:19:33.815Z"
   },
   {
    "duration": 19,
    "start_time": "2024-03-28T17:19:51.105Z"
   },
   {
    "duration": 9,
    "start_time": "2024-03-28T17:20:05.821Z"
   },
   {
    "duration": 9,
    "start_time": "2024-03-28T17:20:20.549Z"
   },
   {
    "duration": 17,
    "start_time": "2024-03-28T17:47:31.109Z"
   },
   {
    "duration": 8,
    "start_time": "2024-03-28T17:47:43.586Z"
   },
   {
    "duration": 6,
    "start_time": "2024-03-28T17:48:04.194Z"
   },
   {
    "duration": 24,
    "start_time": "2024-03-28T19:03:37.618Z"
   },
   {
    "duration": 167,
    "start_time": "2024-03-28T19:18:50.634Z"
   },
   {
    "duration": 52,
    "start_time": "2024-03-28T19:18:55.261Z"
   },
   {
    "duration": 486,
    "start_time": "2024-03-28T19:18:57.662Z"
   },
   {
    "duration": 720,
    "start_time": "2024-03-28T19:19:37.554Z"
   },
   {
    "duration": 1022,
    "start_time": "2024-03-28T19:26:52.607Z"
   },
   {
    "duration": 60,
    "start_time": "2024-03-28T19:26:53.630Z"
   },
   {
    "duration": 14,
    "start_time": "2024-03-28T19:26:53.692Z"
   },
   {
    "duration": 12,
    "start_time": "2024-03-28T19:26:53.707Z"
   },
   {
    "duration": 764,
    "start_time": "2024-03-28T19:26:53.721Z"
   },
   {
    "duration": 14,
    "start_time": "2024-03-28T19:26:54.487Z"
   },
   {
    "duration": 10,
    "start_time": "2024-03-28T19:26:54.503Z"
   },
   {
    "duration": 13,
    "start_time": "2024-03-28T19:26:54.514Z"
   },
   {
    "duration": 29,
    "start_time": "2024-03-28T19:26:54.528Z"
   },
   {
    "duration": 4,
    "start_time": "2024-03-28T19:26:54.559Z"
   },
   {
    "duration": 13,
    "start_time": "2024-03-28T19:26:54.564Z"
   },
   {
    "duration": 16,
    "start_time": "2024-03-28T19:26:54.579Z"
   },
   {
    "duration": 20,
    "start_time": "2024-03-28T19:26:54.596Z"
   },
   {
    "duration": 40,
    "start_time": "2024-03-28T19:26:54.618Z"
   },
   {
    "duration": 9,
    "start_time": "2024-03-28T19:26:54.660Z"
   },
   {
    "duration": 8,
    "start_time": "2024-03-28T19:26:54.670Z"
   },
   {
    "duration": 12,
    "start_time": "2024-03-28T19:26:54.680Z"
   },
   {
    "duration": 1318,
    "start_time": "2024-03-29T17:09:25.832Z"
   },
   {
    "duration": 111,
    "start_time": "2024-03-29T17:09:27.152Z"
   },
   {
    "duration": 16,
    "start_time": "2024-03-29T17:09:27.264Z"
   },
   {
    "duration": 15,
    "start_time": "2024-03-29T17:09:27.281Z"
   },
   {
    "duration": 850,
    "start_time": "2024-03-29T17:09:27.299Z"
   },
   {
    "duration": 18,
    "start_time": "2024-03-29T17:09:28.151Z"
   },
   {
    "duration": 13,
    "start_time": "2024-03-29T17:09:28.172Z"
   },
   {
    "duration": 38,
    "start_time": "2024-03-29T17:09:28.186Z"
   },
   {
    "duration": 18,
    "start_time": "2024-03-29T17:09:28.226Z"
   },
   {
    "duration": 5,
    "start_time": "2024-03-29T17:09:28.245Z"
   },
   {
    "duration": 13,
    "start_time": "2024-03-29T17:09:28.252Z"
   },
   {
    "duration": 17,
    "start_time": "2024-03-29T17:09:28.267Z"
   },
   {
    "duration": 24,
    "start_time": "2024-03-29T17:09:28.316Z"
   },
   {
    "duration": 17,
    "start_time": "2024-03-29T17:09:28.343Z"
   },
   {
    "duration": 10,
    "start_time": "2024-03-29T17:09:28.361Z"
   },
   {
    "duration": 8,
    "start_time": "2024-03-29T17:09:28.373Z"
   },
   {
    "duration": 7,
    "start_time": "2024-03-29T17:09:28.415Z"
   },
   {
    "duration": 281,
    "start_time": "2024-03-29T17:15:11.901Z"
   },
   {
    "duration": 1222,
    "start_time": "2024-03-29T17:15:58.123Z"
   },
   {
    "duration": 7,
    "start_time": "2024-03-29T17:17:22.015Z"
   },
   {
    "duration": 8,
    "start_time": "2024-03-29T19:07:42.853Z"
   },
   {
    "duration": 6,
    "start_time": "2024-03-29T19:08:19.986Z"
   },
   {
    "duration": 3,
    "start_time": "2024-03-29T19:53:54.634Z"
   },
   {
    "duration": 57,
    "start_time": "2024-03-29T19:53:54.639Z"
   },
   {
    "duration": 13,
    "start_time": "2024-03-29T19:53:54.698Z"
   },
   {
    "duration": 18,
    "start_time": "2024-03-29T19:53:54.713Z"
   },
   {
    "duration": 16,
    "start_time": "2024-03-29T19:53:54.733Z"
   },
   {
    "duration": 11,
    "start_time": "2024-03-29T19:53:54.751Z"
   },
   {
    "duration": 13,
    "start_time": "2024-03-29T19:53:54.764Z"
   },
   {
    "duration": 39,
    "start_time": "2024-03-29T19:53:54.778Z"
   },
   {
    "duration": 13,
    "start_time": "2024-03-29T19:53:54.819Z"
   },
   {
    "duration": 38,
    "start_time": "2024-03-29T19:53:54.833Z"
   },
   {
    "duration": 26,
    "start_time": "2024-03-29T19:53:54.873Z"
   },
   {
    "duration": 19,
    "start_time": "2024-03-29T19:53:54.900Z"
   },
   {
    "duration": 22,
    "start_time": "2024-03-29T19:53:54.920Z"
   },
   {
    "duration": 11,
    "start_time": "2024-03-29T19:53:54.944Z"
   },
   {
    "duration": 28,
    "start_time": "2024-03-29T19:53:54.957Z"
   },
   {
    "duration": 112,
    "start_time": "2024-03-29T19:53:57.764Z"
   },
   {
    "duration": 1139,
    "start_time": "2024-03-29T19:55:25.023Z"
   },
   {
    "duration": 60,
    "start_time": "2024-03-29T19:55:26.164Z"
   },
   {
    "duration": 16,
    "start_time": "2024-03-29T19:55:26.226Z"
   },
   {
    "duration": 15,
    "start_time": "2024-03-29T19:55:26.244Z"
   },
   {
    "duration": 15,
    "start_time": "2024-03-29T19:55:26.261Z"
   },
   {
    "duration": 19,
    "start_time": "2024-03-29T19:55:26.277Z"
   },
   {
    "duration": 13,
    "start_time": "2024-03-29T19:55:26.314Z"
   },
   {
    "duration": 15,
    "start_time": "2024-03-29T19:55:26.328Z"
   },
   {
    "duration": 7,
    "start_time": "2024-03-29T19:55:26.344Z"
   },
   {
    "duration": 12,
    "start_time": "2024-03-29T19:55:26.353Z"
   },
   {
    "duration": 19,
    "start_time": "2024-03-29T19:55:26.366Z"
   },
   {
    "duration": 43,
    "start_time": "2024-03-29T19:55:26.386Z"
   },
   {
    "duration": 19,
    "start_time": "2024-03-29T19:55:26.431Z"
   },
   {
    "duration": 9,
    "start_time": "2024-03-29T19:55:26.452Z"
   },
   {
    "duration": 5,
    "start_time": "2024-03-29T19:55:26.463Z"
   },
   {
    "duration": 126,
    "start_time": "2024-03-29T19:55:26.470Z"
   },
   {
    "duration": 15,
    "start_time": "2024-03-29T19:55:54.811Z"
   },
   {
    "duration": 11,
    "start_time": "2024-03-29T19:56:28.344Z"
   },
   {
    "duration": 13,
    "start_time": "2024-03-29T19:57:59.922Z"
   },
   {
    "duration": 9,
    "start_time": "2024-03-29T19:59:48.252Z"
   },
   {
    "duration": 10,
    "start_time": "2024-03-29T20:00:04.085Z"
   },
   {
    "duration": 264,
    "start_time": "2024-03-29T21:08:46.012Z"
   },
   {
    "duration": 22,
    "start_time": "2024-03-29T21:09:20.332Z"
   },
   {
    "duration": 5,
    "start_time": "2024-03-29T21:44:45.086Z"
   },
   {
    "duration": 22,
    "start_time": "2024-03-29T23:31:56.410Z"
   },
   {
    "duration": 389,
    "start_time": "2024-03-29T23:32:06.769Z"
   },
   {
    "duration": 401,
    "start_time": "2024-03-29T23:33:20.753Z"
   },
   {
    "duration": 1178,
    "start_time": "2024-03-30T20:03:56.281Z"
   },
   {
    "duration": 114,
    "start_time": "2024-03-30T20:03:57.461Z"
   },
   {
    "duration": 14,
    "start_time": "2024-03-30T20:03:57.577Z"
   },
   {
    "duration": 13,
    "start_time": "2024-03-30T20:03:57.593Z"
   },
   {
    "duration": 15,
    "start_time": "2024-03-30T20:03:57.608Z"
   },
   {
    "duration": 26,
    "start_time": "2024-03-30T20:03:57.624Z"
   },
   {
    "duration": 13,
    "start_time": "2024-03-30T20:03:57.651Z"
   },
   {
    "duration": 19,
    "start_time": "2024-03-30T20:03:57.666Z"
   },
   {
    "duration": 5,
    "start_time": "2024-03-30T20:03:57.687Z"
   },
   {
    "duration": 16,
    "start_time": "2024-03-30T20:03:57.694Z"
   },
   {
    "duration": 44,
    "start_time": "2024-03-30T20:03:57.711Z"
   },
   {
    "duration": 16,
    "start_time": "2024-03-30T20:03:57.756Z"
   },
   {
    "duration": 18,
    "start_time": "2024-03-30T20:03:57.773Z"
   },
   {
    "duration": 9,
    "start_time": "2024-03-30T20:03:57.793Z"
   },
   {
    "duration": 6,
    "start_time": "2024-03-30T20:03:57.803Z"
   },
   {
    "duration": 39,
    "start_time": "2024-03-30T20:03:57.810Z"
   },
   {
    "duration": 8,
    "start_time": "2024-03-30T20:03:57.850Z"
   },
   {
    "duration": 17,
    "start_time": "2024-03-30T20:03:57.859Z"
   },
   {
    "duration": 3,
    "start_time": "2024-03-30T20:03:57.877Z"
   },
   {
    "duration": 345,
    "start_time": "2024-03-30T20:03:57.882Z"
   },
   {
    "duration": 263,
    "start_time": "2024-03-30T20:08:46.367Z"
   },
   {
    "duration": 258,
    "start_time": "2024-03-30T20:08:55.094Z"
   },
   {
    "duration": 88,
    "start_time": "2024-03-30T20:09:15.529Z"
   },
   {
    "duration": 242,
    "start_time": "2024-03-30T20:09:24.789Z"
   },
   {
    "duration": 8,
    "start_time": "2024-03-30T20:10:41.756Z"
   },
   {
    "duration": 4,
    "start_time": "2024-03-30T21:18:38.457Z"
   },
   {
    "duration": 10,
    "start_time": "2024-03-30T21:18:51.607Z"
   },
   {
    "duration": 15,
    "start_time": "2024-03-30T21:19:02.063Z"
   },
   {
    "duration": 11,
    "start_time": "2024-03-30T21:19:10.511Z"
   },
   {
    "duration": 12,
    "start_time": "2024-03-30T21:19:27.758Z"
   },
   {
    "duration": 12,
    "start_time": "2024-03-30T21:27:26.218Z"
   },
   {
    "duration": 14,
    "start_time": "2024-03-30T21:28:28.237Z"
   },
   {
    "duration": 8,
    "start_time": "2024-03-30T21:28:48.224Z"
   },
   {
    "duration": 262,
    "start_time": "2024-03-30T21:33:43.003Z"
   },
   {
    "duration": 179,
    "start_time": "2024-03-30T21:46:48.411Z"
   },
   {
    "duration": 174,
    "start_time": "2024-03-30T21:47:15.364Z"
   },
   {
    "duration": 3,
    "start_time": "2024-03-30T21:49:51.934Z"
   },
   {
    "duration": 8,
    "start_time": "2024-03-30T21:50:11.294Z"
   },
   {
    "duration": 4,
    "start_time": "2024-03-30T21:50:30.868Z"
   },
   {
    "duration": 8,
    "start_time": "2024-03-30T21:50:33.192Z"
   },
   {
    "duration": 170,
    "start_time": "2024-03-30T21:50:55.263Z"
   },
   {
    "duration": 195,
    "start_time": "2024-03-30T21:51:27.401Z"
   },
   {
    "duration": 174,
    "start_time": "2024-03-30T21:51:47.189Z"
   },
   {
    "duration": 155,
    "start_time": "2024-03-30T21:51:59.761Z"
   },
   {
    "duration": 157,
    "start_time": "2024-03-30T21:52:23.565Z"
   },
   {
    "duration": 14,
    "start_time": "2024-03-30T21:53:49.021Z"
   },
   {
    "duration": 13,
    "start_time": "2024-03-30T21:56:28.965Z"
   },
   {
    "duration": 1046,
    "start_time": "2024-03-30T21:56:39.689Z"
   },
   {
    "duration": 57,
    "start_time": "2024-03-30T21:56:40.737Z"
   },
   {
    "duration": 15,
    "start_time": "2024-03-30T21:56:40.795Z"
   },
   {
    "duration": 11,
    "start_time": "2024-03-30T21:56:40.812Z"
   },
   {
    "duration": 12,
    "start_time": "2024-03-30T21:56:40.825Z"
   },
   {
    "duration": 12,
    "start_time": "2024-03-30T21:56:40.839Z"
   },
   {
    "duration": 11,
    "start_time": "2024-03-30T21:56:40.853Z"
   },
   {
    "duration": 16,
    "start_time": "2024-03-30T21:56:40.866Z"
   },
   {
    "duration": 11,
    "start_time": "2024-03-30T21:56:40.883Z"
   },
   {
    "duration": 11,
    "start_time": "2024-03-30T21:56:40.895Z"
   },
   {
    "duration": 17,
    "start_time": "2024-03-30T21:56:40.907Z"
   },
   {
    "duration": 30,
    "start_time": "2024-03-30T21:56:40.926Z"
   },
   {
    "duration": 14,
    "start_time": "2024-03-30T21:56:40.957Z"
   },
   {
    "duration": 7,
    "start_time": "2024-03-30T21:56:40.974Z"
   },
   {
    "duration": 5,
    "start_time": "2024-03-30T21:56:40.983Z"
   },
   {
    "duration": 11,
    "start_time": "2024-03-30T21:56:40.989Z"
   },
   {
    "duration": 8,
    "start_time": "2024-03-30T21:56:41.001Z"
   },
   {
    "duration": 44,
    "start_time": "2024-03-30T21:56:41.010Z"
   },
   {
    "duration": 4,
    "start_time": "2024-03-30T21:56:41.055Z"
   },
   {
    "duration": 313,
    "start_time": "2024-03-30T21:56:41.060Z"
   },
   {
    "duration": 10,
    "start_time": "2024-03-30T21:56:41.375Z"
   },
   {
    "duration": 3,
    "start_time": "2024-03-30T21:56:41.386Z"
   },
   {
    "duration": 185,
    "start_time": "2024-03-30T21:56:41.390Z"
   },
   {
    "duration": 172,
    "start_time": "2024-03-30T21:56:41.577Z"
   },
   {
    "duration": 174,
    "start_time": "2024-03-30T21:56:41.751Z"
   },
   {
    "duration": 172,
    "start_time": "2024-03-30T21:56:41.926Z"
   },
   {
    "duration": 166,
    "start_time": "2024-03-30T21:56:42.099Z"
   },
   {
    "duration": 13,
    "start_time": "2024-03-30T21:56:42.267Z"
   },
   {
    "duration": 8,
    "start_time": "2024-03-30T22:03:25.047Z"
   },
   {
    "duration": 5,
    "start_time": "2024-03-30T22:03:38.152Z"
   },
   {
    "duration": 3,
    "start_time": "2024-03-30T22:04:18.167Z"
   },
   {
    "duration": 153,
    "start_time": "2024-03-30T22:04:23.913Z"
   },
   {
    "duration": 226,
    "start_time": "2024-03-30T22:04:49.532Z"
   },
   {
    "duration": 4,
    "start_time": "2024-03-30T22:08:39.306Z"
   },
   {
    "duration": 169,
    "start_time": "2024-03-30T22:08:42.097Z"
   },
   {
    "duration": 193,
    "start_time": "2024-03-30T22:08:42.268Z"
   },
   {
    "duration": 170,
    "start_time": "2024-03-30T22:08:44.552Z"
   },
   {
    "duration": 172,
    "start_time": "2024-03-30T22:08:45.321Z"
   },
   {
    "duration": 173,
    "start_time": "2024-03-30T22:08:45.495Z"
   },
   {
    "duration": 10,
    "start_time": "2024-03-30T22:08:45.995Z"
   },
   {
    "duration": 3,
    "start_time": "2024-03-30T22:08:46.049Z"
   },
   {
    "duration": 170,
    "start_time": "2024-03-30T22:08:46.790Z"
   },
   {
    "duration": 178,
    "start_time": "2024-03-30T22:08:46.962Z"
   },
   {
    "duration": 178,
    "start_time": "2024-03-30T22:09:26.307Z"
   },
   {
    "duration": 92,
    "start_time": "2024-03-30T22:22:15.844Z"
   },
   {
    "duration": 11,
    "start_time": "2024-03-30T22:22:31.164Z"
   },
   {
    "duration": 58,
    "start_time": "2024-03-30T22:22:35.793Z"
   },
   {
    "duration": 16,
    "start_time": "2024-03-30T22:29:28.511Z"
   },
   {
    "duration": 372,
    "start_time": "2024-03-30T22:30:16.183Z"
   },
   {
    "duration": 402,
    "start_time": "2024-03-30T22:30:46.366Z"
   },
   {
    "duration": 317,
    "start_time": "2024-03-30T22:30:51.201Z"
   },
   {
    "duration": 331,
    "start_time": "2024-03-30T22:30:58.592Z"
   },
   {
    "duration": 286,
    "start_time": "2024-03-30T22:31:26.103Z"
   },
   {
    "duration": 293,
    "start_time": "2024-03-30T22:31:34.759Z"
   },
   {
    "duration": 268,
    "start_time": "2024-03-30T22:31:44.486Z"
   },
   {
    "duration": 298,
    "start_time": "2024-03-30T22:32:05.515Z"
   },
   {
    "duration": 303,
    "start_time": "2024-03-30T22:32:45.009Z"
   },
   {
    "duration": 330,
    "start_time": "2024-03-30T22:32:54.630Z"
   },
   {
    "duration": 310,
    "start_time": "2024-03-30T22:33:16.247Z"
   },
   {
    "duration": 293,
    "start_time": "2024-03-30T22:33:23.486Z"
   },
   {
    "duration": 465,
    "start_time": "2024-03-30T22:34:59.311Z"
   },
   {
    "duration": 354,
    "start_time": "2024-03-30T22:35:09.715Z"
   },
   {
    "duration": 388,
    "start_time": "2024-03-30T22:37:23.439Z"
   },
   {
    "duration": 374,
    "start_time": "2024-03-30T22:37:28.983Z"
   },
   {
    "duration": 380,
    "start_time": "2024-03-30T22:37:36.914Z"
   },
   {
    "duration": 435,
    "start_time": "2024-03-30T22:37:44.695Z"
   },
   {
    "duration": 411,
    "start_time": "2024-03-30T22:39:07.166Z"
   },
   {
    "duration": 375,
    "start_time": "2024-03-30T22:42:00.258Z"
   },
   {
    "duration": 356,
    "start_time": "2024-03-30T22:42:15.811Z"
   },
   {
    "duration": 3,
    "start_time": "2024-03-30T22:42:16.168Z"
   },
   {
    "duration": 379,
    "start_time": "2024-03-30T22:42:25.086Z"
   },
   {
    "duration": 375,
    "start_time": "2024-03-30T22:42:41.613Z"
   },
   {
    "duration": 3,
    "start_time": "2024-03-30T22:42:41.990Z"
   },
   {
    "duration": 10,
    "start_time": "2024-03-30T22:48:28.146Z"
   },
   {
    "duration": 10,
    "start_time": "2024-03-30T22:48:58.478Z"
   },
   {
    "duration": 9,
    "start_time": "2024-03-30T22:49:21.767Z"
   },
   {
    "duration": 16,
    "start_time": "2024-03-30T22:50:05.056Z"
   },
   {
    "duration": 12,
    "start_time": "2024-03-30T22:50:15.967Z"
   },
   {
    "duration": 46,
    "start_time": "2024-03-31T00:05:42.924Z"
   },
   {
    "duration": 11,
    "start_time": "2024-03-31T00:05:49.138Z"
   },
   {
    "duration": 4,
    "start_time": "2024-03-31T00:07:00.447Z"
   },
   {
    "duration": 1389,
    "start_time": "2024-03-31T08:12:32.316Z"
   },
   {
    "duration": 211,
    "start_time": "2024-03-31T08:12:33.708Z"
   },
   {
    "duration": 18,
    "start_time": "2024-03-31T08:12:33.920Z"
   },
   {
    "duration": 17,
    "start_time": "2024-03-31T08:12:33.940Z"
   },
   {
    "duration": 31,
    "start_time": "2024-03-31T08:12:33.959Z"
   },
   {
    "duration": 28,
    "start_time": "2024-03-31T08:12:33.992Z"
   },
   {
    "duration": 15,
    "start_time": "2024-03-31T08:12:34.022Z"
   },
   {
    "duration": 45,
    "start_time": "2024-03-31T08:12:34.039Z"
   },
   {
    "duration": 6,
    "start_time": "2024-03-31T08:12:34.086Z"
   },
   {
    "duration": 17,
    "start_time": "2024-03-31T08:12:34.094Z"
   },
   {
    "duration": 28,
    "start_time": "2024-03-31T08:12:34.112Z"
   },
   {
    "duration": 40,
    "start_time": "2024-03-31T08:12:34.142Z"
   },
   {
    "duration": 19,
    "start_time": "2024-03-31T08:12:34.184Z"
   },
   {
    "duration": 11,
    "start_time": "2024-03-31T08:12:34.206Z"
   },
   {
    "duration": 11,
    "start_time": "2024-03-31T08:12:34.219Z"
   },
   {
    "duration": 9,
    "start_time": "2024-03-31T08:12:34.232Z"
   },
   {
    "duration": 43,
    "start_time": "2024-03-31T08:12:34.243Z"
   },
   {
    "duration": 32,
    "start_time": "2024-03-31T08:12:34.288Z"
   },
   {
    "duration": 6,
    "start_time": "2024-03-31T08:12:34.322Z"
   },
   {
    "duration": 453,
    "start_time": "2024-03-31T08:12:34.330Z"
   },
   {
    "duration": 14,
    "start_time": "2024-03-31T08:12:34.785Z"
   },
   {
    "duration": 5,
    "start_time": "2024-03-31T08:12:34.801Z"
   },
   {
    "duration": 274,
    "start_time": "2024-03-31T08:12:34.808Z"
   },
   {
    "duration": 222,
    "start_time": "2024-03-31T08:12:35.085Z"
   },
   {
    "duration": 264,
    "start_time": "2024-03-31T08:12:35.309Z"
   },
   {
    "duration": 204,
    "start_time": "2024-03-31T08:12:35.575Z"
   },
   {
    "duration": 217,
    "start_time": "2024-03-31T08:12:35.781Z"
   },
   {
    "duration": 17,
    "start_time": "2024-03-31T08:12:36.000Z"
   },
   {
    "duration": 24,
    "start_time": "2024-03-31T08:12:36.019Z"
   },
   {
    "duration": 232,
    "start_time": "2024-03-31T08:12:36.044Z"
   },
   {
    "duration": 265,
    "start_time": "2024-03-31T08:12:36.281Z"
   },
   {
    "duration": 190,
    "start_time": "2024-03-31T08:12:36.548Z"
   },
   {
    "duration": 438,
    "start_time": "2024-03-31T08:12:36.740Z"
   },
   {
    "duration": 17,
    "start_time": "2024-03-31T08:12:37.180Z"
   },
   {
    "duration": 7,
    "start_time": "2024-03-31T08:12:37.199Z"
   },
   {
    "duration": 2811,
    "start_time": "2024-03-31T08:15:50.434Z"
   },
   {
    "duration": 809,
    "start_time": "2024-03-31T08:16:23.154Z"
   },
   {
    "duration": 711,
    "start_time": "2024-03-31T08:16:32.895Z"
   },
   {
    "duration": 2665,
    "start_time": "2024-03-31T08:16:44.767Z"
   },
   {
    "duration": 2748,
    "start_time": "2024-03-31T08:18:30.531Z"
   },
   {
    "duration": 533,
    "start_time": "2024-03-31T08:18:44.214Z"
   },
   {
    "duration": 473,
    "start_time": "2024-03-31T08:18:55.164Z"
   },
   {
    "duration": 26,
    "start_time": "2024-03-31T08:20:17.087Z"
   },
   {
    "duration": 495,
    "start_time": "2024-03-31T08:30:15.214Z"
   },
   {
    "duration": 451,
    "start_time": "2024-03-31T08:33:35.984Z"
   },
   {
    "duration": 533,
    "start_time": "2024-03-31T08:34:03.430Z"
   },
   {
    "duration": 440,
    "start_time": "2024-03-31T08:37:54.802Z"
   },
   {
    "duration": 452,
    "start_time": "2024-03-31T08:38:06.812Z"
   },
   {
    "duration": 457,
    "start_time": "2024-03-31T08:38:24.399Z"
   },
   {
    "duration": 474,
    "start_time": "2024-03-31T08:40:51.511Z"
   },
   {
    "duration": 490,
    "start_time": "2024-03-31T08:42:10.377Z"
   },
   {
    "duration": 545,
    "start_time": "2024-03-31T08:42:55.601Z"
   },
   {
    "duration": 495,
    "start_time": "2024-03-31T08:43:14.323Z"
   },
   {
    "duration": 519,
    "start_time": "2024-03-31T08:43:36.973Z"
   },
   {
    "duration": 466,
    "start_time": "2024-03-31T08:44:11.090Z"
   },
   {
    "duration": 461,
    "start_time": "2024-03-31T08:44:35.984Z"
   },
   {
    "duration": 564,
    "start_time": "2024-03-31T08:44:52.247Z"
   },
   {
    "duration": 526,
    "start_time": "2024-03-31T08:50:51.016Z"
   },
   {
    "duration": 232,
    "start_time": "2024-03-31T08:52:40.014Z"
   },
   {
    "duration": 111,
    "start_time": "2024-03-31T08:54:40.899Z"
   },
   {
    "duration": 8,
    "start_time": "2024-03-31T08:54:53.418Z"
   },
   {
    "duration": 11,
    "start_time": "2024-03-31T08:55:01.815Z"
   },
   {
    "duration": 273,
    "start_time": "2024-03-31T08:56:31.858Z"
   },
   {
    "duration": 321,
    "start_time": "2024-03-31T08:58:41.671Z"
   },
   {
    "duration": 445,
    "start_time": "2024-03-31T08:58:53.511Z"
   },
   {
    "duration": 373,
    "start_time": "2024-03-31T08:59:59.271Z"
   },
   {
    "duration": 375,
    "start_time": "2024-03-31T09:00:18.179Z"
   },
   {
    "duration": 342,
    "start_time": "2024-03-31T09:00:23.891Z"
   },
   {
    "duration": 389,
    "start_time": "2024-03-31T09:01:10.471Z"
   },
   {
    "duration": 425,
    "start_time": "2024-03-31T09:02:34.582Z"
   },
   {
    "duration": 597,
    "start_time": "2024-03-31T09:03:34.412Z"
   },
   {
    "duration": 387,
    "start_time": "2024-03-31T09:03:59.448Z"
   },
   {
    "duration": 399,
    "start_time": "2024-03-31T09:04:11.767Z"
   },
   {
    "duration": 366,
    "start_time": "2024-03-31T09:05:02.697Z"
   },
   {
    "duration": 411,
    "start_time": "2024-03-31T09:05:12.273Z"
   },
   {
    "duration": 535,
    "start_time": "2024-03-31T09:05:21.792Z"
   },
   {
    "duration": 427,
    "start_time": "2024-03-31T09:05:33.732Z"
   },
   {
    "duration": 398,
    "start_time": "2024-03-31T09:05:48.464Z"
   },
   {
    "duration": 16,
    "start_time": "2024-03-31T10:39:44.916Z"
   },
   {
    "duration": 5,
    "start_time": "2024-03-31T10:40:13.802Z"
   },
   {
    "duration": 8,
    "start_time": "2024-03-31T10:41:22.372Z"
   },
   {
    "duration": 5,
    "start_time": "2024-03-31T10:41:27.859Z"
   },
   {
    "duration": 3,
    "start_time": "2024-03-31T10:41:28.977Z"
   },
   {
    "duration": 13,
    "start_time": "2024-03-31T10:41:34.427Z"
   },
   {
    "duration": 6,
    "start_time": "2024-03-31T10:41:56.924Z"
   },
   {
    "duration": 9,
    "start_time": "2024-03-31T10:43:04.915Z"
   },
   {
    "duration": 5,
    "start_time": "2024-03-31T10:44:17.333Z"
   },
   {
    "duration": 8,
    "start_time": "2024-03-31T10:44:20.035Z"
   },
   {
    "duration": 11,
    "start_time": "2024-03-31T10:45:38.536Z"
   },
   {
    "duration": 8,
    "start_time": "2024-03-31T10:45:43.471Z"
   },
   {
    "duration": 6,
    "start_time": "2024-03-31T10:45:44.543Z"
   },
   {
    "duration": 1127,
    "start_time": "2024-03-31T10:46:52.826Z"
   },
   {
    "duration": 60,
    "start_time": "2024-03-31T10:46:53.955Z"
   },
   {
    "duration": 16,
    "start_time": "2024-03-31T10:46:54.017Z"
   },
   {
    "duration": 30,
    "start_time": "2024-03-31T10:46:54.035Z"
   },
   {
    "duration": 25,
    "start_time": "2024-03-31T10:46:54.067Z"
   },
   {
    "duration": 14,
    "start_time": "2024-03-31T10:46:54.094Z"
   },
   {
    "duration": 14,
    "start_time": "2024-03-31T10:46:54.110Z"
   },
   {
    "duration": 29,
    "start_time": "2024-03-31T10:46:54.126Z"
   },
   {
    "duration": 5,
    "start_time": "2024-03-31T10:46:54.180Z"
   },
   {
    "duration": 23,
    "start_time": "2024-03-31T10:46:54.187Z"
   },
   {
    "duration": 30,
    "start_time": "2024-03-31T10:46:54.212Z"
   },
   {
    "duration": 21,
    "start_time": "2024-03-31T10:46:54.244Z"
   },
   {
    "duration": 40,
    "start_time": "2024-03-31T10:46:54.267Z"
   },
   {
    "duration": 11,
    "start_time": "2024-03-31T10:46:54.310Z"
   },
   {
    "duration": 21,
    "start_time": "2024-03-31T10:46:54.323Z"
   },
   {
    "duration": 25,
    "start_time": "2024-03-31T10:46:54.346Z"
   },
   {
    "duration": 29,
    "start_time": "2024-03-31T10:46:54.373Z"
   },
   {
    "duration": 52,
    "start_time": "2024-03-31T10:46:54.404Z"
   },
   {
    "duration": 4,
    "start_time": "2024-03-31T10:46:54.457Z"
   },
   {
    "duration": 389,
    "start_time": "2024-03-31T10:46:54.462Z"
   },
   {
    "duration": 11,
    "start_time": "2024-03-31T10:46:54.853Z"
   },
   {
    "duration": 4,
    "start_time": "2024-03-31T10:46:54.881Z"
   },
   {
    "duration": 203,
    "start_time": "2024-03-31T10:46:54.886Z"
   },
   {
    "duration": 208,
    "start_time": "2024-03-31T10:46:55.091Z"
   },
   {
    "duration": 212,
    "start_time": "2024-03-31T10:46:55.301Z"
   },
   {
    "duration": 201,
    "start_time": "2024-03-31T10:46:55.514Z"
   },
   {
    "duration": 194,
    "start_time": "2024-03-31T10:46:55.717Z"
   },
   {
    "duration": 19,
    "start_time": "2024-03-31T10:46:55.912Z"
   },
   {
    "duration": 6,
    "start_time": "2024-03-31T10:46:55.932Z"
   },
   {
    "duration": 235,
    "start_time": "2024-03-31T10:46:55.940Z"
   },
   {
    "duration": 278,
    "start_time": "2024-03-31T10:46:56.177Z"
   },
   {
    "duration": 214,
    "start_time": "2024-03-31T10:46:56.457Z"
   },
   {
    "duration": 437,
    "start_time": "2024-03-31T10:46:56.681Z"
   },
   {
    "duration": 14,
    "start_time": "2024-03-31T10:46:57.120Z"
   },
   {
    "duration": 13,
    "start_time": "2024-03-31T10:46:57.136Z"
   },
   {
    "duration": 478,
    "start_time": "2024-03-31T10:46:57.151Z"
   },
   {
    "duration": 375,
    "start_time": "2024-03-31T10:46:57.632Z"
   },
   {
    "duration": 7,
    "start_time": "2024-03-31T10:46:58.009Z"
   },
   {
    "duration": 9,
    "start_time": "2024-03-31T10:46:58.018Z"
   },
   {
    "duration": 113,
    "start_time": "2024-03-31T10:46:58.029Z"
   },
   {
    "duration": 6,
    "start_time": "2024-03-31T10:47:12.878Z"
   },
   {
    "duration": 184,
    "start_time": "2024-03-31T10:49:57.398Z"
   },
   {
    "duration": 185,
    "start_time": "2024-03-31T10:50:04.672Z"
   },
   {
    "duration": 177,
    "start_time": "2024-03-31T10:50:55.626Z"
   },
   {
    "duration": 245,
    "start_time": "2024-03-31T10:51:13.517Z"
   },
   {
    "duration": 184,
    "start_time": "2024-03-31T10:51:28.637Z"
   },
   {
    "duration": 1359,
    "start_time": "2024-03-31T11:17:02.500Z"
   },
   {
    "duration": 101,
    "start_time": "2024-03-31T11:17:20.533Z"
   },
   {
    "duration": 92,
    "start_time": "2024-03-31T11:17:46.298Z"
   },
   {
    "duration": 101,
    "start_time": "2024-03-31T11:19:25.899Z"
   },
   {
    "duration": 10,
    "start_time": "2024-03-31T11:24:53.815Z"
   },
   {
    "duration": 86,
    "start_time": "2024-03-31T11:26:09.255Z"
   },
   {
    "duration": 233,
    "start_time": "2024-03-31T11:26:38.574Z"
   },
   {
    "duration": 234,
    "start_time": "2024-03-31T11:27:55.759Z"
   },
   {
    "duration": 213,
    "start_time": "2024-03-31T11:28:21.939Z"
   },
   {
    "duration": 247,
    "start_time": "2024-03-31T11:28:30.069Z"
   },
   {
    "duration": 227,
    "start_time": "2024-03-31T11:28:57.161Z"
   },
   {
    "duration": 11,
    "start_time": "2024-03-31T11:30:26.964Z"
   },
   {
    "duration": 12,
    "start_time": "2024-03-31T11:30:41.607Z"
   },
   {
    "duration": 12,
    "start_time": "2024-03-31T11:30:50.958Z"
   },
   {
    "duration": 14,
    "start_time": "2024-03-31T11:31:05.984Z"
   },
   {
    "duration": 13,
    "start_time": "2024-03-31T11:34:29.732Z"
   },
   {
    "duration": 222,
    "start_time": "2024-03-31T11:34:34.299Z"
   },
   {
    "duration": 219,
    "start_time": "2024-03-31T11:34:47.723Z"
   },
   {
    "duration": 470,
    "start_time": "2024-03-31T11:46:29.755Z"
   },
   {
    "duration": 39,
    "start_time": "2024-03-31T11:46:49.619Z"
   },
   {
    "duration": 21,
    "start_time": "2024-03-31T11:47:03.656Z"
   },
   {
    "duration": 23,
    "start_time": "2024-03-31T11:49:07.812Z"
   },
   {
    "duration": 19,
    "start_time": "2024-03-31T11:49:13.312Z"
   },
   {
    "duration": 28,
    "start_time": "2024-03-31T11:52:05.985Z"
   },
   {
    "duration": 25,
    "start_time": "2024-03-31T11:52:34.697Z"
   },
   {
    "duration": 20,
    "start_time": "2024-03-31T11:53:15.047Z"
   },
   {
    "duration": 25,
    "start_time": "2024-03-31T11:55:12.289Z"
   },
   {
    "duration": 21,
    "start_time": "2024-03-31T11:56:06.455Z"
   },
   {
    "duration": 22,
    "start_time": "2024-03-31T11:56:16.463Z"
   },
   {
    "duration": 21,
    "start_time": "2024-03-31T12:00:44.623Z"
   },
   {
    "duration": 10,
    "start_time": "2024-03-31T12:07:14.071Z"
   },
   {
    "duration": 10,
    "start_time": "2024-03-31T12:07:20.759Z"
   },
   {
    "duration": 14,
    "start_time": "2024-03-31T12:07:27.231Z"
   },
   {
    "duration": 15,
    "start_time": "2024-03-31T12:07:59.174Z"
   },
   {
    "duration": 14,
    "start_time": "2024-03-31T12:08:23.931Z"
   },
   {
    "duration": 90,
    "start_time": "2024-03-31T12:14:32.924Z"
   },
   {
    "duration": 71,
    "start_time": "2024-03-31T12:14:48.516Z"
   },
   {
    "duration": 77,
    "start_time": "2024-03-31T12:14:59.340Z"
   },
   {
    "duration": 76,
    "start_time": "2024-03-31T12:15:05.815Z"
   },
   {
    "duration": 69,
    "start_time": "2024-03-31T12:15:13.808Z"
   },
   {
    "duration": 70,
    "start_time": "2024-03-31T12:15:19.664Z"
   },
   {
    "duration": 78,
    "start_time": "2024-03-31T12:15:45.411Z"
   },
   {
    "duration": 22,
    "start_time": "2024-03-31T12:15:56.279Z"
   },
   {
    "duration": 16,
    "start_time": "2024-03-31T12:16:25.569Z"
   },
   {
    "duration": 15,
    "start_time": "2024-03-31T12:18:36.089Z"
   },
   {
    "duration": 20,
    "start_time": "2024-03-31T12:20:19.965Z"
   },
   {
    "duration": 3,
    "start_time": "2024-03-31T12:25:31.297Z"
   },
   {
    "duration": 4,
    "start_time": "2024-03-31T12:25:41.477Z"
   },
   {
    "duration": 18,
    "start_time": "2024-03-31T12:26:38.161Z"
   },
   {
    "duration": 19,
    "start_time": "2024-03-31T12:26:47.321Z"
   },
   {
    "duration": 1433,
    "start_time": "2024-03-31T12:27:31.193Z"
   },
   {
    "duration": 4,
    "start_time": "2024-03-31T12:29:32.699Z"
   },
   {
    "duration": 17,
    "start_time": "2024-03-31T12:29:34.114Z"
   },
   {
    "duration": 16,
    "start_time": "2024-03-31T12:29:37.840Z"
   },
   {
    "duration": 11,
    "start_time": "2024-03-31T12:30:16.874Z"
   },
   {
    "duration": 23,
    "start_time": "2024-03-31T12:30:24.730Z"
   },
   {
    "duration": 13,
    "start_time": "2024-03-31T12:32:59.388Z"
   },
   {
    "duration": 6,
    "start_time": "2024-03-31T12:33:02.395Z"
   },
   {
    "duration": 53,
    "start_time": "2024-03-31T12:33:02.418Z"
   },
   {
    "duration": 15,
    "start_time": "2024-03-31T12:33:03.359Z"
   },
   {
    "duration": 16,
    "start_time": "2024-03-31T12:33:03.926Z"
   },
   {
    "duration": 18,
    "start_time": "2024-03-31T12:37:39.775Z"
   },
   {
    "duration": 23,
    "start_time": "2024-03-31T12:57:19.458Z"
   },
   {
    "duration": 23,
    "start_time": "2024-03-31T12:57:22.386Z"
   },
   {
    "duration": 17,
    "start_time": "2024-03-31T12:58:59.404Z"
   },
   {
    "duration": 23,
    "start_time": "2024-03-31T12:59:00.204Z"
   },
   {
    "duration": 26,
    "start_time": "2024-03-31T12:59:01.292Z"
   },
   {
    "duration": 440,
    "start_time": "2024-03-31T13:03:48.749Z"
   },
   {
    "duration": 413,
    "start_time": "2024-03-31T13:03:54.387Z"
   },
   {
    "duration": 613,
    "start_time": "2024-03-31T13:04:29.778Z"
   },
   {
    "duration": 72,
    "start_time": "2024-03-31T13:08:13.621Z"
   },
   {
    "duration": 20,
    "start_time": "2024-03-31T13:08:29.061Z"
   },
   {
    "duration": 11,
    "start_time": "2024-03-31T13:10:05.520Z"
   },
   {
    "duration": 12,
    "start_time": "2024-03-31T13:12:23.483Z"
   },
   {
    "duration": 6,
    "start_time": "2024-03-31T13:12:39.553Z"
   },
   {
    "duration": 12,
    "start_time": "2024-03-31T13:20:04.166Z"
   },
   {
    "duration": 11,
    "start_time": "2024-03-31T13:20:16.849Z"
   },
   {
    "duration": 7,
    "start_time": "2024-03-31T13:26:43.023Z"
   },
   {
    "duration": 4,
    "start_time": "2024-03-31T13:33:44.154Z"
   },
   {
    "duration": 173,
    "start_time": "2024-03-31T13:35:22.592Z"
   },
   {
    "duration": 4,
    "start_time": "2024-03-31T13:36:01.731Z"
   },
   {
    "duration": 194,
    "start_time": "2024-03-31T13:36:05.410Z"
   },
   {
    "duration": 100,
    "start_time": "2024-03-31T13:37:18.005Z"
   },
   {
    "duration": 4,
    "start_time": "2024-03-31T13:37:24.033Z"
   },
   {
    "duration": 17,
    "start_time": "2024-03-31T13:37:26.127Z"
   },
   {
    "duration": 185,
    "start_time": "2024-03-31T13:37:27.596Z"
   },
   {
    "duration": 5,
    "start_time": "2024-03-31T13:37:35.741Z"
   },
   {
    "duration": 181,
    "start_time": "2024-03-31T13:37:39.022Z"
   },
   {
    "duration": 7,
    "start_time": "2024-03-31T13:39:56.981Z"
   },
   {
    "duration": 16,
    "start_time": "2024-03-31T13:39:58.518Z"
   },
   {
    "duration": 186,
    "start_time": "2024-03-31T13:39:59.162Z"
   },
   {
    "duration": 5,
    "start_time": "2024-03-31T13:40:09.811Z"
   },
   {
    "duration": 194,
    "start_time": "2024-03-31T13:40:12.670Z"
   },
   {
    "duration": 223,
    "start_time": "2024-03-31T13:40:59.277Z"
   },
   {
    "duration": 6,
    "start_time": "2024-03-31T13:41:54.049Z"
   },
   {
    "duration": 198,
    "start_time": "2024-03-31T13:41:55.971Z"
   },
   {
    "duration": 6,
    "start_time": "2024-03-31T13:42:14.498Z"
   },
   {
    "duration": 177,
    "start_time": "2024-03-31T13:42:17.497Z"
   },
   {
    "duration": 5,
    "start_time": "2024-03-31T13:42:33.153Z"
   },
   {
    "duration": 285,
    "start_time": "2024-03-31T13:42:35.109Z"
   },
   {
    "duration": 6,
    "start_time": "2024-03-31T13:43:25.160Z"
   },
   {
    "duration": 177,
    "start_time": "2024-03-31T13:43:27.518Z"
   },
   {
    "duration": 21,
    "start_time": "2024-03-31T13:43:27.701Z"
   },
   {
    "duration": 6,
    "start_time": "2024-03-31T13:43:35.174Z"
   },
   {
    "duration": 157,
    "start_time": "2024-03-31T13:43:36.895Z"
   },
   {
    "duration": 164,
    "start_time": "2024-03-31T13:43:42.146Z"
   },
   {
    "duration": 22,
    "start_time": "2024-03-31T13:43:42.313Z"
   },
   {
    "duration": 1453,
    "start_time": "2024-03-31T13:44:43.395Z"
   },
   {
    "duration": 163,
    "start_time": "2024-03-31T13:44:56.215Z"
   },
   {
    "duration": 176,
    "start_time": "2024-03-31T13:46:11.713Z"
   },
   {
    "duration": 164,
    "start_time": "2024-03-31T13:47:01.662Z"
   },
   {
    "duration": 166,
    "start_time": "2024-03-31T13:47:26.152Z"
   },
   {
    "duration": 9,
    "start_time": "2024-03-31T14:37:39.840Z"
   },
   {
    "duration": 36,
    "start_time": "2024-03-31T14:42:38.605Z"
   },
   {
    "duration": 12,
    "start_time": "2024-03-31T14:50:12.644Z"
   },
   {
    "duration": 13,
    "start_time": "2024-03-31T16:14:30.060Z"
   },
   {
    "duration": 7,
    "start_time": "2024-03-31T16:26:01.087Z"
   },
   {
    "duration": 5,
    "start_time": "2024-03-31T16:26:09.173Z"
   },
   {
    "duration": 5,
    "start_time": "2024-03-31T16:33:53.683Z"
   },
   {
    "duration": 1213,
    "start_time": "2024-03-31T16:34:03.686Z"
   },
   {
    "duration": 59,
    "start_time": "2024-03-31T16:34:04.900Z"
   },
   {
    "duration": 16,
    "start_time": "2024-03-31T16:34:04.960Z"
   },
   {
    "duration": 15,
    "start_time": "2024-03-31T16:34:04.977Z"
   },
   {
    "duration": 13,
    "start_time": "2024-03-31T16:34:04.994Z"
   },
   {
    "duration": 12,
    "start_time": "2024-03-31T16:34:05.009Z"
   },
   {
    "duration": 14,
    "start_time": "2024-03-31T16:34:05.022Z"
   },
   {
    "duration": 44,
    "start_time": "2024-03-31T16:34:05.037Z"
   },
   {
    "duration": 5,
    "start_time": "2024-03-31T16:34:05.083Z"
   },
   {
    "duration": 16,
    "start_time": "2024-03-31T16:34:05.090Z"
   },
   {
    "duration": 16,
    "start_time": "2024-03-31T16:34:05.108Z"
   },
   {
    "duration": 24,
    "start_time": "2024-03-31T16:34:05.126Z"
   },
   {
    "duration": 41,
    "start_time": "2024-03-31T16:34:05.153Z"
   },
   {
    "duration": 20,
    "start_time": "2024-03-31T16:34:05.197Z"
   },
   {
    "duration": 12,
    "start_time": "2024-03-31T16:34:05.218Z"
   },
   {
    "duration": 18,
    "start_time": "2024-03-31T16:34:05.231Z"
   },
   {
    "duration": 14,
    "start_time": "2024-03-31T16:34:05.251Z"
   },
   {
    "duration": 23,
    "start_time": "2024-03-31T16:34:05.266Z"
   },
   {
    "duration": 3,
    "start_time": "2024-03-31T16:34:05.291Z"
   },
   {
    "duration": 387,
    "start_time": "2024-03-31T16:34:05.296Z"
   },
   {
    "duration": 11,
    "start_time": "2024-03-31T16:34:05.685Z"
   },
   {
    "duration": 5,
    "start_time": "2024-03-31T16:34:05.698Z"
   },
   {
    "duration": 222,
    "start_time": "2024-03-31T16:34:05.704Z"
   },
   {
    "duration": 224,
    "start_time": "2024-03-31T16:34:05.928Z"
   },
   {
    "duration": 215,
    "start_time": "2024-03-31T16:34:06.154Z"
   },
   {
    "duration": 202,
    "start_time": "2024-03-31T16:34:06.371Z"
   },
   {
    "duration": 202,
    "start_time": "2024-03-31T16:34:06.575Z"
   },
   {
    "duration": 16,
    "start_time": "2024-03-31T16:34:06.782Z"
   },
   {
    "duration": 17,
    "start_time": "2024-03-31T16:34:06.800Z"
   },
   {
    "duration": 202,
    "start_time": "2024-03-31T16:34:06.819Z"
   },
   {
    "duration": 274,
    "start_time": "2024-03-31T16:34:07.022Z"
   },
   {
    "duration": 184,
    "start_time": "2024-03-31T16:34:07.298Z"
   },
   {
    "duration": 425,
    "start_time": "2024-03-31T16:34:07.485Z"
   },
   {
    "duration": 18,
    "start_time": "2024-03-31T16:34:07.912Z"
   },
   {
    "duration": 10,
    "start_time": "2024-03-31T16:34:07.932Z"
   },
   {
    "duration": 464,
    "start_time": "2024-03-31T16:34:07.943Z"
   },
   {
    "duration": 365,
    "start_time": "2024-03-31T16:34:08.408Z"
   },
   {
    "duration": 10,
    "start_time": "2024-03-31T16:34:08.774Z"
   },
   {
    "duration": 89,
    "start_time": "2024-03-31T16:34:08.786Z"
   },
   {
    "duration": 78,
    "start_time": "2024-03-31T16:34:08.877Z"
   },
   {
    "duration": 201,
    "start_time": "2024-03-31T16:34:08.959Z"
   },
   {
    "duration": 185,
    "start_time": "2024-03-31T16:34:09.161Z"
   },
   {
    "duration": 98,
    "start_time": "2024-03-31T16:34:09.348Z"
   },
   {
    "duration": 9,
    "start_time": "2024-03-31T16:34:09.447Z"
   },
   {
    "duration": 254,
    "start_time": "2024-03-31T16:34:09.457Z"
   },
   {
    "duration": 9,
    "start_time": "2024-03-31T16:34:09.713Z"
   },
   {
    "duration": 318,
    "start_time": "2024-03-31T16:34:09.724Z"
   },
   {
    "duration": 23,
    "start_time": "2024-03-31T16:34:10.044Z"
   },
   {
    "duration": 14,
    "start_time": "2024-03-31T16:34:10.068Z"
   },
   {
    "duration": 22,
    "start_time": "2024-03-31T16:34:10.084Z"
   },
   {
    "duration": 46,
    "start_time": "2024-03-31T16:34:10.108Z"
   },
   {
    "duration": 168,
    "start_time": "2024-03-31T16:34:10.155Z"
   },
   {
    "duration": 15,
    "start_time": "2024-03-31T16:34:10.325Z"
   },
   {
    "duration": 147,
    "start_time": "2024-03-31T16:34:10.342Z"
   },
   {
    "duration": 17,
    "start_time": "2024-03-31T16:34:10.490Z"
   },
   {
    "duration": 14,
    "start_time": "2024-03-31T16:34:10.508Z"
   },
   {
    "duration": 178,
    "start_time": "2024-03-31T16:34:10.524Z"
   },
   {
    "duration": 16,
    "start_time": "2024-03-31T16:34:10.704Z"
   },
   {
    "duration": 166,
    "start_time": "2024-03-31T16:34:10.722Z"
   },
   {
    "duration": 18,
    "start_time": "2024-03-31T16:34:10.890Z"
   },
   {
    "duration": 17,
    "start_time": "2024-03-31T16:34:10.910Z"
   },
   {
    "duration": 181,
    "start_time": "2024-03-31T16:34:10.929Z"
   },
   {
    "duration": 19,
    "start_time": "2024-03-31T16:34:11.112Z"
   },
   {
    "duration": 169,
    "start_time": "2024-03-31T16:34:11.133Z"
   },
   {
    "duration": 18,
    "start_time": "2024-03-31T16:34:11.304Z"
   },
   {
    "duration": 9,
    "start_time": "2024-03-31T16:34:11.323Z"
   },
   {
    "duration": 7,
    "start_time": "2024-03-31T16:34:11.333Z"
   },
   {
    "duration": 9,
    "start_time": "2024-03-31T16:34:11.342Z"
   },
   {
    "duration": 32,
    "start_time": "2024-03-31T16:34:11.352Z"
   },
   {
    "duration": 1136,
    "start_time": "2024-03-31T17:38:58.098Z"
   },
   {
    "duration": 59,
    "start_time": "2024-03-31T17:38:59.236Z"
   },
   {
    "duration": 14,
    "start_time": "2024-03-31T17:38:59.297Z"
   },
   {
    "duration": 13,
    "start_time": "2024-03-31T17:38:59.312Z"
   },
   {
    "duration": 13,
    "start_time": "2024-03-31T17:38:59.327Z"
   },
   {
    "duration": 12,
    "start_time": "2024-03-31T17:38:59.341Z"
   },
   {
    "duration": 14,
    "start_time": "2024-03-31T17:38:59.354Z"
   },
   {
    "duration": 14,
    "start_time": "2024-03-31T17:38:59.369Z"
   },
   {
    "duration": 4,
    "start_time": "2024-03-31T17:38:59.384Z"
   },
   {
    "duration": 15,
    "start_time": "2024-03-31T17:38:59.389Z"
   },
   {
    "duration": 26,
    "start_time": "2024-03-31T17:38:59.406Z"
   },
   {
    "duration": 16,
    "start_time": "2024-03-31T17:38:59.445Z"
   },
   {
    "duration": 21,
    "start_time": "2024-03-31T17:38:59.463Z"
   },
   {
    "duration": 10,
    "start_time": "2024-03-31T17:38:59.487Z"
   },
   {
    "duration": 12,
    "start_time": "2024-03-31T17:38:59.498Z"
   },
   {
    "duration": 34,
    "start_time": "2024-03-31T17:38:59.511Z"
   },
   {
    "duration": 8,
    "start_time": "2024-03-31T17:38:59.546Z"
   },
   {
    "duration": 22,
    "start_time": "2024-03-31T17:38:59.556Z"
   },
   {
    "duration": 3,
    "start_time": "2024-03-31T17:38:59.580Z"
   },
   {
    "duration": 556,
    "start_time": "2024-03-31T17:38:59.584Z"
   },
   {
    "duration": 13,
    "start_time": "2024-03-31T17:39:00.145Z"
   },
   {
    "duration": 37,
    "start_time": "2024-03-31T17:39:00.159Z"
   },
   {
    "duration": 389,
    "start_time": "2024-03-31T17:39:00.197Z"
   },
   {
    "duration": 335,
    "start_time": "2024-03-31T17:39:00.588Z"
   },
   {
    "duration": 371,
    "start_time": "2024-03-31T17:39:00.925Z"
   },
   {
    "duration": 349,
    "start_time": "2024-03-31T17:39:01.297Z"
   },
   {
    "duration": 340,
    "start_time": "2024-03-31T17:39:01.647Z"
   },
   {
    "duration": 14,
    "start_time": "2024-03-31T17:39:01.989Z"
   },
   {
    "duration": 32,
    "start_time": "2024-03-31T17:39:02.005Z"
   },
   {
    "duration": 349,
    "start_time": "2024-03-31T17:39:02.039Z"
   },
   {
    "duration": 315,
    "start_time": "2024-03-31T17:39:02.390Z"
   },
   {
    "duration": 373,
    "start_time": "2024-03-31T17:39:02.706Z"
   },
   {
    "duration": 586,
    "start_time": "2024-03-31T17:39:03.080Z"
   },
   {
    "duration": 12,
    "start_time": "2024-03-31T17:39:03.668Z"
   },
   {
    "duration": 10,
    "start_time": "2024-03-31T17:39:03.681Z"
   },
   {
    "duration": 557,
    "start_time": "2024-03-31T17:39:03.692Z"
   },
   {
    "duration": 495,
    "start_time": "2024-03-31T17:39:04.250Z"
   },
   {
    "duration": 6,
    "start_time": "2024-03-31T17:39:04.746Z"
   },
   {
    "duration": 7,
    "start_time": "2024-03-31T17:39:04.753Z"
   },
   {
    "duration": 5,
    "start_time": "2024-03-31T17:39:04.761Z"
   },
   {
    "duration": 331,
    "start_time": "2024-03-31T17:39:04.770Z"
   },
   {
    "duration": 337,
    "start_time": "2024-03-31T17:39:05.103Z"
   },
   {
    "duration": 87,
    "start_time": "2024-03-31T17:39:05.444Z"
   },
   {
    "duration": 20,
    "start_time": "2024-03-31T17:39:05.532Z"
   },
   {
    "duration": 366,
    "start_time": "2024-03-31T17:39:05.553Z"
   },
   {
    "duration": 10,
    "start_time": "2024-03-31T17:39:05.920Z"
   },
   {
    "duration": 391,
    "start_time": "2024-03-31T17:39:05.931Z"
   },
   {
    "duration": 29,
    "start_time": "2024-03-31T17:39:06.325Z"
   },
   {
    "duration": 4,
    "start_time": "2024-03-31T17:39:06.356Z"
   },
   {
    "duration": 5,
    "start_time": "2024-03-31T17:39:06.362Z"
   },
   {
    "duration": 17,
    "start_time": "2024-03-31T17:39:06.369Z"
   },
   {
    "duration": 259,
    "start_time": "2024-03-31T17:39:06.388Z"
   },
   {
    "duration": 15,
    "start_time": "2024-03-31T17:39:06.649Z"
   },
   {
    "duration": 258,
    "start_time": "2024-03-31T17:39:06.666Z"
   },
   {
    "duration": 24,
    "start_time": "2024-03-31T17:39:06.926Z"
   },
   {
    "duration": 15,
    "start_time": "2024-03-31T17:39:06.951Z"
   },
   {
    "duration": 269,
    "start_time": "2024-03-31T17:39:06.968Z"
   },
   {
    "duration": 20,
    "start_time": "2024-03-31T17:39:07.239Z"
   },
   {
    "duration": 292,
    "start_time": "2024-03-31T17:39:07.260Z"
   },
   {
    "duration": 15,
    "start_time": "2024-03-31T17:39:07.554Z"
   },
   {
    "duration": 13,
    "start_time": "2024-03-31T17:39:07.571Z"
   },
   {
    "duration": 252,
    "start_time": "2024-03-31T17:39:07.586Z"
   },
   {
    "duration": 23,
    "start_time": "2024-03-31T17:39:07.844Z"
   },
   {
    "duration": 276,
    "start_time": "2024-03-31T17:39:07.869Z"
   },
   {
    "duration": 16,
    "start_time": "2024-03-31T17:39:08.146Z"
   },
   {
    "duration": 8,
    "start_time": "2024-03-31T17:39:08.163Z"
   },
   {
    "duration": 5,
    "start_time": "2024-03-31T17:39:08.172Z"
   },
   {
    "duration": 13,
    "start_time": "2024-03-31T17:39:08.178Z"
   },
   {
    "duration": 4,
    "start_time": "2024-03-31T17:39:08.192Z"
   },
   {
    "duration": 54,
    "start_time": "2024-03-31T18:23:23.308Z"
   },
   {
    "duration": 1258,
    "start_time": "2024-03-31T18:23:30.152Z"
   },
   {
    "duration": 60,
    "start_time": "2024-03-31T18:23:32.144Z"
   },
   {
    "duration": 59,
    "start_time": "2024-03-31T18:24:29.636Z"
   },
   {
    "duration": 25,
    "start_time": "2024-03-31T18:24:36.725Z"
   },
   {
    "duration": 24,
    "start_time": "2024-03-31T18:24:37.612Z"
   },
   {
    "duration": 14,
    "start_time": "2024-03-31T18:24:50.053Z"
   },
   {
    "duration": 13,
    "start_time": "2024-03-31T18:24:59.385Z"
   },
   {
    "duration": 15,
    "start_time": "2024-03-31T18:25:01.168Z"
   },
   {
    "duration": 20,
    "start_time": "2024-03-31T18:25:04.202Z"
   },
   {
    "duration": 5,
    "start_time": "2024-03-31T18:25:04.993Z"
   },
   {
    "duration": 14,
    "start_time": "2024-03-31T18:25:05.534Z"
   },
   {
    "duration": 17,
    "start_time": "2024-03-31T18:25:07.441Z"
   },
   {
    "duration": 19,
    "start_time": "2024-03-31T18:25:08.153Z"
   },
   {
    "duration": 17,
    "start_time": "2024-03-31T18:25:09.738Z"
   },
   {
    "duration": 11,
    "start_time": "2024-03-31T18:27:42.568Z"
   },
   {
    "duration": 7,
    "start_time": "2024-03-31T18:27:42.637Z"
   },
   {
    "duration": 8,
    "start_time": "2024-03-31T18:28:07.252Z"
   },
   {
    "duration": 9,
    "start_time": "2024-03-31T18:28:16.918Z"
   },
   {
    "duration": 18,
    "start_time": "2024-03-31T18:28:17.982Z"
   },
   {
    "duration": 6,
    "start_time": "2024-03-31T18:28:21.613Z"
   },
   {
    "duration": 10,
    "start_time": "2024-03-31T18:32:41.328Z"
   },
   {
    "duration": 22,
    "start_time": "2024-03-31T18:32:53.088Z"
   },
   {
    "duration": 18,
    "start_time": "2024-03-31T18:33:28.678Z"
   },
   {
    "duration": 18,
    "start_time": "2024-03-31T18:33:34.710Z"
   },
   {
    "duration": 13,
    "start_time": "2024-03-31T18:34:12.751Z"
   },
   {
    "duration": 19,
    "start_time": "2024-03-31T18:34:19.497Z"
   },
   {
    "duration": 20,
    "start_time": "2024-03-31T18:36:20.881Z"
   },
   {
    "duration": 15,
    "start_time": "2024-03-31T18:39:02.989Z"
   },
   {
    "duration": 16,
    "start_time": "2024-03-31T18:41:09.628Z"
   },
   {
    "duration": 21,
    "start_time": "2024-03-31T18:42:11.641Z"
   },
   {
    "duration": 15,
    "start_time": "2024-03-31T18:42:11.680Z"
   },
   {
    "duration": 15,
    "start_time": "2024-03-31T18:53:12.345Z"
   },
   {
    "duration": 23,
    "start_time": "2024-03-31T19:10:54.666Z"
   },
   {
    "duration": 3,
    "start_time": "2024-03-31T19:12:23.640Z"
   },
   {
    "duration": 12,
    "start_time": "2024-03-31T19:38:52.396Z"
   },
   {
    "duration": 5,
    "start_time": "2024-03-31T19:39:35.733Z"
   },
   {
    "duration": 5,
    "start_time": "2024-03-31T19:40:00.172Z"
   },
   {
    "duration": 4,
    "start_time": "2024-03-31T19:40:10.557Z"
   },
   {
    "duration": 4,
    "start_time": "2024-03-31T19:40:29.663Z"
   },
   {
    "duration": 355,
    "start_time": "2024-03-31T19:41:36.879Z"
   },
   {
    "duration": 4,
    "start_time": "2024-03-31T19:42:15.139Z"
   },
   {
    "duration": 1434,
    "start_time": "2024-03-31T19:42:16.407Z"
   },
   {
    "duration": 15,
    "start_time": "2024-03-31T19:43:16.341Z"
   },
   {
    "duration": 3,
    "start_time": "2024-03-31T19:43:19.938Z"
   },
   {
    "duration": 422,
    "start_time": "2024-03-31T19:43:36.452Z"
   },
   {
    "duration": 14,
    "start_time": "2024-03-31T19:43:45.983Z"
   },
   {
    "duration": 5,
    "start_time": "2024-03-31T19:54:06.696Z"
   },
   {
    "duration": 448,
    "start_time": "2024-03-31T19:54:08.930Z"
   },
   {
    "duration": 6,
    "start_time": "2024-03-31T20:00:20.688Z"
   },
   {
    "duration": 412,
    "start_time": "2024-03-31T20:00:39.687Z"
   },
   {
    "duration": 437,
    "start_time": "2024-03-31T20:00:48.634Z"
   },
   {
    "duration": 402,
    "start_time": "2024-03-31T20:01:26.449Z"
   },
   {
    "duration": 561,
    "start_time": "2024-03-31T20:09:30.678Z"
   },
   {
    "duration": 426,
    "start_time": "2024-03-31T20:09:51.080Z"
   },
   {
    "duration": 448,
    "start_time": "2024-03-31T20:10:24.558Z"
   },
   {
    "duration": 439,
    "start_time": "2024-03-31T20:10:32.147Z"
   },
   {
    "duration": 328,
    "start_time": "2024-03-31T20:11:27.156Z"
   },
   {
    "duration": 395,
    "start_time": "2024-03-31T20:12:22.861Z"
   },
   {
    "duration": 331,
    "start_time": "2024-03-31T20:12:41.681Z"
   },
   {
    "duration": 343,
    "start_time": "2024-03-31T20:12:48.121Z"
   },
   {
    "duration": 5,
    "start_time": "2024-03-31T20:14:24.170Z"
   },
   {
    "duration": 7,
    "start_time": "2024-03-31T20:14:26.403Z"
   },
   {
    "duration": 7,
    "start_time": "2024-03-31T20:33:33.528Z"
   },
   {
    "duration": 8,
    "start_time": "2024-03-31T20:33:54.284Z"
   },
   {
    "duration": 7,
    "start_time": "2024-03-31T20:34:30.689Z"
   },
   {
    "duration": 7,
    "start_time": "2024-03-31T20:35:10.995Z"
   },
   {
    "duration": 210,
    "start_time": "2024-03-31T20:35:11.024Z"
   },
   {
    "duration": 5,
    "start_time": "2024-03-31T20:35:23.772Z"
   },
   {
    "duration": 198,
    "start_time": "2024-03-31T20:41:02.090Z"
   },
   {
    "duration": 66,
    "start_time": "2024-03-31T20:45:24.324Z"
   },
   {
    "duration": 8,
    "start_time": "2024-03-31T20:46:03.238Z"
   },
   {
    "duration": 209,
    "start_time": "2024-03-31T20:46:12.940Z"
   },
   {
    "duration": 8,
    "start_time": "2024-03-31T20:46:13.151Z"
   },
   {
    "duration": 207,
    "start_time": "2024-03-31T20:46:15.721Z"
   },
   {
    "duration": 24,
    "start_time": "2024-03-31T20:46:19.205Z"
   },
   {
    "duration": 4,
    "start_time": "2024-03-31T20:49:36.580Z"
   },
   {
    "duration": 4,
    "start_time": "2024-03-31T20:49:37.380Z"
   },
   {
    "duration": 17,
    "start_time": "2024-03-31T20:49:38.878Z"
   },
   {
    "duration": 144,
    "start_time": "2024-03-31T20:49:39.673Z"
   },
   {
    "duration": 17,
    "start_time": "2024-03-31T20:49:42.828Z"
   },
   {
    "duration": 162,
    "start_time": "2024-03-31T20:49:43.574Z"
   },
   {
    "duration": 17,
    "start_time": "2024-03-31T20:50:10.112Z"
   },
   {
    "duration": 17,
    "start_time": "2024-03-31T20:50:23.147Z"
   },
   {
    "duration": 5,
    "start_time": "2024-03-31T20:52:39.175Z"
   },
   {
    "duration": 460,
    "start_time": "2024-03-31T20:52:47.514Z"
   },
   {
    "duration": 383,
    "start_time": "2024-03-31T20:52:52.865Z"
   },
   {
    "duration": 299,
    "start_time": "2024-03-31T20:53:06.645Z"
   },
   {
    "duration": 289,
    "start_time": "2024-03-31T20:53:10.318Z"
   },
   {
    "duration": 306,
    "start_time": "2024-03-31T20:53:20.813Z"
   },
   {
    "duration": 382,
    "start_time": "2024-03-31T20:53:26.983Z"
   },
   {
    "duration": 7,
    "start_time": "2024-03-31T20:53:43.525Z"
   },
   {
    "duration": 6,
    "start_time": "2024-03-31T20:53:46.643Z"
   },
   {
    "duration": 6,
    "start_time": "2024-03-31T20:53:46.675Z"
   },
   {
    "duration": 6,
    "start_time": "2024-03-31T20:53:54.760Z"
   },
   {
    "duration": 6,
    "start_time": "2024-03-31T20:53:56.757Z"
   },
   {
    "duration": 182,
    "start_time": "2024-03-31T20:54:00.800Z"
   },
   {
    "duration": 184,
    "start_time": "2024-03-31T20:54:03.665Z"
   },
   {
    "duration": 57,
    "start_time": "2024-03-31T20:54:10.249Z"
   },
   {
    "duration": 8,
    "start_time": "2024-03-31T20:54:24.247Z"
   },
   {
    "duration": 211,
    "start_time": "2024-03-31T20:54:24.280Z"
   },
   {
    "duration": 9,
    "start_time": "2024-03-31T20:54:29.156Z"
   },
   {
    "duration": 214,
    "start_time": "2024-03-31T20:54:32.311Z"
   },
   {
    "duration": 23,
    "start_time": "2024-03-31T20:54:35.696Z"
   },
   {
    "duration": 4,
    "start_time": "2024-03-31T20:54:48.033Z"
   },
   {
    "duration": 4,
    "start_time": "2024-03-31T20:54:50.033Z"
   },
   {
    "duration": 16,
    "start_time": "2024-03-31T20:54:51.745Z"
   },
   {
    "duration": 149,
    "start_time": "2024-03-31T20:55:35.302Z"
   },
   {
    "duration": 16,
    "start_time": "2024-03-31T20:55:35.454Z"
   },
   {
    "duration": 19,
    "start_time": "2024-03-31T20:57:12.195Z"
   },
   {
    "duration": 16,
    "start_time": "2024-03-31T20:59:32.328Z"
   },
   {
    "duration": 170,
    "start_time": "2024-03-31T20:59:32.983Z"
   },
   {
    "duration": 17,
    "start_time": "2024-03-31T20:59:33.748Z"
   },
   {
    "duration": 157,
    "start_time": "2024-03-31T20:59:34.554Z"
   },
   {
    "duration": 18,
    "start_time": "2024-03-31T20:59:35.481Z"
   },
   {
    "duration": 17,
    "start_time": "2024-03-31T21:08:11.383Z"
   },
   {
    "duration": 141,
    "start_time": "2024-03-31T21:08:13.030Z"
   },
   {
    "duration": 17,
    "start_time": "2024-03-31T21:08:13.895Z"
   },
   {
    "duration": 156,
    "start_time": "2024-03-31T21:08:16.466Z"
   },
   {
    "duration": 17,
    "start_time": "2024-03-31T21:08:21.150Z"
   },
   {
    "duration": 9,
    "start_time": "2024-03-31T21:16:35.192Z"
   },
   {
    "duration": 5,
    "start_time": "2024-03-31T21:16:50.947Z"
   },
   {
    "duration": 1241,
    "start_time": "2024-03-31T21:30:21.268Z"
   },
   {
    "duration": 60,
    "start_time": "2024-03-31T21:30:22.512Z"
   },
   {
    "duration": 17,
    "start_time": "2024-03-31T21:30:22.573Z"
   },
   {
    "duration": 26,
    "start_time": "2024-03-31T21:30:22.592Z"
   },
   {
    "duration": 14,
    "start_time": "2024-03-31T21:30:22.620Z"
   },
   {
    "duration": 26,
    "start_time": "2024-03-31T21:30:22.636Z"
   },
   {
    "duration": 37,
    "start_time": "2024-03-31T21:30:22.664Z"
   },
   {
    "duration": 32,
    "start_time": "2024-03-31T21:30:22.703Z"
   },
   {
    "duration": 27,
    "start_time": "2024-03-31T21:30:22.736Z"
   },
   {
    "duration": 34,
    "start_time": "2024-03-31T21:30:22.766Z"
   },
   {
    "duration": 27,
    "start_time": "2024-03-31T21:30:22.801Z"
   },
   {
    "duration": 26,
    "start_time": "2024-03-31T21:30:22.829Z"
   },
   {
    "duration": 19,
    "start_time": "2024-03-31T21:30:22.856Z"
   },
   {
    "duration": 17,
    "start_time": "2024-03-31T21:30:22.876Z"
   },
   {
    "duration": 18,
    "start_time": "2024-03-31T21:30:22.894Z"
   },
   {
    "duration": 13,
    "start_time": "2024-03-31T21:30:22.914Z"
   },
   {
    "duration": 24,
    "start_time": "2024-03-31T21:30:22.928Z"
   },
   {
    "duration": 44,
    "start_time": "2024-03-31T21:30:22.954Z"
   },
   {
    "duration": 13,
    "start_time": "2024-03-31T21:30:23.000Z"
   },
   {
    "duration": 23,
    "start_time": "2024-03-31T21:30:23.014Z"
   },
   {
    "duration": 20,
    "start_time": "2024-03-31T21:30:23.039Z"
   },
   {
    "duration": 35,
    "start_time": "2024-03-31T21:30:23.060Z"
   },
   {
    "duration": 47,
    "start_time": "2024-03-31T21:30:23.097Z"
   },
   {
    "duration": 27,
    "start_time": "2024-03-31T21:30:23.146Z"
   },
   {
    "duration": 4,
    "start_time": "2024-03-31T21:30:23.174Z"
   },
   {
    "duration": 358,
    "start_time": "2024-03-31T21:30:23.180Z"
   },
   {
    "duration": 12,
    "start_time": "2024-03-31T21:30:23.539Z"
   },
   {
    "duration": 16,
    "start_time": "2024-03-31T21:30:23.555Z"
   },
   {
    "duration": 1431,
    "start_time": "2024-03-31T21:30:23.572Z"
   },
   {
    "duration": 15,
    "start_time": "2024-03-31T21:30:25.004Z"
   },
   {
    "duration": 16,
    "start_time": "2024-03-31T21:30:25.021Z"
   },
   {
    "duration": 432,
    "start_time": "2024-03-31T21:30:25.038Z"
   },
   {
    "duration": 17,
    "start_time": "2024-03-31T21:30:25.473Z"
   },
   {
    "duration": 4,
    "start_time": "2024-03-31T21:30:25.492Z"
   },
   {
    "duration": 408,
    "start_time": "2024-03-31T21:30:25.498Z"
   },
   {
    "duration": 319,
    "start_time": "2024-03-31T21:30:25.908Z"
   },
   {
    "duration": 299,
    "start_time": "2024-03-31T21:30:26.229Z"
   },
   {
    "duration": 5,
    "start_time": "2024-03-31T21:30:26.530Z"
   },
   {
    "duration": 11,
    "start_time": "2024-03-31T21:30:26.537Z"
   },
   {
    "duration": 16,
    "start_time": "2024-03-31T21:30:26.549Z"
   },
   {
    "duration": 15,
    "start_time": "2024-03-31T21:30:26.567Z"
   },
   {
    "duration": 10,
    "start_time": "2024-03-31T21:30:26.583Z"
   },
   {
    "duration": 188,
    "start_time": "2024-03-31T21:30:26.595Z"
   },
   {
    "duration": 197,
    "start_time": "2024-03-31T21:30:26.784Z"
   },
   {
    "duration": 152,
    "start_time": "2024-03-31T21:30:26.982Z"
   },
   {
    "duration": 8,
    "start_time": "2024-03-31T21:30:27.136Z"
   },
   {
    "duration": 229,
    "start_time": "2024-03-31T21:30:27.145Z"
   },
   {
    "duration": 13,
    "start_time": "2024-03-31T21:30:27.375Z"
   },
   {
    "duration": 227,
    "start_time": "2024-03-31T21:30:27.389Z"
   },
   {
    "duration": 24,
    "start_time": "2024-03-31T21:30:27.618Z"
   },
   {
    "duration": 4,
    "start_time": "2024-03-31T21:30:27.643Z"
   },
   {
    "duration": 7,
    "start_time": "2024-03-31T21:30:27.648Z"
   },
   {
    "duration": 38,
    "start_time": "2024-03-31T21:30:27.657Z"
   },
   {
    "duration": 154,
    "start_time": "2024-03-31T21:30:27.696Z"
   },
   {
    "duration": 16,
    "start_time": "2024-03-31T21:30:27.851Z"
   },
   {
    "duration": 178,
    "start_time": "2024-03-31T21:30:27.869Z"
   },
   {
    "duration": 17,
    "start_time": "2024-03-31T21:30:28.048Z"
   },
   {
    "duration": 31,
    "start_time": "2024-03-31T21:30:28.066Z"
   },
   {
    "duration": 164,
    "start_time": "2024-03-31T21:30:28.098Z"
   },
   {
    "duration": 19,
    "start_time": "2024-03-31T21:30:28.264Z"
   },
   {
    "duration": 172,
    "start_time": "2024-03-31T21:30:28.285Z"
   },
   {
    "duration": 24,
    "start_time": "2024-03-31T21:30:28.459Z"
   },
   {
    "duration": 16,
    "start_time": "2024-03-31T21:30:28.484Z"
   },
   {
    "duration": 156,
    "start_time": "2024-03-31T21:30:28.502Z"
   },
   {
    "duration": 22,
    "start_time": "2024-03-31T21:30:28.660Z"
   },
   {
    "duration": 156,
    "start_time": "2024-03-31T21:30:28.683Z"
   },
   {
    "duration": 19,
    "start_time": "2024-03-31T21:30:28.841Z"
   },
   {
    "duration": 23,
    "start_time": "2024-03-31T21:30:28.861Z"
   },
   {
    "duration": 5,
    "start_time": "2024-03-31T21:30:28.885Z"
   },
   {
    "duration": 9,
    "start_time": "2024-03-31T21:30:28.892Z"
   },
   {
    "duration": 7,
    "start_time": "2024-03-31T21:30:28.903Z"
   }
  ],
  "kernelspec": {
   "display_name": "Python 3 (ipykernel)",
   "language": "python",
   "name": "python3"
  },
  "language_info": {
   "codemirror_mode": {
    "name": "ipython",
    "version": 3
   },
   "file_extension": ".py",
   "mimetype": "text/x-python",
   "name": "python",
   "nbconvert_exporter": "python",
   "pygments_lexer": "ipython3",
   "version": "3.9.5"
  },
  "toc": {
   "base_numbering": 1,
   "nav_menu": {},
   "number_sections": true,
   "sideBar": true,
   "skip_h1_title": true,
   "title_cell": "Table of Contents",
   "title_sidebar": "Contents",
   "toc_cell": false,
   "toc_position": {
    "height": "calc(100% - 180px)",
    "left": "10px",
    "top": "150px",
    "width": "384px"
   },
   "toc_section_display": true,
   "toc_window_display": true
  }
 },
 "nbformat": 4,
 "nbformat_minor": 2
}
