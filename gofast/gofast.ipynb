{
 "cells": [
  {
   "cell_type": "markdown",
   "id": "d2e4ebbe",
   "metadata": {},
   "source": [
    "# Анализ данных сервиса аренды самокатов GoFast\n",
    "\n",
    "План работ:\n",
    "\n",
    "1. Загрузка данных \n",
    "    - Импорт CSV-файлов с данными с помощью библиотеки pandas. \n",
    "    - Изучить общую информацию о каждом датафрейме.\n",
    "2. Предобработка данных\n",
    "    - Привести столбец date к типу даты pandas.\n",
    "    - Создать новый столбец с номером месяца на основе столбца date.\n",
    "    - Проверить наличие пропущенных значений и дубликатов в датафреймах. \n",
    "    - Обработать пропуски и дубликаты.\n",
    "3. Описать и визуализировать общую информацию о пользователях и поездках:\n",
    "    - частота встречаемости городов;\n",
    "    - соотношение пользователей с подпиской и без подписки;\n",
    "    - возраст пользователей;\n",
    "    - расстояние, которое пользователь преодолел за одну поездку;\n",
    "    - продолжительность поездок.\n",
    "4. Объединить данные\n",
    "    - Объединить данные о пользователях, поездках и подписках в один датафрейм. \n",
    "    - Создать ещё два датафрейма из датафрейма:\n",
    "        - c данными о пользователях без подписки;\n",
    "        - с данными о пользователях с подпиской.\n",
    "    - Визуализировать информацию о расстоянии и времени поездок для пользователей обеих категорий.\n",
    "5. Подсчитать выручку\n",
    "    - Создать датафрейм с агрегированными данными о поездках на основе датафрейма с объединёнными данными: найдите суммарное расстояние, количество поездок и суммарное время для каждого пользователя за каждый месяц.\n",
    "    - Добавить столбец с помесячной выручкой, которую принёс каждый пользователь. \n",
    "6. Проверить гипотезы\n",
    "    - Тратят ли пользователи с подпиской больше времени на поездки? \n",
    "    - Можно ли сказать, что среднее расстояние, которое проезжают пользователи с подпиской за одну поездку, не превышает 3130 метров?\n",
    "    - Будет ли помесячная выручка от пользователей с подпиской по месяцам выше, чем выручка от пользователей без подписки.\n",
    "    - Техническая команда сервиса обновила сервера, с которыми взаимодействует мобильное приложение. Она надеется, что из-за этого количество обращений в техподдержку значимо снизилось. Некоторый файл содержит для каждого пользователя данные о количестве обращений до обновления и после него. Какой тест вам понадобился бы для проверки этой гипотезы?\n",
    "    \n",
    "7. Построить распределения\n",
    "    - Отделу маркетинга GoFast поставили задачу: нужно провести акцию с раздачей промокодов на один бесплатный месяц подписки, в рамках которой как минимум 100 существующих клиентов должны продлить эту подписку. То есть по завершении периода действия подписки пользователь может либо отказаться от неё, либо продлить, совершив соответствующий платёж. Эта акция уже проводилась ранее и по итогу выяснилось, что после бесплатного пробного периода подписку продлевают 10 % пользователей. \n",
    "        - Выяснить, какое минимальное количество промокодов нужно разослать, чтобы вероятность не выполнить план была примерно 5 %. \n",
    "        - Подобрать параметры распределения, описывающего эту ситуацию, построить график распределения\n",
    "    - Отдел маркетинга рассылает клиентам push-уведомления в мобильном приложении. Клиенты могут открыть его или не открывать. Известно, что уведомления открывают около 40 % получивших клиентов. Отдел планирует разослать 1 млн уведомлений. \n",
    "        - Построить примерный график распределения\n",
    "        - Оцените вероятность того, что уведомление откроют не более 399,5 тыс. пользователей.\n",
    "8. Общий вывод"
   ]
  },
  {
   "cell_type": "markdown",
   "id": "c42cbe00",
   "metadata": {},
   "source": [
    "#### Загрузка данных"
   ]
  },
  {
   "cell_type": "code",
   "execution_count": 1,
   "id": "72576667",
   "metadata": {},
   "outputs": [],
   "source": [
    "import pandas as pd\n",
    "import numpy as np\n",
    "import matplotlib.pyplot as plt\n",
    "from math import sqrt\n",
    "from scipy import stats as st"
   ]
  },
  {
   "cell_type": "code",
   "execution_count": 2,
   "id": "eff9f206",
   "metadata": {},
   "outputs": [],
   "source": [
    "users_df = pd.read_csv('/datasets/users_go.csv')\n",
    "rides_df = pd.read_csv('/datasets/rides_go.csv')\n",
    "subscriptions_df = pd.read_csv('/datasets/subscriptions_go.csv')"
   ]
  },
  {
   "cell_type": "code",
   "execution_count": 3,
   "id": "8cdbb29d",
   "metadata": {},
   "outputs": [
    {
     "data": {
      "text/html": [
       "<div>\n",
       "<style scoped>\n",
       "    .dataframe tbody tr th:only-of-type {\n",
       "        vertical-align: middle;\n",
       "    }\n",
       "\n",
       "    .dataframe tbody tr th {\n",
       "        vertical-align: top;\n",
       "    }\n",
       "\n",
       "    .dataframe thead th {\n",
       "        text-align: right;\n",
       "    }\n",
       "</style>\n",
       "<table border=\"1\" class=\"dataframe\">\n",
       "  <thead>\n",
       "    <tr style=\"text-align: right;\">\n",
       "      <th></th>\n",
       "      <th>user_id</th>\n",
       "      <th>name</th>\n",
       "      <th>age</th>\n",
       "      <th>city</th>\n",
       "      <th>subscription_type</th>\n",
       "    </tr>\n",
       "  </thead>\n",
       "  <tbody>\n",
       "    <tr>\n",
       "      <th>0</th>\n",
       "      <td>1</td>\n",
       "      <td>Кира</td>\n",
       "      <td>22</td>\n",
       "      <td>Тюмень</td>\n",
       "      <td>ultra</td>\n",
       "    </tr>\n",
       "    <tr>\n",
       "      <th>1</th>\n",
       "      <td>2</td>\n",
       "      <td>Станислав</td>\n",
       "      <td>31</td>\n",
       "      <td>Омск</td>\n",
       "      <td>ultra</td>\n",
       "    </tr>\n",
       "    <tr>\n",
       "      <th>2</th>\n",
       "      <td>3</td>\n",
       "      <td>Алексей</td>\n",
       "      <td>20</td>\n",
       "      <td>Москва</td>\n",
       "      <td>ultra</td>\n",
       "    </tr>\n",
       "    <tr>\n",
       "      <th>3</th>\n",
       "      <td>4</td>\n",
       "      <td>Константин</td>\n",
       "      <td>26</td>\n",
       "      <td>Ростов-на-Дону</td>\n",
       "      <td>ultra</td>\n",
       "    </tr>\n",
       "    <tr>\n",
       "      <th>4</th>\n",
       "      <td>5</td>\n",
       "      <td>Адель</td>\n",
       "      <td>28</td>\n",
       "      <td>Омск</td>\n",
       "      <td>ultra</td>\n",
       "    </tr>\n",
       "  </tbody>\n",
       "</table>\n",
       "</div>"
      ],
      "text/plain": [
       "   user_id        name  age            city subscription_type\n",
       "0        1        Кира   22          Тюмень             ultra\n",
       "1        2   Станислав   31            Омск             ultra\n",
       "2        3     Алексей   20          Москва             ultra\n",
       "3        4  Константин   26  Ростов-на-Дону             ultra\n",
       "4        5       Адель   28            Омск             ultra"
      ]
     },
     "execution_count": 3,
     "metadata": {},
     "output_type": "execute_result"
    }
   ],
   "source": [
    "users_df.head()"
   ]
  },
  {
   "cell_type": "code",
   "execution_count": 4,
   "id": "a7e0e122",
   "metadata": {},
   "outputs": [
    {
     "name": "stdout",
     "output_type": "stream",
     "text": [
      "<class 'pandas.core.frame.DataFrame'>\n",
      "RangeIndex: 1565 entries, 0 to 1564\n",
      "Data columns (total 5 columns):\n",
      " #   Column             Non-Null Count  Dtype \n",
      "---  ------             --------------  ----- \n",
      " 0   user_id            1565 non-null   int64 \n",
      " 1   name               1565 non-null   object\n",
      " 2   age                1565 non-null   int64 \n",
      " 3   city               1565 non-null   object\n",
      " 4   subscription_type  1565 non-null   object\n",
      "dtypes: int64(2), object(3)\n",
      "memory usage: 61.3+ KB\n"
     ]
    }
   ],
   "source": [
    "users_df.info()"
   ]
  },
  {
   "cell_type": "code",
   "execution_count": 5,
   "id": "42298cb0",
   "metadata": {},
   "outputs": [
    {
     "data": {
      "text/html": [
       "<div>\n",
       "<style scoped>\n",
       "    .dataframe tbody tr th:only-of-type {\n",
       "        vertical-align: middle;\n",
       "    }\n",
       "\n",
       "    .dataframe tbody tr th {\n",
       "        vertical-align: top;\n",
       "    }\n",
       "\n",
       "    .dataframe thead th {\n",
       "        text-align: right;\n",
       "    }\n",
       "</style>\n",
       "<table border=\"1\" class=\"dataframe\">\n",
       "  <thead>\n",
       "    <tr style=\"text-align: right;\">\n",
       "      <th></th>\n",
       "      <th>user_id</th>\n",
       "      <th>distance</th>\n",
       "      <th>duration</th>\n",
       "      <th>date</th>\n",
       "    </tr>\n",
       "  </thead>\n",
       "  <tbody>\n",
       "    <tr>\n",
       "      <th>0</th>\n",
       "      <td>1</td>\n",
       "      <td>4409.919140</td>\n",
       "      <td>25.599769</td>\n",
       "      <td>2021-01-01</td>\n",
       "    </tr>\n",
       "    <tr>\n",
       "      <th>1</th>\n",
       "      <td>1</td>\n",
       "      <td>2617.592153</td>\n",
       "      <td>15.816871</td>\n",
       "      <td>2021-01-18</td>\n",
       "    </tr>\n",
       "    <tr>\n",
       "      <th>2</th>\n",
       "      <td>1</td>\n",
       "      <td>754.159807</td>\n",
       "      <td>6.232113</td>\n",
       "      <td>2021-04-20</td>\n",
       "    </tr>\n",
       "    <tr>\n",
       "      <th>3</th>\n",
       "      <td>1</td>\n",
       "      <td>2694.783254</td>\n",
       "      <td>18.511000</td>\n",
       "      <td>2021-08-11</td>\n",
       "    </tr>\n",
       "    <tr>\n",
       "      <th>4</th>\n",
       "      <td>1</td>\n",
       "      <td>4028.687306</td>\n",
       "      <td>26.265803</td>\n",
       "      <td>2021-08-28</td>\n",
       "    </tr>\n",
       "  </tbody>\n",
       "</table>\n",
       "</div>"
      ],
      "text/plain": [
       "   user_id     distance   duration        date\n",
       "0        1  4409.919140  25.599769  2021-01-01\n",
       "1        1  2617.592153  15.816871  2021-01-18\n",
       "2        1   754.159807   6.232113  2021-04-20\n",
       "3        1  2694.783254  18.511000  2021-08-11\n",
       "4        1  4028.687306  26.265803  2021-08-28"
      ]
     },
     "execution_count": 5,
     "metadata": {},
     "output_type": "execute_result"
    }
   ],
   "source": [
    "rides_df.head()"
   ]
  },
  {
   "cell_type": "code",
   "execution_count": 6,
   "id": "d9116456",
   "metadata": {},
   "outputs": [
    {
     "name": "stdout",
     "output_type": "stream",
     "text": [
      "<class 'pandas.core.frame.DataFrame'>\n",
      "RangeIndex: 18068 entries, 0 to 18067\n",
      "Data columns (total 4 columns):\n",
      " #   Column    Non-Null Count  Dtype  \n",
      "---  ------    --------------  -----  \n",
      " 0   user_id   18068 non-null  int64  \n",
      " 1   distance  18068 non-null  float64\n",
      " 2   duration  18068 non-null  float64\n",
      " 3   date      18068 non-null  object \n",
      "dtypes: float64(2), int64(1), object(1)\n",
      "memory usage: 564.8+ KB\n"
     ]
    }
   ],
   "source": [
    "rides_df.info()"
   ]
  },
  {
   "cell_type": "code",
   "execution_count": 7,
   "id": "6c380ff0",
   "metadata": {},
   "outputs": [
    {
     "data": {
      "image/png": "[encoded data removed]",
      "text/plain": [
       "<Figure size 1080x504 with 4 Axes>"
      ]
     },
     "metadata": {
      "needs_background": "light"
     },
     "output_type": "display_data"
    }
   ],
   "source": [
    "rides_df.hist(figsize=(15,7));"
   ]
  },
  {
   "cell_type": "code",
   "execution_count": 8,
   "id": "50168b83",
   "metadata": {},
   "outputs": [
    {
     "data": {
      "text/html": [
       "<div>\n",
       "<style scoped>\n",
       "    .dataframe tbody tr th:only-of-type {\n",
       "        vertical-align: middle;\n",
       "    }\n",
       "\n",
       "    .dataframe tbody tr th {\n",
       "        vertical-align: top;\n",
       "    }\n",
       "\n",
       "    .dataframe thead th {\n",
       "        text-align: right;\n",
       "    }\n",
       "</style>\n",
       "<table border=\"1\" class=\"dataframe\">\n",
       "  <thead>\n",
       "    <tr style=\"text-align: right;\">\n",
       "      <th></th>\n",
       "      <th>subscription_type</th>\n",
       "      <th>minute_price</th>\n",
       "      <th>start_ride_price</th>\n",
       "      <th>subscription_fee</th>\n",
       "    </tr>\n",
       "  </thead>\n",
       "  <tbody>\n",
       "    <tr>\n",
       "      <th>0</th>\n",
       "      <td>free</td>\n",
       "      <td>8</td>\n",
       "      <td>50</td>\n",
       "      <td>0</td>\n",
       "    </tr>\n",
       "    <tr>\n",
       "      <th>1</th>\n",
       "      <td>ultra</td>\n",
       "      <td>6</td>\n",
       "      <td>0</td>\n",
       "      <td>199</td>\n",
       "    </tr>\n",
       "  </tbody>\n",
       "</table>\n",
       "</div>"
      ],
      "text/plain": [
       "  subscription_type  minute_price  start_ride_price  subscription_fee\n",
       "0              free             8                50                 0\n",
       "1             ultra             6                 0               199"
      ]
     },
     "execution_count": 8,
     "metadata": {},
     "output_type": "execute_result"
    }
   ],
   "source": [
    "subscriptions_df.head()"
   ]
  },
  {
   "cell_type": "code",
   "execution_count": 9,
   "id": "b7e13716",
   "metadata": {},
   "outputs": [
    {
     "name": "stdout",
     "output_type": "stream",
     "text": [
      "<class 'pandas.core.frame.DataFrame'>\n",
      "RangeIndex: 2 entries, 0 to 1\n",
      "Data columns (total 4 columns):\n",
      " #   Column             Non-Null Count  Dtype \n",
      "---  ------             --------------  ----- \n",
      " 0   subscription_type  2 non-null      object\n",
      " 1   minute_price       2 non-null      int64 \n",
      " 2   start_ride_price   2 non-null      int64 \n",
      " 3   subscription_fee   2 non-null      int64 \n",
      "dtypes: int64(3), object(1)\n",
      "memory usage: 192.0+ bytes\n"
     ]
    }
   ],
   "source": [
    "subscriptions_df.info()"
   ]
  },
  {
   "cell_type": "markdown",
   "id": "2afdf776",
   "metadata": {},
   "source": [
    "##### Вывод\n",
    "\n",
    "Были загружены три датафрейма: `users_go.csv`, `rides_go.csv`, `subscriptions_go.csv`\n",
    "\n",
    "- пропусков в данных не обнаружено\n",
    "- типы данных соответствуют предполагаемым значениям, за исключением столбца `'date'` в таблице о совершенных поездках - вместо datetime64 - object"
   ]
  },
  {
   "cell_type": "markdown",
   "id": "e95ebca7",
   "metadata": {},
   "source": [
    "#### Предобработка данных"
   ]
  },
  {
   "cell_type": "code",
   "execution_count": 10,
   "id": "af6d202c",
   "metadata": {},
   "outputs": [
    {
     "name": "stdout",
     "output_type": "stream",
     "text": [
      "<class 'pandas.core.frame.DataFrame'>\n",
      "RangeIndex: 18068 entries, 0 to 18067\n",
      "Data columns (total 4 columns):\n",
      " #   Column    Non-Null Count  Dtype         \n",
      "---  ------    --------------  -----         \n",
      " 0   user_id   18068 non-null  int64         \n",
      " 1   distance  18068 non-null  float64       \n",
      " 2   duration  18068 non-null  float64       \n",
      " 3   date      18068 non-null  datetime64[ns]\n",
      "dtypes: datetime64[ns](1), float64(2), int64(1)\n",
      "memory usage: 564.8 KB\n"
     ]
    }
   ],
   "source": [
    "rides_df.date = pd.to_datetime(rides_df.date, format='%Y-%m-%d')\n",
    "rides_df.info()"
   ]
  },
  {
   "cell_type": "code",
   "execution_count": 11,
   "id": "6d574e3d",
   "metadata": {},
   "outputs": [
    {
     "data": {
      "text/plain": [
       "2021    18068\n",
       "Name: year, dtype: int64"
      ]
     },
     "execution_count": 11,
     "metadata": {},
     "output_type": "execute_result"
    }
   ],
   "source": [
    "rides_df['year'] = rides_df.date.dt.year\n",
    "rides_df['year'].value_counts()"
   ]
  },
  {
   "cell_type": "code",
   "execution_count": 12,
   "id": "97a5ff5b",
   "metadata": {},
   "outputs": [],
   "source": [
    "del rides_df['year']"
   ]
  },
  {
   "cell_type": "code",
   "execution_count": 13,
   "id": "a96a61ce",
   "metadata": {},
   "outputs": [
    {
     "data": {
      "text/plain": [
       "1     1585\n",
       "5     1560\n",
       "6     1553\n",
       "3     1544\n",
       "7     1529\n",
       "12    1527\n",
       "8     1518\n",
       "9     1517\n",
       "4     1506\n",
       "10    1475\n",
       "11    1418\n",
       "2     1336\n",
       "Name: month, dtype: int64"
      ]
     },
     "execution_count": 13,
     "metadata": {},
     "output_type": "execute_result"
    }
   ],
   "source": [
    "rides_df['month'] = rides_df.date.dt.month\n",
    "rides_df.month.value_counts()"
   ]
  },
  {
   "cell_type": "code",
   "execution_count": 14,
   "id": "418a0667",
   "metadata": {},
   "outputs": [
    {
     "data": {
      "text/plain": [
       "user_id              0\n",
       "name                 0\n",
       "age                  0\n",
       "city                 0\n",
       "subscription_type    0\n",
       "dtype: int64"
      ]
     },
     "execution_count": 14,
     "metadata": {},
     "output_type": "execute_result"
    }
   ],
   "source": [
    "users_df.isna().sum()"
   ]
  },
  {
   "cell_type": "code",
   "execution_count": 15,
   "id": "28532ea3",
   "metadata": {},
   "outputs": [
    {
     "data": {
      "text/plain": [
       "user_id     0\n",
       "distance    0\n",
       "duration    0\n",
       "date        0\n",
       "month       0\n",
       "dtype: int64"
      ]
     },
     "execution_count": 15,
     "metadata": {},
     "output_type": "execute_result"
    }
   ],
   "source": [
    "rides_df.isna().sum()"
   ]
  },
  {
   "cell_type": "code",
   "execution_count": 16,
   "id": "b7626be4",
   "metadata": {},
   "outputs": [
    {
     "data": {
      "text/plain": [
       "31"
      ]
     },
     "execution_count": 16,
     "metadata": {},
     "output_type": "execute_result"
    }
   ],
   "source": [
    "users_df.duplicated().sum()"
   ]
  },
  {
   "cell_type": "code",
   "execution_count": 17,
   "id": "bb1f4459",
   "metadata": {},
   "outputs": [
    {
     "data": {
      "text/html": [
       "<div>\n",
       "<style scoped>\n",
       "    .dataframe tbody tr th:only-of-type {\n",
       "        vertical-align: middle;\n",
       "    }\n",
       "\n",
       "    .dataframe tbody tr th {\n",
       "        vertical-align: top;\n",
       "    }\n",
       "\n",
       "    .dataframe thead th {\n",
       "        text-align: right;\n",
       "    }\n",
       "</style>\n",
       "<table border=\"1\" class=\"dataframe\">\n",
       "  <thead>\n",
       "    <tr style=\"text-align: right;\">\n",
       "      <th></th>\n",
       "      <th>user_id</th>\n",
       "      <th>name</th>\n",
       "      <th>age</th>\n",
       "      <th>city</th>\n",
       "      <th>subscription_type</th>\n",
       "    </tr>\n",
       "  </thead>\n",
       "  <tbody>\n",
       "    <tr>\n",
       "      <th>1534</th>\n",
       "      <td>293</td>\n",
       "      <td>Агата</td>\n",
       "      <td>26</td>\n",
       "      <td>Краснодар</td>\n",
       "      <td>ultra</td>\n",
       "    </tr>\n",
       "    <tr>\n",
       "      <th>1545</th>\n",
       "      <td>807</td>\n",
       "      <td>Александр</td>\n",
       "      <td>28</td>\n",
       "      <td>Екатеринбург</td>\n",
       "      <td>free</td>\n",
       "    </tr>\n",
       "    <tr>\n",
       "      <th>1553</th>\n",
       "      <td>121</td>\n",
       "      <td>Алина</td>\n",
       "      <td>25</td>\n",
       "      <td>Пятигорск</td>\n",
       "      <td>ultra</td>\n",
       "    </tr>\n",
       "    <tr>\n",
       "      <th>1535</th>\n",
       "      <td>16</td>\n",
       "      <td>Амалия</td>\n",
       "      <td>27</td>\n",
       "      <td>Краснодар</td>\n",
       "      <td>ultra</td>\n",
       "    </tr>\n",
       "    <tr>\n",
       "      <th>1559</th>\n",
       "      <td>209</td>\n",
       "      <td>Андрей</td>\n",
       "      <td>23</td>\n",
       "      <td>Омск</td>\n",
       "      <td>ultra</td>\n",
       "    </tr>\n",
       "    <tr>\n",
       "      <th>1564</th>\n",
       "      <td>1045</td>\n",
       "      <td>Артемий</td>\n",
       "      <td>28</td>\n",
       "      <td>Ростов-на-Дону</td>\n",
       "      <td>free</td>\n",
       "    </tr>\n",
       "    <tr>\n",
       "      <th>1549</th>\n",
       "      <td>108</td>\n",
       "      <td>Влада</td>\n",
       "      <td>29</td>\n",
       "      <td>Тюмень</td>\n",
       "      <td>ultra</td>\n",
       "    </tr>\n",
       "    <tr>\n",
       "      <th>1557</th>\n",
       "      <td>611</td>\n",
       "      <td>Владимир</td>\n",
       "      <td>28</td>\n",
       "      <td>Омск</td>\n",
       "      <td>ultra</td>\n",
       "    </tr>\n",
       "    <tr>\n",
       "      <th>1543</th>\n",
       "      <td>153</td>\n",
       "      <td>Герман</td>\n",
       "      <td>23</td>\n",
       "      <td>Москва</td>\n",
       "      <td>ultra</td>\n",
       "    </tr>\n",
       "    <tr>\n",
       "      <th>1547</th>\n",
       "      <td>635</td>\n",
       "      <td>Герман</td>\n",
       "      <td>21</td>\n",
       "      <td>Москва</td>\n",
       "      <td>ultra</td>\n",
       "    </tr>\n",
       "    <tr>\n",
       "      <th>1554</th>\n",
       "      <td>1198</td>\n",
       "      <td>Демид</td>\n",
       "      <td>29</td>\n",
       "      <td>Ростов-на-Дону</td>\n",
       "      <td>free</td>\n",
       "    </tr>\n",
       "    <tr>\n",
       "      <th>1558</th>\n",
       "      <td>1237</td>\n",
       "      <td>Евгения</td>\n",
       "      <td>23</td>\n",
       "      <td>Тюмень</td>\n",
       "      <td>free</td>\n",
       "    </tr>\n",
       "    <tr>\n",
       "      <th>1552</th>\n",
       "      <td>297</td>\n",
       "      <td>Егор</td>\n",
       "      <td>33</td>\n",
       "      <td>Пятигорск</td>\n",
       "      <td>ultra</td>\n",
       "    </tr>\n",
       "    <tr>\n",
       "      <th>1551</th>\n",
       "      <td>666</td>\n",
       "      <td>Зарина</td>\n",
       "      <td>29</td>\n",
       "      <td>Москва</td>\n",
       "      <td>ultra</td>\n",
       "    </tr>\n",
       "    <tr>\n",
       "      <th>1541</th>\n",
       "      <td>659</td>\n",
       "      <td>Злата</td>\n",
       "      <td>27</td>\n",
       "      <td>Ростов-на-Дону</td>\n",
       "      <td>ultra</td>\n",
       "    </tr>\n",
       "    <tr>\n",
       "      <th>1556</th>\n",
       "      <td>422</td>\n",
       "      <td>Кирилл</td>\n",
       "      <td>27</td>\n",
       "      <td>Сочи</td>\n",
       "      <td>ultra</td>\n",
       "    </tr>\n",
       "    <tr>\n",
       "      <th>1536</th>\n",
       "      <td>909</td>\n",
       "      <td>Константин</td>\n",
       "      <td>20</td>\n",
       "      <td>Екатеринбург</td>\n",
       "      <td>free</td>\n",
       "    </tr>\n",
       "    <tr>\n",
       "      <th>1546</th>\n",
       "      <td>924</td>\n",
       "      <td>Мария</td>\n",
       "      <td>23</td>\n",
       "      <td>Пятигорск</td>\n",
       "      <td>free</td>\n",
       "    </tr>\n",
       "    <tr>\n",
       "      <th>1548</th>\n",
       "      <td>136</td>\n",
       "      <td>Марсель</td>\n",
       "      <td>25</td>\n",
       "      <td>Тюмень</td>\n",
       "      <td>ultra</td>\n",
       "    </tr>\n",
       "    <tr>\n",
       "      <th>1550</th>\n",
       "      <td>737</td>\n",
       "      <td>Мелания</td>\n",
       "      <td>27</td>\n",
       "      <td>Ростов-на-Дону</td>\n",
       "      <td>free</td>\n",
       "    </tr>\n",
       "    <tr>\n",
       "      <th>1555</th>\n",
       "      <td>72</td>\n",
       "      <td>Никита</td>\n",
       "      <td>25</td>\n",
       "      <td>Москва</td>\n",
       "      <td>ultra</td>\n",
       "    </tr>\n",
       "    <tr>\n",
       "      <th>1540</th>\n",
       "      <td>127</td>\n",
       "      <td>Павел</td>\n",
       "      <td>25</td>\n",
       "      <td>Пятигорск</td>\n",
       "      <td>ultra</td>\n",
       "    </tr>\n",
       "    <tr>\n",
       "      <th>1537</th>\n",
       "      <td>403</td>\n",
       "      <td>Полина</td>\n",
       "      <td>19</td>\n",
       "      <td>Сочи</td>\n",
       "      <td>ultra</td>\n",
       "    </tr>\n",
       "    <tr>\n",
       "      <th>1544</th>\n",
       "      <td>1245</td>\n",
       "      <td>Регина</td>\n",
       "      <td>27</td>\n",
       "      <td>Пятигорск</td>\n",
       "      <td>free</td>\n",
       "    </tr>\n",
       "    <tr>\n",
       "      <th>1542</th>\n",
       "      <td>204</td>\n",
       "      <td>Руслан</td>\n",
       "      <td>30</td>\n",
       "      <td>Пятигорск</td>\n",
       "      <td>ultra</td>\n",
       "    </tr>\n",
       "    <tr>\n",
       "      <th>1538</th>\n",
       "      <td>908</td>\n",
       "      <td>Рустам</td>\n",
       "      <td>30</td>\n",
       "      <td>Тюмень</td>\n",
       "      <td>free</td>\n",
       "    </tr>\n",
       "    <tr>\n",
       "      <th>1539</th>\n",
       "      <td>43</td>\n",
       "      <td>Стефания</td>\n",
       "      <td>22</td>\n",
       "      <td>Омск</td>\n",
       "      <td>ultra</td>\n",
       "    </tr>\n",
       "    <tr>\n",
       "      <th>1560</th>\n",
       "      <td>829</td>\n",
       "      <td>Федор</td>\n",
       "      <td>29</td>\n",
       "      <td>Пятигорск</td>\n",
       "      <td>free</td>\n",
       "    </tr>\n",
       "    <tr>\n",
       "      <th>1563</th>\n",
       "      <td>47</td>\n",
       "      <td>Юрий</td>\n",
       "      <td>28</td>\n",
       "      <td>Тюмень</td>\n",
       "      <td>ultra</td>\n",
       "    </tr>\n",
       "    <tr>\n",
       "      <th>1561</th>\n",
       "      <td>809</td>\n",
       "      <td>Юрий</td>\n",
       "      <td>26</td>\n",
       "      <td>Сочи</td>\n",
       "      <td>free</td>\n",
       "    </tr>\n",
       "    <tr>\n",
       "      <th>1562</th>\n",
       "      <td>307</td>\n",
       "      <td>Ясмина</td>\n",
       "      <td>19</td>\n",
       "      <td>Краснодар</td>\n",
       "      <td>ultra</td>\n",
       "    </tr>\n",
       "  </tbody>\n",
       "</table>\n",
       "</div>"
      ],
      "text/plain": [
       "      user_id        name  age            city subscription_type\n",
       "1534      293       Агата   26       Краснодар             ultra\n",
       "1545      807   Александр   28    Екатеринбург              free\n",
       "1553      121       Алина   25       Пятигорск             ultra\n",
       "1535       16      Амалия   27       Краснодар             ultra\n",
       "1559      209      Андрей   23            Омск             ultra\n",
       "1564     1045     Артемий   28  Ростов-на-Дону              free\n",
       "1549      108       Влада   29          Тюмень             ultra\n",
       "1557      611    Владимир   28            Омск             ultra\n",
       "1543      153      Герман   23          Москва             ultra\n",
       "1547      635      Герман   21          Москва             ultra\n",
       "1554     1198       Демид   29  Ростов-на-Дону              free\n",
       "1558     1237     Евгения   23          Тюмень              free\n",
       "1552      297        Егор   33       Пятигорск             ultra\n",
       "1551      666      Зарина   29          Москва             ultra\n",
       "1541      659       Злата   27  Ростов-на-Дону             ultra\n",
       "1556      422      Кирилл   27            Сочи             ultra\n",
       "1536      909  Константин   20    Екатеринбург              free\n",
       "1546      924       Мария   23       Пятигорск              free\n",
       "1548      136     Марсель   25          Тюмень             ultra\n",
       "1550      737     Мелания   27  Ростов-на-Дону              free\n",
       "1555       72      Никита   25          Москва             ultra\n",
       "1540      127       Павел   25       Пятигорск             ultra\n",
       "1537      403      Полина   19            Сочи             ultra\n",
       "1544     1245      Регина   27       Пятигорск              free\n",
       "1542      204      Руслан   30       Пятигорск             ultra\n",
       "1538      908      Рустам   30          Тюмень              free\n",
       "1539       43    Стефания   22            Омск             ultra\n",
       "1560      829       Федор   29       Пятигорск              free\n",
       "1563       47        Юрий   28          Тюмень             ultra\n",
       "1561      809        Юрий   26            Сочи              free\n",
       "1562      307      Ясмина   19       Краснодар             ultra"
      ]
     },
     "execution_count": 17,
     "metadata": {},
     "output_type": "execute_result"
    }
   ],
   "source": [
    "users_df[users_df.duplicated()].sort_values(by='name')"
   ]
  },
  {
   "cell_type": "code",
   "execution_count": 18,
   "id": "e6101fc3",
   "metadata": {},
   "outputs": [
    {
     "data": {
      "text/plain": [
       "0"
      ]
     },
     "execution_count": 18,
     "metadata": {},
     "output_type": "execute_result"
    }
   ],
   "source": [
    "users_df.drop_duplicates(keep='first', inplace=True)\n",
    "users_df.duplicated().sum()"
   ]
  },
  {
   "cell_type": "code",
   "execution_count": 19,
   "id": "da67608a",
   "metadata": {},
   "outputs": [
    {
     "data": {
      "text/html": [
       "<div>\n",
       "<style scoped>\n",
       "    .dataframe tbody tr th:only-of-type {\n",
       "        vertical-align: middle;\n",
       "    }\n",
       "\n",
       "    .dataframe tbody tr th {\n",
       "        vertical-align: top;\n",
       "    }\n",
       "\n",
       "    .dataframe thead th {\n",
       "        text-align: right;\n",
       "    }\n",
       "</style>\n",
       "<table border=\"1\" class=\"dataframe\">\n",
       "  <thead>\n",
       "    <tr style=\"text-align: right;\">\n",
       "      <th></th>\n",
       "      <th>user_id</th>\n",
       "      <th>distance</th>\n",
       "      <th>duration</th>\n",
       "      <th>date</th>\n",
       "      <th>month</th>\n",
       "    </tr>\n",
       "  </thead>\n",
       "  <tbody>\n",
       "  </tbody>\n",
       "</table>\n",
       "</div>"
      ],
      "text/plain": [
       "Empty DataFrame\n",
       "Columns: [user_id, distance, duration, date, month]\n",
       "Index: []"
      ]
     },
     "execution_count": 19,
     "metadata": {},
     "output_type": "execute_result"
    }
   ],
   "source": [
    "rides_df[rides_df.duplicated()]"
   ]
  },
  {
   "cell_type": "markdown",
   "id": "4a62a7b2",
   "metadata": {},
   "source": [
    "##### Выводы\n",
    "Все записи о поездках за 2021 год.\n",
    "Данные без пропусков, в записях о пользователях встретилось небольшое число полных дубликатов. "
   ]
  },
  {
   "cell_type": "markdown",
   "id": "212593c7",
   "metadata": {},
   "source": [
    "#### Исследовательский анализ данных"
   ]
  },
  {
   "cell_type": "code",
   "execution_count": 20,
   "id": "5a45bba7",
   "metadata": {},
   "outputs": [
    {
     "data": {
      "text/html": [
       "<div>\n",
       "<style scoped>\n",
       "    .dataframe tbody tr th:only-of-type {\n",
       "        vertical-align: middle;\n",
       "    }\n",
       "\n",
       "    .dataframe tbody tr th {\n",
       "        vertical-align: top;\n",
       "    }\n",
       "\n",
       "    .dataframe thead th {\n",
       "        text-align: right;\n",
       "    }\n",
       "</style>\n",
       "<table border=\"1\" class=\"dataframe\">\n",
       "  <thead>\n",
       "    <tr style=\"text-align: right;\">\n",
       "      <th></th>\n",
       "      <th>user_id</th>\n",
       "      <th>age</th>\n",
       "    </tr>\n",
       "  </thead>\n",
       "  <tbody>\n",
       "    <tr>\n",
       "      <th>count</th>\n",
       "      <td>1534.000000</td>\n",
       "      <td>1534.000000</td>\n",
       "    </tr>\n",
       "    <tr>\n",
       "      <th>mean</th>\n",
       "      <td>767.500000</td>\n",
       "      <td>24.903520</td>\n",
       "    </tr>\n",
       "    <tr>\n",
       "      <th>std</th>\n",
       "      <td>442.971971</td>\n",
       "      <td>4.572367</td>\n",
       "    </tr>\n",
       "    <tr>\n",
       "      <th>min</th>\n",
       "      <td>1.000000</td>\n",
       "      <td>12.000000</td>\n",
       "    </tr>\n",
       "    <tr>\n",
       "      <th>25%</th>\n",
       "      <td>384.250000</td>\n",
       "      <td>22.000000</td>\n",
       "    </tr>\n",
       "    <tr>\n",
       "      <th>50%</th>\n",
       "      <td>767.500000</td>\n",
       "      <td>25.000000</td>\n",
       "    </tr>\n",
       "    <tr>\n",
       "      <th>75%</th>\n",
       "      <td>1150.750000</td>\n",
       "      <td>28.000000</td>\n",
       "    </tr>\n",
       "    <tr>\n",
       "      <th>max</th>\n",
       "      <td>1534.000000</td>\n",
       "      <td>43.000000</td>\n",
       "    </tr>\n",
       "  </tbody>\n",
       "</table>\n",
       "</div>"
      ],
      "text/plain": [
       "           user_id          age\n",
       "count  1534.000000  1534.000000\n",
       "mean    767.500000    24.903520\n",
       "std     442.971971     4.572367\n",
       "min       1.000000    12.000000\n",
       "25%     384.250000    22.000000\n",
       "50%     767.500000    25.000000\n",
       "75%    1150.750000    28.000000\n",
       "max    1534.000000    43.000000"
      ]
     },
     "execution_count": 20,
     "metadata": {},
     "output_type": "execute_result"
    }
   ],
   "source": [
    "users_df.describe()"
   ]
  },
  {
   "cell_type": "markdown",
   "id": "6575615d",
   "metadata": {},
   "source": [
    "- всего имеем записи о 1534 пользователях и 18068 поездках\n",
    "- средний возраст среди пользователей - 25 лет, минимальный - 12, максимальный - 43\n",
    "\n",
    "Посмотрим распределение пользователей по городам."
   ]
  },
  {
   "cell_type": "code",
   "execution_count": 21,
   "id": "b32989d5",
   "metadata": {},
   "outputs": [
    {
     "data": {
      "text/plain": [
       "Москва            168\n",
       "Тюмень            180\n",
       "Омск              183\n",
       "Сочи              189\n",
       "Краснодар         193\n",
       "Ростов-на-Дону    198\n",
       "Екатеринбург      204\n",
       "Пятигорск         219\n",
       "Name: city, dtype: int64"
      ]
     },
     "execution_count": 21,
     "metadata": {},
     "output_type": "execute_result"
    }
   ],
   "source": [
    "users_df.city.value_counts(ascending=True)"
   ]
  },
  {
   "cell_type": "code",
   "execution_count": 22,
   "id": "e3a4274c",
   "metadata": {},
   "outputs": [
    {
     "data": {
      "image/png": "[encoded data removed]",
      "text/plain": [
       "<Figure size 1080x360 with 1 Axes>"
      ]
     },
     "metadata": {
      "needs_background": "light"
     },
     "output_type": "display_data"
    }
   ],
   "source": [
    "users_df.city.value_counts(ascending=True).plot(kind='bar', \n",
    "                                                figsize=(15,5),\n",
    "                                                rot=0,\n",
    "                                                fontsize=12,\n",
    "                                                grid=True).set_title('Частота встречемости городов \\n', fontsize=18)\n",
    "plt.ylabel('Количество записей \\n', fontsize=14);"
   ]
  },
  {
   "cell_type": "markdown",
   "id": "c498440f",
   "metadata": {},
   "source": [
    "- больше всего пользователей из Пятигорска, меньше - из Москвы\n",
    "\n",
    "Рассмотрим количество пользователей с подпиской и без."
   ]
  },
  {
   "cell_type": "code",
   "execution_count": 23,
   "id": "78c1044e",
   "metadata": {},
   "outputs": [
    {
     "data": {
      "text/plain": [
       "free     835\n",
       "ultra    699\n",
       "Name: subscription_type, dtype: int64"
      ]
     },
     "execution_count": 23,
     "metadata": {},
     "output_type": "execute_result"
    }
   ],
   "source": [
    "users_df.subscription_type.value_counts()"
   ]
  },
  {
   "cell_type": "code",
   "execution_count": 24,
   "id": "2b9c7c0a",
   "metadata": {},
   "outputs": [
    {
     "data": {
      "image/png": "[encoded data removed]",
      "text/plain": [
       "<Figure size 1080x720 with 1 Axes>"
      ]
     },
     "metadata": {},
     "output_type": "display_data"
    }
   ],
   "source": [
    "users_df.subscription_type.value_counts().plot(kind='pie',\n",
    "                                               figsize=(15,10),\n",
    "                                               autopct='%1.0f%%',\n",
    "                                               rot=0,\n",
    "                                               fontsize=12,\n",
    "                                               legend=True,\n",
    "                                               labeldistance=None,\n",
    "                                               shadow=True,\n",
    "                                               explode=[0.05, 0.05],\n",
    "                                               startangle=90,\n",
    "                                               grid=True).set_title('Соотношение пользователей c подпиской и без \\n',\n",
    "                                                                    fontsize=18);\n",
    "plt.legend(['Без подписки','Подписка \"Ultra\"'], prop={'size': 14}, loc='upper right')\n",
    "plt.ylabel('');"
   ]
  },
  {
   "cell_type": "markdown",
   "id": "09ddab27",
   "metadata": {},
   "source": [
    "- пользователей без подписки - 54%, с подпиской - 46%\n",
    "\n",
    "Посмотрим на распределение возраста пользователей."
   ]
  },
  {
   "cell_type": "code",
   "execution_count": 25,
   "id": "6753b5e8",
   "metadata": {},
   "outputs": [
    {
     "data": {
      "image/png": "[encoded data removed]",
      "text/plain": [
       "<Figure size 1080x504 with 1 Axes>"
      ]
     },
     "metadata": {
      "needs_background": "light"
     },
     "output_type": "display_data"
    }
   ],
   "source": [
    "users_df.age.hist(bins=31, figsize=(15,7), range=(12, 43)).set_title('Распределение возраста пользователей \\n', fontsize=18)\n",
    "plt.xlabel('\\n Возраст, лет', fontsize=14)\n",
    "plt.ylabel('Количество записей \\n', fontsize=14)\n",
    "plt.xticks(range(12, 44, 1))\n",
    "plt.yticks(range(0, 150, 10));"
   ]
  },
  {
   "cell_type": "markdown",
   "id": "a0e4dfe9",
   "metadata": {},
   "source": [
    "- чаще встречающийся возраст среди пользователей - 25 лет, минимальный - 12, максимальный - 43\n",
    "\n",
    "Рассмотрим записи о поездках, расстоянии однной поездки."
   ]
  },
  {
   "cell_type": "code",
   "execution_count": 26,
   "id": "425bc0a8",
   "metadata": {},
   "outputs": [
    {
     "data": {
      "text/html": [
       "<div>\n",
       "<style scoped>\n",
       "    .dataframe tbody tr th:only-of-type {\n",
       "        vertical-align: middle;\n",
       "    }\n",
       "\n",
       "    .dataframe tbody tr th {\n",
       "        vertical-align: top;\n",
       "    }\n",
       "\n",
       "    .dataframe thead th {\n",
       "        text-align: right;\n",
       "    }\n",
       "</style>\n",
       "<table border=\"1\" class=\"dataframe\">\n",
       "  <thead>\n",
       "    <tr style=\"text-align: right;\">\n",
       "      <th></th>\n",
       "      <th>user_id</th>\n",
       "      <th>distance</th>\n",
       "      <th>duration</th>\n",
       "      <th>month</th>\n",
       "    </tr>\n",
       "  </thead>\n",
       "  <tbody>\n",
       "    <tr>\n",
       "      <th>count</th>\n",
       "      <td>18068.000000</td>\n",
       "      <td>18068.000000</td>\n",
       "      <td>18068.000000</td>\n",
       "      <td>18068.000000</td>\n",
       "    </tr>\n",
       "    <tr>\n",
       "      <th>mean</th>\n",
       "      <td>842.869936</td>\n",
       "      <td>3070.659976</td>\n",
       "      <td>17.805011</td>\n",
       "      <td>6.486772</td>\n",
       "    </tr>\n",
       "    <tr>\n",
       "      <th>std</th>\n",
       "      <td>434.734317</td>\n",
       "      <td>1116.831209</td>\n",
       "      <td>6.091051</td>\n",
       "      <td>3.437410</td>\n",
       "    </tr>\n",
       "    <tr>\n",
       "      <th>min</th>\n",
       "      <td>1.000000</td>\n",
       "      <td>0.855683</td>\n",
       "      <td>0.500000</td>\n",
       "      <td>1.000000</td>\n",
       "    </tr>\n",
       "    <tr>\n",
       "      <th>25%</th>\n",
       "      <td>487.000000</td>\n",
       "      <td>2543.226360</td>\n",
       "      <td>13.597563</td>\n",
       "      <td>4.000000</td>\n",
       "    </tr>\n",
       "    <tr>\n",
       "      <th>50%</th>\n",
       "      <td>889.000000</td>\n",
       "      <td>3133.609994</td>\n",
       "      <td>17.678395</td>\n",
       "      <td>6.000000</td>\n",
       "    </tr>\n",
       "    <tr>\n",
       "      <th>75%</th>\n",
       "      <td>1213.250000</td>\n",
       "      <td>3776.222735</td>\n",
       "      <td>21.724800</td>\n",
       "      <td>9.000000</td>\n",
       "    </tr>\n",
       "    <tr>\n",
       "      <th>max</th>\n",
       "      <td>1534.000000</td>\n",
       "      <td>7211.007745</td>\n",
       "      <td>40.823963</td>\n",
       "      <td>12.000000</td>\n",
       "    </tr>\n",
       "  </tbody>\n",
       "</table>\n",
       "</div>"
      ],
      "text/plain": [
       "            user_id      distance      duration         month\n",
       "count  18068.000000  18068.000000  18068.000000  18068.000000\n",
       "mean     842.869936   3070.659976     17.805011      6.486772\n",
       "std      434.734317   1116.831209      6.091051      3.437410\n",
       "min        1.000000      0.855683      0.500000      1.000000\n",
       "25%      487.000000   2543.226360     13.597563      4.000000\n",
       "50%      889.000000   3133.609994     17.678395      6.000000\n",
       "75%     1213.250000   3776.222735     21.724800      9.000000\n",
       "max     1534.000000   7211.007745     40.823963     12.000000"
      ]
     },
     "execution_count": 26,
     "metadata": {},
     "output_type": "execute_result"
    }
   ],
   "source": [
    "rides_df.describe()"
   ]
  },
  {
   "cell_type": "code",
   "execution_count": 27,
   "id": "7357a543",
   "metadata": {},
   "outputs": [
    {
     "data": {
      "image/png": "[encoded data removed]",
      "text/plain": [
       "<Figure size 1080x360 with 1 Axes>"
      ]
     },
     "metadata": {
      "needs_background": "light"
     },
     "output_type": "display_data"
    }
   ],
   "source": [
    "rides_df.distance.hist(bins=80, figsize=(15,5)).set_title('Распределение расстояния поездок\\n', fontsize=18)\n",
    "plt.xlabel('\\n Расстояние, м', fontsize=14)\n",
    "plt.ylabel('Количество записей \\n', fontsize=14)\n",
    "plt.xticks(range(0, 8000, 500));"
   ]
  },
  {
   "cell_type": "markdown",
   "id": "77af7740",
   "metadata": {},
   "source": [
    "- медианное расстояние поездки - 3133 метра, минимальное - 85 сантиметров, максимальное - 7211 метров\n",
    "\n",
    "На гистограмме видим два пика - около 700м и 3000м. Рассмотрим первый пик подробнее."
   ]
  },
  {
   "cell_type": "code",
   "execution_count": 28,
   "id": "9f7a6906",
   "metadata": {},
   "outputs": [
    {
     "data": {
      "image/png": "[encoded data removed]",
      "text/plain": [
       "<Figure size 1080x360 with 1 Axes>"
      ]
     },
     "metadata": {
      "needs_background": "light"
     },
     "output_type": "display_data"
    }
   ],
   "source": [
    "rides_df.distance.hist(bins=150, \n",
    "                       figsize=(15,5), \n",
    "                       range=(0, 1500)).set_title('Распределения расстояния поездок, от 0 до 1500 м\\n', fontsize=18)\n",
    "plt.xlabel('\\n Расстояние, м', fontsize=14)\n",
    "plt.ylabel('Количество записей \\n', fontsize=14)\n",
    "plt.xticks(range(0, 1600, 100));"
   ]
  },
  {
   "cell_type": "markdown",
   "id": "d29e4547",
   "metadata": {},
   "source": [
    "Вероятно, что есть относительно небольшое число пользователей которые пользуются самокатами для поездок на короткие расстояния (от дома до остановок общественно транспорта например).\n",
    "\n",
    "Посмотрим на длительность поездок."
   ]
  },
  {
   "cell_type": "code",
   "execution_count": 29,
   "id": "089e0079",
   "metadata": {},
   "outputs": [
    {
     "data": {
      "image/png": "[encoded data removed]",
      "text/plain": [
       "<Figure size 1080x432 with 1 Axes>"
      ]
     },
     "metadata": {
      "needs_background": "light"
     },
     "output_type": "display_data"
    }
   ],
   "source": [
    "rides_df.duration.hist(bins=41, range=(0,42), figsize=(15,6)).set_title('Распределение длительности оездок\\n', fontsize=18)\n",
    "plt.xlabel('\\n Время, мин', fontsize=14)\n",
    "plt.ylabel('Количество записей \\n', fontsize=14)\n",
    "plt.xticks(range(0, 42, 1))\n",
    "plt.yticks(range(0, 1200, 100));"
   ]
  },
  {
   "cell_type": "code",
   "execution_count": 30,
   "id": "881bed98",
   "metadata": {},
   "outputs": [
    {
     "data": {
      "text/html": [
       "<div>\n",
       "<style scoped>\n",
       "    .dataframe tbody tr th:only-of-type {\n",
       "        vertical-align: middle;\n",
       "    }\n",
       "\n",
       "    .dataframe tbody tr th {\n",
       "        vertical-align: top;\n",
       "    }\n",
       "\n",
       "    .dataframe thead th {\n",
       "        text-align: right;\n",
       "    }\n",
       "</style>\n",
       "<table border=\"1\" class=\"dataframe\">\n",
       "  <thead>\n",
       "    <tr style=\"text-align: right;\">\n",
       "      <th></th>\n",
       "      <th>user_id</th>\n",
       "      <th>distance</th>\n",
       "      <th>duration</th>\n",
       "      <th>date</th>\n",
       "      <th>month</th>\n",
       "    </tr>\n",
       "  </thead>\n",
       "  <tbody>\n",
       "    <tr>\n",
       "      <th>6531</th>\n",
       "      <td>701</td>\n",
       "      <td>4196.445201</td>\n",
       "      <td>0.5</td>\n",
       "      <td>2021-08-31</td>\n",
       "      <td>8</td>\n",
       "    </tr>\n",
       "    <tr>\n",
       "      <th>6570</th>\n",
       "      <td>704</td>\n",
       "      <td>4830.824371</td>\n",
       "      <td>0.5</td>\n",
       "      <td>2021-10-14</td>\n",
       "      <td>10</td>\n",
       "    </tr>\n",
       "    <tr>\n",
       "      <th>6680</th>\n",
       "      <td>712</td>\n",
       "      <td>4684.004397</td>\n",
       "      <td>0.5</td>\n",
       "      <td>2021-03-04</td>\n",
       "      <td>3</td>\n",
       "    </tr>\n",
       "    <tr>\n",
       "      <th>6695</th>\n",
       "      <td>713</td>\n",
       "      <td>5215.642710</td>\n",
       "      <td>0.5</td>\n",
       "      <td>2021-02-25</td>\n",
       "      <td>2</td>\n",
       "    </tr>\n",
       "    <tr>\n",
       "      <th>6768</th>\n",
       "      <td>718</td>\n",
       "      <td>5197.436649</td>\n",
       "      <td>0.5</td>\n",
       "      <td>2021-02-11</td>\n",
       "      <td>2</td>\n",
       "    </tr>\n",
       "  </tbody>\n",
       "</table>\n",
       "</div>"
      ],
      "text/plain": [
       "      user_id     distance  duration       date  month\n",
       "6531      701  4196.445201       0.5 2021-08-31      8\n",
       "6570      704  4830.824371       0.5 2021-10-14     10\n",
       "6680      712  4684.004397       0.5 2021-03-04      3\n",
       "6695      713  5215.642710       0.5 2021-02-25      2\n",
       "6768      718  5197.436649       0.5 2021-02-11      2"
      ]
     },
     "execution_count": 30,
     "metadata": {},
     "output_type": "execute_result"
    }
   ],
   "source": [
    "rides_df[rides_df.duration <= 1].head()"
   ]
  },
  {
   "cell_type": "code",
   "execution_count": 31,
   "id": "d0868d6a",
   "metadata": {},
   "outputs": [
    {
     "data": {
      "text/html": [
       "<div>\n",
       "<style scoped>\n",
       "    .dataframe tbody tr th:only-of-type {\n",
       "        vertical-align: middle;\n",
       "    }\n",
       "\n",
       "    .dataframe tbody tr th {\n",
       "        vertical-align: top;\n",
       "    }\n",
       "\n",
       "    .dataframe thead th {\n",
       "        text-align: right;\n",
       "    }\n",
       "</style>\n",
       "<table border=\"1\" class=\"dataframe\">\n",
       "  <thead>\n",
       "    <tr style=\"text-align: right;\">\n",
       "      <th></th>\n",
       "      <th>user_id</th>\n",
       "      <th>distance</th>\n",
       "      <th>duration</th>\n",
       "      <th>month</th>\n",
       "    </tr>\n",
       "  </thead>\n",
       "  <tbody>\n",
       "    <tr>\n",
       "      <th>count</th>\n",
       "      <td>95.000000</td>\n",
       "      <td>95.000000</td>\n",
       "      <td>95.0</td>\n",
       "      <td>95.000000</td>\n",
       "    </tr>\n",
       "    <tr>\n",
       "      <th>mean</th>\n",
       "      <td>1092.210526</td>\n",
       "      <td>5113.176549</td>\n",
       "      <td>0.5</td>\n",
       "      <td>6.484211</td>\n",
       "    </tr>\n",
       "    <tr>\n",
       "      <th>std</th>\n",
       "      <td>244.028551</td>\n",
       "      <td>658.254104</td>\n",
       "      <td>0.0</td>\n",
       "      <td>3.709858</td>\n",
       "    </tr>\n",
       "    <tr>\n",
       "      <th>min</th>\n",
       "      <td>701.000000</td>\n",
       "      <td>4030.308008</td>\n",
       "      <td>0.5</td>\n",
       "      <td>1.000000</td>\n",
       "    </tr>\n",
       "    <tr>\n",
       "      <th>25%</th>\n",
       "      <td>901.000000</td>\n",
       "      <td>4611.510820</td>\n",
       "      <td>0.5</td>\n",
       "      <td>3.000000</td>\n",
       "    </tr>\n",
       "    <tr>\n",
       "      <th>50%</th>\n",
       "      <td>1069.000000</td>\n",
       "      <td>5052.769411</td>\n",
       "      <td>0.5</td>\n",
       "      <td>6.000000</td>\n",
       "    </tr>\n",
       "    <tr>\n",
       "      <th>75%</th>\n",
       "      <td>1310.500000</td>\n",
       "      <td>5488.459099</td>\n",
       "      <td>0.5</td>\n",
       "      <td>10.000000</td>\n",
       "    </tr>\n",
       "    <tr>\n",
       "      <th>max</th>\n",
       "      <td>1524.000000</td>\n",
       "      <td>7211.007745</td>\n",
       "      <td>0.5</td>\n",
       "      <td>12.000000</td>\n",
       "    </tr>\n",
       "  </tbody>\n",
       "</table>\n",
       "</div>"
      ],
      "text/plain": [
       "           user_id     distance  duration      month\n",
       "count    95.000000    95.000000      95.0  95.000000\n",
       "mean   1092.210526  5113.176549       0.5   6.484211\n",
       "std     244.028551   658.254104       0.0   3.709858\n",
       "min     701.000000  4030.308008       0.5   1.000000\n",
       "25%     901.000000  4611.510820       0.5   3.000000\n",
       "50%    1069.000000  5052.769411       0.5   6.000000\n",
       "75%    1310.500000  5488.459099       0.5  10.000000\n",
       "max    1524.000000  7211.007745       0.5  12.000000"
      ]
     },
     "execution_count": 31,
     "metadata": {},
     "output_type": "execute_result"
    }
   ],
   "source": [
    "rides_df[rides_df.duration <= 1].describe()"
   ]
  },
  {
   "cell_type": "markdown",
   "id": "4d5fa305",
   "metadata": {},
   "source": [
    "##### Выводы\n",
    "При первом рассмотрении можно наблюдать:\n",
    "\n",
    "- всего имеем записи о 1534 пользователях и 18068 поездках\n",
    "- больше всего пользователей из Пятигорска, меньше - из Москвы\n",
    "- чаще встречающийся возраст среди пользователей - 25 лет, минимальный - 12, максимальный - 43\n",
    "- на графике расстояния видно две вершины около 700 м и 3000 м, вероятно есть отдельная категория пользователей, которые предпринимают относительно короткие поездки\n",
    "- медианное расстояние поездки - 3133 метра, минимальное - 85 сантиметров, максимальное - 7211 метров\n",
    "- среднее время поездки - 17 мин, минимальное - 6 мин, максимальное 41 мин\n",
    "- есть 95 записей с аномально коротким временем поездки до 30 секунд. Однако, если посмотреть на расстояние, то становится понятно, что пользователь явно не мог проехать от 4 до 7 км за 30 секунд. Вероятно, поездка не была завершена должным образом. В то же время данные других столбцов ещё можно использовать, как и наличие самих этих записей (ведь если тариф был free, то пользователь в любом случае заплатил 50 руб.), поэтому оставим их как есть.  \n",
    "- пользователей без подписки - 54%, с подпиской - 46%"
   ]
  },
  {
   "cell_type": "markdown",
   "id": "4ef51331",
   "metadata": {},
   "source": [
    "#### Объединение данных"
   ]
  },
  {
   "cell_type": "code",
   "execution_count": 32,
   "id": "6bf288b5",
   "metadata": {},
   "outputs": [
    {
     "data": {
      "text/html": [
       "<div>\n",
       "<style scoped>\n",
       "    .dataframe tbody tr th:only-of-type {\n",
       "        vertical-align: middle;\n",
       "    }\n",
       "\n",
       "    .dataframe tbody tr th {\n",
       "        vertical-align: top;\n",
       "    }\n",
       "\n",
       "    .dataframe thead th {\n",
       "        text-align: right;\n",
       "    }\n",
       "</style>\n",
       "<table border=\"1\" class=\"dataframe\">\n",
       "  <thead>\n",
       "    <tr style=\"text-align: right;\">\n",
       "      <th></th>\n",
       "      <th>user_id</th>\n",
       "      <th>name</th>\n",
       "      <th>age</th>\n",
       "      <th>city</th>\n",
       "      <th>subscription_type</th>\n",
       "      <th>distance</th>\n",
       "      <th>duration</th>\n",
       "      <th>date</th>\n",
       "      <th>month</th>\n",
       "      <th>minute_price</th>\n",
       "      <th>start_ride_price</th>\n",
       "      <th>subscription_fee</th>\n",
       "    </tr>\n",
       "  </thead>\n",
       "  <tbody>\n",
       "    <tr>\n",
       "      <th>0</th>\n",
       "      <td>1</td>\n",
       "      <td>Кира</td>\n",
       "      <td>22</td>\n",
       "      <td>Тюмень</td>\n",
       "      <td>ultra</td>\n",
       "      <td>4409.92</td>\n",
       "      <td>26.0</td>\n",
       "      <td>2021-01-01</td>\n",
       "      <td>1</td>\n",
       "      <td>6</td>\n",
       "      <td>0</td>\n",
       "      <td>199</td>\n",
       "    </tr>\n",
       "    <tr>\n",
       "      <th>1</th>\n",
       "      <td>1</td>\n",
       "      <td>Кира</td>\n",
       "      <td>22</td>\n",
       "      <td>Тюмень</td>\n",
       "      <td>ultra</td>\n",
       "      <td>2617.59</td>\n",
       "      <td>16.0</td>\n",
       "      <td>2021-01-18</td>\n",
       "      <td>1</td>\n",
       "      <td>6</td>\n",
       "      <td>0</td>\n",
       "      <td>199</td>\n",
       "    </tr>\n",
       "    <tr>\n",
       "      <th>2</th>\n",
       "      <td>1</td>\n",
       "      <td>Кира</td>\n",
       "      <td>22</td>\n",
       "      <td>Тюмень</td>\n",
       "      <td>ultra</td>\n",
       "      <td>754.16</td>\n",
       "      <td>7.0</td>\n",
       "      <td>2021-04-20</td>\n",
       "      <td>4</td>\n",
       "      <td>6</td>\n",
       "      <td>0</td>\n",
       "      <td>199</td>\n",
       "    </tr>\n",
       "    <tr>\n",
       "      <th>3</th>\n",
       "      <td>1</td>\n",
       "      <td>Кира</td>\n",
       "      <td>22</td>\n",
       "      <td>Тюмень</td>\n",
       "      <td>ultra</td>\n",
       "      <td>2694.78</td>\n",
       "      <td>19.0</td>\n",
       "      <td>2021-08-11</td>\n",
       "      <td>8</td>\n",
       "      <td>6</td>\n",
       "      <td>0</td>\n",
       "      <td>199</td>\n",
       "    </tr>\n",
       "    <tr>\n",
       "      <th>4</th>\n",
       "      <td>1</td>\n",
       "      <td>Кира</td>\n",
       "      <td>22</td>\n",
       "      <td>Тюмень</td>\n",
       "      <td>ultra</td>\n",
       "      <td>4028.69</td>\n",
       "      <td>27.0</td>\n",
       "      <td>2021-08-28</td>\n",
       "      <td>8</td>\n",
       "      <td>6</td>\n",
       "      <td>0</td>\n",
       "      <td>199</td>\n",
       "    </tr>\n",
       "  </tbody>\n",
       "</table>\n",
       "</div>"
      ],
      "text/plain": [
       "   user_id  name  age    city subscription_type  distance  duration  \\\n",
       "0        1  Кира   22  Тюмень             ultra   4409.92      26.0   \n",
       "1        1  Кира   22  Тюмень             ultra   2617.59      16.0   \n",
       "2        1  Кира   22  Тюмень             ultra    754.16       7.0   \n",
       "3        1  Кира   22  Тюмень             ultra   2694.78      19.0   \n",
       "4        1  Кира   22  Тюмень             ultra   4028.69      27.0   \n",
       "\n",
       "        date  month  minute_price  start_ride_price  subscription_fee  \n",
       "0 2021-01-01      1             6                 0               199  \n",
       "1 2021-01-18      1             6                 0               199  \n",
       "2 2021-04-20      4             6                 0               199  \n",
       "3 2021-08-11      8             6                 0               199  \n",
       "4 2021-08-28      8             6                 0               199  "
      ]
     },
     "execution_count": 32,
     "metadata": {},
     "output_type": "execute_result"
    }
   ],
   "source": [
    "df = users_df.merge(rides_df, on='user_id', suffixes=(False, False))\n",
    "df = df.merge(subscriptions_df, on='subscription_type', suffixes=(False, False))\n",
    "df['distance'] = df['distance'].round(2)\n",
    "df['duration'] = np.ceil(df['duration'])\n",
    "df.head()"
   ]
  },
  {
   "cell_type": "code",
   "execution_count": 33,
   "id": "7e62e358",
   "metadata": {},
   "outputs": [
    {
     "data": {
      "text/plain": [
       "user_id              0\n",
       "name                 0\n",
       "age                  0\n",
       "city                 0\n",
       "subscription_type    0\n",
       "distance             0\n",
       "duration             0\n",
       "date                 0\n",
       "month                0\n",
       "minute_price         0\n",
       "start_ride_price     0\n",
       "subscription_fee     0\n",
       "dtype: int64"
      ]
     },
     "execution_count": 33,
     "metadata": {},
     "output_type": "execute_result"
    }
   ],
   "source": [
    "df.isna().sum()"
   ]
  },
  {
   "cell_type": "code",
   "execution_count": 34,
   "id": "c9417a70",
   "metadata": {},
   "outputs": [
    {
     "data": {
      "text/html": [
       "<div>\n",
       "<style scoped>\n",
       "    .dataframe tbody tr th:only-of-type {\n",
       "        vertical-align: middle;\n",
       "    }\n",
       "\n",
       "    .dataframe tbody tr th {\n",
       "        vertical-align: top;\n",
       "    }\n",
       "\n",
       "    .dataframe thead th {\n",
       "        text-align: right;\n",
       "    }\n",
       "</style>\n",
       "<table border=\"1\" class=\"dataframe\">\n",
       "  <thead>\n",
       "    <tr style=\"text-align: right;\">\n",
       "      <th></th>\n",
       "      <th>user_id</th>\n",
       "      <th>age</th>\n",
       "      <th>distance</th>\n",
       "      <th>duration</th>\n",
       "      <th>month</th>\n",
       "      <th>minute_price</th>\n",
       "      <th>start_ride_price</th>\n",
       "      <th>subscription_fee</th>\n",
       "    </tr>\n",
       "  </thead>\n",
       "  <tbody>\n",
       "    <tr>\n",
       "      <th>count</th>\n",
       "      <td>6500.00</td>\n",
       "      <td>6500.00</td>\n",
       "      <td>6500.00</td>\n",
       "      <td>6500.00</td>\n",
       "      <td>6500.00</td>\n",
       "      <td>6500.0</td>\n",
       "      <td>6500.0</td>\n",
       "      <td>6500.0</td>\n",
       "    </tr>\n",
       "    <tr>\n",
       "      <th>mean</th>\n",
       "      <td>348.73</td>\n",
       "      <td>24.89</td>\n",
       "      <td>3115.45</td>\n",
       "      <td>19.04</td>\n",
       "      <td>6.42</td>\n",
       "      <td>6.0</td>\n",
       "      <td>0.0</td>\n",
       "      <td>199.0</td>\n",
       "    </tr>\n",
       "    <tr>\n",
       "      <th>std</th>\n",
       "      <td>201.10</td>\n",
       "      <td>4.76</td>\n",
       "      <td>836.90</td>\n",
       "      <td>5.58</td>\n",
       "      <td>3.41</td>\n",
       "      <td>0.0</td>\n",
       "      <td>0.0</td>\n",
       "      <td>0.0</td>\n",
       "    </tr>\n",
       "    <tr>\n",
       "      <th>min</th>\n",
       "      <td>1.00</td>\n",
       "      <td>12.00</td>\n",
       "      <td>244.21</td>\n",
       "      <td>4.00</td>\n",
       "      <td>1.00</td>\n",
       "      <td>6.0</td>\n",
       "      <td>0.0</td>\n",
       "      <td>199.0</td>\n",
       "    </tr>\n",
       "    <tr>\n",
       "      <th>25%</th>\n",
       "      <td>175.00</td>\n",
       "      <td>22.00</td>\n",
       "      <td>2785.45</td>\n",
       "      <td>15.00</td>\n",
       "      <td>4.00</td>\n",
       "      <td>6.0</td>\n",
       "      <td>0.0</td>\n",
       "      <td>199.0</td>\n",
       "    </tr>\n",
       "    <tr>\n",
       "      <th>50%</th>\n",
       "      <td>351.00</td>\n",
       "      <td>25.00</td>\n",
       "      <td>3148.64</td>\n",
       "      <td>19.00</td>\n",
       "      <td>6.00</td>\n",
       "      <td>6.0</td>\n",
       "      <td>0.0</td>\n",
       "      <td>199.0</td>\n",
       "    </tr>\n",
       "    <tr>\n",
       "      <th>75%</th>\n",
       "      <td>525.00</td>\n",
       "      <td>28.00</td>\n",
       "      <td>3560.58</td>\n",
       "      <td>22.00</td>\n",
       "      <td>9.00</td>\n",
       "      <td>6.0</td>\n",
       "      <td>0.0</td>\n",
       "      <td>199.0</td>\n",
       "    </tr>\n",
       "    <tr>\n",
       "      <th>max</th>\n",
       "      <td>699.00</td>\n",
       "      <td>38.00</td>\n",
       "      <td>5699.77</td>\n",
       "      <td>41.00</td>\n",
       "      <td>12.00</td>\n",
       "      <td>6.0</td>\n",
       "      <td>0.0</td>\n",
       "      <td>199.0</td>\n",
       "    </tr>\n",
       "  </tbody>\n",
       "</table>\n",
       "</div>"
      ],
      "text/plain": [
       "       user_id      age  distance  duration    month  minute_price  \\\n",
       "count  6500.00  6500.00   6500.00   6500.00  6500.00        6500.0   \n",
       "mean    348.73    24.89   3115.45     19.04     6.42           6.0   \n",
       "std     201.10     4.76    836.90      5.58     3.41           0.0   \n",
       "min       1.00    12.00    244.21      4.00     1.00           6.0   \n",
       "25%     175.00    22.00   2785.45     15.00     4.00           6.0   \n",
       "50%     351.00    25.00   3148.64     19.00     6.00           6.0   \n",
       "75%     525.00    28.00   3560.58     22.00     9.00           6.0   \n",
       "max     699.00    38.00   5699.77     41.00    12.00           6.0   \n",
       "\n",
       "       start_ride_price  subscription_fee  \n",
       "count            6500.0            6500.0  \n",
       "mean                0.0             199.0  \n",
       "std                 0.0               0.0  \n",
       "min                 0.0             199.0  \n",
       "25%                 0.0             199.0  \n",
       "50%                 0.0             199.0  \n",
       "75%                 0.0             199.0  \n",
       "max                 0.0             199.0  "
      ]
     },
     "execution_count": 34,
     "metadata": {},
     "output_type": "execute_result"
    }
   ],
   "source": [
    "ultra_df = df[df['subscription_type'] == 'ultra']\n",
    "ultra_df.describe().round(2)"
   ]
  },
  {
   "cell_type": "code",
   "execution_count": 35,
   "id": "56f93509",
   "metadata": {},
   "outputs": [
    {
     "data": {
      "text/html": [
       "<div>\n",
       "<style scoped>\n",
       "    .dataframe tbody tr th:only-of-type {\n",
       "        vertical-align: middle;\n",
       "    }\n",
       "\n",
       "    .dataframe tbody tr th {\n",
       "        vertical-align: top;\n",
       "    }\n",
       "\n",
       "    .dataframe thead th {\n",
       "        text-align: right;\n",
       "    }\n",
       "</style>\n",
       "<table border=\"1\" class=\"dataframe\">\n",
       "  <thead>\n",
       "    <tr style=\"text-align: right;\">\n",
       "      <th></th>\n",
       "      <th>user_id</th>\n",
       "      <th>age</th>\n",
       "      <th>distance</th>\n",
       "      <th>duration</th>\n",
       "      <th>month</th>\n",
       "      <th>minute_price</th>\n",
       "      <th>start_ride_price</th>\n",
       "      <th>subscription_fee</th>\n",
       "    </tr>\n",
       "  </thead>\n",
       "  <tbody>\n",
       "    <tr>\n",
       "      <th>count</th>\n",
       "      <td>11568.00</td>\n",
       "      <td>11568.00</td>\n",
       "      <td>11568.00</td>\n",
       "      <td>11568.00</td>\n",
       "      <td>11568.00</td>\n",
       "      <td>11568.0</td>\n",
       "      <td>11568.0</td>\n",
       "      <td>11568.0</td>\n",
       "    </tr>\n",
       "    <tr>\n",
       "      <th>mean</th>\n",
       "      <td>1120.53</td>\n",
       "      <td>24.89</td>\n",
       "      <td>3045.50</td>\n",
       "      <td>17.89</td>\n",
       "      <td>6.52</td>\n",
       "      <td>8.0</td>\n",
       "      <td>50.0</td>\n",
       "      <td>0.0</td>\n",
       "    </tr>\n",
       "    <tr>\n",
       "      <th>std</th>\n",
       "      <td>241.17</td>\n",
       "      <td>4.48</td>\n",
       "      <td>1246.17</td>\n",
       "      <td>6.33</td>\n",
       "      <td>3.45</td>\n",
       "      <td>0.0</td>\n",
       "      <td>0.0</td>\n",
       "      <td>0.0</td>\n",
       "    </tr>\n",
       "    <tr>\n",
       "      <th>min</th>\n",
       "      <td>700.00</td>\n",
       "      <td>12.00</td>\n",
       "      <td>0.86</td>\n",
       "      <td>1.00</td>\n",
       "      <td>1.00</td>\n",
       "      <td>8.0</td>\n",
       "      <td>50.0</td>\n",
       "      <td>0.0</td>\n",
       "    </tr>\n",
       "    <tr>\n",
       "      <th>25%</th>\n",
       "      <td>915.00</td>\n",
       "      <td>22.00</td>\n",
       "      <td>2366.56</td>\n",
       "      <td>13.00</td>\n",
       "      <td>4.00</td>\n",
       "      <td>8.0</td>\n",
       "      <td>50.0</td>\n",
       "      <td>0.0</td>\n",
       "    </tr>\n",
       "    <tr>\n",
       "      <th>50%</th>\n",
       "      <td>1123.00</td>\n",
       "      <td>25.00</td>\n",
       "      <td>3114.65</td>\n",
       "      <td>18.00</td>\n",
       "      <td>7.00</td>\n",
       "      <td>8.0</td>\n",
       "      <td>50.0</td>\n",
       "      <td>0.0</td>\n",
       "    </tr>\n",
       "    <tr>\n",
       "      <th>75%</th>\n",
       "      <td>1328.00</td>\n",
       "      <td>28.00</td>\n",
       "      <td>3905.70</td>\n",
       "      <td>22.00</td>\n",
       "      <td>9.00</td>\n",
       "      <td>8.0</td>\n",
       "      <td>50.0</td>\n",
       "      <td>0.0</td>\n",
       "    </tr>\n",
       "    <tr>\n",
       "      <th>max</th>\n",
       "      <td>1534.00</td>\n",
       "      <td>43.00</td>\n",
       "      <td>7211.01</td>\n",
       "      <td>35.00</td>\n",
       "      <td>12.00</td>\n",
       "      <td>8.0</td>\n",
       "      <td>50.0</td>\n",
       "      <td>0.0</td>\n",
       "    </tr>\n",
       "  </tbody>\n",
       "</table>\n",
       "</div>"
      ],
      "text/plain": [
       "        user_id       age  distance  duration     month  minute_price  \\\n",
       "count  11568.00  11568.00  11568.00  11568.00  11568.00       11568.0   \n",
       "mean    1120.53     24.89   3045.50     17.89      6.52           8.0   \n",
       "std      241.17      4.48   1246.17      6.33      3.45           0.0   \n",
       "min      700.00     12.00      0.86      1.00      1.00           8.0   \n",
       "25%      915.00     22.00   2366.56     13.00      4.00           8.0   \n",
       "50%     1123.00     25.00   3114.65     18.00      7.00           8.0   \n",
       "75%     1328.00     28.00   3905.70     22.00      9.00           8.0   \n",
       "max     1534.00     43.00   7211.01     35.00     12.00           8.0   \n",
       "\n",
       "       start_ride_price  subscription_fee  \n",
       "count           11568.0           11568.0  \n",
       "mean               50.0               0.0  \n",
       "std                 0.0               0.0  \n",
       "min                50.0               0.0  \n",
       "25%                50.0               0.0  \n",
       "50%                50.0               0.0  \n",
       "75%                50.0               0.0  \n",
       "max                50.0               0.0  "
      ]
     },
     "execution_count": 35,
     "metadata": {},
     "output_type": "execute_result"
    }
   ],
   "source": [
    "free_df = df[df['subscription_type'] == 'free']\n",
    "free_df.describe().round(2)"
   ]
  },
  {
   "cell_type": "code",
   "execution_count": 36,
   "id": "d3468a11",
   "metadata": {},
   "outputs": [
    {
     "data": {
      "image/png": "[encoded data removed]",
      "text/plain": [
       "<Figure size 1080x360 with 1 Axes>"
      ]
     },
     "metadata": {
      "needs_background": "light"
     },
     "output_type": "display_data"
    }
   ],
   "source": [
    "free_df.distance.hist(bins=100, figsize=(15,5), label='Без подписки', color='navy')\n",
    "ultra_df.distance.hist(bins=100,\n",
    "                       figsize=(15,5), \n",
    "                       label='C подпиской', \n",
    "                       color='darkorange').set_title('Распределение расстояния поездок c подпиской и без \\n', fontsize=18)\n",
    "\n",
    "plt.legend()\n",
    "plt.xlabel('\\n Расстояние, м', fontsize=14)\n",
    "plt.ylabel('Количество записей \\n', fontsize=14);"
   ]
  },
  {
   "cell_type": "code",
   "execution_count": 37,
   "id": "d42c8d2f",
   "metadata": {},
   "outputs": [
    {
     "data": {
      "text/plain": [
       "Text(0, 0.5, 'Количество записей \\n')"
      ]
     },
     "execution_count": 37,
     "metadata": {},
     "output_type": "execute_result"
    },
    {
     "data": {
      "image/png": "[encoded data removed]",
      "text/plain": [
       "<Figure size 1080x432 with 1 Axes>"
      ]
     },
     "metadata": {
      "needs_background": "light"
     },
     "output_type": "display_data"
    }
   ],
   "source": [
    "free_df.duration.hist(bins=35, figsize=(15,6), label='Без подписки', color='navy')\n",
    "\n",
    "ultra_df.duration.hist(bins=38,\n",
    "                       range=(3,41), \n",
    "                       figsize=(15,6),\n",
    "                       label='C подпиской', \n",
    "                       color='darkorange').set_title('Распределение длительности поездок c подпиской и без \\n', fontsize=18)\n",
    "\n",
    "plt.legend()\n",
    "plt.xlabel('\\n Время, мин', fontsize=14)\n",
    "plt.ylabel('Количество записей \\n', fontsize=14)"
   ]
  },
  {
   "cell_type": "code",
   "execution_count": 38,
   "id": "afaf2e98",
   "metadata": {},
   "outputs": [
    {
     "data": {
      "text/html": [
       "<div>\n",
       "<style scoped>\n",
       "    .dataframe tbody tr th:only-of-type {\n",
       "        vertical-align: middle;\n",
       "    }\n",
       "\n",
       "    .dataframe tbody tr th {\n",
       "        vertical-align: top;\n",
       "    }\n",
       "\n",
       "    .dataframe thead th {\n",
       "        text-align: right;\n",
       "    }\n",
       "</style>\n",
       "<table border=\"1\" class=\"dataframe\">\n",
       "  <thead>\n",
       "    <tr style=\"text-align: right;\">\n",
       "      <th></th>\n",
       "      <th>subscription_type</th>\n",
       "      <th>distance_count</th>\n",
       "      <th>distance_min</th>\n",
       "      <th>distance_mean</th>\n",
       "      <th>distance_median</th>\n",
       "      <th>distance_max</th>\n",
       "      <th>duration_count</th>\n",
       "      <th>duration_min</th>\n",
       "      <th>duration_mean</th>\n",
       "      <th>duration_median</th>\n",
       "      <th>duration_max</th>\n",
       "    </tr>\n",
       "  </thead>\n",
       "  <tbody>\n",
       "    <tr>\n",
       "      <th>0</th>\n",
       "      <td>free</td>\n",
       "      <td>11568</td>\n",
       "      <td>0.86</td>\n",
       "      <td>3045.495284</td>\n",
       "      <td>3114.65</td>\n",
       "      <td>7211.01</td>\n",
       "      <td>11568</td>\n",
       "      <td>1.0</td>\n",
       "      <td>17.890992</td>\n",
       "      <td>18.0</td>\n",
       "      <td>35.0</td>\n",
       "    </tr>\n",
       "    <tr>\n",
       "      <th>1</th>\n",
       "      <td>ultra</td>\n",
       "      <td>6500</td>\n",
       "      <td>244.21</td>\n",
       "      <td>3115.445431</td>\n",
       "      <td>3148.64</td>\n",
       "      <td>5699.77</td>\n",
       "      <td>6500</td>\n",
       "      <td>4.0</td>\n",
       "      <td>19.037692</td>\n",
       "      <td>19.0</td>\n",
       "      <td>41.0</td>\n",
       "    </tr>\n",
       "  </tbody>\n",
       "</table>\n",
       "</div>"
      ],
      "text/plain": [
       "  subscription_type  distance_count  distance_min  distance_mean  \\\n",
       "0              free           11568          0.86    3045.495284   \n",
       "1             ultra            6500        244.21    3115.445431   \n",
       "\n",
       "   distance_median  distance_max  duration_count  duration_min  duration_mean  \\\n",
       "0          3114.65       7211.01           11568           1.0      17.890992   \n",
       "1          3148.64       5699.77            6500           4.0      19.037692   \n",
       "\n",
       "   duration_median  duration_max  \n",
       "0             18.0          35.0  \n",
       "1             19.0          41.0  "
      ]
     },
     "execution_count": 38,
     "metadata": {},
     "output_type": "execute_result"
    }
   ],
   "source": [
    "table = df.groupby('subscription_type', as_index=False).agg({'distance': ['count','min','mean','median', 'max'],\n",
    "                                     'duration': ['count','min','mean','median', 'max']})\n",
    "table.columns = ['_'.join(col).rstrip('_') for col in table.columns.values]\n",
    "table"
   ]
  },
  {
   "cell_type": "markdown",
   "id": "b87a47bd",
   "metadata": {},
   "source": [
    "##### Выводы\n",
    "\n",
    "По данным из графиков и таблиц можем наблюдать:\n",
    "- количество пользователей с подпиской - 6500, без - 11568, одна выборка больше другой почти вдвое\n",
    "- пользователи с подпиской в среднем проезжают примерно такое же расстояние, сколько и без.\n",
    "- в тоже время, максимальные и минимальные длины поездок отличаются значительно - у пользователей с подпиской больше минимальное расстояние поездки, у пользователей без подписки - максимальное.\n",
    "- у пользователей с подпиской в среднем больше время поездки\n",
    "- аномальные значения в столбце длительности поездки относятся к пользователям без подписки"
   ]
  },
  {
   "cell_type": "markdown",
   "id": "402d620f",
   "metadata": {},
   "source": [
    "#### Подсчёт выручки"
   ]
  },
  {
   "cell_type": "code",
   "execution_count": 39,
   "id": "53049e0a",
   "metadata": {},
   "outputs": [
    {
     "data": {
      "text/html": [
       "<div>\n",
       "<style scoped>\n",
       "    .dataframe tbody tr th:only-of-type {\n",
       "        vertical-align: middle;\n",
       "    }\n",
       "\n",
       "    .dataframe tbody tr th {\n",
       "        vertical-align: top;\n",
       "    }\n",
       "\n",
       "    .dataframe thead th {\n",
       "        text-align: right;\n",
       "    }\n",
       "</style>\n",
       "<table border=\"1\" class=\"dataframe\">\n",
       "  <thead>\n",
       "    <tr style=\"text-align: right;\">\n",
       "      <th></th>\n",
       "      <th>user_id</th>\n",
       "      <th>month</th>\n",
       "      <th>ride_count</th>\n",
       "      <th>distance_sum</th>\n",
       "      <th>duration_sum</th>\n",
       "      <th>subscription_type</th>\n",
       "      <th>city</th>\n",
       "      <th>minute_price</th>\n",
       "      <th>start_ride_price</th>\n",
       "      <th>subscription_fee</th>\n",
       "    </tr>\n",
       "  </thead>\n",
       "  <tbody>\n",
       "    <tr>\n",
       "      <th>0</th>\n",
       "      <td>1</td>\n",
       "      <td>1</td>\n",
       "      <td>2</td>\n",
       "      <td>7027.51</td>\n",
       "      <td>42.0</td>\n",
       "      <td>ultra</td>\n",
       "      <td>Тюмень</td>\n",
       "      <td>6</td>\n",
       "      <td>0</td>\n",
       "      <td>199</td>\n",
       "    </tr>\n",
       "    <tr>\n",
       "      <th>1</th>\n",
       "      <td>1</td>\n",
       "      <td>4</td>\n",
       "      <td>1</td>\n",
       "      <td>754.16</td>\n",
       "      <td>7.0</td>\n",
       "      <td>ultra</td>\n",
       "      <td>Тюмень</td>\n",
       "      <td>6</td>\n",
       "      <td>0</td>\n",
       "      <td>199</td>\n",
       "    </tr>\n",
       "    <tr>\n",
       "      <th>2</th>\n",
       "      <td>1</td>\n",
       "      <td>8</td>\n",
       "      <td>2</td>\n",
       "      <td>6723.47</td>\n",
       "      <td>46.0</td>\n",
       "      <td>ultra</td>\n",
       "      <td>Тюмень</td>\n",
       "      <td>6</td>\n",
       "      <td>0</td>\n",
       "      <td>199</td>\n",
       "    </tr>\n",
       "    <tr>\n",
       "      <th>3</th>\n",
       "      <td>1</td>\n",
       "      <td>10</td>\n",
       "      <td>2</td>\n",
       "      <td>5809.91</td>\n",
       "      <td>32.0</td>\n",
       "      <td>ultra</td>\n",
       "      <td>Тюмень</td>\n",
       "      <td>6</td>\n",
       "      <td>0</td>\n",
       "      <td>199</td>\n",
       "    </tr>\n",
       "    <tr>\n",
       "      <th>4</th>\n",
       "      <td>1</td>\n",
       "      <td>11</td>\n",
       "      <td>3</td>\n",
       "      <td>7003.50</td>\n",
       "      <td>56.0</td>\n",
       "      <td>ultra</td>\n",
       "      <td>Тюмень</td>\n",
       "      <td>6</td>\n",
       "      <td>0</td>\n",
       "      <td>199</td>\n",
       "    </tr>\n",
       "    <tr>\n",
       "      <th>...</th>\n",
       "      <td>...</td>\n",
       "      <td>...</td>\n",
       "      <td>...</td>\n",
       "      <td>...</td>\n",
       "      <td>...</td>\n",
       "      <td>...</td>\n",
       "      <td>...</td>\n",
       "      <td>...</td>\n",
       "      <td>...</td>\n",
       "      <td>...</td>\n",
       "    </tr>\n",
       "    <tr>\n",
       "      <th>11326</th>\n",
       "      <td>1534</td>\n",
       "      <td>6</td>\n",
       "      <td>2</td>\n",
       "      <td>3409.47</td>\n",
       "      <td>26.0</td>\n",
       "      <td>free</td>\n",
       "      <td>Краснодар</td>\n",
       "      <td>8</td>\n",
       "      <td>50</td>\n",
       "      <td>0</td>\n",
       "    </tr>\n",
       "    <tr>\n",
       "      <th>11327</th>\n",
       "      <td>1534</td>\n",
       "      <td>8</td>\n",
       "      <td>2</td>\n",
       "      <td>7622.45</td>\n",
       "      <td>48.0</td>\n",
       "      <td>free</td>\n",
       "      <td>Краснодар</td>\n",
       "      <td>8</td>\n",
       "      <td>50</td>\n",
       "      <td>0</td>\n",
       "    </tr>\n",
       "    <tr>\n",
       "      <th>11328</th>\n",
       "      <td>1534</td>\n",
       "      <td>9</td>\n",
       "      <td>1</td>\n",
       "      <td>4928.17</td>\n",
       "      <td>23.0</td>\n",
       "      <td>free</td>\n",
       "      <td>Краснодар</td>\n",
       "      <td>8</td>\n",
       "      <td>50</td>\n",
       "      <td>0</td>\n",
       "    </tr>\n",
       "    <tr>\n",
       "      <th>11329</th>\n",
       "      <td>1534</td>\n",
       "      <td>11</td>\n",
       "      <td>4</td>\n",
       "      <td>13350.02</td>\n",
       "      <td>78.0</td>\n",
       "      <td>free</td>\n",
       "      <td>Краснодар</td>\n",
       "      <td>8</td>\n",
       "      <td>50</td>\n",
       "      <td>0</td>\n",
       "    </tr>\n",
       "    <tr>\n",
       "      <th>11330</th>\n",
       "      <td>1534</td>\n",
       "      <td>12</td>\n",
       "      <td>1</td>\n",
       "      <td>2371.71</td>\n",
       "      <td>16.0</td>\n",
       "      <td>free</td>\n",
       "      <td>Краснодар</td>\n",
       "      <td>8</td>\n",
       "      <td>50</td>\n",
       "      <td>0</td>\n",
       "    </tr>\n",
       "  </tbody>\n",
       "</table>\n",
       "<p>11331 rows × 10 columns</p>\n",
       "</div>"
      ],
      "text/plain": [
       "       user_id  month  ride_count  distance_sum  duration_sum  \\\n",
       "0            1      1           2       7027.51          42.0   \n",
       "1            1      4           1        754.16           7.0   \n",
       "2            1      8           2       6723.47          46.0   \n",
       "3            1     10           2       5809.91          32.0   \n",
       "4            1     11           3       7003.50          56.0   \n",
       "...        ...    ...         ...           ...           ...   \n",
       "11326     1534      6           2       3409.47          26.0   \n",
       "11327     1534      8           2       7622.45          48.0   \n",
       "11328     1534      9           1       4928.17          23.0   \n",
       "11329     1534     11           4      13350.02          78.0   \n",
       "11330     1534     12           1       2371.71          16.0   \n",
       "\n",
       "      subscription_type       city  minute_price  start_ride_price  \\\n",
       "0                 ultra     Тюмень             6                 0   \n",
       "1                 ultra     Тюмень             6                 0   \n",
       "2                 ultra     Тюмень             6                 0   \n",
       "3                 ultra     Тюмень             6                 0   \n",
       "4                 ultra     Тюмень             6                 0   \n",
       "...                 ...        ...           ...               ...   \n",
       "11326              free  Краснодар             8                50   \n",
       "11327              free  Краснодар             8                50   \n",
       "11328              free  Краснодар             8                50   \n",
       "11329              free  Краснодар             8                50   \n",
       "11330              free  Краснодар             8                50   \n",
       "\n",
       "       subscription_fee  \n",
       "0                   199  \n",
       "1                   199  \n",
       "2                   199  \n",
       "3                   199  \n",
       "4                   199  \n",
       "...                 ...  \n",
       "11326                 0  \n",
       "11327                 0  \n",
       "11328                 0  \n",
       "11329                 0  \n",
       "11330                 0  \n",
       "\n",
       "[11331 rows x 10 columns]"
      ]
     },
     "execution_count": 39,
     "metadata": {},
     "output_type": "execute_result"
    }
   ],
   "source": [
    "revenue_df = df.groupby(['user_id', 'month'], as_index=False).agg({'distance': ['count','sum'], 'duration': ['sum']})\n",
    "revenue_df.columns = ['_'.join(col).rstrip('_') for col in revenue_df.columns.values]\n",
    "revenue_df = revenue_df.rename(columns={\"distance_count\": \"ride_count\"})\n",
    "revenue_df = revenue_df.merge(users_df[['user_id', 'subscription_type', 'city']], on='user_id')\n",
    "revenue_df = revenue_df.merge(subscriptions_df, on='subscription_type')\n",
    "revenue_df"
   ]
  },
  {
   "cell_type": "code",
   "execution_count": 40,
   "id": "7efe4009",
   "metadata": {},
   "outputs": [],
   "source": [
    "#Помесячная выручка считается по формуле: \n",
    "# стоимость старта поездки × количество поездок\n",
    "# + стоимость одной минуты поездки × общая продолжительность всех поездок в минутах \n",
    "# + стоимость подписки\n",
    "\n",
    "revenue_df['month_revenue'] = revenue_df['duration_sum'] * revenue_df['minute_price'] + \\\n",
    "                              revenue_df['start_ride_price'] * revenue_df['ride_count'] + revenue_df['subscription_fee']  "
   ]
  },
  {
   "cell_type": "code",
   "execution_count": 41,
   "id": "9fa2738d",
   "metadata": {},
   "outputs": [
    {
     "data": {
      "text/plain": [
       "0"
      ]
     },
     "execution_count": 41,
     "metadata": {},
     "output_type": "execute_result"
    }
   ],
   "source": [
    "revenue_df.month_revenue.isna().sum()"
   ]
  },
  {
   "cell_type": "code",
   "execution_count": 42,
   "id": "c3c5bf8b",
   "metadata": {},
   "outputs": [
    {
     "data": {
      "text/plain": [
       "count    11331.000000\n",
       "mean       342.303504\n",
       "std        153.875346\n",
       "min         58.000000\n",
       "25%        234.000000\n",
       "50%        319.000000\n",
       "75%        415.000000\n",
       "max       1444.000000\n",
       "Name: month_revenue, dtype: float64"
      ]
     },
     "execution_count": 42,
     "metadata": {},
     "output_type": "execute_result"
    }
   ],
   "source": [
    "revenue_df.month_revenue.describe()"
   ]
  },
  {
   "cell_type": "markdown",
   "id": "a539b2e5",
   "metadata": {},
   "source": [
    "Посчитаем общую сумму выручки и по типам подписки "
   ]
  },
  {
   "cell_type": "code",
   "execution_count": 43,
   "id": "9a72b4cb",
   "metadata": {},
   "outputs": [
    {
     "data": {
      "text/plain": [
       "3878641.0"
      ]
     },
     "execution_count": 43,
     "metadata": {},
     "output_type": "execute_result"
    }
   ],
   "source": [
    "revenue_df.month_revenue.sum()"
   ]
  },
  {
   "cell_type": "code",
   "execution_count": 44,
   "id": "db58eaf3",
   "metadata": {},
   "outputs": [
    {
     "data": {
      "text/html": [
       "<div>\n",
       "<style scoped>\n",
       "    .dataframe tbody tr th:only-of-type {\n",
       "        vertical-align: middle;\n",
       "    }\n",
       "\n",
       "    .dataframe tbody tr th {\n",
       "        vertical-align: top;\n",
       "    }\n",
       "\n",
       "    .dataframe thead th {\n",
       "        text-align: right;\n",
       "    }\n",
       "</style>\n",
       "<table border=\"1\" class=\"dataframe\">\n",
       "  <thead>\n",
       "    <tr style=\"text-align: right;\">\n",
       "      <th></th>\n",
       "      <th>sum</th>\n",
       "      <th>min</th>\n",
       "      <th>mean</th>\n",
       "      <th>median</th>\n",
       "      <th>max</th>\n",
       "    </tr>\n",
       "    <tr>\n",
       "      <th>subscription_type</th>\n",
       "      <th></th>\n",
       "      <th></th>\n",
       "      <th></th>\n",
       "      <th></th>\n",
       "      <th></th>\n",
       "    </tr>\n",
       "  </thead>\n",
       "  <tbody>\n",
       "    <tr>\n",
       "      <th>free</th>\n",
       "      <td>2234104.0</td>\n",
       "      <td>58.0</td>\n",
       "      <td>328.641365</td>\n",
       "      <td>274.0</td>\n",
       "      <td>1444.0</td>\n",
       "    </tr>\n",
       "    <tr>\n",
       "      <th>ultra</th>\n",
       "      <td>1644537.0</td>\n",
       "      <td>223.0</td>\n",
       "      <td>362.792191</td>\n",
       "      <td>337.0</td>\n",
       "      <td>955.0</td>\n",
       "    </tr>\n",
       "  </tbody>\n",
       "</table>\n",
       "</div>"
      ],
      "text/plain": [
       "                         sum    min        mean  median     max\n",
       "subscription_type                                              \n",
       "free               2234104.0   58.0  328.641365   274.0  1444.0\n",
       "ultra              1644537.0  223.0  362.792191   337.0   955.0"
      ]
     },
     "execution_count": 44,
     "metadata": {},
     "output_type": "execute_result"
    }
   ],
   "source": [
    "revenue_df.groupby('subscription_type').agg(['sum','min','mean', 'median', 'max'])['month_revenue']"
   ]
  },
  {
   "cell_type": "markdown",
   "id": "51049489",
   "metadata": {},
   "source": [
    "Посмотрим на распределение выручки по городам и месяцам"
   ]
  },
  {
   "cell_type": "code",
   "execution_count": 45,
   "id": "619e306e",
   "metadata": {},
   "outputs": [
    {
     "data": {
      "text/plain": [
       "city\n",
       "Москва            408749.0\n",
       "Омск              449416.0\n",
       "Тюмень            458673.0\n",
       "Сочи              481337.0\n",
       "Краснодар         489445.0\n",
       "Ростов-на-Дону    520328.0\n",
       "Екатеринбург      529991.0\n",
       "Пятигорск         540702.0\n",
       "Name: month_revenue, dtype: float64"
      ]
     },
     "execution_count": 45,
     "metadata": {},
     "output_type": "execute_result"
    }
   ],
   "source": [
    "revenue_df.groupby('city').sum()['month_revenue'].sort_values()"
   ]
  },
  {
   "cell_type": "code",
   "execution_count": 46,
   "id": "8213c5b9",
   "metadata": {},
   "outputs": [
    {
     "data": {
      "text/plain": [
       "month\n",
       "1     337958.0\n",
       "2     290428.0\n",
       "3     329822.0\n",
       "4     322916.0\n",
       "5     337265.0\n",
       "6     335978.0\n",
       "7     328504.0\n",
       "8     325650.0\n",
       "9     323037.0\n",
       "10    315360.0\n",
       "11    305622.0\n",
       "12    326101.0\n",
       "Name: month_revenue, dtype: float64"
      ]
     },
     "execution_count": 46,
     "metadata": {},
     "output_type": "execute_result"
    }
   ],
   "source": [
    "revenue_df.groupby('month').sum()['month_revenue']"
   ]
  },
  {
   "cell_type": "code",
   "execution_count": 47,
   "id": "7b2c34b4",
   "metadata": {},
   "outputs": [
    {
     "data": {
      "image/png": "[encoded data removed]",
      "text/plain": [
       "<Figure size 1080x504 with 1 Axes>"
      ]
     },
     "metadata": {
      "needs_background": "light"
     },
     "output_type": "display_data"
    }
   ],
   "source": [
    "revenue_df.groupby('month').sum()['month_revenue'].plot(kind='bar', \n",
    "                                                        figsize=(15,7), \n",
    "                                                        rot=0, \n",
    "                                                        fontsize=12, \n",
    "                                                        grid=True).set_title('Выручка по месяцам \\n', fontsize=18)\n",
    "plt.ylabel('Сумма в рублях \\n', fontsize=14);\n",
    "plt.xlabel('\\n Месяц', fontsize=14);"
   ]
  },
  {
   "cell_type": "markdown",
   "id": "b07b3eb0",
   "metadata": {},
   "source": [
    "Рассмотрим количество поездок по месяцам"
   ]
  },
  {
   "cell_type": "code",
   "execution_count": 48,
   "id": "605f8c9e",
   "metadata": {},
   "outputs": [
    {
     "data": {
      "text/plain": [
       "month\n",
       "1     1585\n",
       "2     1336\n",
       "3     1544\n",
       "4     1506\n",
       "5     1560\n",
       "6     1553\n",
       "7     1529\n",
       "8     1518\n",
       "9     1517\n",
       "10    1475\n",
       "11    1418\n",
       "12    1527\n",
       "Name: ride_count, dtype: int64"
      ]
     },
     "execution_count": 48,
     "metadata": {},
     "output_type": "execute_result"
    }
   ],
   "source": [
    "revenue_df.groupby('month').sum()['ride_count']"
   ]
  },
  {
   "cell_type": "code",
   "execution_count": 49,
   "id": "bb3e7649",
   "metadata": {},
   "outputs": [
    {
     "data": {
      "image/png": "[encoded data removed]",
      "text/plain": [
       "<Figure size 1080x504 with 1 Axes>"
      ]
     },
     "metadata": {
      "needs_background": "light"
     },
     "output_type": "display_data"
    }
   ],
   "source": [
    "revenue_df.groupby('month').sum()['ride_count'].plot(kind='bar', \n",
    "                                                        figsize=(15,7), \n",
    "                                                        rot=0, \n",
    "                                                        fontsize=12, \n",
    "                                                        grid=True).set_title('Количество поездок по месяцам \\n', fontsize=18)\n",
    "plt.ylabel('Количество \\n', fontsize=14);\n",
    "plt.xlabel('\\n Месяц', fontsize=14);"
   ]
  },
  {
   "cell_type": "markdown",
   "id": "a997c992",
   "metadata": {},
   "source": [
    "##### Выводы\n",
    "\n",
    "Результаты агрегации дали следующие результаты: \n",
    "- общая сумма выручки 3878641 руб.\n",
    "- пользователи без подписки минимально принесли выручки - 58.0 руб, в среднем - 328.64 руб, медиана - 274.0 руб, максимально - 1444.0 руб., всего 2234104 руб. или 57.7% от общего числа\n",
    "- пользователи с подпиской 'ultra' минимально принесли выручки 223.0 в среднем - 362.79, медиана - 337.0 руб, максимально - 955.0 руб., всего 1644537 руб. или 42.3% от общего числа\n",
    "- при этом стоит помнить, что пользователей без подписки почти вдвое больше пользователей с подпиской\n",
    "- наиболее прибыльный месяц - январь, наименее прибыльный - февраль\n",
    "- в эти же месяцы совершены наибольшее и наименьшее число поездок\n",
    "- наиболее прибыльным оказался Пятигорск, наименее прибыльной - Москва\n",
    "\n",
    "Распределение прибыли и поездок по месяцам выглядят несколько странно для сервиса аренды самокатов. "
   ]
  },
  {
   "cell_type": "markdown",
   "id": "41545ac0",
   "metadata": {},
   "source": [
    "#### Проверка гипотез"
   ]
  },
  {
   "cell_type": "markdown",
   "id": "aaa8a904",
   "metadata": {},
   "source": [
    "##### Тратят ли пользователи с подпиской больше времени на поездки?\n",
    "\n",
    "Нам уже известно, что в среднем, пользователи с подпиской ездят на самокате дольше, однако насколько значима разница?\n",
    "\n",
    "Необходимо выяснить, является ли истинное среднее ген. совокупности пользователей с подпиской равным истинному среднему ген. совокупности пользователей без подписки. Нулевая гипотеза - истинные средние равны, альтернативная - среднее время с подпиской больше\n",
    "\n",
    "Для проверки используем t-тест c equal_var=False, т.к. размеры выборок различаются почти вдвое. "
   ]
  },
  {
   "cell_type": "code",
   "execution_count": 50,
   "id": "23ea867b",
   "metadata": {},
   "outputs": [
    {
     "name": "stdout",
     "output_type": "stream",
     "text": [
      "1.1814679253701353e-36\n",
      "Отвергаем нулевую гипотезу\n"
     ]
    }
   ],
   "source": [
    "alpha = 0.05\n",
    "result = st.ttest_ind(ultra_df.duration, free_df.duration, equal_var=False, alternative='greater')\n",
    "\n",
    "print(result.pvalue)\n",
    "if result.pvalue < alpha: \n",
    "     print('Отвергаем нулевую гипотезу')\n",
    "else:\n",
    "    print('Не получилось отвергнуть нулевую гипотезу') "
   ]
  },
  {
   "cell_type": "markdown",
   "id": "a482d884",
   "metadata": {},
   "source": [
    "Как видно из проведенного теста, разница в средних значениях неслучайна и пользователи с подпиской скорее всего будут предпринимать более длительные поездки."
   ]
  },
  {
   "cell_type": "markdown",
   "id": "af92f801",
   "metadata": {},
   "source": [
    "##### Можно ли сказать, что среднее расстояние, которое проезжают пользователи с подпиской за одну поездку, не превышает 3130 метров?\n",
    "\n",
    "Применим t-тест и сравним среднее расстояние поездки пользователей с числом 3130. Нулевая гипотеза - среднее расстояние одной поездки пользователя с подпиской равно 3130, альтернативная - путь за одну поездку больше 3130. "
   ]
  },
  {
   "cell_type": "code",
   "execution_count": 51,
   "id": "16eed48a",
   "metadata": {},
   "outputs": [
    {
     "name": "stdout",
     "output_type": "stream",
     "text": [
      "0.9195362605842414\n",
      "Не получилось отвергнуть нулевую гипотезу\n"
     ]
    }
   ],
   "source": [
    "value = 3130\n",
    "\n",
    "result = st.ttest_1samp(ultra_df.distance, value, alternative='greater')\n",
    "\n",
    "print(result.pvalue)\n",
    "if result.pvalue < alpha: \n",
    "     print('Отвергаем нулевую гипотезу')\n",
    "else:\n",
    "    print('Не получилось отвергнуть нулевую гипотезу') "
   ]
  },
  {
   "cell_type": "markdown",
   "id": "97e0e602",
   "metadata": {},
   "source": [
    "Таким образом, вероятнее всего, что за одно поездку пользователь с подпиской продет около 3130 метров."
   ]
  },
  {
   "cell_type": "markdown",
   "id": "29220f9d",
   "metadata": {},
   "source": [
    "##### Будет ли помесячная выручка от пользователей с подпиской по месяцам выше, чем выручка от пользователей без подписки ?\n",
    "\n",
    "Нулевая гипотеза - средняя выручка по месяцам одинакова, альтернативная - выручка от пользователй с подпиской больше."
   ]
  },
  {
   "cell_type": "code",
   "execution_count": 52,
   "id": "21ef35d4",
   "metadata": {},
   "outputs": [
    {
     "name": "stdout",
     "output_type": "stream",
     "text": [
      "8.874140893976874e-40\n",
      "Отвергаем нулевую гипотезу\n"
     ]
    }
   ],
   "source": [
    "revenue_ultra = revenue_df[revenue_df['subscription_type'] == 'ultra'].month_revenue\n",
    "revenue_free = revenue_df[revenue_df['subscription_type'] == 'free'].month_revenue\n",
    "\n",
    "alpha = 0.05\n",
    "result = st.ttest_ind(revenue_ultra, revenue_free, equal_var=False, alternative='greater')\n",
    "\n",
    "print(result.pvalue)\n",
    "if result.pvalue < alpha: \n",
    "     print('Отвергаем нулевую гипотезу')\n",
    "else:\n",
    "    print('Не получилось отвергнуть нулевую гипотезу') "
   ]
  },
  {
   "cell_type": "markdown",
   "id": "1d37bfb0",
   "metadata": {},
   "source": [
    "Как видим, разница в средних значениях не случайна, поэтому можно сказать, что пользователи с подпиской в среднем приносят больше выручки, чем пользователи без подписки, несмотря на разность в количестве пользователей."
   ]
  },
  {
   "cell_type": "markdown",
   "id": "61213c5e",
   "metadata": {},
   "source": [
    "#### Распределения"
   ]
  },
  {
   "cell_type": "markdown",
   "id": "50019b9e",
   "metadata": {},
   "source": [
    "##### Выяснить, какое минимальное количество промокодов нужно разослать, чтобы вероятность не выполнить план была примерно  5% \n",
    "\n",
    "Условия: минимум 100 существующих клиентов должны продлить бесплатную месячную подписку по промокоду. \n",
    "Акция уже проводилась ранее и по итогу выяснилось, что после бесплатного пробного периода подписку продлевают 10 % пользователей. \n",
    "\n",
    "Если предположить, что 100 - это и есть искомые 10%, то можно начать с 1000 рассылок.\n",
    "Для начала поcтроим биномиальное распределение с n=1000 и p=0.1   "
   ]
  },
  {
   "cell_type": "code",
   "execution_count": 56,
   "id": "86a15d70",
   "metadata": {},
   "outputs": [
    {
     "data": {
      "image/png": "[encoded data removed]",
      "text/plain": [
       "<Figure size 1080x360 with 1 Axes>"
      ]
     },
     "metadata": {
      "needs_background": "light"
     },
     "output_type": "display_data"
    }
   ],
   "source": [
    "p = 0.1\n",
    "n = 1000\n",
    "\n",
    "distr=[]\n",
    "\n",
    "for k in range(0, n + 1):\n",
    "    current_val = st.binom.pmf(k, n, p)\n",
    "    distr.append(current_val)\n",
    "    \n",
    "fig, ax = plt.subplots(figsize = (15, 5))\n",
    "ax.grid(visible = True)\n",
    "ax.bar(range(0, n + 1), distr)\n",
    "plt.xticks(range(0,1001, 50))\n",
    "plt.show();"
   ]
  },
  {
   "cell_type": "markdown",
   "id": "8e96b748",
   "metadata": {},
   "source": [
    "Из графика понятно, что если мы хотим получить минимум 100 пользователей, которые хотят продлить подписку, то нам нужно разослать точно более 1000 бесплатных месячных подпиcок (как минимум 1050).\n",
    "\n",
    "Попробуем найти более точное число при помощи cdf(). Если вероятность не выполнить план 5%, значит, нам необходимо найти количество промокодов, при которых мы с вероятностью 95% получим искомый результат. Чтобы получить этот результат будем вычитать из 1 результаты выполнения cdf(), т.к. cdf() возвращает вероятность получить искомые 100 пользователей или меньше."
   ]
  },
  {
   "cell_type": "code",
   "execution_count": 54,
   "id": "95cd1d51",
   "metadata": {
    "scrolled": true
   },
   "outputs": [
    {
     "name": "stdout",
     "output_type": "stream",
     "text": [
      "Необходимое количество промокодов не менее: 1161\n"
     ]
    }
   ],
   "source": [
    "n_min = 1050\n",
    "p = 0.1\n",
    "\n",
    "while True: \n",
    "    if 1 - st.binom.cdf(k=99, n=n_min, p=p) >= 0.95:\n",
    "        print('Необходимое количество промокодов не менее:', n_min)\n",
    "        break\n",
    "    n_min += 1"
   ]
  },
  {
   "cell_type": "markdown",
   "id": "69960c24",
   "metadata": {},
   "source": [
    "##### Оценить вероятность того, что push-уведомление откроют не более 399,5 тыс. пользователей.\n",
    "\n",
    "Условия: отдел маркетинга рассылает клиентам push-уведомления в мобильном приложении. Клиенты могут открыть его или не открывать. Известно, что уведомления открывают около 40 % получивших клиентов. Отдел планирует разослать 1 млн уведомлений. \n",
    "\n",
    "Необходимо с помощью аппроксимации построить примерный график распределения и оценить вероятность того, что уведомление откроют не более 399,5 тыс. пользователей."
   ]
  },
  {
   "cell_type": "code",
   "execution_count": 55,
   "id": "ae0d532f",
   "metadata": {},
   "outputs": [
    {
     "name": "stdout",
     "output_type": "stream",
     "text": [
      "Вероятность того, что push-уведомление откроют не более 399,5 тыс. пользователей примерно 0.154\n"
     ]
    }
   ],
   "source": [
    "n = 1_000_000\n",
    "p = 0.4\n",
    "\n",
    "mu = n * p\n",
    "sigma = sqrt(n * p * (1 - p))\n",
    "distr = st.norm(mu, sigma) \n",
    "\n",
    "result = distr.cdf(399_500)\n",
    "print('Вероятность того, что push-уведомление откроют не более 399,5 тыс. пользователей примерно', (result).round(3))"
   ]
  },
  {
   "cell_type": "markdown",
   "id": "78504880",
   "metadata": {},
   "source": [
    "#### Общий вывод\n",
    "\n",
    "##### Данные \n",
    "- пропусков в данных не обнаружено\n",
    "- типы данных соответствуют предполагаемым значениям, за исключением столбца `'date'` в таблице о совершенных поездках - вместо datetime64 - object\n",
    "- данные без пропусков, в записях о пользователях встретилось небольшое число полных дубликатов.\n",
    "- все записи о поездках за 2021 год. \n",
    "- в данных о поездках встречаются записи с аномально коротким относительно длины поездки времени. Возможно, некорректно фиксируется конец поездки\n",
    "\n",
    "##### Исследовательский анализ данных\n",
    "\n",
    "- всего имеем записи о 1534 пользователях и 18068 поездках\n",
    "- больше всего пользователей из Пятигорска, меньше - из Москвы\n",
    "- чаще встречающийся возраст среди пользователей - 25 лет, минимальный - 12, максимальный - 43\n",
    "- на графике расстояния видно две вершины около 700 м и 3000 м, вероятно есть отдельная категория пользователей, которые предпринимают относительно короткие поездки\n",
    "- медианное расстояние поездки - 3133 метра, минимальное - 85 сантиметров, максимальное - 7211 метров\n",
    "- среднее время поездки - 17 мин, минимальное - 6 мин, максимальное 41 мин\n",
    "- есть 95 записей с аномально коротким временем поездки до 30 секунд. Однако, если посмотреть на расстояние, то становится понятно, что пользователь явно не мог проехать от 4 до 7 км за 30 секунд. Вероятно, поездка не была завершена должным образом. В то же время данные других столбцов ещё можно использовать, как и наличие самих этих записей (ведь если тариф был free, то пользователь в любом случае заплатил 50 руб.), поэтому оставим их как есть.  \n",
    "- пользователей без подписки - 54%, с подпиской - 46%\n",
    "\n",
    "##### Подсчет выручки\n",
    "\n",
    "- общая сумма выручки 3878641 руб.\n",
    "- пользователи без подписки минимально принесли выручки - 58.0 руб, в среднем - 328.64 руб, медиана - 274.0 руб, максимально - 1444.0 руб., всего 2234104 руб. или 57.7% от общего числа\n",
    "- пользователи с подпиской 'ultra' минимально принесли выручки 223.0 в среднем - 362.79, медиана - 337.0 руб, максимально - 955.0 руб., всего 1644537 руб. или 42.3% от общего числа\n",
    "- при этом стоит помнить, что пользователей без подписки почти вдвое больше пользователей с подпиской\n",
    "- наиболее прибыльный месяц - январь, наименее прибыльный - февраль\n",
    "- в эти же месяцы совершены наибольшее и наименьшее число поездок\n",
    "- наиболее прибыльным оказался Пятигорск, наименее прибыльной - Москва\n",
    "- распределение прибыли и поездок по месяцам выглядят несколько странно для сервиса аренды самокатов (самый прибыльный месяц - январь)\n",
    "\n",
    "##### Проверка гипотез\n",
    "\n",
    "###### Тратят ли пользователи с подпиской больше времени на поездки?\n",
    "\n",
    "По результатам t-теста выявлено, что разница в средних значениях выборки пользователей с подпиской и без неслучайна и пользователи с подпиской скорее всего будут предпринимать более длительные поездки, нежели пользователи без. \n",
    "\n",
    "######  Можно ли сказать, что среднее расстояние, которое проезжают пользователи с подпиской за одну поездку, не превышает 3130 метров?\n",
    "\n",
    "По результатам t-теста выявлено, что вероятнее всего, за одну поездку пользователь с подпиской продет около 3130 метров.\n",
    "\n",
    "######  Будет ли помесячная выручка от пользователей с подпиской по месяцам выше, чем выручка от пользователей без подписки ?\n",
    "\n",
    "Из результатов t-теста видим, что разница в средних значениях не случайна, поэтому можно сказать, что пользователи с подпиской в среднем приносят больше выручки, чем пользователи без подписки, несмотря на разность в количестве пользователей.\n",
    "\n",
    "######  Какой тест вам понадобился бы для проверки гипотезы? \n",
    "\n",
    "Гипотеза: \"Представьте такую ситуацию: техническая команда сервиса обновила сервера, с которыми взаимодействует мобильное приложение. Она надеется, что из-за этого количество обращений в техподдержку значимо снизилось. Некоторый файл содержит для каждого пользователя данные о количестве обращений до обновления и после него.\"\n",
    "\n",
    "Для проверки такой гипотезы необходимо применить двухвыборочный t-тест для зависимых выборок (scipy.stats.ttest_rel)\n",
    "\n",
    "##### Распределения\n",
    "\n",
    "###### Выяснить, какое минимальное количество промокодов нужно разослать, чтобы вероятность не выполнить план была примерно  5% \n",
    "\n",
    "При помощи биномиального распределения и кумулятивной функции распределения выявлено, что необходимое количество промокодов - не менее 1161 штук\n",
    "\n",
    "###### Оценить вероятность того, что push-уведомление откроют не более 399,5 тыс. пользователей.\n",
    "\n",
    "Вероятность того, что push-уведомление откроют не более 399,5 тыс. пользователей примерно 0.154\n",
    "\n",
    "\n",
    "##### Рекомендации\n",
    "\n",
    "- возможно необходимо проверить работу регистрации в сервисе или выгрузку записей  - в записях о пользователях были больные дубликаты\n",
    "- возможно необходимо проверить или усовершенствовать работу фиксации окончания поездки, особенно обратить внимание на пользователей без подписки - в записях встретились записи с аномально короткими по времени, но не по расстоянию поездками \n",
    "- среди поездок выделяется группа поездок до 1500 м. И чаще такие поездки совершают пользователи без подписки. Может быть стоит рассмотреть линейку тарифных планов для таких пользователей?"
   ]
  }
 ],
 "metadata": {
  "ExecuteTimeLog": [
   {
    "duration": 1216,
    "start_time": "2024-03-14T22:47:47.480Z"
   },
   {
    "duration": 49,
    "start_time": "2024-03-15T18:20:23.324Z"
   },
   {
    "duration": 1200,
    "start_time": "2024-03-15T18:20:31.375Z"
   },
   {
    "duration": 232,
    "start_time": "2024-03-15T18:20:34.399Z"
   },
   {
    "duration": 102,
    "start_time": "2024-03-15T18:20:56.353Z"
   },
   {
    "duration": 9,
    "start_time": "2024-03-15T18:22:33.114Z"
   },
   {
    "duration": 11,
    "start_time": "2024-03-15T18:22:38.297Z"
   },
   {
    "duration": 11,
    "start_time": "2024-03-15T18:23:06.385Z"
   },
   {
    "duration": 9,
    "start_time": "2024-03-15T18:23:28.623Z"
   },
   {
    "duration": 11,
    "start_time": "2024-03-15T18:23:39.986Z"
   },
   {
    "duration": 7,
    "start_time": "2024-03-15T18:24:17.719Z"
   },
   {
    "duration": 10,
    "start_time": "2024-03-15T18:24:29.907Z"
   },
   {
    "duration": 300,
    "start_time": "2024-03-15T21:21:26.085Z"
   },
   {
    "duration": 342,
    "start_time": "2024-03-15T21:21:46.351Z"
   },
   {
    "duration": 343,
    "start_time": "2024-03-15T21:28:33.001Z"
   },
   {
    "duration": 362,
    "start_time": "2024-03-15T21:28:37.717Z"
   },
   {
    "duration": 394,
    "start_time": "2024-03-15T21:28:40.407Z"
   },
   {
    "duration": 351,
    "start_time": "2024-03-15T21:28:46.801Z"
   },
   {
    "duration": 1431,
    "start_time": "2024-03-17T14:31:07.945Z"
   },
   {
    "duration": 209,
    "start_time": "2024-03-17T14:31:09.379Z"
   },
   {
    "duration": 18,
    "start_time": "2024-03-17T14:31:09.590Z"
   },
   {
    "duration": 15,
    "start_time": "2024-03-17T14:31:09.611Z"
   },
   {
    "duration": 11,
    "start_time": "2024-03-17T14:31:09.629Z"
   },
   {
    "duration": 12,
    "start_time": "2024-03-17T14:31:09.642Z"
   },
   {
    "duration": 497,
    "start_time": "2024-03-17T14:31:09.656Z"
   },
   {
    "duration": 7,
    "start_time": "2024-03-17T14:31:10.155Z"
   },
   {
    "duration": 17,
    "start_time": "2024-03-17T14:31:10.164Z"
   },
   {
    "duration": 654,
    "start_time": "2024-03-17T14:31:16.507Z"
   },
   {
    "duration": 9,
    "start_time": "2024-03-17T14:31:38.373Z"
   },
   {
    "duration": 20,
    "start_time": "2024-03-17T14:31:55.222Z"
   },
   {
    "duration": 6,
    "start_time": "2024-03-17T16:17:56.200Z"
   },
   {
    "duration": 8,
    "start_time": "2024-03-17T16:18:28.357Z"
   },
   {
    "duration": 10,
    "start_time": "2024-03-17T16:18:56.286Z"
   },
   {
    "duration": 9,
    "start_time": "2024-03-17T16:19:02.206Z"
   },
   {
    "duration": 7,
    "start_time": "2024-03-17T16:19:33.894Z"
   },
   {
    "duration": 7,
    "start_time": "2024-03-17T16:35:41.186Z"
   },
   {
    "duration": 6,
    "start_time": "2024-03-17T16:36:14.731Z"
   },
   {
    "duration": 6,
    "start_time": "2024-03-17T16:36:53.190Z"
   },
   {
    "duration": 14,
    "start_time": "2024-03-17T16:37:19.686Z"
   },
   {
    "duration": 16,
    "start_time": "2024-03-17T16:37:49.538Z"
   },
   {
    "duration": 13,
    "start_time": "2024-03-17T16:37:59.462Z"
   },
   {
    "duration": 15,
    "start_time": "2024-03-17T17:00:33.637Z"
   },
   {
    "duration": 12,
    "start_time": "2024-03-17T17:00:51.266Z"
   },
   {
    "duration": 19,
    "start_time": "2024-03-17T17:01:05.982Z"
   },
   {
    "duration": 11,
    "start_time": "2024-03-17T17:16:41.409Z"
   },
   {
    "duration": 9,
    "start_time": "2024-03-17T17:16:54.706Z"
   },
   {
    "duration": 1168,
    "start_time": "2024-03-17T17:26:19.195Z"
   },
   {
    "duration": 71,
    "start_time": "2024-03-17T17:26:20.366Z"
   },
   {
    "duration": 13,
    "start_time": "2024-03-17T17:26:20.439Z"
   },
   {
    "duration": 23,
    "start_time": "2024-03-17T17:26:20.454Z"
   },
   {
    "duration": 9,
    "start_time": "2024-03-17T17:26:20.479Z"
   },
   {
    "duration": 32,
    "start_time": "2024-03-17T17:26:20.490Z"
   },
   {
    "duration": 439,
    "start_time": "2024-03-17T17:26:20.523Z"
   },
   {
    "duration": 7,
    "start_time": "2024-03-17T17:26:20.964Z"
   },
   {
    "duration": 20,
    "start_time": "2024-03-17T17:26:20.972Z"
   },
   {
    "duration": 40,
    "start_time": "2024-03-17T17:26:20.995Z"
   },
   {
    "duration": 7,
    "start_time": "2024-03-17T17:26:21.037Z"
   },
   {
    "duration": 26,
    "start_time": "2024-03-17T17:26:21.045Z"
   },
   {
    "duration": 16,
    "start_time": "2024-03-17T17:26:21.072Z"
   },
   {
    "duration": 33,
    "start_time": "2024-03-17T17:26:21.090Z"
   },
   {
    "duration": 17,
    "start_time": "2024-03-17T17:26:21.125Z"
   },
   {
    "duration": 12,
    "start_time": "2024-03-17T17:27:33.318Z"
   },
   {
    "duration": 9,
    "start_time": "2024-03-17T17:30:41.441Z"
   },
   {
    "duration": 7,
    "start_time": "2024-03-17T17:31:15.935Z"
   },
   {
    "duration": 100,
    "start_time": "2024-03-17T17:31:47.799Z"
   },
   {
    "duration": 6,
    "start_time": "2024-03-17T17:31:54.518Z"
   },
   {
    "duration": 142,
    "start_time": "2024-03-17T17:32:15.087Z"
   },
   {
    "duration": 137,
    "start_time": "2024-03-17T17:32:37.699Z"
   },
   {
    "duration": 134,
    "start_time": "2024-03-17T17:32:42.847Z"
   },
   {
    "duration": 147,
    "start_time": "2024-03-17T17:32:57.210Z"
   },
   {
    "duration": 179,
    "start_time": "2024-03-17T17:33:08.071Z"
   },
   {
    "duration": 12,
    "start_time": "2024-03-17T17:33:31.522Z"
   },
   {
    "duration": 168,
    "start_time": "2024-03-17T17:33:55.689Z"
   },
   {
    "duration": 155,
    "start_time": "2024-03-17T17:34:01.959Z"
   },
   {
    "duration": 228,
    "start_time": "2024-03-17T17:37:12.079Z"
   },
   {
    "duration": 160,
    "start_time": "2024-03-17T17:37:58.197Z"
   },
   {
    "duration": 161,
    "start_time": "2024-03-17T17:40:37.076Z"
   },
   {
    "duration": 157,
    "start_time": "2024-03-17T17:40:43.926Z"
   },
   {
    "duration": 162,
    "start_time": "2024-03-17T17:41:02.651Z"
   },
   {
    "duration": 166,
    "start_time": "2024-03-17T17:41:09.099Z"
   },
   {
    "duration": 156,
    "start_time": "2024-03-17T17:42:48.942Z"
   },
   {
    "duration": 150,
    "start_time": "2024-03-17T17:42:57.363Z"
   },
   {
    "duration": 161,
    "start_time": "2024-03-17T17:43:04.627Z"
   },
   {
    "duration": 159,
    "start_time": "2024-03-17T17:43:13.983Z"
   },
   {
    "duration": 70,
    "start_time": "2024-03-17T17:45:11.586Z"
   },
   {
    "duration": 234,
    "start_time": "2024-03-17T17:45:45.266Z"
   },
   {
    "duration": 79,
    "start_time": "2024-03-17T17:45:52.666Z"
   },
   {
    "duration": 108,
    "start_time": "2024-03-17T17:46:08.411Z"
   },
   {
    "duration": 118,
    "start_time": "2024-03-17T17:47:15.074Z"
   },
   {
    "duration": 165,
    "start_time": "2024-03-17T17:50:01.861Z"
   },
   {
    "duration": 111,
    "start_time": "2024-03-17T17:50:07.668Z"
   },
   {
    "duration": 163,
    "start_time": "2024-03-17T17:51:08.471Z"
   },
   {
    "duration": 163,
    "start_time": "2024-03-17T17:51:47.603Z"
   },
   {
    "duration": 204,
    "start_time": "2024-03-17T17:52:42.734Z"
   },
   {
    "duration": 200,
    "start_time": "2024-03-17T17:53:07.396Z"
   },
   {
    "duration": 200,
    "start_time": "2024-03-17T17:56:55.455Z"
   },
   {
    "duration": 211,
    "start_time": "2024-03-17T17:57:21.730Z"
   },
   {
    "duration": 221,
    "start_time": "2024-03-17T17:57:44.251Z"
   },
   {
    "duration": 145,
    "start_time": "2024-03-17T17:58:12.287Z"
   },
   {
    "duration": 148,
    "start_time": "2024-03-17T17:58:21.656Z"
   },
   {
    "duration": 228,
    "start_time": "2024-03-17T17:58:44.584Z"
   },
   {
    "duration": 152,
    "start_time": "2024-03-17T17:58:52.432Z"
   },
   {
    "duration": 158,
    "start_time": "2024-03-17T17:58:57.723Z"
   },
   {
    "duration": 157,
    "start_time": "2024-03-17T17:59:04.795Z"
   },
   {
    "duration": 5,
    "start_time": "2024-03-17T17:59:49.284Z"
   },
   {
    "duration": 9,
    "start_time": "2024-03-17T18:01:08.848Z"
   },
   {
    "duration": 244,
    "start_time": "2024-03-17T18:01:13.720Z"
   },
   {
    "duration": 175,
    "start_time": "2024-03-17T18:01:23.239Z"
   },
   {
    "duration": 15,
    "start_time": "2024-03-17T18:01:55.345Z"
   },
   {
    "duration": 181,
    "start_time": "2024-03-17T18:02:26.109Z"
   },
   {
    "duration": 183,
    "start_time": "2024-03-17T18:02:41.745Z"
   },
   {
    "duration": 72,
    "start_time": "2024-03-17T18:03:12.070Z"
   },
   {
    "duration": 201,
    "start_time": "2024-03-17T18:03:15.977Z"
   },
   {
    "duration": 224,
    "start_time": "2024-03-17T18:05:16.086Z"
   },
   {
    "duration": 261,
    "start_time": "2024-03-17T18:06:02.586Z"
   },
   {
    "duration": 468,
    "start_time": "2024-03-17T18:08:58.158Z"
   },
   {
    "duration": 342,
    "start_time": "2024-03-17T18:09:44.446Z"
   },
   {
    "duration": 326,
    "start_time": "2024-03-17T18:10:07.191Z"
   },
   {
    "duration": 349,
    "start_time": "2024-03-17T18:10:22.030Z"
   },
   {
    "duration": 332,
    "start_time": "2024-03-17T18:11:46.026Z"
   },
   {
    "duration": 459,
    "start_time": "2024-03-17T18:12:38.971Z"
   },
   {
    "duration": 142,
    "start_time": "2024-03-17T18:16:00.511Z"
   },
   {
    "duration": 141,
    "start_time": "2024-03-17T18:16:06.934Z"
   },
   {
    "duration": 354,
    "start_time": "2024-03-17T18:18:40.496Z"
   },
   {
    "duration": 343,
    "start_time": "2024-03-17T18:18:52.911Z"
   },
   {
    "duration": 333,
    "start_time": "2024-03-17T18:19:13.515Z"
   },
   {
    "duration": 424,
    "start_time": "2024-03-17T18:20:27.346Z"
   },
   {
    "duration": 343,
    "start_time": "2024-03-17T18:20:42.140Z"
   },
   {
    "duration": 23,
    "start_time": "2024-03-17T18:55:59.193Z"
   },
   {
    "duration": 227,
    "start_time": "2024-03-17T18:57:25.443Z"
   },
   {
    "duration": 241,
    "start_time": "2024-03-17T18:57:32.042Z"
   },
   {
    "duration": 274,
    "start_time": "2024-03-17T18:59:06.606Z"
   },
   {
    "duration": 277,
    "start_time": "2024-03-17T18:59:12.464Z"
   },
   {
    "duration": 375,
    "start_time": "2024-03-17T19:00:26.054Z"
   },
   {
    "duration": 276,
    "start_time": "2024-03-17T19:08:47.030Z"
   },
   {
    "duration": 203,
    "start_time": "2024-03-17T19:09:37.052Z"
   },
   {
    "duration": 525,
    "start_time": "2024-03-17T19:10:44.322Z"
   },
   {
    "duration": 343,
    "start_time": "2024-03-17T19:10:51.752Z"
   },
   {
    "duration": 364,
    "start_time": "2024-03-17T19:11:04.228Z"
   },
   {
    "duration": 403,
    "start_time": "2024-03-17T19:41:11.841Z"
   },
   {
    "duration": 1157,
    "start_time": "2024-03-17T19:41:23.630Z"
   },
   {
    "duration": 371,
    "start_time": "2024-03-17T19:41:33.202Z"
   },
   {
    "duration": 301,
    "start_time": "2024-03-17T19:41:44.374Z"
   },
   {
    "duration": 361,
    "start_time": "2024-03-17T19:49:36.656Z"
   },
   {
    "duration": 1247,
    "start_time": "2024-03-18T09:51:21.887Z"
   },
   {
    "duration": 188,
    "start_time": "2024-03-18T09:51:23.136Z"
   },
   {
    "duration": 12,
    "start_time": "2024-03-18T09:51:23.326Z"
   },
   {
    "duration": 11,
    "start_time": "2024-03-18T09:51:23.339Z"
   },
   {
    "duration": 13,
    "start_time": "2024-03-18T09:51:23.352Z"
   },
   {
    "duration": 25,
    "start_time": "2024-03-18T09:51:23.367Z"
   },
   {
    "duration": 375,
    "start_time": "2024-03-18T09:51:23.393Z"
   },
   {
    "duration": 7,
    "start_time": "2024-03-18T09:51:23.769Z"
   },
   {
    "duration": 12,
    "start_time": "2024-03-18T09:51:23.778Z"
   },
   {
    "duration": 13,
    "start_time": "2024-03-18T09:51:23.791Z"
   },
   {
    "duration": 6,
    "start_time": "2024-03-18T09:51:23.806Z"
   },
   {
    "duration": 6,
    "start_time": "2024-03-18T09:51:23.814Z"
   },
   {
    "duration": 7,
    "start_time": "2024-03-18T09:51:23.821Z"
   },
   {
    "duration": 6,
    "start_time": "2024-03-18T09:51:23.864Z"
   },
   {
    "duration": 26,
    "start_time": "2024-03-18T09:51:23.872Z"
   },
   {
    "duration": 9,
    "start_time": "2024-03-18T09:51:23.900Z"
   },
   {
    "duration": 16,
    "start_time": "2024-03-18T09:51:23.911Z"
   },
   {
    "duration": 15,
    "start_time": "2024-03-18T09:51:23.929Z"
   },
   {
    "duration": 190,
    "start_time": "2024-03-18T09:51:23.945Z"
   },
   {
    "duration": 6,
    "start_time": "2024-03-18T09:51:24.137Z"
   },
   {
    "duration": 151,
    "start_time": "2024-03-18T09:51:24.145Z"
   },
   {
    "duration": 328,
    "start_time": "2024-03-18T09:51:24.298Z"
   },
   {
    "duration": 21,
    "start_time": "2024-03-18T09:51:24.628Z"
   },
   {
    "duration": 303,
    "start_time": "2024-03-18T09:51:24.651Z"
   },
   {
    "duration": 468,
    "start_time": "2024-03-18T09:51:24.956Z"
   },
   {
    "duration": 346,
    "start_time": "2024-03-18T09:51:25.425Z"
   },
   {
    "duration": 19,
    "start_time": "2024-03-18T11:40:57.872Z"
   },
   {
    "duration": 17,
    "start_time": "2024-03-18T11:41:53.821Z"
   },
   {
    "duration": 17,
    "start_time": "2024-03-18T11:42:36.910Z"
   },
   {
    "duration": 17,
    "start_time": "2024-03-18T11:42:54.477Z"
   },
   {
    "duration": 110,
    "start_time": "2024-03-18T11:44:25.772Z"
   },
   {
    "duration": 23,
    "start_time": "2024-03-18T11:45:00.751Z"
   },
   {
    "duration": 24,
    "start_time": "2024-03-18T11:45:37.721Z"
   },
   {
    "duration": 28,
    "start_time": "2024-03-18T11:45:50.060Z"
   },
   {
    "duration": 24,
    "start_time": "2024-03-18T11:46:18.519Z"
   },
   {
    "duration": 21,
    "start_time": "2024-03-18T11:50:09.295Z"
   },
   {
    "duration": 27,
    "start_time": "2024-03-18T11:50:26.509Z"
   },
   {
    "duration": 9,
    "start_time": "2024-03-18T11:50:42.797Z"
   },
   {
    "duration": 13,
    "start_time": "2024-03-18T12:20:30.567Z"
   },
   {
    "duration": 7,
    "start_time": "2024-03-18T12:20:49.430Z"
   },
   {
    "duration": 329,
    "start_time": "2024-03-18T12:36:00.977Z"
   },
   {
    "duration": 349,
    "start_time": "2024-03-18T12:36:14.776Z"
   },
   {
    "duration": 31,
    "start_time": "2024-03-18T12:36:30.528Z"
   },
   {
    "duration": 33,
    "start_time": "2024-03-18T12:36:38.521Z"
   },
   {
    "duration": 340,
    "start_time": "2024-03-18T12:39:30.320Z"
   },
   {
    "duration": 309,
    "start_time": "2024-03-18T12:40:51.626Z"
   },
   {
    "duration": 304,
    "start_time": "2024-03-18T12:41:05.515Z"
   },
   {
    "duration": 303,
    "start_time": "2024-03-18T12:41:14.698Z"
   },
   {
    "duration": 292,
    "start_time": "2024-03-18T12:41:22.995Z"
   },
   {
    "duration": 299,
    "start_time": "2024-03-18T12:42:00.824Z"
   },
   {
    "duration": 340,
    "start_time": "2024-03-18T12:42:11.349Z"
   },
   {
    "duration": 251,
    "start_time": "2024-03-18T12:43:15.102Z"
   },
   {
    "duration": 298,
    "start_time": "2024-03-18T12:45:32.346Z"
   },
   {
    "duration": 302,
    "start_time": "2024-03-18T12:45:38.089Z"
   },
   {
    "duration": 298,
    "start_time": "2024-03-18T12:45:43.026Z"
   },
   {
    "duration": 395,
    "start_time": "2024-03-18T12:45:59.354Z"
   },
   {
    "duration": 303,
    "start_time": "2024-03-18T12:46:05.517Z"
   },
   {
    "duration": 298,
    "start_time": "2024-03-18T12:46:32.602Z"
   },
   {
    "duration": 349,
    "start_time": "2024-03-18T12:46:38.712Z"
   },
   {
    "duration": 311,
    "start_time": "2024-03-18T12:46:48.912Z"
   },
   {
    "duration": 302,
    "start_time": "2024-03-18T12:46:54.699Z"
   },
   {
    "duration": 386,
    "start_time": "2024-03-18T12:56:32.934Z"
   },
   {
    "duration": 310,
    "start_time": "2024-03-18T12:56:47.349Z"
   },
   {
    "duration": 294,
    "start_time": "2024-03-18T12:56:55.093Z"
   },
   {
    "duration": 299,
    "start_time": "2024-03-18T12:57:03.015Z"
   },
   {
    "duration": 321,
    "start_time": "2024-03-18T12:57:11.740Z"
   },
   {
    "duration": 411,
    "start_time": "2024-03-18T12:57:18.245Z"
   },
   {
    "duration": 283,
    "start_time": "2024-03-18T12:57:39.716Z"
   },
   {
    "duration": 281,
    "start_time": "2024-03-18T12:57:50.021Z"
   },
   {
    "duration": 250,
    "start_time": "2024-03-18T12:57:53.217Z"
   },
   {
    "duration": 310,
    "start_time": "2024-03-18T12:59:20.256Z"
   },
   {
    "duration": 266,
    "start_time": "2024-03-18T12:59:24.318Z"
   },
   {
    "duration": 478,
    "start_time": "2024-03-18T12:59:27.965Z"
   },
   {
    "duration": 341,
    "start_time": "2024-03-18T12:59:36.701Z"
   },
   {
    "duration": 303,
    "start_time": "2024-03-18T12:59:55.328Z"
   },
   {
    "duration": 319,
    "start_time": "2024-03-18T13:01:08.796Z"
   },
   {
    "duration": 383,
    "start_time": "2024-03-18T14:41:10.646Z"
   },
   {
    "duration": 13,
    "start_time": "2024-03-18T14:42:25.431Z"
   },
   {
    "duration": 430,
    "start_time": "2024-03-18T14:43:53.682Z"
   },
   {
    "duration": 460,
    "start_time": "2024-03-18T14:44:53.408Z"
   },
   {
    "duration": 467,
    "start_time": "2024-03-18T14:44:59.129Z"
   },
   {
    "duration": 10,
    "start_time": "2024-03-18T14:48:37.577Z"
   },
   {
    "duration": 29,
    "start_time": "2024-03-18T14:50:51.881Z"
   },
   {
    "duration": 326,
    "start_time": "2024-03-18T16:35:54.216Z"
   },
   {
    "duration": 376,
    "start_time": "2024-03-18T16:36:01.704Z"
   },
   {
    "duration": 454,
    "start_time": "2024-03-18T16:36:22.391Z"
   },
   {
    "duration": 883,
    "start_time": "2024-03-18T16:36:57.782Z"
   },
   {
    "duration": 253,
    "start_time": "2024-03-18T16:37:03.447Z"
   },
   {
    "duration": 1051,
    "start_time": "2024-03-18T17:35:35.220Z"
   },
   {
    "duration": 9,
    "start_time": "2024-03-18T17:36:07.601Z"
   },
   {
    "duration": 11,
    "start_time": "2024-03-18T17:38:49.566Z"
   },
   {
    "duration": 8,
    "start_time": "2024-03-18T17:42:02.774Z"
   },
   {
    "duration": 8,
    "start_time": "2024-03-18T17:43:05.486Z"
   },
   {
    "duration": 9,
    "start_time": "2024-03-18T17:46:03.875Z"
   },
   {
    "duration": 221,
    "start_time": "2024-03-18T17:56:29.977Z"
   },
   {
    "duration": 6939,
    "start_time": "2024-03-18T17:57:40.984Z"
   },
   {
    "duration": 20,
    "start_time": "2024-03-18T18:00:13.609Z"
   },
   {
    "duration": 19,
    "start_time": "2024-03-18T18:01:51.959Z"
   },
   {
    "duration": 11,
    "start_time": "2024-03-18T18:02:43.837Z"
   },
   {
    "duration": 23,
    "start_time": "2024-03-18T18:02:48.848Z"
   },
   {
    "duration": 187,
    "start_time": "2024-03-18T18:04:19.606Z"
   },
   {
    "duration": 18,
    "start_time": "2024-03-18T18:10:52.456Z"
   },
   {
    "duration": 20,
    "start_time": "2024-03-18T18:11:07.742Z"
   },
   {
    "duration": 18,
    "start_time": "2024-03-18T18:11:26.567Z"
   },
   {
    "duration": 29,
    "start_time": "2024-03-18T18:11:58.948Z"
   },
   {
    "duration": 13,
    "start_time": "2024-03-18T18:29:45.356Z"
   },
   {
    "duration": 27,
    "start_time": "2024-03-18T18:29:54.041Z"
   },
   {
    "duration": 391,
    "start_time": "2024-03-18T18:30:52.995Z"
   },
   {
    "duration": 27,
    "start_time": "2024-03-18T18:31:08.386Z"
   },
   {
    "duration": 22,
    "start_time": "2024-03-18T18:31:26.846Z"
   },
   {
    "duration": 36,
    "start_time": "2024-03-18T18:32:04.638Z"
   },
   {
    "duration": 19,
    "start_time": "2024-03-18T18:33:10.623Z"
   },
   {
    "duration": 21,
    "start_time": "2024-03-18T18:33:27.474Z"
   },
   {
    "duration": 27,
    "start_time": "2024-03-18T18:33:43.385Z"
   },
   {
    "duration": 14,
    "start_time": "2024-03-18T18:34:02.659Z"
   },
   {
    "duration": 23,
    "start_time": "2024-03-18T18:34:07.788Z"
   },
   {
    "duration": 23,
    "start_time": "2024-03-18T18:34:24.784Z"
   },
   {
    "duration": 70,
    "start_time": "2024-03-18T18:36:07.062Z"
   },
   {
    "duration": 24,
    "start_time": "2024-03-18T18:36:12.215Z"
   },
   {
    "duration": 24,
    "start_time": "2024-03-18T18:37:02.158Z"
   },
   {
    "duration": 24,
    "start_time": "2024-03-18T18:37:44.946Z"
   },
   {
    "duration": 24,
    "start_time": "2024-03-18T18:45:12.640Z"
   },
   {
    "duration": 3,
    "start_time": "2024-03-18T19:12:18.381Z"
   },
   {
    "duration": 3,
    "start_time": "2024-03-18T19:13:31.911Z"
   },
   {
    "duration": 304,
    "start_time": "2024-03-18T19:15:08.606Z"
   },
   {
    "duration": 106,
    "start_time": "2024-03-18T19:16:13.160Z"
   },
   {
    "duration": 3,
    "start_time": "2024-03-18T19:16:31.586Z"
   },
   {
    "duration": 264,
    "start_time": "2024-03-18T19:16:33.448Z"
   },
   {
    "duration": 3,
    "start_time": "2024-03-18T19:19:01.103Z"
   },
   {
    "duration": 13,
    "start_time": "2024-03-18T19:20:06.177Z"
   },
   {
    "duration": 15,
    "start_time": "2024-03-18T19:21:25.166Z"
   },
   {
    "duration": 70,
    "start_time": "2024-03-18T19:21:59.696Z"
   },
   {
    "duration": 13,
    "start_time": "2024-03-18T19:22:05.721Z"
   },
   {
    "duration": 4,
    "start_time": "2024-03-18T19:25:15.803Z"
   },
   {
    "duration": 15,
    "start_time": "2024-03-18T19:25:19.696Z"
   },
   {
    "duration": 2,
    "start_time": "2024-03-18T19:26:57.799Z"
   },
   {
    "duration": 15,
    "start_time": "2024-03-18T19:27:01.545Z"
   },
   {
    "duration": 3,
    "start_time": "2024-03-18T19:30:32.693Z"
   },
   {
    "duration": 12,
    "start_time": "2024-03-18T19:30:50.412Z"
   },
   {
    "duration": 2657,
    "start_time": "2024-03-18T19:47:56.476Z"
   },
   {
    "duration": 13,
    "start_time": "2024-03-18T19:48:11.972Z"
   },
   {
    "duration": 11,
    "start_time": "2024-03-18T19:50:46.612Z"
   },
   {
    "duration": 10,
    "start_time": "2024-03-18T19:51:06.556Z"
   },
   {
    "duration": 10,
    "start_time": "2024-03-18T19:51:50.908Z"
   },
   {
    "duration": 2750,
    "start_time": "2024-03-18T19:54:45.754Z"
   },
   {
    "duration": 9,
    "start_time": "2024-03-18T19:54:49.486Z"
   },
   {
    "duration": 15,
    "start_time": "2024-03-18T19:54:51.641Z"
   },
   {
    "duration": 10,
    "start_time": "2024-03-18T19:58:38.818Z"
   },
   {
    "duration": 4822,
    "start_time": "2024-03-18T20:03:06.604Z"
   },
   {
    "duration": 11,
    "start_time": "2024-03-18T20:03:12.616Z"
   },
   {
    "duration": 9,
    "start_time": "2024-03-18T20:03:18.706Z"
   },
   {
    "duration": 37,
    "start_time": "2024-03-18T20:05:05.361Z"
   },
   {
    "duration": 37,
    "start_time": "2024-03-18T20:05:22.361Z"
   },
   {
    "duration": 39,
    "start_time": "2024-03-18T20:05:37.818Z"
   },
   {
    "duration": 31,
    "start_time": "2024-03-18T20:14:52.587Z"
   },
   {
    "duration": 29,
    "start_time": "2024-03-18T20:15:54.390Z"
   },
   {
    "duration": 72,
    "start_time": "2024-03-18T20:16:04.337Z"
   },
   {
    "duration": 3009,
    "start_time": "2024-03-18T20:16:10.579Z"
   },
   {
    "duration": 12,
    "start_time": "2024-03-18T20:16:15.465Z"
   },
   {
    "duration": 11,
    "start_time": "2024-03-18T20:16:20.985Z"
   },
   {
    "duration": 1192,
    "start_time": "2024-03-18T22:43:08.336Z"
   },
   {
    "duration": 76,
    "start_time": "2024-03-18T22:43:09.530Z"
   },
   {
    "duration": 13,
    "start_time": "2024-03-18T22:43:09.608Z"
   },
   {
    "duration": 10,
    "start_time": "2024-03-18T22:43:09.624Z"
   },
   {
    "duration": 11,
    "start_time": "2024-03-18T22:43:09.636Z"
   },
   {
    "duration": 19,
    "start_time": "2024-03-18T22:43:09.649Z"
   },
   {
    "duration": 387,
    "start_time": "2024-03-18T22:43:09.669Z"
   },
   {
    "duration": 9,
    "start_time": "2024-03-18T22:43:10.057Z"
   },
   {
    "duration": 10,
    "start_time": "2024-03-18T22:43:10.067Z"
   },
   {
    "duration": 17,
    "start_time": "2024-03-18T22:43:10.080Z"
   },
   {
    "duration": 8,
    "start_time": "2024-03-18T22:43:10.098Z"
   },
   {
    "duration": 8,
    "start_time": "2024-03-18T22:43:10.107Z"
   },
   {
    "duration": 6,
    "start_time": "2024-03-18T22:43:10.117Z"
   },
   {
    "duration": 41,
    "start_time": "2024-03-18T22:43:10.125Z"
   },
   {
    "duration": 13,
    "start_time": "2024-03-18T22:43:10.168Z"
   },
   {
    "duration": 9,
    "start_time": "2024-03-18T22:43:10.182Z"
   },
   {
    "duration": 11,
    "start_time": "2024-03-18T22:43:10.192Z"
   },
   {
    "duration": 13,
    "start_time": "2024-03-18T22:43:10.205Z"
   },
   {
    "duration": 6,
    "start_time": "2024-03-18T22:43:10.220Z"
   },
   {
    "duration": 196,
    "start_time": "2024-03-18T22:43:10.227Z"
   },
   {
    "duration": 5,
    "start_time": "2024-03-18T22:43:10.424Z"
   },
   {
    "duration": 139,
    "start_time": "2024-03-18T22:43:10.431Z"
   },
   {
    "duration": 315,
    "start_time": "2024-03-18T22:43:10.571Z"
   },
   {
    "duration": 19,
    "start_time": "2024-03-18T22:43:10.888Z"
   },
   {
    "duration": 292,
    "start_time": "2024-03-18T22:43:10.909Z"
   },
   {
    "duration": 412,
    "start_time": "2024-03-18T22:43:11.203Z"
   },
   {
    "duration": 459,
    "start_time": "2024-03-18T22:43:11.616Z"
   },
   {
    "duration": 10,
    "start_time": "2024-03-18T22:43:12.078Z"
   },
   {
    "duration": 20,
    "start_time": "2024-03-18T22:43:12.089Z"
   },
   {
    "duration": 22,
    "start_time": "2024-03-18T22:43:12.110Z"
   },
   {
    "duration": 32,
    "start_time": "2024-03-18T22:43:12.134Z"
   },
   {
    "duration": 36,
    "start_time": "2024-03-18T22:43:12.167Z"
   },
   {
    "duration": 276,
    "start_time": "2024-03-18T22:43:12.204Z"
   },
   {
    "duration": 301,
    "start_time": "2024-03-18T22:43:12.481Z"
   },
   {
    "duration": 36,
    "start_time": "2024-03-18T22:43:12.784Z"
   },
   {
    "duration": 272,
    "start_time": "2024-03-18T22:43:12.821Z"
   },
   {
    "duration": 433,
    "start_time": "2024-03-18T22:43:13.095Z"
   },
   {
    "duration": 23,
    "start_time": "2024-03-18T22:43:13.529Z"
   },
   {
    "duration": 39,
    "start_time": "2024-03-18T22:43:13.554Z"
   },
   {
    "duration": 2975,
    "start_time": "2024-03-18T22:43:13.595Z"
   },
   {
    "duration": 8,
    "start_time": "2024-03-18T22:43:16.571Z"
   },
   {
    "duration": 11,
    "start_time": "2024-03-18T22:44:22.172Z"
   },
   {
    "duration": 11,
    "start_time": "2024-03-18T22:46:07.869Z"
   },
   {
    "duration": 12,
    "start_time": "2024-03-18T22:48:16.294Z"
   },
   {
    "duration": 8,
    "start_time": "2024-03-18T22:48:35.269Z"
   },
   {
    "duration": 88,
    "start_time": "2024-03-18T22:48:47.874Z"
   },
   {
    "duration": 13,
    "start_time": "2024-03-18T22:48:53.867Z"
   },
   {
    "duration": 8,
    "start_time": "2024-03-18T22:50:32.550Z"
   },
   {
    "duration": 10,
    "start_time": "2024-03-18T22:55:33.403Z"
   },
   {
    "duration": 181,
    "start_time": "2024-03-18T22:58:16.047Z"
   },
   {
    "duration": 198,
    "start_time": "2024-03-18T22:58:25.720Z"
   },
   {
    "duration": 206,
    "start_time": "2024-03-18T22:58:59.740Z"
   },
   {
    "duration": 208,
    "start_time": "2024-03-18T23:04:28.732Z"
   },
   {
    "duration": 1349,
    "start_time": "2024-03-19T09:54:15.471Z"
   },
   {
    "duration": 193,
    "start_time": "2024-03-19T09:54:16.822Z"
   },
   {
    "duration": 13,
    "start_time": "2024-03-19T09:54:17.016Z"
   },
   {
    "duration": 21,
    "start_time": "2024-03-19T09:54:17.031Z"
   },
   {
    "duration": 18,
    "start_time": "2024-03-19T09:54:17.055Z"
   },
   {
    "duration": 23,
    "start_time": "2024-03-19T09:54:17.074Z"
   },
   {
    "duration": 413,
    "start_time": "2024-03-19T09:54:17.099Z"
   },
   {
    "duration": 7,
    "start_time": "2024-03-19T09:54:17.514Z"
   },
   {
    "duration": 13,
    "start_time": "2024-03-19T09:54:17.523Z"
   },
   {
    "duration": 31,
    "start_time": "2024-03-19T09:54:17.537Z"
   },
   {
    "duration": 7,
    "start_time": "2024-03-19T09:54:17.569Z"
   },
   {
    "duration": 5,
    "start_time": "2024-03-19T09:54:17.578Z"
   },
   {
    "duration": 10,
    "start_time": "2024-03-19T09:54:17.584Z"
   },
   {
    "duration": 6,
    "start_time": "2024-03-19T09:54:17.597Z"
   },
   {
    "duration": 24,
    "start_time": "2024-03-19T09:54:17.604Z"
   },
   {
    "duration": 32,
    "start_time": "2024-03-19T09:54:17.630Z"
   },
   {
    "duration": 11,
    "start_time": "2024-03-19T09:54:17.663Z"
   },
   {
    "duration": 20,
    "start_time": "2024-03-19T09:54:17.675Z"
   },
   {
    "duration": 6,
    "start_time": "2024-03-19T09:54:17.697Z"
   },
   {
    "duration": 184,
    "start_time": "2024-03-19T09:54:17.705Z"
   },
   {
    "duration": 5,
    "start_time": "2024-03-19T09:54:17.891Z"
   },
   {
    "duration": 159,
    "start_time": "2024-03-19T09:54:17.897Z"
   },
   {
    "duration": 354,
    "start_time": "2024-03-19T09:54:18.058Z"
   },
   {
    "duration": 22,
    "start_time": "2024-03-19T09:54:18.414Z"
   },
   {
    "duration": 318,
    "start_time": "2024-03-19T09:54:18.438Z"
   },
   {
    "duration": 464,
    "start_time": "2024-03-19T09:54:18.758Z"
   },
   {
    "duration": 530,
    "start_time": "2024-03-19T09:54:19.224Z"
   },
   {
    "duration": 10,
    "start_time": "2024-03-19T09:54:19.757Z"
   },
   {
    "duration": 26,
    "start_time": "2024-03-19T09:54:19.769Z"
   },
   {
    "duration": 23,
    "start_time": "2024-03-19T09:54:19.796Z"
   },
   {
    "duration": 9,
    "start_time": "2024-03-19T09:54:19.821Z"
   },
   {
    "duration": 61,
    "start_time": "2024-03-19T09:54:19.831Z"
   },
   {
    "duration": 281,
    "start_time": "2024-03-19T09:54:19.894Z"
   },
   {
    "duration": 342,
    "start_time": "2024-03-19T09:54:20.177Z"
   },
   {
    "duration": 53,
    "start_time": "2024-03-19T09:54:20.521Z"
   },
   {
    "duration": 292,
    "start_time": "2024-03-19T09:54:20.575Z"
   },
   {
    "duration": 425,
    "start_time": "2024-03-19T09:54:20.868Z"
   },
   {
    "duration": 23,
    "start_time": "2024-03-19T09:54:21.294Z"
   },
   {
    "duration": 48,
    "start_time": "2024-03-19T09:54:21.318Z"
   },
   {
    "duration": 3205,
    "start_time": "2024-03-19T09:54:21.368Z"
   },
   {
    "duration": 9,
    "start_time": "2024-03-19T09:54:24.577Z"
   },
   {
    "duration": 13,
    "start_time": "2024-03-19T09:54:24.588Z"
   },
   {
    "duration": 206,
    "start_time": "2024-03-19T09:54:24.602Z"
   },
   {
    "duration": 8,
    "start_time": "2024-03-19T09:54:24.809Z"
   },
   {
    "duration": 218,
    "start_time": "2024-03-19T09:54:24.819Z"
   },
   {
    "duration": 11,
    "start_time": "2024-03-19T09:58:08.269Z"
   },
   {
    "duration": 9,
    "start_time": "2024-03-19T09:59:44.709Z"
   },
   {
    "duration": 96,
    "start_time": "2024-03-19T09:59:59.216Z"
   },
   {
    "duration": 8,
    "start_time": "2024-03-19T10:00:04.205Z"
   },
   {
    "duration": 20,
    "start_time": "2024-03-19T10:05:31.160Z"
   },
   {
    "duration": 33,
    "start_time": "2024-03-19T10:06:35.380Z"
   },
   {
    "duration": 31,
    "start_time": "2024-03-19T10:09:20.987Z"
   },
   {
    "duration": 4,
    "start_time": "2024-03-19T10:11:12.444Z"
   },
   {
    "duration": 15,
    "start_time": "2024-03-19T11:47:57.139Z"
   },
   {
    "duration": 12,
    "start_time": "2024-03-19T11:52:15.827Z"
   },
   {
    "duration": 6,
    "start_time": "2024-03-19T11:52:29.236Z"
   },
   {
    "duration": 5,
    "start_time": "2024-03-19T11:53:53.644Z"
   },
   {
    "duration": 7,
    "start_time": "2024-03-19T11:53:58.655Z"
   },
   {
    "duration": 6,
    "start_time": "2024-03-19T11:58:33.014Z"
   },
   {
    "duration": 6,
    "start_time": "2024-03-19T12:03:30.679Z"
   },
   {
    "duration": 5,
    "start_time": "2024-03-19T12:31:32.940Z"
   },
   {
    "duration": 12,
    "start_time": "2024-03-19T12:37:23.657Z"
   },
   {
    "duration": 10,
    "start_time": "2024-03-19T12:37:34.915Z"
   },
   {
    "duration": 6,
    "start_time": "2024-03-19T12:37:46.252Z"
   },
   {
    "duration": 6,
    "start_time": "2024-03-19T12:42:15.315Z"
   },
   {
    "duration": 82,
    "start_time": "2024-03-19T13:30:24.730Z"
   },
   {
    "duration": 10,
    "start_time": "2024-03-19T13:30:31.317Z"
   },
   {
    "duration": 10,
    "start_time": "2024-03-19T13:31:03.215Z"
   },
   {
    "duration": 10,
    "start_time": "2024-03-19T13:33:55.409Z"
   },
   {
    "duration": 60,
    "start_time": "2024-03-19T13:39:02.798Z"
   },
   {
    "duration": 16,
    "start_time": "2024-03-19T20:04:11.484Z"
   },
   {
    "duration": 13,
    "start_time": "2024-03-19T20:05:42.032Z"
   },
   {
    "duration": 5,
    "start_time": "2024-03-19T20:05:50.297Z"
   },
   {
    "duration": 5,
    "start_time": "2024-03-19T20:06:14.212Z"
   },
   {
    "duration": 5,
    "start_time": "2024-03-19T20:42:48.638Z"
   },
   {
    "duration": 20,
    "start_time": "2024-03-19T21:13:23.255Z"
   },
   {
    "duration": 1115,
    "start_time": "2024-03-19T21:14:25.693Z"
   },
   {
    "duration": 49,
    "start_time": "2024-03-19T21:14:43.859Z"
   },
   {
    "duration": 1267,
    "start_time": "2024-03-21T08:44:27.253Z"
   },
   {
    "duration": 278,
    "start_time": "2024-03-21T08:44:28.522Z"
   },
   {
    "duration": 13,
    "start_time": "2024-03-21T08:44:28.802Z"
   },
   {
    "duration": 11,
    "start_time": "2024-03-21T08:44:28.817Z"
   },
   {
    "duration": 8,
    "start_time": "2024-03-21T08:44:28.830Z"
   },
   {
    "duration": 11,
    "start_time": "2024-03-21T08:44:28.840Z"
   },
   {
    "duration": 365,
    "start_time": "2024-03-21T08:44:28.853Z"
   },
   {
    "duration": 7,
    "start_time": "2024-03-21T08:44:29.220Z"
   },
   {
    "duration": 17,
    "start_time": "2024-03-21T08:44:29.228Z"
   },
   {
    "duration": 19,
    "start_time": "2024-03-21T08:44:29.247Z"
   },
   {
    "duration": 6,
    "start_time": "2024-03-21T08:44:29.268Z"
   },
   {
    "duration": 21,
    "start_time": "2024-03-21T08:44:29.275Z"
   },
   {
    "duration": 7,
    "start_time": "2024-03-21T08:44:29.298Z"
   },
   {
    "duration": 5,
    "start_time": "2024-03-21T08:44:29.307Z"
   },
   {
    "duration": 12,
    "start_time": "2024-03-21T08:44:29.313Z"
   },
   {
    "duration": 7,
    "start_time": "2024-03-21T08:44:29.326Z"
   },
   {
    "duration": 28,
    "start_time": "2024-03-21T08:44:29.334Z"
   },
   {
    "duration": 16,
    "start_time": "2024-03-21T08:44:29.364Z"
   },
   {
    "duration": 10,
    "start_time": "2024-03-21T08:44:29.382Z"
   },
   {
    "duration": 180,
    "start_time": "2024-03-21T08:44:29.393Z"
   },
   {
    "duration": 6,
    "start_time": "2024-03-21T08:44:29.574Z"
   },
   {
    "duration": 160,
    "start_time": "2024-03-21T08:44:29.581Z"
   },
   {
    "duration": 312,
    "start_time": "2024-03-21T08:44:29.742Z"
   },
   {
    "duration": 20,
    "start_time": "2024-03-21T08:44:30.056Z"
   },
   {
    "duration": 355,
    "start_time": "2024-03-21T08:44:30.078Z"
   },
   {
    "duration": 435,
    "start_time": "2024-03-21T08:44:30.434Z"
   },
   {
    "duration": 494,
    "start_time": "2024-03-21T08:44:30.871Z"
   },
   {
    "duration": 10,
    "start_time": "2024-03-21T08:44:31.369Z"
   },
   {
    "duration": 92,
    "start_time": "2024-03-21T08:44:31.381Z"
   },
   {
    "duration": 26,
    "start_time": "2024-03-21T08:44:31.474Z"
   },
   {
    "duration": 9,
    "start_time": "2024-03-21T08:44:31.501Z"
   },
   {
    "duration": 47,
    "start_time": "2024-03-21T08:44:31.512Z"
   },
   {
    "duration": 243,
    "start_time": "2024-03-21T08:44:31.561Z"
   },
   {
    "duration": 312,
    "start_time": "2024-03-21T08:44:31.805Z"
   },
   {
    "duration": 43,
    "start_time": "2024-03-21T08:44:32.119Z"
   },
   {
    "duration": 269,
    "start_time": "2024-03-21T08:44:32.164Z"
   },
   {
    "duration": 398,
    "start_time": "2024-03-21T08:44:32.434Z"
   },
   {
    "duration": 32,
    "start_time": "2024-03-21T08:44:32.833Z"
   },
   {
    "duration": 29,
    "start_time": "2024-03-21T08:44:32.866Z"
   },
   {
    "duration": 2920,
    "start_time": "2024-03-21T08:44:32.897Z"
   },
   {
    "duration": 7,
    "start_time": "2024-03-21T08:44:35.819Z"
   },
   {
    "duration": 13,
    "start_time": "2024-03-21T08:44:35.828Z"
   },
   {
    "duration": 57,
    "start_time": "2024-03-21T08:44:35.843Z"
   },
   {
    "duration": 8,
    "start_time": "2024-03-21T08:44:35.902Z"
   },
   {
    "duration": 13,
    "start_time": "2024-03-21T08:44:35.911Z"
   },
   {
    "duration": 208,
    "start_time": "2024-03-21T08:44:35.926Z"
   },
   {
    "duration": 8,
    "start_time": "2024-03-21T08:44:36.135Z"
   },
   {
    "duration": 203,
    "start_time": "2024-03-21T08:44:36.144Z"
   },
   {
    "duration": 10,
    "start_time": "2024-03-21T08:44:36.348Z"
   },
   {
    "duration": 8,
    "start_time": "2024-03-21T08:44:36.360Z"
   },
   {
    "duration": 4,
    "start_time": "2024-03-21T08:44:36.369Z"
   },
   {
    "duration": 53,
    "start_time": "2024-03-21T08:44:36.375Z"
   },
   {
    "duration": 1086,
    "start_time": "2024-03-22T22:36:17.923Z"
   },
   {
    "duration": 203,
    "start_time": "2024-03-22T22:36:19.011Z"
   },
   {
    "duration": 12,
    "start_time": "2024-03-22T22:36:19.216Z"
   },
   {
    "duration": 14,
    "start_time": "2024-03-22T22:36:19.229Z"
   },
   {
    "duration": 10,
    "start_time": "2024-03-22T22:36:19.244Z"
   },
   {
    "duration": 14,
    "start_time": "2024-03-22T22:36:19.255Z"
   },
   {
    "duration": 336,
    "start_time": "2024-03-22T22:36:19.270Z"
   },
   {
    "duration": 6,
    "start_time": "2024-03-22T22:36:19.608Z"
   },
   {
    "duration": 24,
    "start_time": "2024-03-22T22:36:19.615Z"
   },
   {
    "duration": 17,
    "start_time": "2024-03-22T22:36:19.641Z"
   },
   {
    "duration": 17,
    "start_time": "2024-03-22T22:36:19.659Z"
   },
   {
    "duration": 9,
    "start_time": "2024-03-22T22:36:19.677Z"
   },
   {
    "duration": 17,
    "start_time": "2024-03-22T22:36:19.687Z"
   },
   {
    "duration": 19,
    "start_time": "2024-03-22T22:36:19.705Z"
   },
   {
    "duration": 22,
    "start_time": "2024-03-22T22:36:19.725Z"
   },
   {
    "duration": 8,
    "start_time": "2024-03-22T22:36:19.748Z"
   },
   {
    "duration": 8,
    "start_time": "2024-03-22T22:36:19.758Z"
   },
   {
    "duration": 15,
    "start_time": "2024-03-22T22:36:19.767Z"
   },
   {
    "duration": 5,
    "start_time": "2024-03-22T22:36:19.783Z"
   },
   {
    "duration": 149,
    "start_time": "2024-03-22T22:36:19.789Z"
   },
   {
    "duration": 5,
    "start_time": "2024-03-22T22:36:19.939Z"
   },
   {
    "duration": 134,
    "start_time": "2024-03-22T22:36:19.945Z"
   },
   {
    "duration": 278,
    "start_time": "2024-03-22T22:36:20.080Z"
   },
   {
    "duration": 19,
    "start_time": "2024-03-22T22:36:20.360Z"
   },
   {
    "duration": 253,
    "start_time": "2024-03-22T22:36:20.380Z"
   },
   {
    "duration": 360,
    "start_time": "2024-03-22T22:36:20.635Z"
   },
   {
    "duration": 376,
    "start_time": "2024-03-22T22:36:20.996Z"
   },
   {
    "duration": 8,
    "start_time": "2024-03-22T22:36:21.375Z"
   },
   {
    "duration": 22,
    "start_time": "2024-03-22T22:36:21.384Z"
   },
   {
    "duration": 31,
    "start_time": "2024-03-22T22:36:21.407Z"
   },
   {
    "duration": 7,
    "start_time": "2024-03-22T22:36:21.439Z"
   },
   {
    "duration": 30,
    "start_time": "2024-03-22T22:36:21.447Z"
   },
   {
    "duration": 219,
    "start_time": "2024-03-22T22:36:21.479Z"
   },
   {
    "duration": 276,
    "start_time": "2024-03-22T22:36:21.702Z"
   },
   {
    "duration": 39,
    "start_time": "2024-03-22T22:36:21.980Z"
   },
   {
    "duration": 239,
    "start_time": "2024-03-22T22:36:22.020Z"
   },
   {
    "duration": 319,
    "start_time": "2024-03-22T22:36:22.260Z"
   },
   {
    "duration": 24,
    "start_time": "2024-03-22T22:36:22.580Z"
   },
   {
    "duration": 24,
    "start_time": "2024-03-22T22:36:22.605Z"
   },
   {
    "duration": 2371,
    "start_time": "2024-03-22T22:36:22.630Z"
   },
   {
    "duration": 6,
    "start_time": "2024-03-22T22:36:25.003Z"
   },
   {
    "duration": 13,
    "start_time": "2024-03-22T22:36:25.010Z"
   },
   {
    "duration": 48,
    "start_time": "2024-03-22T22:36:25.024Z"
   },
   {
    "duration": 7,
    "start_time": "2024-03-22T22:36:25.073Z"
   },
   {
    "duration": 23,
    "start_time": "2024-03-22T22:36:25.082Z"
   },
   {
    "duration": 173,
    "start_time": "2024-03-22T22:36:25.106Z"
   },
   {
    "duration": 7,
    "start_time": "2024-03-22T22:36:25.281Z"
   },
   {
    "duration": 179,
    "start_time": "2024-03-22T22:36:25.289Z"
   },
   {
    "duration": 4,
    "start_time": "2024-03-22T22:36:25.470Z"
   },
   {
    "duration": 12,
    "start_time": "2024-03-22T22:36:25.476Z"
   },
   {
    "duration": 14,
    "start_time": "2024-03-22T22:36:25.489Z"
   },
   {
    "duration": 37,
    "start_time": "2024-03-22T22:36:25.504Z"
   },
   {
    "duration": 187,
    "start_time": "2024-03-22T22:36:25.542Z"
   },
   {
    "duration": 173,
    "start_time": "2024-03-22T22:36:44.190Z"
   },
   {
    "duration": 595,
    "start_time": "2024-03-22T22:38:36.161Z"
   },
   {
    "duration": 226,
    "start_time": "2024-03-22T22:39:05.495Z"
   },
   {
    "duration": 174,
    "start_time": "2024-03-22T22:39:10.253Z"
   },
   {
    "duration": 682,
    "start_time": "2024-03-22T22:41:19.148Z"
   },
   {
    "duration": 1244,
    "start_time": "2024-03-22T22:41:33.181Z"
   },
   {
    "duration": 185,
    "start_time": "2024-03-22T22:45:27.049Z"
   },
   {
    "duration": 700,
    "start_time": "2024-03-22T22:45:38.098Z"
   },
   {
    "duration": 42,
    "start_time": "2024-03-22T22:54:06.057Z"
   },
   {
    "duration": 34,
    "start_time": "2024-03-22T22:54:40.533Z"
   },
   {
    "duration": 47,
    "start_time": "2024-03-22T22:54:59.787Z"
   },
   {
    "duration": 18196,
    "start_time": "2024-03-22T23:30:48.860Z"
   },
   {
    "duration": 11686,
    "start_time": "2024-03-22T23:31:26.622Z"
   },
   {
    "duration": 8765,
    "start_time": "2024-03-22T23:31:55.631Z"
   },
   {
    "duration": 1000,
    "start_time": "2024-03-22T23:32:22.997Z"
   },
   {
    "duration": 67,
    "start_time": "2024-03-22T23:32:23.998Z"
   },
   {
    "duration": 12,
    "start_time": "2024-03-22T23:32:24.066Z"
   },
   {
    "duration": 17,
    "start_time": "2024-03-22T23:32:24.080Z"
   },
   {
    "duration": 13,
    "start_time": "2024-03-22T23:32:24.099Z"
   },
   {
    "duration": 15,
    "start_time": "2024-03-22T23:32:24.113Z"
   },
   {
    "duration": 332,
    "start_time": "2024-03-22T23:32:24.130Z"
   },
   {
    "duration": 6,
    "start_time": "2024-03-22T23:32:24.464Z"
   },
   {
    "duration": 16,
    "start_time": "2024-03-22T23:32:24.471Z"
   },
   {
    "duration": 20,
    "start_time": "2024-03-22T23:32:24.489Z"
   },
   {
    "duration": 18,
    "start_time": "2024-03-22T23:32:24.510Z"
   },
   {
    "duration": 6,
    "start_time": "2024-03-22T23:32:24.529Z"
   },
   {
    "duration": 9,
    "start_time": "2024-03-22T23:32:24.536Z"
   },
   {
    "duration": 16,
    "start_time": "2024-03-22T23:32:24.546Z"
   },
   {
    "duration": 24,
    "start_time": "2024-03-22T23:32:24.563Z"
   },
   {
    "duration": 11,
    "start_time": "2024-03-22T23:32:24.589Z"
   },
   {
    "duration": 9,
    "start_time": "2024-03-22T23:32:24.602Z"
   },
   {
    "duration": 10,
    "start_time": "2024-03-22T23:32:24.612Z"
   },
   {
    "duration": 12,
    "start_time": "2024-03-22T23:32:24.623Z"
   },
   {
    "duration": 153,
    "start_time": "2024-03-22T23:32:24.637Z"
   },
   {
    "duration": 5,
    "start_time": "2024-03-22T23:32:24.791Z"
   },
   {
    "duration": 136,
    "start_time": "2024-03-22T23:32:24.798Z"
   },
   {
    "duration": 300,
    "start_time": "2024-03-22T23:32:24.935Z"
   },
   {
    "duration": 17,
    "start_time": "2024-03-22T23:32:25.237Z"
   },
   {
    "duration": 257,
    "start_time": "2024-03-22T23:32:25.256Z"
   },
   {
    "duration": 357,
    "start_time": "2024-03-22T23:32:25.515Z"
   },
   {
    "duration": 399,
    "start_time": "2024-03-22T23:32:25.874Z"
   },
   {
    "duration": 9,
    "start_time": "2024-03-22T23:32:26.276Z"
   },
   {
    "duration": 20,
    "start_time": "2024-03-22T23:32:26.286Z"
   },
   {
    "duration": 18,
    "start_time": "2024-03-22T23:32:26.307Z"
   },
   {
    "duration": 6,
    "start_time": "2024-03-22T23:32:26.327Z"
   },
   {
    "duration": 35,
    "start_time": "2024-03-22T23:32:26.334Z"
   },
   {
    "duration": 249,
    "start_time": "2024-03-22T23:32:26.370Z"
   },
   {
    "duration": 344,
    "start_time": "2024-03-22T23:32:26.621Z"
   },
   {
    "duration": 36,
    "start_time": "2024-03-22T23:32:26.966Z"
   },
   {
    "duration": 234,
    "start_time": "2024-03-22T23:32:27.003Z"
   },
   {
    "duration": 332,
    "start_time": "2024-03-22T23:32:27.238Z"
   },
   {
    "duration": 18,
    "start_time": "2024-03-22T23:32:27.571Z"
   },
   {
    "duration": 35,
    "start_time": "2024-03-22T23:32:27.590Z"
   },
   {
    "duration": 2476,
    "start_time": "2024-03-22T23:32:27.626Z"
   },
   {
    "duration": 7,
    "start_time": "2024-03-22T23:32:30.104Z"
   },
   {
    "duration": 44,
    "start_time": "2024-03-22T23:32:30.113Z"
   },
   {
    "duration": 72,
    "start_time": "2024-03-22T23:32:30.158Z"
   },
   {
    "duration": 8,
    "start_time": "2024-03-22T23:32:30.232Z"
   },
   {
    "duration": 40,
    "start_time": "2024-03-22T23:32:30.242Z"
   },
   {
    "duration": 223,
    "start_time": "2024-03-22T23:32:30.284Z"
   },
   {
    "duration": 9,
    "start_time": "2024-03-22T23:32:30.508Z"
   },
   {
    "duration": 241,
    "start_time": "2024-03-22T23:32:30.518Z"
   },
   {
    "duration": 5,
    "start_time": "2024-03-22T23:32:30.761Z"
   },
   {
    "duration": 51,
    "start_time": "2024-03-22T23:32:30.767Z"
   },
   {
    "duration": 45,
    "start_time": "2024-03-22T23:32:30.819Z"
   },
   {
    "duration": 99,
    "start_time": "2024-03-22T23:32:30.866Z"
   },
   {
    "duration": 85,
    "start_time": "2024-03-22T23:41:26.570Z"
   },
   {
    "duration": 10,
    "start_time": "2024-03-22T23:41:44.357Z"
   },
   {
    "duration": 12,
    "start_time": "2024-03-22T23:42:09.213Z"
   },
   {
    "duration": 28,
    "start_time": "2024-03-22T23:42:25.360Z"
   },
   {
    "duration": 65,
    "start_time": "2024-03-22T23:42:44.655Z"
   },
   {
    "duration": 20,
    "start_time": "2024-03-22T23:43:02.755Z"
   },
   {
    "duration": 16,
    "start_time": "2024-03-22T23:43:23.605Z"
   },
   {
    "duration": 12,
    "start_time": "2024-03-22T23:46:41.645Z"
   },
   {
    "duration": 12,
    "start_time": "2024-03-22T23:47:15.108Z"
   },
   {
    "duration": 56,
    "start_time": "2024-03-24T14:47:49.816Z"
   },
   {
    "duration": 1342,
    "start_time": "2024-03-24T14:48:01.650Z"
   },
   {
    "duration": 204,
    "start_time": "2024-03-24T14:48:02.994Z"
   },
   {
    "duration": 13,
    "start_time": "2024-03-24T14:48:03.200Z"
   },
   {
    "duration": 11,
    "start_time": "2024-03-24T14:48:03.216Z"
   },
   {
    "duration": 9,
    "start_time": "2024-03-24T14:48:03.229Z"
   },
   {
    "duration": 10,
    "start_time": "2024-03-24T14:48:03.240Z"
   },
   {
    "duration": 418,
    "start_time": "2024-03-24T14:48:03.252Z"
   },
   {
    "duration": 11,
    "start_time": "2024-03-24T14:48:03.672Z"
   },
   {
    "duration": 10,
    "start_time": "2024-03-24T14:48:03.684Z"
   },
   {
    "duration": 14,
    "start_time": "2024-03-24T14:48:03.697Z"
   },
   {
    "duration": 7,
    "start_time": "2024-03-24T14:48:03.713Z"
   },
   {
    "duration": 5,
    "start_time": "2024-03-24T14:48:03.721Z"
   },
   {
    "duration": 6,
    "start_time": "2024-03-24T14:48:03.728Z"
   },
   {
    "duration": 7,
    "start_time": "2024-03-24T14:48:03.735Z"
   },
   {
    "duration": 13,
    "start_time": "2024-03-24T14:48:03.781Z"
   },
   {
    "duration": 7,
    "start_time": "2024-03-24T14:48:03.795Z"
   },
   {
    "duration": 9,
    "start_time": "2024-03-24T14:48:03.804Z"
   },
   {
    "duration": 14,
    "start_time": "2024-03-24T14:48:03.814Z"
   },
   {
    "duration": 6,
    "start_time": "2024-03-24T14:48:03.830Z"
   },
   {
    "duration": 210,
    "start_time": "2024-03-24T14:48:03.838Z"
   },
   {
    "duration": 5,
    "start_time": "2024-03-24T14:48:04.049Z"
   },
   {
    "duration": 153,
    "start_time": "2024-03-24T14:48:04.056Z"
   },
   {
    "duration": 345,
    "start_time": "2024-03-24T14:48:04.210Z"
   },
   {
    "duration": 33,
    "start_time": "2024-03-24T14:48:04.556Z"
   },
   {
    "duration": 304,
    "start_time": "2024-03-24T14:48:04.590Z"
   },
   {
    "duration": 477,
    "start_time": "2024-03-24T14:48:04.895Z"
   },
   {
    "duration": 465,
    "start_time": "2024-03-24T14:48:05.374Z"
   },
   {
    "duration": 11,
    "start_time": "2024-03-24T14:48:05.843Z"
   },
   {
    "duration": 37,
    "start_time": "2024-03-24T14:48:05.856Z"
   },
   {
    "duration": 26,
    "start_time": "2024-03-24T14:48:05.895Z"
   },
   {
    "duration": 9,
    "start_time": "2024-03-24T14:48:05.923Z"
   },
   {
    "duration": 55,
    "start_time": "2024-03-24T14:48:05.934Z"
   },
   {
    "duration": 295,
    "start_time": "2024-03-24T14:48:05.990Z"
   },
   {
    "duration": 339,
    "start_time": "2024-03-24T14:48:06.287Z"
   },
   {
    "duration": 36,
    "start_time": "2024-03-24T14:48:06.628Z"
   },
   {
    "duration": 289,
    "start_time": "2024-03-24T14:48:06.666Z"
   },
   {
    "duration": 415,
    "start_time": "2024-03-24T14:48:06.956Z"
   },
   {
    "duration": 30,
    "start_time": "2024-03-24T14:48:07.373Z"
   },
   {
    "duration": 33,
    "start_time": "2024-03-24T14:48:07.404Z"
   },
   {
    "duration": 3278,
    "start_time": "2024-03-24T14:48:07.438Z"
   },
   {
    "duration": 9,
    "start_time": "2024-03-24T14:48:10.717Z"
   },
   {
    "duration": 9,
    "start_time": "2024-03-24T14:48:10.727Z"
   },
   {
    "duration": 67,
    "start_time": "2024-03-24T14:48:10.737Z"
   },
   {
    "duration": 8,
    "start_time": "2024-03-24T14:48:10.806Z"
   },
   {
    "duration": 8,
    "start_time": "2024-03-24T14:48:10.815Z"
   },
   {
    "duration": 218,
    "start_time": "2024-03-24T14:48:10.824Z"
   },
   {
    "duration": 8,
    "start_time": "2024-03-24T14:48:11.043Z"
   },
   {
    "duration": 222,
    "start_time": "2024-03-24T14:48:11.053Z"
   },
   {
    "duration": 8,
    "start_time": "2024-03-24T14:48:11.277Z"
   },
   {
    "duration": 9,
    "start_time": "2024-03-24T14:48:11.286Z"
   },
   {
    "duration": 5,
    "start_time": "2024-03-24T14:48:11.296Z"
   },
   {
    "duration": 46,
    "start_time": "2024-03-24T14:48:11.303Z"
   },
   {
    "duration": 110,
    "start_time": "2024-03-24T14:51:10.221Z"
   },
   {
    "duration": 1571,
    "start_time": "2024-03-24T14:51:21.213Z"
   },
   {
    "duration": 1612,
    "start_time": "2024-03-24T14:51:43.277Z"
   },
   {
    "duration": 1621,
    "start_time": "2024-03-24T14:51:49.789Z"
   },
   {
    "duration": 1647,
    "start_time": "2024-03-24T14:52:31.122Z"
   },
   {
    "duration": 1682,
    "start_time": "2024-03-24T14:54:26.986Z"
   },
   {
    "duration": 1669,
    "start_time": "2024-03-24T14:54:40.150Z"
   },
   {
    "duration": 157,
    "start_time": "2024-03-24T14:55:15.367Z"
   },
   {
    "duration": 1678,
    "start_time": "2024-03-24T14:55:25.536Z"
   },
   {
    "duration": 349,
    "start_time": "2024-03-24T14:57:23.557Z"
   },
   {
    "duration": 629,
    "start_time": "2024-03-24T14:57:43.059Z"
   },
   {
    "duration": 364,
    "start_time": "2024-03-24T14:59:32.762Z"
   },
   {
    "duration": 1768,
    "start_time": "2024-03-24T14:59:38.453Z"
   },
   {
    "duration": 1866,
    "start_time": "2024-03-24T15:01:24.427Z"
   },
   {
    "duration": 263,
    "start_time": "2024-03-24T15:02:35.524Z"
   },
   {
    "duration": 1881,
    "start_time": "2024-03-24T15:03:06.543Z"
   },
   {
    "duration": 1639,
    "start_time": "2024-03-24T15:03:20.219Z"
   },
   {
    "duration": 2100,
    "start_time": "2024-03-24T15:04:25.216Z"
   },
   {
    "duration": 268,
    "start_time": "2024-03-24T15:08:00.182Z"
   },
   {
    "duration": 1567,
    "start_time": "2024-03-24T15:08:57.079Z"
   },
   {
    "duration": 1758,
    "start_time": "2024-03-24T15:10:54.935Z"
   },
   {
    "duration": 1872,
    "start_time": "2024-03-24T15:12:07.001Z"
   },
   {
    "duration": 1833,
    "start_time": "2024-03-24T15:27:37.891Z"
   },
   {
    "duration": 4,
    "start_time": "2024-03-24T15:36:36.327Z"
   },
   {
    "duration": 0,
    "start_time": "2024-03-24T15:37:25.508Z"
   },
   {
    "duration": 1146,
    "start_time": "2024-03-24T15:37:41.599Z"
   },
   {
    "duration": 68,
    "start_time": "2024-03-24T15:37:42.747Z"
   },
   {
    "duration": 14,
    "start_time": "2024-03-24T15:37:42.816Z"
   },
   {
    "duration": 11,
    "start_time": "2024-03-24T15:37:42.832Z"
   },
   {
    "duration": 22,
    "start_time": "2024-03-24T15:37:42.845Z"
   },
   {
    "duration": 11,
    "start_time": "2024-03-24T15:37:42.869Z"
   },
   {
    "duration": 471,
    "start_time": "2024-03-24T15:37:42.882Z"
   },
   {
    "duration": 8,
    "start_time": "2024-03-24T15:37:43.355Z"
   },
   {
    "duration": 23,
    "start_time": "2024-03-24T15:37:43.365Z"
   },
   {
    "duration": 15,
    "start_time": "2024-03-24T15:37:43.391Z"
   },
   {
    "duration": 16,
    "start_time": "2024-03-24T15:37:43.407Z"
   },
   {
    "duration": 17,
    "start_time": "2024-03-24T15:37:43.425Z"
   },
   {
    "duration": 35,
    "start_time": "2024-03-24T15:37:43.443Z"
   },
   {
    "duration": 13,
    "start_time": "2024-03-24T15:37:43.480Z"
   },
   {
    "duration": 22,
    "start_time": "2024-03-24T15:37:43.495Z"
   },
   {
    "duration": 8,
    "start_time": "2024-03-24T15:37:43.518Z"
   },
   {
    "duration": 14,
    "start_time": "2024-03-24T15:37:43.528Z"
   },
   {
    "duration": 14,
    "start_time": "2024-03-24T15:37:43.543Z"
   },
   {
    "duration": 22,
    "start_time": "2024-03-24T15:37:43.559Z"
   },
   {
    "duration": 181,
    "start_time": "2024-03-24T15:37:43.582Z"
   },
   {
    "duration": 5,
    "start_time": "2024-03-24T15:37:43.765Z"
   },
   {
    "duration": 178,
    "start_time": "2024-03-24T15:37:43.783Z"
   },
   {
    "duration": 381,
    "start_time": "2024-03-24T15:37:43.963Z"
   },
   {
    "duration": 22,
    "start_time": "2024-03-24T15:37:44.346Z"
   },
   {
    "duration": 339,
    "start_time": "2024-03-24T15:37:44.369Z"
   },
   {
    "duration": 484,
    "start_time": "2024-03-24T15:37:44.709Z"
   },
   {
    "duration": 494,
    "start_time": "2024-03-24T15:37:45.195Z"
   },
   {
    "duration": 9,
    "start_time": "2024-03-24T15:37:45.694Z"
   },
   {
    "duration": 23,
    "start_time": "2024-03-24T15:37:45.705Z"
   },
   {
    "duration": 22,
    "start_time": "2024-03-24T15:37:45.730Z"
   },
   {
    "duration": 33,
    "start_time": "2024-03-24T15:37:45.754Z"
   },
   {
    "duration": 36,
    "start_time": "2024-03-24T15:37:45.788Z"
   },
   {
    "duration": 332,
    "start_time": "2024-03-24T15:37:45.826Z"
   },
   {
    "duration": 349,
    "start_time": "2024-03-24T15:37:46.159Z"
   },
   {
    "duration": 36,
    "start_time": "2024-03-24T15:37:46.510Z"
   },
   {
    "duration": 303,
    "start_time": "2024-03-24T15:37:46.547Z"
   },
   {
    "duration": 424,
    "start_time": "2024-03-24T15:37:46.851Z"
   },
   {
    "duration": 25,
    "start_time": "2024-03-24T15:37:47.277Z"
   },
   {
    "duration": 32,
    "start_time": "2024-03-24T15:37:47.304Z"
   },
   {
    "duration": 3255,
    "start_time": "2024-03-24T15:37:47.338Z"
   },
   {
    "duration": 9,
    "start_time": "2024-03-24T15:37:50.595Z"
   },
   {
    "duration": 19,
    "start_time": "2024-03-24T15:37:50.605Z"
   },
   {
    "duration": 71,
    "start_time": "2024-03-24T15:37:50.626Z"
   },
   {
    "duration": 11,
    "start_time": "2024-03-24T15:37:50.699Z"
   },
   {
    "duration": 25,
    "start_time": "2024-03-24T15:37:50.712Z"
   },
   {
    "duration": 217,
    "start_time": "2024-03-24T15:37:50.739Z"
   },
   {
    "duration": 9,
    "start_time": "2024-03-24T15:37:50.959Z"
   },
   {
    "duration": 218,
    "start_time": "2024-03-24T15:37:50.982Z"
   },
   {
    "duration": 7,
    "start_time": "2024-03-24T15:37:51.202Z"
   },
   {
    "duration": 14,
    "start_time": "2024-03-24T15:37:51.210Z"
   },
   {
    "duration": 5,
    "start_time": "2024-03-24T15:37:51.225Z"
   },
   {
    "duration": 75,
    "start_time": "2024-03-24T15:37:51.232Z"
   },
   {
    "duration": 1703,
    "start_time": "2024-03-24T15:37:51.309Z"
   },
   {
    "duration": 1117,
    "start_time": "2024-03-24T15:38:57.439Z"
   },
   {
    "duration": 68,
    "start_time": "2024-03-24T15:38:58.558Z"
   },
   {
    "duration": 13,
    "start_time": "2024-03-24T15:38:58.627Z"
   },
   {
    "duration": 10,
    "start_time": "2024-03-24T15:38:58.642Z"
   },
   {
    "duration": 18,
    "start_time": "2024-03-24T15:38:58.654Z"
   },
   {
    "duration": 12,
    "start_time": "2024-03-24T15:38:58.674Z"
   },
   {
    "duration": 437,
    "start_time": "2024-03-24T15:38:58.688Z"
   },
   {
    "duration": 8,
    "start_time": "2024-03-24T15:38:59.126Z"
   },
   {
    "duration": 24,
    "start_time": "2024-03-24T15:38:59.136Z"
   },
   {
    "duration": 21,
    "start_time": "2024-03-24T15:38:59.163Z"
   },
   {
    "duration": 6,
    "start_time": "2024-03-24T15:38:59.186Z"
   },
   {
    "duration": 29,
    "start_time": "2024-03-24T15:38:59.194Z"
   },
   {
    "duration": 25,
    "start_time": "2024-03-24T15:38:59.225Z"
   },
   {
    "duration": 36,
    "start_time": "2024-03-24T15:38:59.252Z"
   },
   {
    "duration": 24,
    "start_time": "2024-03-24T15:38:59.289Z"
   },
   {
    "duration": 8,
    "start_time": "2024-03-24T15:38:59.315Z"
   },
   {
    "duration": 33,
    "start_time": "2024-03-24T15:38:59.324Z"
   },
   {
    "duration": 16,
    "start_time": "2024-03-24T15:38:59.358Z"
   },
   {
    "duration": 24,
    "start_time": "2024-03-24T15:38:59.376Z"
   },
   {
    "duration": 199,
    "start_time": "2024-03-24T15:38:59.402Z"
   },
   {
    "duration": 6,
    "start_time": "2024-03-24T15:38:59.602Z"
   },
   {
    "duration": 167,
    "start_time": "2024-03-24T15:38:59.609Z"
   },
   {
    "duration": 353,
    "start_time": "2024-03-24T15:38:59.777Z"
   },
   {
    "duration": 21,
    "start_time": "2024-03-24T15:39:00.131Z"
   },
   {
    "duration": 321,
    "start_time": "2024-03-24T15:39:00.153Z"
   },
   {
    "duration": 456,
    "start_time": "2024-03-24T15:39:00.476Z"
   },
   {
    "duration": 492,
    "start_time": "2024-03-24T15:39:00.934Z"
   },
   {
    "duration": 10,
    "start_time": "2024-03-24T15:39:01.430Z"
   },
   {
    "duration": 71,
    "start_time": "2024-03-24T15:39:01.442Z"
   },
   {
    "duration": 55,
    "start_time": "2024-03-24T15:39:01.514Z"
   },
   {
    "duration": 44,
    "start_time": "2024-03-24T15:39:01.571Z"
   },
   {
    "duration": 111,
    "start_time": "2024-03-24T15:39:01.616Z"
   },
   {
    "duration": 341,
    "start_time": "2024-03-24T15:39:01.729Z"
   },
   {
    "duration": 347,
    "start_time": "2024-03-24T15:39:02.072Z"
   },
   {
    "duration": 38,
    "start_time": "2024-03-24T15:39:02.421Z"
   },
   {
    "duration": 304,
    "start_time": "2024-03-24T15:39:02.460Z"
   },
   {
    "duration": 442,
    "start_time": "2024-03-24T15:39:02.765Z"
   },
   {
    "duration": 23,
    "start_time": "2024-03-24T15:39:03.209Z"
   },
   {
    "duration": 49,
    "start_time": "2024-03-24T15:39:03.233Z"
   },
   {
    "duration": 3332,
    "start_time": "2024-03-24T15:39:03.284Z"
   },
   {
    "duration": 8,
    "start_time": "2024-03-24T15:39:06.618Z"
   },
   {
    "duration": 23,
    "start_time": "2024-03-24T15:39:06.628Z"
   },
   {
    "duration": 65,
    "start_time": "2024-03-24T15:39:06.653Z"
   },
   {
    "duration": 11,
    "start_time": "2024-03-24T15:39:06.720Z"
   },
   {
    "duration": 10,
    "start_time": "2024-03-24T15:39:06.733Z"
   },
   {
    "duration": 229,
    "start_time": "2024-03-24T15:39:06.745Z"
   },
   {
    "duration": 12,
    "start_time": "2024-03-24T15:39:06.975Z"
   },
   {
    "duration": 227,
    "start_time": "2024-03-24T15:39:06.988Z"
   },
   {
    "duration": 6,
    "start_time": "2024-03-24T15:39:07.217Z"
   },
   {
    "duration": 17,
    "start_time": "2024-03-24T15:39:07.224Z"
   },
   {
    "duration": 6,
    "start_time": "2024-03-24T15:39:07.242Z"
   },
   {
    "duration": 63,
    "start_time": "2024-03-24T15:39:07.249Z"
   },
   {
    "duration": 1653,
    "start_time": "2024-03-24T15:39:27.869Z"
   },
   {
    "duration": 473,
    "start_time": "2024-03-24T15:39:50.493Z"
   },
   {
    "duration": 1755,
    "start_time": "2024-03-24T15:40:00.178Z"
   },
   {
    "duration": 12098,
    "start_time": "2024-03-24T15:43:15.663Z"
   },
   {
    "duration": 47,
    "start_time": "2024-03-24T15:43:58.258Z"
   },
   {
    "duration": 4,
    "start_time": "2024-03-24T15:44:03.394Z"
   },
   {
    "duration": 4,
    "start_time": "2024-03-24T15:44:10.577Z"
   },
   {
    "duration": 5,
    "start_time": "2024-03-24T15:44:16.763Z"
   },
   {
    "duration": 5,
    "start_time": "2024-03-24T15:44:23.613Z"
   },
   {
    "duration": 5,
    "start_time": "2024-03-24T15:44:32.200Z"
   },
   {
    "duration": 4,
    "start_time": "2024-03-24T15:44:36.374Z"
   },
   {
    "duration": 5,
    "start_time": "2024-03-24T15:44:41.032Z"
   },
   {
    "duration": 6,
    "start_time": "2024-03-24T15:45:07.480Z"
   },
   {
    "duration": 5,
    "start_time": "2024-03-24T15:45:37.055Z"
   },
   {
    "duration": 27,
    "start_time": "2024-03-24T15:46:18.752Z"
   },
   {
    "duration": 28,
    "start_time": "2024-03-24T15:46:25.099Z"
   },
   {
    "duration": 29,
    "start_time": "2024-03-24T15:53:52.051Z"
   },
   {
    "duration": 31,
    "start_time": "2024-03-24T15:54:35.302Z"
   },
   {
    "duration": 23,
    "start_time": "2024-03-24T15:54:57.693Z"
   },
   {
    "duration": 15,
    "start_time": "2024-03-24T17:54:57.686Z"
   },
   {
    "duration": 1192,
    "start_time": "2024-03-24T17:55:34.808Z"
   },
   {
    "duration": 69,
    "start_time": "2024-03-24T17:55:36.003Z"
   },
   {
    "duration": 11,
    "start_time": "2024-03-24T17:55:36.074Z"
   },
   {
    "duration": 22,
    "start_time": "2024-03-24T17:55:36.087Z"
   },
   {
    "duration": 31,
    "start_time": "2024-03-24T17:55:36.111Z"
   },
   {
    "duration": 60,
    "start_time": "2024-03-24T17:55:36.144Z"
   },
   {
    "duration": 472,
    "start_time": "2024-03-24T17:55:36.205Z"
   },
   {
    "duration": 7,
    "start_time": "2024-03-24T17:55:36.679Z"
   },
   {
    "duration": 25,
    "start_time": "2024-03-24T17:55:36.687Z"
   },
   {
    "duration": 34,
    "start_time": "2024-03-24T17:55:36.714Z"
   },
   {
    "duration": 8,
    "start_time": "2024-03-24T17:55:36.750Z"
   },
   {
    "duration": 19,
    "start_time": "2024-03-24T17:55:36.759Z"
   },
   {
    "duration": 20,
    "start_time": "2024-03-24T17:55:36.780Z"
   },
   {
    "duration": 6,
    "start_time": "2024-03-24T17:55:36.804Z"
   },
   {
    "duration": 19,
    "start_time": "2024-03-24T17:55:36.812Z"
   },
   {
    "duration": 9,
    "start_time": "2024-03-24T17:55:36.833Z"
   },
   {
    "duration": 21,
    "start_time": "2024-03-24T17:55:36.843Z"
   },
   {
    "duration": 27,
    "start_time": "2024-03-24T17:55:36.866Z"
   },
   {
    "duration": 6,
    "start_time": "2024-03-24T17:55:36.894Z"
   },
   {
    "duration": 206,
    "start_time": "2024-03-24T17:55:36.902Z"
   },
   {
    "duration": 5,
    "start_time": "2024-03-24T17:55:37.110Z"
   },
   {
    "duration": 167,
    "start_time": "2024-03-24T17:55:37.117Z"
   },
   {
    "duration": 387,
    "start_time": "2024-03-24T17:55:37.286Z"
   },
   {
    "duration": 27,
    "start_time": "2024-03-24T17:55:37.674Z"
   },
   {
    "duration": 356,
    "start_time": "2024-03-24T17:55:37.702Z"
   },
   {
    "duration": 480,
    "start_time": "2024-03-24T17:55:38.060Z"
   },
   {
    "duration": 529,
    "start_time": "2024-03-24T17:55:38.542Z"
   },
   {
    "duration": 18,
    "start_time": "2024-03-24T17:55:39.073Z"
   },
   {
    "duration": 34,
    "start_time": "2024-03-24T17:55:39.093Z"
   },
   {
    "duration": 30,
    "start_time": "2024-03-24T17:55:39.129Z"
   },
   {
    "duration": 21,
    "start_time": "2024-03-24T17:55:39.161Z"
   },
   {
    "duration": 57,
    "start_time": "2024-03-24T17:55:39.184Z"
   },
   {
    "duration": 286,
    "start_time": "2024-03-24T17:55:39.242Z"
   },
   {
    "duration": 362,
    "start_time": "2024-03-24T17:55:39.529Z"
   },
   {
    "duration": 45,
    "start_time": "2024-03-24T17:55:39.893Z"
   },
   {
    "duration": 327,
    "start_time": "2024-03-24T17:55:39.940Z"
   },
   {
    "duration": 438,
    "start_time": "2024-03-24T17:55:40.269Z"
   },
   {
    "duration": 24,
    "start_time": "2024-03-24T17:55:40.709Z"
   },
   {
    "duration": 49,
    "start_time": "2024-03-24T17:55:40.734Z"
   },
   {
    "duration": 3268,
    "start_time": "2024-03-24T17:55:40.785Z"
   },
   {
    "duration": 8,
    "start_time": "2024-03-24T17:55:44.057Z"
   },
   {
    "duration": 16,
    "start_time": "2024-03-24T17:55:44.067Z"
   },
   {
    "duration": 59,
    "start_time": "2024-03-24T17:55:44.084Z"
   },
   {
    "duration": 9,
    "start_time": "2024-03-24T17:55:44.145Z"
   },
   {
    "duration": 29,
    "start_time": "2024-03-24T17:55:44.155Z"
   },
   {
    "duration": 223,
    "start_time": "2024-03-24T17:55:44.185Z"
   },
   {
    "duration": 11,
    "start_time": "2024-03-24T17:55:44.410Z"
   },
   {
    "duration": 224,
    "start_time": "2024-03-24T17:55:44.423Z"
   },
   {
    "duration": 5,
    "start_time": "2024-03-24T17:55:44.649Z"
   },
   {
    "duration": 9,
    "start_time": "2024-03-24T17:55:44.655Z"
   },
   {
    "duration": 5,
    "start_time": "2024-03-24T17:55:44.681Z"
   },
   {
    "duration": 47,
    "start_time": "2024-03-24T17:55:44.688Z"
   },
   {
    "duration": 1742,
    "start_time": "2024-03-24T17:55:44.737Z"
   },
   {
    "duration": 23,
    "start_time": "2024-03-24T17:55:46.480Z"
   },
   {
    "duration": 1800,
    "start_time": "2024-03-24T17:55:49.812Z"
   },
   {
    "duration": 102,
    "start_time": "2024-03-24T17:56:00.967Z"
   },
   {
    "duration": 3,
    "start_time": "2024-03-24T17:57:22.286Z"
   },
   {
    "duration": 7,
    "start_time": "2024-03-24T17:57:35.860Z"
   },
   {
    "duration": 12,
    "start_time": "2024-03-24T17:59:56.625Z"
   },
   {
    "duration": 5,
    "start_time": "2024-03-24T18:00:08.685Z"
   },
   {
    "duration": 5,
    "start_time": "2024-03-24T18:01:03.885Z"
   },
   {
    "duration": 5,
    "start_time": "2024-03-24T18:01:10.841Z"
   },
   {
    "duration": 6,
    "start_time": "2024-03-24T18:01:26.973Z"
   },
   {
    "duration": 1879,
    "start_time": "2024-03-24T18:14:24.061Z"
   },
   {
    "duration": 1169,
    "start_time": "2024-03-24T18:30:58.396Z"
   },
   {
    "duration": 70,
    "start_time": "2024-03-24T18:30:59.567Z"
   },
   {
    "duration": 11,
    "start_time": "2024-03-24T18:30:59.639Z"
   },
   {
    "duration": 12,
    "start_time": "2024-03-24T18:30:59.651Z"
   },
   {
    "duration": 9,
    "start_time": "2024-03-24T18:30:59.665Z"
   },
   {
    "duration": 12,
    "start_time": "2024-03-24T18:30:59.675Z"
   },
   {
    "duration": 431,
    "start_time": "2024-03-24T18:30:59.689Z"
   },
   {
    "duration": 7,
    "start_time": "2024-03-24T18:31:00.122Z"
   },
   {
    "duration": 70,
    "start_time": "2024-03-24T18:31:00.130Z"
   },
   {
    "duration": 119,
    "start_time": "2024-03-24T18:31:00.203Z"
   },
   {
    "duration": 37,
    "start_time": "2024-03-24T18:31:00.324Z"
   },
   {
    "duration": 233,
    "start_time": "2024-03-24T18:31:00.362Z"
   },
   {
    "duration": 84,
    "start_time": "2024-03-24T18:31:00.596Z"
   },
   {
    "duration": 83,
    "start_time": "2024-03-24T18:31:00.683Z"
   },
   {
    "duration": 53,
    "start_time": "2024-03-24T18:31:00.768Z"
   },
   {
    "duration": 41,
    "start_time": "2024-03-24T18:31:00.823Z"
   },
   {
    "duration": 41,
    "start_time": "2024-03-24T18:31:00.866Z"
   },
   {
    "duration": 97,
    "start_time": "2024-03-24T18:31:00.909Z"
   },
   {
    "duration": 50,
    "start_time": "2024-03-24T18:31:01.008Z"
   },
   {
    "duration": 216,
    "start_time": "2024-03-24T18:31:01.060Z"
   },
   {
    "duration": 8,
    "start_time": "2024-03-24T18:31:01.277Z"
   },
   {
    "duration": 166,
    "start_time": "2024-03-24T18:31:01.287Z"
   },
   {
    "duration": 346,
    "start_time": "2024-03-24T18:31:01.455Z"
   },
   {
    "duration": 22,
    "start_time": "2024-03-24T18:31:01.803Z"
   },
   {
    "duration": 330,
    "start_time": "2024-03-24T18:31:01.827Z"
   },
   {
    "duration": 501,
    "start_time": "2024-03-24T18:31:02.158Z"
   },
   {
    "duration": 509,
    "start_time": "2024-03-24T18:31:02.661Z"
   },
   {
    "duration": 17,
    "start_time": "2024-03-24T18:31:03.172Z"
   },
   {
    "duration": 20,
    "start_time": "2024-03-24T18:31:03.191Z"
   },
   {
    "duration": 23,
    "start_time": "2024-03-24T18:31:03.213Z"
   },
   {
    "duration": 10,
    "start_time": "2024-03-24T18:31:03.238Z"
   },
   {
    "duration": 72,
    "start_time": "2024-03-24T18:31:03.250Z"
   },
   {
    "duration": 296,
    "start_time": "2024-03-24T18:31:03.323Z"
   },
   {
    "duration": 354,
    "start_time": "2024-03-24T18:31:03.621Z"
   },
   {
    "duration": 38,
    "start_time": "2024-03-24T18:31:03.977Z"
   },
   {
    "duration": 304,
    "start_time": "2024-03-24T18:31:04.016Z"
   },
   {
    "duration": 427,
    "start_time": "2024-03-24T18:31:04.322Z"
   },
   {
    "duration": 32,
    "start_time": "2024-03-24T18:31:04.750Z"
   },
   {
    "duration": 38,
    "start_time": "2024-03-24T18:31:04.784Z"
   },
   {
    "duration": 3237,
    "start_time": "2024-03-24T18:31:04.824Z"
   },
   {
    "duration": 9,
    "start_time": "2024-03-24T18:31:08.065Z"
   },
   {
    "duration": 10,
    "start_time": "2024-03-24T18:31:08.082Z"
   },
   {
    "duration": 63,
    "start_time": "2024-03-24T18:31:08.094Z"
   },
   {
    "duration": 24,
    "start_time": "2024-03-24T18:31:08.158Z"
   },
   {
    "duration": 9,
    "start_time": "2024-03-24T18:31:08.184Z"
   },
   {
    "duration": 224,
    "start_time": "2024-03-24T18:31:08.194Z"
   },
   {
    "duration": 9,
    "start_time": "2024-03-24T18:31:08.420Z"
   },
   {
    "duration": 236,
    "start_time": "2024-03-24T18:31:08.430Z"
   },
   {
    "duration": 14,
    "start_time": "2024-03-24T18:31:08.668Z"
   },
   {
    "duration": 9,
    "start_time": "2024-03-24T18:31:08.684Z"
   },
   {
    "duration": 4,
    "start_time": "2024-03-24T18:31:08.695Z"
   },
   {
    "duration": 53,
    "start_time": "2024-03-24T18:31:08.701Z"
   },
   {
    "duration": 1773,
    "start_time": "2024-03-24T18:31:08.756Z"
   },
   {
    "duration": 22,
    "start_time": "2024-03-24T18:31:10.531Z"
   },
   {
    "duration": 6,
    "start_time": "2024-03-24T18:31:10.555Z"
   },
   {
    "duration": 1732,
    "start_time": "2024-03-24T18:31:16.280Z"
   },
   {
    "duration": 1223,
    "start_time": "2024-03-24T18:44:09.595Z"
   },
   {
    "duration": 74,
    "start_time": "2024-03-24T18:44:10.824Z"
   },
   {
    "duration": 15,
    "start_time": "2024-03-24T18:44:10.899Z"
   },
   {
    "duration": 27,
    "start_time": "2024-03-24T18:44:10.916Z"
   },
   {
    "duration": 10,
    "start_time": "2024-03-24T18:44:10.945Z"
   },
   {
    "duration": 25,
    "start_time": "2024-03-24T18:44:10.957Z"
   },
   {
    "duration": 451,
    "start_time": "2024-03-24T18:44:10.988Z"
   },
   {
    "duration": 11,
    "start_time": "2024-03-24T18:44:11.440Z"
   },
   {
    "duration": 11,
    "start_time": "2024-03-24T18:44:11.452Z"
   },
   {
    "duration": 15,
    "start_time": "2024-03-24T18:44:11.465Z"
   },
   {
    "duration": 7,
    "start_time": "2024-03-24T18:44:11.481Z"
   },
   {
    "duration": 38,
    "start_time": "2024-03-24T18:44:11.489Z"
   },
   {
    "duration": 9,
    "start_time": "2024-03-24T18:44:11.529Z"
   },
   {
    "duration": 13,
    "start_time": "2024-03-24T18:44:11.540Z"
   },
   {
    "duration": 16,
    "start_time": "2024-03-24T18:44:11.555Z"
   },
   {
    "duration": 8,
    "start_time": "2024-03-24T18:44:11.573Z"
   },
   {
    "duration": 46,
    "start_time": "2024-03-24T18:44:11.583Z"
   },
   {
    "duration": 21,
    "start_time": "2024-03-24T18:44:11.631Z"
   },
   {
    "duration": 17,
    "start_time": "2024-03-24T18:44:11.654Z"
   },
   {
    "duration": 205,
    "start_time": "2024-03-24T18:44:11.673Z"
   },
   {
    "duration": 5,
    "start_time": "2024-03-24T18:44:11.880Z"
   },
   {
    "duration": 215,
    "start_time": "2024-03-24T18:44:11.887Z"
   },
   {
    "duration": 463,
    "start_time": "2024-03-24T18:44:12.104Z"
   },
   {
    "duration": 21,
    "start_time": "2024-03-24T18:44:12.569Z"
   },
   {
    "duration": 380,
    "start_time": "2024-03-24T18:44:12.592Z"
   },
   {
    "duration": 523,
    "start_time": "2024-03-24T18:44:12.973Z"
   },
   {
    "duration": 594,
    "start_time": "2024-03-24T18:44:13.498Z"
   },
   {
    "duration": 16,
    "start_time": "2024-03-24T18:44:14.095Z"
   },
   {
    "duration": 28,
    "start_time": "2024-03-24T18:44:14.118Z"
   },
   {
    "duration": 30,
    "start_time": "2024-03-24T18:44:14.148Z"
   },
   {
    "duration": 9,
    "start_time": "2024-03-24T18:44:14.180Z"
   },
   {
    "duration": 79,
    "start_time": "2024-03-24T18:44:14.191Z"
   },
   {
    "duration": 341,
    "start_time": "2024-03-24T18:44:14.272Z"
   },
   {
    "duration": 432,
    "start_time": "2024-03-24T18:44:14.615Z"
   },
   {
    "duration": 47,
    "start_time": "2024-03-24T18:44:15.051Z"
   },
   {
    "duration": 392,
    "start_time": "2024-03-24T18:44:15.099Z"
   },
   {
    "duration": 574,
    "start_time": "2024-03-24T18:44:15.493Z"
   },
   {
    "duration": 22,
    "start_time": "2024-03-24T18:44:16.068Z"
   },
   {
    "duration": 44,
    "start_time": "2024-03-24T18:44:16.092Z"
   },
   {
    "duration": 3663,
    "start_time": "2024-03-24T18:44:16.141Z"
   },
   {
    "duration": 25,
    "start_time": "2024-03-24T18:44:19.806Z"
   },
   {
    "duration": 5,
    "start_time": "2024-03-24T18:44:19.834Z"
   },
   {
    "duration": 66,
    "start_time": "2024-03-24T18:44:19.842Z"
   },
   {
    "duration": 22,
    "start_time": "2024-03-24T18:44:19.918Z"
   },
   {
    "duration": 11,
    "start_time": "2024-03-24T18:44:19.943Z"
   },
   {
    "duration": 247,
    "start_time": "2024-03-24T18:44:19.957Z"
   },
   {
    "duration": 18,
    "start_time": "2024-03-24T18:44:20.205Z"
   },
   {
    "duration": 257,
    "start_time": "2024-03-24T18:44:20.225Z"
   },
   {
    "duration": 5,
    "start_time": "2024-03-24T18:44:20.484Z"
   },
   {
    "duration": 11,
    "start_time": "2024-03-24T18:44:20.491Z"
   },
   {
    "duration": 22,
    "start_time": "2024-03-24T18:44:20.503Z"
   },
   {
    "duration": 80,
    "start_time": "2024-03-24T18:44:20.529Z"
   },
   {
    "duration": 2093,
    "start_time": "2024-03-24T18:44:20.610Z"
   },
   {
    "duration": 46,
    "start_time": "2024-03-24T18:44:22.705Z"
   },
   {
    "duration": 11,
    "start_time": "2024-03-24T18:44:22.756Z"
   },
   {
    "duration": 624,
    "start_time": "2024-03-25T18:27:21.322Z"
   },
   {
    "duration": 116,
    "start_time": "2024-03-25T18:27:27.880Z"
   },
   {
    "duration": 47,
    "start_time": "2024-03-25T18:27:30.356Z"
   },
   {
    "duration": 46,
    "start_time": "2024-03-25T18:27:42.599Z"
   },
   {
    "duration": 1207,
    "start_time": "2024-03-26T04:51:35.120Z"
   },
   {
    "duration": 200,
    "start_time": "2024-03-26T04:51:36.329Z"
   },
   {
    "duration": 11,
    "start_time": "2024-03-26T04:51:36.531Z"
   },
   {
    "duration": 11,
    "start_time": "2024-03-26T04:51:36.543Z"
   },
   {
    "duration": 7,
    "start_time": "2024-03-26T04:51:36.556Z"
   },
   {
    "duration": 15,
    "start_time": "2024-03-26T04:51:36.564Z"
   },
   {
    "duration": 371,
    "start_time": "2024-03-26T04:51:36.581Z"
   },
   {
    "duration": 11,
    "start_time": "2024-03-26T04:51:36.954Z"
   },
   {
    "duration": 12,
    "start_time": "2024-03-26T04:51:36.966Z"
   },
   {
    "duration": 14,
    "start_time": "2024-03-26T04:51:43.819Z"
   },
   {
    "duration": 5,
    "start_time": "2024-03-26T04:52:06.766Z"
   },
   {
    "duration": 98,
    "start_time": "2024-03-26T04:52:33.600Z"
   },
   {
    "duration": 11,
    "start_time": "2024-03-26T04:52:41.522Z"
   },
   {
    "duration": 9,
    "start_time": "2024-03-26T04:52:44.139Z"
   },
   {
    "duration": 3,
    "start_time": "2024-03-26T04:54:03.426Z"
   },
   {
    "duration": 7,
    "start_time": "2024-03-26T04:54:05.650Z"
   },
   {
    "duration": 7,
    "start_time": "2024-03-26T04:54:25.069Z"
   },
   {
    "duration": 6,
    "start_time": "2024-03-26T04:54:38.746Z"
   },
   {
    "duration": 6,
    "start_time": "2024-03-26T04:54:39.230Z"
   },
   {
    "duration": 5,
    "start_time": "2024-03-26T04:54:39.607Z"
   },
   {
    "duration": 14,
    "start_time": "2024-03-26T04:54:39.676Z"
   },
   {
    "duration": 9,
    "start_time": "2024-03-26T04:54:40.080Z"
   },
   {
    "duration": 11,
    "start_time": "2024-03-26T04:54:42.586Z"
   },
   {
    "duration": 14,
    "start_time": "2024-03-26T04:56:43.850Z"
   },
   {
    "duration": 5,
    "start_time": "2024-03-26T04:56:47.885Z"
   },
   {
    "duration": 154,
    "start_time": "2024-03-26T04:56:53.220Z"
   },
   {
    "duration": 5,
    "start_time": "2024-03-26T04:56:53.376Z"
   },
   {
    "duration": 146,
    "start_time": "2024-03-26T04:56:53.382Z"
   },
   {
    "duration": 324,
    "start_time": "2024-03-26T04:57:52.695Z"
   },
   {
    "duration": 21,
    "start_time": "2024-03-26T04:57:53.511Z"
   },
   {
    "duration": 308,
    "start_time": "2024-03-26T04:57:53.565Z"
   },
   {
    "duration": 415,
    "start_time": "2024-03-26T04:57:54.150Z"
   },
   {
    "duration": 448,
    "start_time": "2024-03-26T04:57:54.566Z"
   },
   {
    "duration": 10,
    "start_time": "2024-03-26T04:57:55.016Z"
   },
   {
    "duration": 18,
    "start_time": "2024-03-26T04:57:57.396Z"
   },
   {
    "duration": 47,
    "start_time": "2024-03-26T04:59:18.819Z"
   },
   {
    "duration": 5,
    "start_time": "2024-03-26T04:59:26.569Z"
   },
   {
    "duration": 154,
    "start_time": "2024-03-26T04:59:26.608Z"
   },
   {
    "duration": 6,
    "start_time": "2024-03-26T05:01:21.980Z"
   },
   {
    "duration": 20,
    "start_time": "2024-03-26T05:05:26.685Z"
   },
   {
    "duration": 24,
    "start_time": "2024-03-26T05:12:34.365Z"
   },
   {
    "duration": 9,
    "start_time": "2024-03-26T05:12:53.935Z"
   },
   {
    "duration": 34,
    "start_time": "2024-03-26T05:12:54.697Z"
   },
   {
    "duration": 257,
    "start_time": "2024-03-26T05:18:14.891Z"
   },
   {
    "duration": 36,
    "start_time": "2024-03-26T05:18:35.403Z"
   },
   {
    "duration": 382,
    "start_time": "2024-03-26T05:19:07.131Z"
   },
   {
    "duration": 446,
    "start_time": "2024-03-26T05:20:25.592Z"
   },
   {
    "duration": 451,
    "start_time": "2024-03-26T05:20:41.556Z"
   },
   {
    "duration": 378,
    "start_time": "2024-03-26T05:20:52.825Z"
   },
   {
    "duration": 388,
    "start_time": "2024-03-26T05:21:02.961Z"
   },
   {
    "duration": 432,
    "start_time": "2024-03-26T05:22:14.896Z"
   },
   {
    "duration": 503,
    "start_time": "2024-03-26T05:22:19.549Z"
   },
   {
    "duration": 461,
    "start_time": "2024-03-26T05:24:11.104Z"
   },
   {
    "duration": 539,
    "start_time": "2024-03-26T05:24:34.474Z"
   },
   {
    "duration": 489,
    "start_time": "2024-03-26T05:25:53.463Z"
   },
   {
    "duration": 439,
    "start_time": "2024-03-26T05:26:40.300Z"
   },
   {
    "duration": 467,
    "start_time": "2024-03-26T05:26:53.483Z"
   },
   {
    "duration": 556,
    "start_time": "2024-03-26T05:28:02.957Z"
   },
   {
    "duration": 477,
    "start_time": "2024-03-26T05:28:31.429Z"
   },
   {
    "duration": 353,
    "start_time": "2024-03-26T05:30:39.708Z"
   },
   {
    "duration": 221,
    "start_time": "2024-03-26T05:30:40.064Z"
   },
   {
    "duration": 248,
    "start_time": "2024-03-26T05:30:52.010Z"
   },
   {
    "duration": 430,
    "start_time": "2024-03-26T05:31:18.771Z"
   },
   {
    "duration": 31,
    "start_time": "2024-03-26T05:31:37.733Z"
   },
   {
    "duration": 26,
    "start_time": "2024-03-26T05:35:01.869Z"
   },
   {
    "duration": 20,
    "start_time": "2024-03-26T05:35:01.911Z"
   },
   {
    "duration": 35,
    "start_time": "2024-03-26T05:35:09.469Z"
   },
   {
    "duration": 35,
    "start_time": "2024-03-26T05:35:09.523Z"
   },
   {
    "duration": 445,
    "start_time": "2024-03-26T05:35:16.238Z"
   },
   {
    "duration": 296,
    "start_time": "2024-03-26T05:35:16.991Z"
   },
   {
    "duration": 22,
    "start_time": "2024-03-26T05:35:22.346Z"
   },
   {
    "duration": 24,
    "start_time": "2024-03-26T05:37:24.343Z"
   },
   {
    "duration": 8,
    "start_time": "2024-03-26T05:37:29.083Z"
   },
   {
    "duration": 33,
    "start_time": "2024-03-26T05:37:29.754Z"
   },
   {
    "duration": 45,
    "start_time": "2024-03-26T05:37:50.928Z"
   },
   {
    "duration": 35,
    "start_time": "2024-03-26T05:37:57.046Z"
   },
   {
    "duration": 441,
    "start_time": "2024-03-26T05:37:59.512Z"
   },
   {
    "duration": 292,
    "start_time": "2024-03-26T05:38:00.930Z"
   },
   {
    "duration": 23,
    "start_time": "2024-03-26T05:38:04.015Z"
   },
   {
    "duration": 31,
    "start_time": "2024-03-26T05:38:12.586Z"
   },
   {
    "duration": 122,
    "start_time": "2024-03-26T05:43:16.674Z"
   },
   {
    "duration": 40,
    "start_time": "2024-03-26T05:52:50.930Z"
   },
   {
    "duration": 41,
    "start_time": "2024-03-26T05:52:58.106Z"
   },
   {
    "duration": 951,
    "start_time": "2024-03-26T05:53:15.942Z"
   },
   {
    "duration": 5,
    "start_time": "2024-03-26T05:53:26.854Z"
   },
   {
    "duration": 8,
    "start_time": "2024-03-26T05:53:35.114Z"
   },
   {
    "duration": 4,
    "start_time": "2024-03-26T05:55:09.503Z"
   },
   {
    "duration": 7,
    "start_time": "2024-03-26T05:57:44.308Z"
   },
   {
    "duration": 67,
    "start_time": "2024-03-26T05:57:52.755Z"
   },
   {
    "duration": 9,
    "start_time": "2024-03-26T05:57:56.459Z"
   },
   {
    "duration": 9,
    "start_time": "2024-03-26T05:58:02.453Z"
   },
   {
    "duration": 197,
    "start_time": "2024-03-26T05:58:05.856Z"
   },
   {
    "duration": 8,
    "start_time": "2024-03-26T05:58:10.744Z"
   },
   {
    "duration": 213,
    "start_time": "2024-03-26T05:58:13.913Z"
   },
   {
    "duration": 6,
    "start_time": "2024-03-26T06:20:29.645Z"
   },
   {
    "duration": 10,
    "start_time": "2024-03-26T06:20:44.580Z"
   },
   {
    "duration": 5,
    "start_time": "2024-03-26T06:35:02.424Z"
   },
   {
    "duration": 4,
    "start_time": "2024-03-26T06:36:30.539Z"
   },
   {
    "duration": 5,
    "start_time": "2024-03-26T06:36:39.336Z"
   },
   {
    "duration": 10,
    "start_time": "2024-03-26T06:39:09.316Z"
   },
   {
    "duration": 19,
    "start_time": "2024-03-26T06:39:18.139Z"
   },
   {
    "duration": 20,
    "start_time": "2024-03-26T06:39:33.181Z"
   },
   {
    "duration": 20,
    "start_time": "2024-03-26T06:39:57.058Z"
   },
   {
    "duration": 1558,
    "start_time": "2024-03-26T06:40:21.888Z"
   },
   {
    "duration": 1690,
    "start_time": "2024-03-26T06:40:24.864Z"
   },
   {
    "duration": 11,
    "start_time": "2024-03-26T13:52:03.454Z"
   },
   {
    "duration": 9,
    "start_time": "2024-03-26T13:52:11.403Z"
   },
   {
    "duration": 21,
    "start_time": "2024-03-26T14:08:43.944Z"
   },
   {
    "duration": 6,
    "start_time": "2024-03-26T14:22:24.462Z"
   },
   {
    "duration": 1169,
    "start_time": "2024-03-26T14:26:07.251Z"
   },
   {
    "duration": 67,
    "start_time": "2024-03-26T14:26:08.422Z"
   },
   {
    "duration": 11,
    "start_time": "2024-03-26T14:26:08.490Z"
   },
   {
    "duration": 17,
    "start_time": "2024-03-26T14:26:08.502Z"
   },
   {
    "duration": 26,
    "start_time": "2024-03-26T14:26:08.521Z"
   },
   {
    "duration": 22,
    "start_time": "2024-03-26T14:26:08.549Z"
   },
   {
    "duration": 412,
    "start_time": "2024-03-26T14:26:08.572Z"
   },
   {
    "duration": 8,
    "start_time": "2024-03-26T14:26:08.985Z"
   },
   {
    "duration": 21,
    "start_time": "2024-03-26T14:26:08.995Z"
   },
   {
    "duration": 19,
    "start_time": "2024-03-26T14:26:09.018Z"
   },
   {
    "duration": 7,
    "start_time": "2024-03-26T14:26:09.039Z"
   },
   {
    "duration": 16,
    "start_time": "2024-03-26T14:26:09.048Z"
   },
   {
    "duration": 21,
    "start_time": "2024-03-26T14:26:09.065Z"
   },
   {
    "duration": 6,
    "start_time": "2024-03-26T14:26:09.089Z"
   },
   {
    "duration": 16,
    "start_time": "2024-03-26T14:26:09.096Z"
   },
   {
    "duration": 5,
    "start_time": "2024-03-26T14:26:09.114Z"
   },
   {
    "duration": 18,
    "start_time": "2024-03-26T14:26:09.120Z"
   },
   {
    "duration": 8,
    "start_time": "2024-03-26T14:26:09.140Z"
   },
   {
    "duration": 19,
    "start_time": "2024-03-26T14:26:09.150Z"
   },
   {
    "duration": 14,
    "start_time": "2024-03-26T14:26:09.170Z"
   },
   {
    "duration": 6,
    "start_time": "2024-03-26T14:26:09.185Z"
   },
   {
    "duration": 182,
    "start_time": "2024-03-26T14:26:09.192Z"
   },
   {
    "duration": 5,
    "start_time": "2024-03-26T14:26:09.376Z"
   },
   {
    "duration": 147,
    "start_time": "2024-03-26T14:26:09.383Z"
   },
   {
    "duration": 360,
    "start_time": "2024-03-26T14:26:09.531Z"
   },
   {
    "duration": 19,
    "start_time": "2024-03-26T14:26:09.893Z"
   },
   {
    "duration": 290,
    "start_time": "2024-03-26T14:26:09.913Z"
   },
   {
    "duration": 443,
    "start_time": "2024-03-26T14:26:10.205Z"
   },
   {
    "duration": 461,
    "start_time": "2024-03-26T14:26:10.650Z"
   },
   {
    "duration": 10,
    "start_time": "2024-03-26T14:26:11.113Z"
   },
   {
    "duration": 19,
    "start_time": "2024-03-26T14:26:11.125Z"
   },
   {
    "duration": 48,
    "start_time": "2024-03-26T14:26:11.146Z"
   },
   {
    "duration": 9,
    "start_time": "2024-03-26T14:26:11.196Z"
   },
   {
    "duration": 35,
    "start_time": "2024-03-26T14:26:11.207Z"
   },
   {
    "duration": 36,
    "start_time": "2024-03-26T14:26:11.264Z"
   },
   {
    "duration": 468,
    "start_time": "2024-03-26T14:26:11.301Z"
   },
   {
    "duration": 323,
    "start_time": "2024-03-26T14:26:11.771Z"
   },
   {
    "duration": 23,
    "start_time": "2024-03-26T14:26:12.096Z"
   },
   {
    "duration": 55,
    "start_time": "2024-03-26T14:26:12.121Z"
   },
   {
    "duration": 5,
    "start_time": "2024-03-26T14:26:12.178Z"
   },
   {
    "duration": 26,
    "start_time": "2024-03-26T14:26:12.186Z"
   },
   {
    "duration": 16,
    "start_time": "2024-03-26T14:26:12.213Z"
   },
   {
    "duration": 4,
    "start_time": "2024-03-26T14:26:12.230Z"
   },
   {
    "duration": 66,
    "start_time": "2024-03-26T14:26:12.236Z"
   },
   {
    "duration": 9,
    "start_time": "2024-03-26T14:26:12.303Z"
   },
   {
    "duration": 10,
    "start_time": "2024-03-26T14:26:12.314Z"
   },
   {
    "duration": 222,
    "start_time": "2024-03-26T14:26:12.326Z"
   },
   {
    "duration": 8,
    "start_time": "2024-03-26T14:26:12.550Z"
   },
   {
    "duration": 200,
    "start_time": "2024-03-26T14:26:12.565Z"
   },
   {
    "duration": 5,
    "start_time": "2024-03-26T14:26:12.766Z"
   },
   {
    "duration": 11,
    "start_time": "2024-03-26T14:26:12.772Z"
   },
   {
    "duration": 10,
    "start_time": "2024-03-26T14:26:12.785Z"
   },
   {
    "duration": 1678,
    "start_time": "2024-03-26T14:26:12.797Z"
   },
   {
    "duration": 18,
    "start_time": "2024-03-26T14:26:14.476Z"
   },
   {
    "duration": 5,
    "start_time": "2024-03-26T14:26:14.496Z"
   },
   {
    "duration": 1610,
    "start_time": "2024-03-26T14:26:25.233Z"
   }
  ],
  "celltoolbar": "Необработанный формат ячейки",
  "kernelspec": {
   "display_name": "Python 3 (ipykernel)",
   "language": "python",
   "name": "python3"
  },
  "language_info": {
   "codemirror_mode": {
    "name": "ipython",
    "version": 3
   },
   "file_extension": ".py",
   "mimetype": "text/x-python",
   "name": "python",
   "nbconvert_exporter": "python",
   "pygments_lexer": "ipython3",
   "version": "3.9.5"
  },
  "toc": {
   "base_numbering": 1,
   "nav_menu": {},
   "number_sections": true,
   "sideBar": true,
   "skip_h1_title": true,
   "title_cell": "Table of Contents",
   "title_sidebar": "Contents",
   "toc_cell": false,
   "toc_position": {
    "height": "calc(100% - 180px)",
    "left": "10px",
    "top": "150px",
    "width": "384px"
   },
   "toc_section_display": true,
   "toc_window_display": false
  }
 },
 "nbformat": 4,
 "nbformat_minor": 5
}
