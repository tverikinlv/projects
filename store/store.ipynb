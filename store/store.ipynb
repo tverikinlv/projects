{
 "cells": [
  {
   "cell_type": "markdown",
   "metadata": {},
   "source": [
    "# Анализ данных для интернет-магазина\n",
    "\n",
    "__Описание данных__\n",
    "\n",
    "__Данные для первой части__\n",
    "\n",
    "__Файл:__ `/datasets/hypothesis.csv`\n",
    "\n",
    "- `Hypothesis` — краткое описание гипотезы;\n",
    "- `Reach` — охват пользователей по 10-балльной шкале;\n",
    "- `Impact` — влияние на пользователей по 10-балльной шкале;\n",
    "- `Confidence` — уверенность в гипотезе по 10-балльной шкале;\n",
    "- `Efforts` — затраты ресурсов на проверку гипотезы по 10-балльной шкале. Чем больше значение Efforts, тем дороже проверка гипотезы.\n",
    "\n",
    "__Данные для второй части__\n",
    "\n",
    "__Файл:__ `/datasets/orders.csv`\n",
    "\n",
    "- `transactionId` — идентификатор заказа;\n",
    "- `visitorId` — идентификатор пользователя, совершившего заказ;\n",
    "- `date` — дата, когда был совершён заказ;\n",
    "- `revenue` — выручка заказа;\n",
    "- `group` — группа A/B-теста, в которую попал заказ.\n",
    "\n",
    "__Файл:__ `/datasets/visitors.csv`\n",
    "\n",
    "- `date` — дата;\n",
    "- `group` — группа A/B-теста;\n",
    "- `visitors` — количество пользователей в указанную дату в указанной группе A/B-теста\n",
    "\n",
    "__Цель:__ Приоритизировать гипотезы, запустите A/B-тест и проанализировать результаты. \n",
    "\n",
    "__План работ:__\n",
    "\n",
    "1. Загрузка данных и подготовка данных\n",
    "2. Приоритизация гипотез\n",
    "    - применить фреймворк ICE для приоритизации гипотез.\n",
    "    - применить фреймворк RICE для приоритизации гипотез. \n",
    "    - указать, как изменилась приоритизация гипотез при применении RICE вместо ICE.\n",
    "3. Анализ A/B-теста\n",
    "    - Построить график кумулятивной выручки по группам. \n",
    "    - Построить график кумулятивного среднего чека по группам. \n",
    "    - Построить график относительного изменения кумулятивного среднего чека группы B к группе A. \n",
    "    - Построить график кумулятивного среднего количества заказов на посетителя по группам. \n",
    "    - Построить график относительного изменения кумулятивного среднего количества заказов на посетителя группы B к группе A. \n",
    "    - Построить точечный график количества заказов по пользователям. \n",
    "    - Посчитать 95-й и 99-й перцентили количества заказов на пользователя. Выберите границу для определения аномальных пользователей.\n",
    "    - Построить точечный график стоимостей заказов. \n",
    "    - Посчитать 95-й и 99-й перцентили стоимости заказов. Выберите границу для определения аномальных заказов.\n",
    "    - Посчитать статистическую значимость различий в среднем количестве заказов на посетителя между группами по «сырым» данным. \n",
    "    - Посчитать статистическую значимость различий в среднем чеке заказа между группами по «сырым» данным.\n",
    "    - Посчитать статистическую значимость различий в среднем количестве заказов на посетителя между группами по «очищенным» данным. \n",
    "    - Посчитать статистическую значимость различий в среднем чеке заказа между группами по «очищенным» данным. \n",
    "    - Сформировать решение по результатам теста."
   ]
  },
  {
   "cell_type": "markdown",
   "metadata": {},
   "source": [
    "### Загрузка данных и подготовка данных"
   ]
  },
  {
   "cell_type": "code",
   "execution_count": 1,
   "metadata": {},
   "outputs": [],
   "source": [
    "import pandas as pd\n",
    "import numpy as np\n",
    "import matplotlib.pyplot as plt\n",
    "import seaborn as sns\n",
    "from scipy import stats as st"
   ]
  },
  {
   "cell_type": "code",
   "execution_count": 2,
   "metadata": {},
   "outputs": [],
   "source": [
    "try:\n",
    "    hypothesis = pd.read_csv('/datasets/hypothesis.csv')\n",
    "    orders = pd.read_csv('/datasets/orders.csv', parse_dates = ['date'])\n",
    "    visitors = pd.read_csv('/datasets/visitors.csv.csv', parse_dates = ['date'])\n",
    "except:\n",
    "    hypothesis = pd.read_csv('https://code.s3.yandex.net/datasets/hypothesis.csv')\n",
    "    orders = pd.read_csv('https://code.s3.yandex.net/datasets/orders.csv', parse_dates = ['date'])\n",
    "    visitors = pd.read_csv('https://code.s3.yandex.net/datasets/visitors.csv', parse_dates = ['date'])\n",
    "    "
   ]
  },
  {
   "cell_type": "code",
   "execution_count": 3,
   "metadata": {},
   "outputs": [],
   "source": [
    "pd.options.display.max_colwidth = 130"
   ]
  },
  {
   "cell_type": "code",
   "execution_count": 4,
   "metadata": {},
   "outputs": [
    {
     "data": {
      "text/html": [
       "<div>\n",
       "<style scoped>\n",
       "    .dataframe tbody tr th:only-of-type {\n",
       "        vertical-align: middle;\n",
       "    }\n",
       "\n",
       "    .dataframe tbody tr th {\n",
       "        vertical-align: top;\n",
       "    }\n",
       "\n",
       "    .dataframe thead th {\n",
       "        text-align: right;\n",
       "    }\n",
       "</style>\n",
       "<table border=\"1\" class=\"dataframe\">\n",
       "  <thead>\n",
       "    <tr style=\"text-align: right;\">\n",
       "      <th></th>\n",
       "      <th>Hypothesis</th>\n",
       "      <th>Reach</th>\n",
       "      <th>Impact</th>\n",
       "      <th>Confidence</th>\n",
       "      <th>Efforts</th>\n",
       "    </tr>\n",
       "  </thead>\n",
       "  <tbody>\n",
       "    <tr>\n",
       "      <th>0</th>\n",
       "      <td>Добавить два новых канала привлечения трафика, что позволит привлекать на 30% больше пользователей</td>\n",
       "      <td>3</td>\n",
       "      <td>10</td>\n",
       "      <td>8</td>\n",
       "      <td>6</td>\n",
       "    </tr>\n",
       "    <tr>\n",
       "      <th>1</th>\n",
       "      <td>Запустить собственную службу доставки, что сократит срок доставки заказов</td>\n",
       "      <td>2</td>\n",
       "      <td>5</td>\n",
       "      <td>4</td>\n",
       "      <td>10</td>\n",
       "    </tr>\n",
       "    <tr>\n",
       "      <th>2</th>\n",
       "      <td>Добавить блоки рекомендаций товаров на сайт интернет магазина, чтобы повысить конверсию и средний чек заказа</td>\n",
       "      <td>8</td>\n",
       "      <td>3</td>\n",
       "      <td>7</td>\n",
       "      <td>3</td>\n",
       "    </tr>\n",
       "    <tr>\n",
       "      <th>3</th>\n",
       "      <td>Изменить структура категорий, что увеличит конверсию, т.к. пользователи быстрее найдут нужный товар</td>\n",
       "      <td>8</td>\n",
       "      <td>3</td>\n",
       "      <td>3</td>\n",
       "      <td>8</td>\n",
       "    </tr>\n",
       "    <tr>\n",
       "      <th>4</th>\n",
       "      <td>Изменить цвет фона главной страницы, чтобы увеличить вовлеченность пользователей</td>\n",
       "      <td>3</td>\n",
       "      <td>1</td>\n",
       "      <td>1</td>\n",
       "      <td>1</td>\n",
       "    </tr>\n",
       "    <tr>\n",
       "      <th>5</th>\n",
       "      <td>Добавить страницу отзывов клиентов о магазине, что позволит увеличить количество заказов</td>\n",
       "      <td>3</td>\n",
       "      <td>2</td>\n",
       "      <td>2</td>\n",
       "      <td>3</td>\n",
       "    </tr>\n",
       "    <tr>\n",
       "      <th>6</th>\n",
       "      <td>Показать на главной странице баннеры с актуальными акциями и распродажами, чтобы увеличить конверсию</td>\n",
       "      <td>5</td>\n",
       "      <td>3</td>\n",
       "      <td>8</td>\n",
       "      <td>3</td>\n",
       "    </tr>\n",
       "    <tr>\n",
       "      <th>7</th>\n",
       "      <td>Добавить форму подписки на все основные страницы, чтобы собрать базу клиентов для email-рассылок</td>\n",
       "      <td>10</td>\n",
       "      <td>7</td>\n",
       "      <td>8</td>\n",
       "      <td>5</td>\n",
       "    </tr>\n",
       "    <tr>\n",
       "      <th>8</th>\n",
       "      <td>Запустить акцию, дающую скидку на товар в день рождения</td>\n",
       "      <td>1</td>\n",
       "      <td>9</td>\n",
       "      <td>9</td>\n",
       "      <td>5</td>\n",
       "    </tr>\n",
       "  </tbody>\n",
       "</table>\n",
       "</div>"
      ],
      "text/plain": [
       "                                                                                                     Hypothesis  \\\n",
       "0            Добавить два новых канала привлечения трафика, что позволит привлекать на 30% больше пользователей   \n",
       "1                                     Запустить собственную службу доставки, что сократит срок доставки заказов   \n",
       "2  Добавить блоки рекомендаций товаров на сайт интернет магазина, чтобы повысить конверсию и средний чек заказа   \n",
       "3           Изменить структура категорий, что увеличит конверсию, т.к. пользователи быстрее найдут нужный товар   \n",
       "4                              Изменить цвет фона главной страницы, чтобы увеличить вовлеченность пользователей   \n",
       "5                      Добавить страницу отзывов клиентов о магазине, что позволит увеличить количество заказов   \n",
       "6          Показать на главной странице баннеры с актуальными акциями и распродажами, чтобы увеличить конверсию   \n",
       "7              Добавить форму подписки на все основные страницы, чтобы собрать базу клиентов для email-рассылок   \n",
       "8                                                       Запустить акцию, дающую скидку на товар в день рождения   \n",
       "\n",
       "   Reach  Impact  Confidence  Efforts  \n",
       "0      3      10           8        6  \n",
       "1      2       5           4       10  \n",
       "2      8       3           7        3  \n",
       "3      8       3           3        8  \n",
       "4      3       1           1        1  \n",
       "5      3       2           2        3  \n",
       "6      5       3           8        3  \n",
       "7     10       7           8        5  \n",
       "8      1       9           9        5  "
      ]
     },
     "execution_count": 4,
     "metadata": {},
     "output_type": "execute_result"
    }
   ],
   "source": [
    "hypothesis"
   ]
  },
  {
   "cell_type": "code",
   "execution_count": 5,
   "metadata": {},
   "outputs": [],
   "source": [
    "hypothesis.columns = hypothesis.columns.str.lower()"
   ]
  },
  {
   "cell_type": "code",
   "execution_count": 6,
   "metadata": {},
   "outputs": [
    {
     "name": "stdout",
     "output_type": "stream",
     "text": [
      "<class 'pandas.core.frame.DataFrame'>\n",
      "RangeIndex: 9 entries, 0 to 8\n",
      "Data columns (total 5 columns):\n",
      " #   Column      Non-Null Count  Dtype \n",
      "---  ------      --------------  ----- \n",
      " 0   hypothesis  9 non-null      object\n",
      " 1   reach       9 non-null      int64 \n",
      " 2   impact      9 non-null      int64 \n",
      " 3   confidence  9 non-null      int64 \n",
      " 4   efforts     9 non-null      int64 \n",
      "dtypes: int64(4), object(1)\n",
      "memory usage: 488.0+ bytes\n"
     ]
    }
   ],
   "source": [
    "hypothesis.info()"
   ]
  },
  {
   "cell_type": "code",
   "execution_count": 7,
   "metadata": {},
   "outputs": [
    {
     "data": {
      "text/html": [
       "<div>\n",
       "<style scoped>\n",
       "    .dataframe tbody tr th:only-of-type {\n",
       "        vertical-align: middle;\n",
       "    }\n",
       "\n",
       "    .dataframe tbody tr th {\n",
       "        vertical-align: top;\n",
       "    }\n",
       "\n",
       "    .dataframe thead th {\n",
       "        text-align: right;\n",
       "    }\n",
       "</style>\n",
       "<table border=\"1\" class=\"dataframe\">\n",
       "  <thead>\n",
       "    <tr style=\"text-align: right;\">\n",
       "      <th></th>\n",
       "      <th>transactionId</th>\n",
       "      <th>visitorId</th>\n",
       "      <th>date</th>\n",
       "      <th>revenue</th>\n",
       "      <th>group</th>\n",
       "    </tr>\n",
       "  </thead>\n",
       "  <tbody>\n",
       "    <tr>\n",
       "      <th>0</th>\n",
       "      <td>3667963787</td>\n",
       "      <td>3312258926</td>\n",
       "      <td>2019-08-15</td>\n",
       "      <td>1650</td>\n",
       "      <td>B</td>\n",
       "    </tr>\n",
       "    <tr>\n",
       "      <th>1</th>\n",
       "      <td>2804400009</td>\n",
       "      <td>3642806036</td>\n",
       "      <td>2019-08-15</td>\n",
       "      <td>730</td>\n",
       "      <td>B</td>\n",
       "    </tr>\n",
       "    <tr>\n",
       "      <th>2</th>\n",
       "      <td>2961555356</td>\n",
       "      <td>4069496402</td>\n",
       "      <td>2019-08-15</td>\n",
       "      <td>400</td>\n",
       "      <td>A</td>\n",
       "    </tr>\n",
       "    <tr>\n",
       "      <th>3</th>\n",
       "      <td>3797467345</td>\n",
       "      <td>1196621759</td>\n",
       "      <td>2019-08-15</td>\n",
       "      <td>9759</td>\n",
       "      <td>B</td>\n",
       "    </tr>\n",
       "    <tr>\n",
       "      <th>4</th>\n",
       "      <td>2282983706</td>\n",
       "      <td>2322279887</td>\n",
       "      <td>2019-08-15</td>\n",
       "      <td>2308</td>\n",
       "      <td>B</td>\n",
       "    </tr>\n",
       "  </tbody>\n",
       "</table>\n",
       "</div>"
      ],
      "text/plain": [
       "   transactionId   visitorId       date  revenue group\n",
       "0     3667963787  3312258926 2019-08-15     1650     B\n",
       "1     2804400009  3642806036 2019-08-15      730     B\n",
       "2     2961555356  4069496402 2019-08-15      400     A\n",
       "3     3797467345  1196621759 2019-08-15     9759     B\n",
       "4     2282983706  2322279887 2019-08-15     2308     B"
      ]
     },
     "execution_count": 7,
     "metadata": {},
     "output_type": "execute_result"
    }
   ],
   "source": [
    "orders.head()"
   ]
  },
  {
   "cell_type": "code",
   "execution_count": 8,
   "metadata": {},
   "outputs": [
    {
     "name": "stdout",
     "output_type": "stream",
     "text": [
      "<class 'pandas.core.frame.DataFrame'>\n",
      "RangeIndex: 1197 entries, 0 to 1196\n",
      "Data columns (total 5 columns):\n",
      " #   Column         Non-Null Count  Dtype         \n",
      "---  ------         --------------  -----         \n",
      " 0   transactionId  1197 non-null   int64         \n",
      " 1   visitorId      1197 non-null   int64         \n",
      " 2   date           1197 non-null   datetime64[ns]\n",
      " 3   revenue        1197 non-null   int64         \n",
      " 4   group          1197 non-null   object        \n",
      "dtypes: datetime64[ns](1), int64(3), object(1)\n",
      "memory usage: 46.9+ KB\n"
     ]
    }
   ],
   "source": [
    "orders.info()"
   ]
  },
  {
   "cell_type": "code",
   "execution_count": 9,
   "metadata": {},
   "outputs": [
    {
     "data": {
      "text/plain": [
       "array(['B', 'A'], dtype=object)"
      ]
     },
     "execution_count": 9,
     "metadata": {},
     "output_type": "execute_result"
    }
   ],
   "source": [
    "orders.group.unique()"
   ]
  },
  {
   "cell_type": "code",
   "execution_count": 10,
   "metadata": {},
   "outputs": [
    {
     "data": {
      "text/plain": [
       "Timestamp('2019-08-01 00:00:00')"
      ]
     },
     "execution_count": 10,
     "metadata": {},
     "output_type": "execute_result"
    }
   ],
   "source": [
    "orders.date.min()"
   ]
  },
  {
   "cell_type": "code",
   "execution_count": 11,
   "metadata": {},
   "outputs": [
    {
     "data": {
      "text/plain": [
       "Timestamp('2019-08-31 00:00:00')"
      ]
     },
     "execution_count": 11,
     "metadata": {},
     "output_type": "execute_result"
    }
   ],
   "source": [
    "orders.date.max()"
   ]
  },
  {
   "cell_type": "code",
   "execution_count": 12,
   "metadata": {},
   "outputs": [
    {
     "data": {
      "text/html": [
       "<div>\n",
       "<style scoped>\n",
       "    .dataframe tbody tr th:only-of-type {\n",
       "        vertical-align: middle;\n",
       "    }\n",
       "\n",
       "    .dataframe tbody tr th {\n",
       "        vertical-align: top;\n",
       "    }\n",
       "\n",
       "    .dataframe thead th {\n",
       "        text-align: right;\n",
       "    }\n",
       "</style>\n",
       "<table border=\"1\" class=\"dataframe\">\n",
       "  <thead>\n",
       "    <tr style=\"text-align: right;\">\n",
       "      <th></th>\n",
       "      <th>visitorId</th>\n",
       "    </tr>\n",
       "    <tr>\n",
       "      <th>group</th>\n",
       "      <th></th>\n",
       "    </tr>\n",
       "  </thead>\n",
       "  <tbody>\n",
       "    <tr>\n",
       "      <th>A</th>\n",
       "      <td>557</td>\n",
       "    </tr>\n",
       "    <tr>\n",
       "      <th>B</th>\n",
       "      <td>640</td>\n",
       "    </tr>\n",
       "  </tbody>\n",
       "</table>\n",
       "</div>"
      ],
      "text/plain": [
       "       visitorId\n",
       "group           \n",
       "A            557\n",
       "B            640"
      ]
     },
     "execution_count": 12,
     "metadata": {},
     "output_type": "execute_result"
    }
   ],
   "source": [
    "orders.groupby('group').agg({'visitorId' : 'count'})"
   ]
  },
  {
   "cell_type": "code",
   "execution_count": 13,
   "metadata": {},
   "outputs": [
    {
     "data": {
      "text/plain": [
       "0"
      ]
     },
     "execution_count": 13,
     "metadata": {},
     "output_type": "execute_result"
    }
   ],
   "source": [
    "orders.duplicated().sum()"
   ]
  },
  {
   "cell_type": "code",
   "execution_count": 14,
   "metadata": {},
   "outputs": [
    {
     "data": {
      "text/plain": [
       "58"
      ]
     },
     "metadata": {},
     "output_type": "display_data"
    }
   ],
   "source": [
    "group_a = orders.query('group == \"A\"')['visitorId']\n",
    "group_b = orders.query('group == \"B\"')['visitorId']\n",
    "common_vis = group_b[group_b.isin(group_a)]\n",
    "display(common_vis.nunique())"
   ]
  },
  {
   "cell_type": "code",
   "execution_count": 15,
   "metadata": {},
   "outputs": [],
   "source": [
    "orders = orders.query('visitorId not in @common_vis')"
   ]
  },
  {
   "cell_type": "code",
   "execution_count": 16,
   "metadata": {},
   "outputs": [
    {
     "data": {
      "text/html": [
       "<div>\n",
       "<style scoped>\n",
       "    .dataframe tbody tr th:only-of-type {\n",
       "        vertical-align: middle;\n",
       "    }\n",
       "\n",
       "    .dataframe tbody tr th {\n",
       "        vertical-align: top;\n",
       "    }\n",
       "\n",
       "    .dataframe thead th {\n",
       "        text-align: right;\n",
       "    }\n",
       "</style>\n",
       "<table border=\"1\" class=\"dataframe\">\n",
       "  <thead>\n",
       "    <tr style=\"text-align: right;\">\n",
       "      <th></th>\n",
       "      <th>date</th>\n",
       "      <th>group</th>\n",
       "      <th>visitors</th>\n",
       "    </tr>\n",
       "  </thead>\n",
       "  <tbody>\n",
       "    <tr>\n",
       "      <th>0</th>\n",
       "      <td>2019-08-01</td>\n",
       "      <td>A</td>\n",
       "      <td>719</td>\n",
       "    </tr>\n",
       "    <tr>\n",
       "      <th>1</th>\n",
       "      <td>2019-08-02</td>\n",
       "      <td>A</td>\n",
       "      <td>619</td>\n",
       "    </tr>\n",
       "    <tr>\n",
       "      <th>2</th>\n",
       "      <td>2019-08-03</td>\n",
       "      <td>A</td>\n",
       "      <td>507</td>\n",
       "    </tr>\n",
       "    <tr>\n",
       "      <th>3</th>\n",
       "      <td>2019-08-04</td>\n",
       "      <td>A</td>\n",
       "      <td>717</td>\n",
       "    </tr>\n",
       "    <tr>\n",
       "      <th>4</th>\n",
       "      <td>2019-08-05</td>\n",
       "      <td>A</td>\n",
       "      <td>756</td>\n",
       "    </tr>\n",
       "  </tbody>\n",
       "</table>\n",
       "</div>"
      ],
      "text/plain": [
       "        date group  visitors\n",
       "0 2019-08-01     A       719\n",
       "1 2019-08-02     A       619\n",
       "2 2019-08-03     A       507\n",
       "3 2019-08-04     A       717\n",
       "4 2019-08-05     A       756"
      ]
     },
     "execution_count": 16,
     "metadata": {},
     "output_type": "execute_result"
    }
   ],
   "source": [
    "visitors.head()"
   ]
  },
  {
   "cell_type": "code",
   "execution_count": 17,
   "metadata": {},
   "outputs": [
    {
     "name": "stdout",
     "output_type": "stream",
     "text": [
      "<class 'pandas.core.frame.DataFrame'>\n",
      "RangeIndex: 62 entries, 0 to 61\n",
      "Data columns (total 3 columns):\n",
      " #   Column    Non-Null Count  Dtype         \n",
      "---  ------    --------------  -----         \n",
      " 0   date      62 non-null     datetime64[ns]\n",
      " 1   group     62 non-null     object        \n",
      " 2   visitors  62 non-null     int64         \n",
      "dtypes: datetime64[ns](1), int64(1), object(1)\n",
      "memory usage: 1.6+ KB\n"
     ]
    }
   ],
   "source": [
    "visitors.info()"
   ]
  },
  {
   "cell_type": "code",
   "execution_count": 18,
   "metadata": {},
   "outputs": [
    {
     "data": {
      "text/plain": [
       "array(['A', 'B'], dtype=object)"
      ]
     },
     "execution_count": 18,
     "metadata": {},
     "output_type": "execute_result"
    }
   ],
   "source": [
    "visitors.group.unique()"
   ]
  },
  {
   "cell_type": "code",
   "execution_count": 19,
   "metadata": {},
   "outputs": [
    {
     "data": {
      "text/plain": [
       "0"
      ]
     },
     "execution_count": 19,
     "metadata": {},
     "output_type": "execute_result"
    }
   ],
   "source": [
    "visitors.duplicated().sum()"
   ]
  },
  {
   "cell_type": "code",
   "execution_count": 20,
   "metadata": {},
   "outputs": [
    {
     "data": {
      "text/html": [
       "<div>\n",
       "<style scoped>\n",
       "    .dataframe tbody tr th:only-of-type {\n",
       "        vertical-align: middle;\n",
       "    }\n",
       "\n",
       "    .dataframe tbody tr th {\n",
       "        vertical-align: top;\n",
       "    }\n",
       "\n",
       "    .dataframe thead th {\n",
       "        text-align: right;\n",
       "    }\n",
       "</style>\n",
       "<table border=\"1\" class=\"dataframe\">\n",
       "  <thead>\n",
       "    <tr style=\"text-align: right;\">\n",
       "      <th></th>\n",
       "      <th>visitors</th>\n",
       "    </tr>\n",
       "    <tr>\n",
       "      <th>group</th>\n",
       "      <th></th>\n",
       "    </tr>\n",
       "  </thead>\n",
       "  <tbody>\n",
       "    <tr>\n",
       "      <th>A</th>\n",
       "      <td>18736</td>\n",
       "    </tr>\n",
       "    <tr>\n",
       "      <th>B</th>\n",
       "      <td>18916</td>\n",
       "    </tr>\n",
       "  </tbody>\n",
       "</table>\n",
       "</div>"
      ],
      "text/plain": [
       "       visitors\n",
       "group          \n",
       "A         18736\n",
       "B         18916"
      ]
     },
     "execution_count": 20,
     "metadata": {},
     "output_type": "execute_result"
    }
   ],
   "source": [
    "visitors.groupby('group').agg({'visitors' : 'sum'})"
   ]
  },
  {
   "cell_type": "code",
   "execution_count": 21,
   "metadata": {},
   "outputs": [
    {
     "data": {
      "image/png": "[encoded data removed]",
      "text/plain": [
       "<Figure size 1080x504 with 1 Axes>"
      ]
     },
     "metadata": {
      "needs_background": "light"
     },
     "output_type": "display_data"
    }
   ],
   "source": [
    "visitors[visitors['group'] =='A'].plot(kind='bar', figsize=(15, 7), x='date', y='visitors')\n",
    "plt.title('Количество посетителей по дням \\n', fontsize=18)\n",
    "plt.xlabel('\\n Дни', fontsize=14)\n",
    "plt.ylabel('Количество посетителей \\n', fontsize=14)\n",
    "plt.grid(visible=True)\n",
    "plt.show();"
   ]
  },
  {
   "cell_type": "code",
   "execution_count": 22,
   "metadata": {},
   "outputs": [
    {
     "data": {
      "image/png": "[encoded data removed]",
      "text/plain": [
       "<Figure size 1080x504 with 1 Axes>"
      ]
     },
     "metadata": {
      "needs_background": "light"
     },
     "output_type": "display_data"
    }
   ],
   "source": [
    "visitors[visitors['group'] == 'B'].plot(kind='bar', figsize=(15, 7), x='date', y='visitors')\n",
    "plt.title('Количество посетителей по дням в группе B \\n', fontsize=18)\n",
    "plt.xlabel('\\n Дни', fontsize=14)\n",
    "plt.ylabel('Количество посетителей \\n', fontsize=14)\n",
    "plt.grid(visible=True)\n",
    "plt.show();"
   ]
  },
  {
   "cell_type": "markdown",
   "metadata": {},
   "source": [
    "#### Вывод\n",
    "\n",
    "Данные загружены, преобразованы в датафрейм без ошибок. \n",
    "\n",
    "- Пропуски в данных отсуствуют \n",
    "- Полные дубликаты отсуствуют\n",
    "- Столбцы с датами приведены к соотвествующему типу данных. \n",
    "- Названия столбцов во всех датафреймах приведены к единому стилю.\n",
    "- Всего в данных информация о двух группах \"А\" и \"В\"\n",
    "- Есть 58 пользователя, которые выходят и в ту и другую группу, они были исключены для более наглядной разницы между группами\n",
    "- Динамика количества пользователей по дням между группами примерно одинаковая и колеблется в зависимости от дня недели, с наиболее выраженным спадом по субботам "
   ]
  },
  {
   "cell_type": "markdown",
   "metadata": {},
   "source": [
    "### Приоритизация гипотез"
   ]
  },
  {
   "cell_type": "markdown",
   "metadata": {},
   "source": [
    "#### Оценка гипотез по ICE"
   ]
  },
  {
   "cell_type": "code",
   "execution_count": 23,
   "metadata": {},
   "outputs": [
    {
     "data": {
      "text/html": [
       "<div>\n",
       "<style scoped>\n",
       "    .dataframe tbody tr th:only-of-type {\n",
       "        vertical-align: middle;\n",
       "    }\n",
       "\n",
       "    .dataframe tbody tr th {\n",
       "        vertical-align: top;\n",
       "    }\n",
       "\n",
       "    .dataframe thead th {\n",
       "        text-align: right;\n",
       "    }\n",
       "</style>\n",
       "<table border=\"1\" class=\"dataframe\">\n",
       "  <thead>\n",
       "    <tr style=\"text-align: right;\">\n",
       "      <th></th>\n",
       "      <th>hypothesis</th>\n",
       "      <th>ICE</th>\n",
       "    </tr>\n",
       "  </thead>\n",
       "  <tbody>\n",
       "    <tr>\n",
       "      <th>8</th>\n",
       "      <td>Запустить акцию, дающую скидку на товар в день рождения</td>\n",
       "      <td>16.20</td>\n",
       "    </tr>\n",
       "    <tr>\n",
       "      <th>0</th>\n",
       "      <td>Добавить два новых канала привлечения трафика, что позволит привлекать на 30% больше пользователей</td>\n",
       "      <td>13.33</td>\n",
       "    </tr>\n",
       "    <tr>\n",
       "      <th>7</th>\n",
       "      <td>Добавить форму подписки на все основные страницы, чтобы собрать базу клиентов для email-рассылок</td>\n",
       "      <td>11.20</td>\n",
       "    </tr>\n",
       "    <tr>\n",
       "      <th>6</th>\n",
       "      <td>Показать на главной странице баннеры с актуальными акциями и распродажами, чтобы увеличить конверсию</td>\n",
       "      <td>8.00</td>\n",
       "    </tr>\n",
       "    <tr>\n",
       "      <th>2</th>\n",
       "      <td>Добавить блоки рекомендаций товаров на сайт интернет магазина, чтобы повысить конверсию и средний чек заказа</td>\n",
       "      <td>7.00</td>\n",
       "    </tr>\n",
       "    <tr>\n",
       "      <th>1</th>\n",
       "      <td>Запустить собственную службу доставки, что сократит срок доставки заказов</td>\n",
       "      <td>2.00</td>\n",
       "    </tr>\n",
       "    <tr>\n",
       "      <th>5</th>\n",
       "      <td>Добавить страницу отзывов клиентов о магазине, что позволит увеличить количество заказов</td>\n",
       "      <td>1.33</td>\n",
       "    </tr>\n",
       "    <tr>\n",
       "      <th>3</th>\n",
       "      <td>Изменить структура категорий, что увеличит конверсию, т.к. пользователи быстрее найдут нужный товар</td>\n",
       "      <td>1.12</td>\n",
       "    </tr>\n",
       "    <tr>\n",
       "      <th>4</th>\n",
       "      <td>Изменить цвет фона главной страницы, чтобы увеличить вовлеченность пользователей</td>\n",
       "      <td>1.00</td>\n",
       "    </tr>\n",
       "  </tbody>\n",
       "</table>\n",
       "</div>"
      ],
      "text/plain": [
       "                                                                                                     hypothesis  \\\n",
       "8                                                       Запустить акцию, дающую скидку на товар в день рождения   \n",
       "0            Добавить два новых канала привлечения трафика, что позволит привлекать на 30% больше пользователей   \n",
       "7              Добавить форму подписки на все основные страницы, чтобы собрать базу клиентов для email-рассылок   \n",
       "6          Показать на главной странице баннеры с актуальными акциями и распродажами, чтобы увеличить конверсию   \n",
       "2  Добавить блоки рекомендаций товаров на сайт интернет магазина, чтобы повысить конверсию и средний чек заказа   \n",
       "1                                     Запустить собственную службу доставки, что сократит срок доставки заказов   \n",
       "5                      Добавить страницу отзывов клиентов о магазине, что позволит увеличить количество заказов   \n",
       "3           Изменить структура категорий, что увеличит конверсию, т.к. пользователи быстрее найдут нужный товар   \n",
       "4                              Изменить цвет фона главной страницы, чтобы увеличить вовлеченность пользователей   \n",
       "\n",
       "     ICE  \n",
       "8  16.20  \n",
       "0  13.33  \n",
       "7  11.20  \n",
       "6   8.00  \n",
       "2   7.00  \n",
       "1   2.00  \n",
       "5   1.33  \n",
       "3   1.12  \n",
       "4   1.00  "
      ]
     },
     "execution_count": 23,
     "metadata": {},
     "output_type": "execute_result"
    }
   ],
   "source": [
    "hypothesis['ICE'] = (hypothesis['impact'] * hypothesis['confidence'] / hypothesis['efforts']).round(2)\n",
    "hypothesis[['hypothesis', 'ICE']].sort_values('ICE', ascending=False)"
   ]
  },
  {
   "cell_type": "markdown",
   "metadata": {},
   "source": [
    "Видим, что по ICE первые три места занимают гипотезы \"Запустить акцию, дающую скидку на товар в день рождения\", \"Добавить два новых канала привлечения трафика, что позволит привлекать на 30% больше пользователей\", \"Добавить форму подписки на все основные страницы, чтобы собрать базу клиентов для email-рассылок\""
   ]
  },
  {
   "cell_type": "markdown",
   "metadata": {},
   "source": [
    "#### Оценка гипотез по RICE"
   ]
  },
  {
   "cell_type": "code",
   "execution_count": 24,
   "metadata": {},
   "outputs": [
    {
     "data": {
      "text/html": [
       "<div>\n",
       "<style scoped>\n",
       "    .dataframe tbody tr th:only-of-type {\n",
       "        vertical-align: middle;\n",
       "    }\n",
       "\n",
       "    .dataframe tbody tr th {\n",
       "        vertical-align: top;\n",
       "    }\n",
       "\n",
       "    .dataframe thead th {\n",
       "        text-align: right;\n",
       "    }\n",
       "</style>\n",
       "<table border=\"1\" class=\"dataframe\">\n",
       "  <thead>\n",
       "    <tr style=\"text-align: right;\">\n",
       "      <th></th>\n",
       "      <th>hypothesis</th>\n",
       "      <th>RICE</th>\n",
       "    </tr>\n",
       "  </thead>\n",
       "  <tbody>\n",
       "    <tr>\n",
       "      <th>7</th>\n",
       "      <td>Добавить форму подписки на все основные страницы, чтобы собрать базу клиентов для email-рассылок</td>\n",
       "      <td>112.0</td>\n",
       "    </tr>\n",
       "    <tr>\n",
       "      <th>2</th>\n",
       "      <td>Добавить блоки рекомендаций товаров на сайт интернет магазина, чтобы повысить конверсию и средний чек заказа</td>\n",
       "      <td>56.0</td>\n",
       "    </tr>\n",
       "    <tr>\n",
       "      <th>0</th>\n",
       "      <td>Добавить два новых канала привлечения трафика, что позволит привлекать на 30% больше пользователей</td>\n",
       "      <td>40.0</td>\n",
       "    </tr>\n",
       "    <tr>\n",
       "      <th>6</th>\n",
       "      <td>Показать на главной странице баннеры с актуальными акциями и распродажами, чтобы увеличить конверсию</td>\n",
       "      <td>40.0</td>\n",
       "    </tr>\n",
       "    <tr>\n",
       "      <th>8</th>\n",
       "      <td>Запустить акцию, дающую скидку на товар в день рождения</td>\n",
       "      <td>16.2</td>\n",
       "    </tr>\n",
       "    <tr>\n",
       "      <th>3</th>\n",
       "      <td>Изменить структура категорий, что увеличит конверсию, т.к. пользователи быстрее найдут нужный товар</td>\n",
       "      <td>9.0</td>\n",
       "    </tr>\n",
       "    <tr>\n",
       "      <th>1</th>\n",
       "      <td>Запустить собственную службу доставки, что сократит срок доставки заказов</td>\n",
       "      <td>4.0</td>\n",
       "    </tr>\n",
       "    <tr>\n",
       "      <th>5</th>\n",
       "      <td>Добавить страницу отзывов клиентов о магазине, что позволит увеличить количество заказов</td>\n",
       "      <td>4.0</td>\n",
       "    </tr>\n",
       "    <tr>\n",
       "      <th>4</th>\n",
       "      <td>Изменить цвет фона главной страницы, чтобы увеличить вовлеченность пользователей</td>\n",
       "      <td>3.0</td>\n",
       "    </tr>\n",
       "  </tbody>\n",
       "</table>\n",
       "</div>"
      ],
      "text/plain": [
       "                                                                                                     hypothesis  \\\n",
       "7              Добавить форму подписки на все основные страницы, чтобы собрать базу клиентов для email-рассылок   \n",
       "2  Добавить блоки рекомендаций товаров на сайт интернет магазина, чтобы повысить конверсию и средний чек заказа   \n",
       "0            Добавить два новых канала привлечения трафика, что позволит привлекать на 30% больше пользователей   \n",
       "6          Показать на главной странице баннеры с актуальными акциями и распродажами, чтобы увеличить конверсию   \n",
       "8                                                       Запустить акцию, дающую скидку на товар в день рождения   \n",
       "3           Изменить структура категорий, что увеличит конверсию, т.к. пользователи быстрее найдут нужный товар   \n",
       "1                                     Запустить собственную службу доставки, что сократит срок доставки заказов   \n",
       "5                      Добавить страницу отзывов клиентов о магазине, что позволит увеличить количество заказов   \n",
       "4                              Изменить цвет фона главной страницы, чтобы увеличить вовлеченность пользователей   \n",
       "\n",
       "    RICE  \n",
       "7  112.0  \n",
       "2   56.0  \n",
       "0   40.0  \n",
       "6   40.0  \n",
       "8   16.2  \n",
       "3    9.0  \n",
       "1    4.0  \n",
       "5    4.0  \n",
       "4    3.0  "
      ]
     },
     "execution_count": 24,
     "metadata": {},
     "output_type": "execute_result"
    }
   ],
   "source": [
    "hypothesis['RICE'] = hypothesis['reach'] * hypothesis['impact'] * hypothesis['confidence'] / hypothesis['efforts']\n",
    "hypothesis[['hypothesis','RICE']].sort_values('RICE', ascending=False)"
   ]
  },
  {
   "cell_type": "markdown",
   "metadata": {},
   "source": [
    "Видим, что по RICE первые два места занимают гипотезы \"Добавить форму подписки на все основные страницы, чтобы собрать базу клиентов для email-рассылок\" и \"Добавить блоки рекомендаций товаров на сайт интернет магазина, чтобы повысить конверсию и средний чек заказа\", третье место делят гипотезы \"Добавить два новых канала привлечения трафика, что позволит привлекать на 30% больше пользователей\" и \"Показать на главной странице баннеры с актуальными акциями и распродажами, чтобы увеличить конверсию\""
   ]
  },
  {
   "cell_type": "markdown",
   "metadata": {},
   "source": [
    "#### Вывод\n",
    "\n",
    "После оценки по фреймворку RICE видно, что на первое место вышли другие гипотезы, нежели при оценке по фреймворку ICE. Такое различие объясняется большими значениями параметра `reach`, как это можно видеть в таблице ниже. Эти гипотезы охыватывают большее количество пользователей.\n",
    "Таким образом, наиоболее приоритетной выглядит гипотеза \"Добавить форму подписки на все основные страницы, чтобы собрать базу клиентов для email-рассылок\" и \"Добавить блоки рекомендаций товаров на сайт интернет магазина, чтобы повысить конверсию и средний чек заказа\""
   ]
  },
  {
   "cell_type": "code",
   "execution_count": 25,
   "metadata": {},
   "outputs": [
    {
     "data": {
      "text/html": [
       "<div>\n",
       "<style scoped>\n",
       "    .dataframe tbody tr th:only-of-type {\n",
       "        vertical-align: middle;\n",
       "    }\n",
       "\n",
       "    .dataframe tbody tr th {\n",
       "        vertical-align: top;\n",
       "    }\n",
       "\n",
       "    .dataframe thead th {\n",
       "        text-align: right;\n",
       "    }\n",
       "</style>\n",
       "<table border=\"1\" class=\"dataframe\">\n",
       "  <thead>\n",
       "    <tr style=\"text-align: right;\">\n",
       "      <th></th>\n",
       "      <th>hypothesis</th>\n",
       "      <th>reach</th>\n",
       "      <th>impact</th>\n",
       "      <th>confidence</th>\n",
       "      <th>efforts</th>\n",
       "      <th>ICE</th>\n",
       "      <th>RICE</th>\n",
       "    </tr>\n",
       "  </thead>\n",
       "  <tbody>\n",
       "    <tr>\n",
       "      <th>7</th>\n",
       "      <td>Добавить форму подписки на все основные страницы, чтобы собрать базу клиентов для email-рассылок</td>\n",
       "      <td>10</td>\n",
       "      <td>7</td>\n",
       "      <td>8</td>\n",
       "      <td>5</td>\n",
       "      <td>11.20</td>\n",
       "      <td>112.0</td>\n",
       "    </tr>\n",
       "    <tr>\n",
       "      <th>2</th>\n",
       "      <td>Добавить блоки рекомендаций товаров на сайт интернет магазина, чтобы повысить конверсию и средний чек заказа</td>\n",
       "      <td>8</td>\n",
       "      <td>3</td>\n",
       "      <td>7</td>\n",
       "      <td>3</td>\n",
       "      <td>7.00</td>\n",
       "      <td>56.0</td>\n",
       "    </tr>\n",
       "    <tr>\n",
       "      <th>3</th>\n",
       "      <td>Изменить структура категорий, что увеличит конверсию, т.к. пользователи быстрее найдут нужный товар</td>\n",
       "      <td>8</td>\n",
       "      <td>3</td>\n",
       "      <td>3</td>\n",
       "      <td>8</td>\n",
       "      <td>1.12</td>\n",
       "      <td>9.0</td>\n",
       "    </tr>\n",
       "    <tr>\n",
       "      <th>6</th>\n",
       "      <td>Показать на главной странице баннеры с актуальными акциями и распродажами, чтобы увеличить конверсию</td>\n",
       "      <td>5</td>\n",
       "      <td>3</td>\n",
       "      <td>8</td>\n",
       "      <td>3</td>\n",
       "      <td>8.00</td>\n",
       "      <td>40.0</td>\n",
       "    </tr>\n",
       "    <tr>\n",
       "      <th>0</th>\n",
       "      <td>Добавить два новых канала привлечения трафика, что позволит привлекать на 30% больше пользователей</td>\n",
       "      <td>3</td>\n",
       "      <td>10</td>\n",
       "      <td>8</td>\n",
       "      <td>6</td>\n",
       "      <td>13.33</td>\n",
       "      <td>40.0</td>\n",
       "    </tr>\n",
       "    <tr>\n",
       "      <th>4</th>\n",
       "      <td>Изменить цвет фона главной страницы, чтобы увеличить вовлеченность пользователей</td>\n",
       "      <td>3</td>\n",
       "      <td>1</td>\n",
       "      <td>1</td>\n",
       "      <td>1</td>\n",
       "      <td>1.00</td>\n",
       "      <td>3.0</td>\n",
       "    </tr>\n",
       "    <tr>\n",
       "      <th>5</th>\n",
       "      <td>Добавить страницу отзывов клиентов о магазине, что позволит увеличить количество заказов</td>\n",
       "      <td>3</td>\n",
       "      <td>2</td>\n",
       "      <td>2</td>\n",
       "      <td>3</td>\n",
       "      <td>1.33</td>\n",
       "      <td>4.0</td>\n",
       "    </tr>\n",
       "    <tr>\n",
       "      <th>1</th>\n",
       "      <td>Запустить собственную службу доставки, что сократит срок доставки заказов</td>\n",
       "      <td>2</td>\n",
       "      <td>5</td>\n",
       "      <td>4</td>\n",
       "      <td>10</td>\n",
       "      <td>2.00</td>\n",
       "      <td>4.0</td>\n",
       "    </tr>\n",
       "    <tr>\n",
       "      <th>8</th>\n",
       "      <td>Запустить акцию, дающую скидку на товар в день рождения</td>\n",
       "      <td>1</td>\n",
       "      <td>9</td>\n",
       "      <td>9</td>\n",
       "      <td>5</td>\n",
       "      <td>16.20</td>\n",
       "      <td>16.2</td>\n",
       "    </tr>\n",
       "  </tbody>\n",
       "</table>\n",
       "</div>"
      ],
      "text/plain": [
       "                                                                                                     hypothesis  \\\n",
       "7              Добавить форму подписки на все основные страницы, чтобы собрать базу клиентов для email-рассылок   \n",
       "2  Добавить блоки рекомендаций товаров на сайт интернет магазина, чтобы повысить конверсию и средний чек заказа   \n",
       "3           Изменить структура категорий, что увеличит конверсию, т.к. пользователи быстрее найдут нужный товар   \n",
       "6          Показать на главной странице баннеры с актуальными акциями и распродажами, чтобы увеличить конверсию   \n",
       "0            Добавить два новых канала привлечения трафика, что позволит привлекать на 30% больше пользователей   \n",
       "4                              Изменить цвет фона главной страницы, чтобы увеличить вовлеченность пользователей   \n",
       "5                      Добавить страницу отзывов клиентов о магазине, что позволит увеличить количество заказов   \n",
       "1                                     Запустить собственную службу доставки, что сократит срок доставки заказов   \n",
       "8                                                       Запустить акцию, дающую скидку на товар в день рождения   \n",
       "\n",
       "   reach  impact  confidence  efforts    ICE   RICE  \n",
       "7     10       7           8        5  11.20  112.0  \n",
       "2      8       3           7        3   7.00   56.0  \n",
       "3      8       3           3        8   1.12    9.0  \n",
       "6      5       3           8        3   8.00   40.0  \n",
       "0      3      10           8        6  13.33   40.0  \n",
       "4      3       1           1        1   1.00    3.0  \n",
       "5      3       2           2        3   1.33    4.0  \n",
       "1      2       5           4       10   2.00    4.0  \n",
       "8      1       9           9        5  16.20   16.2  "
      ]
     },
     "execution_count": 25,
     "metadata": {},
     "output_type": "execute_result"
    }
   ],
   "source": [
    "hypothesis.sort_values('reach', ascending=False)"
   ]
  },
  {
   "cell_type": "markdown",
   "metadata": {},
   "source": [
    "### Анализ A/B-теста"
   ]
  },
  {
   "cell_type": "markdown",
   "metadata": {},
   "source": [
    "#### График кумулятивной выручки по группам"
   ]
  },
  {
   "cell_type": "code",
   "execution_count": 26,
   "metadata": {},
   "outputs": [
    {
     "data": {
      "text/plain": [
       "Timestamp('2019-08-01 00:00:00')"
      ]
     },
     "metadata": {},
     "output_type": "display_data"
    },
    {
     "data": {
      "text/plain": [
       "Timestamp('2019-08-31 00:00:00')"
      ]
     },
     "metadata": {},
     "output_type": "display_data"
    }
   ],
   "source": [
    "dates_groups = orders[['date','group']].drop_duplicates()\n",
    "\n",
    "orders_agg = dates_groups.apply(\n",
    "    lambda x: orders[\n",
    "        np.logical_and(\n",
    "            orders['date'] <= x['date'], orders['group'] == x['group']\n",
    "        )\n",
    "    ].agg(\n",
    "        {\n",
    "            'date': 'max',\n",
    "            'group': 'max',\n",
    "            'transactionId': 'nunique',\n",
    "            'visitorId': 'nunique',\n",
    "            'revenue': 'sum',\n",
    "        }\n",
    "    ),\n",
    "    axis=1,\n",
    ").sort_values(by=['date', 'group'])\n",
    "\n",
    "visitors_agg = dates_groups.apply(\n",
    "    lambda x: visitors[\n",
    "        np.logical_and(\n",
    "            visitors['date'] <= x['date'], visitors['group'] == x['group']\n",
    "        )\n",
    "    ].agg({'date': 'max', 'group': 'max', 'visitors': 'sum'}),\n",
    "    axis=1,\n",
    ").sort_values(by=['date', 'group'])\n",
    "\n",
    "\n",
    "cumulative_data = orders_agg.merge(\n",
    "    visitors_agg, left_on=['date', 'group'], right_on=['date', 'group']\n",
    ")\n",
    "\n",
    "cumulative_data.columns = [\n",
    "    'date',\n",
    "    'group',\n",
    "    'orders',\n",
    "    'buyers',\n",
    "    'revenue',\n",
    "    'visitors',\n",
    "]\n",
    "\n",
    "cumulative_rev_A = cumulative_data[cumulative_data['group']=='A'][['date','revenue', 'orders']]\n",
    "cumulative_rev_B = cumulative_data[cumulative_data['group']=='B'][['date','revenue', 'orders']]\n",
    "\n",
    "display(cumulative_data.date.min())\n",
    "display(cumulative_data.date.max())"
   ]
  },
  {
   "cell_type": "code",
   "execution_count": 27,
   "metadata": {},
   "outputs": [
    {
     "data": {
      "image/png": "[encoded data removed]",
      "text/plain": [
       "<Figure size 1080x504 with 1 Axes>"
      ]
     },
     "metadata": {
      "needs_background": "light"
     },
     "output_type": "display_data"
    }
   ],
   "source": [
    "plt.figure(figsize=(15, 7))\n",
    "plt.title('График кумулятивной выручки по группам \\n', fontsize=18)\n",
    "plt.plot(cumulative_rev_A['date'], cumulative_rev_A['revenue'], label='A')\n",
    "plt.plot(cumulative_rev_B['date'], cumulative_rev_B['revenue'], label='B')\n",
    "plt.legend(loc='upper left', fontsize=14)\n",
    "plt.xlabel('\\n Дни', fontsize=14)\n",
    "plt.ylabel('Выручка \\n', fontsize=14)\n",
    "plt.grid(visible=True)\n",
    "plt.show();"
   ]
  },
  {
   "cell_type": "markdown",
   "metadata": {},
   "source": [
    "##### Вывод и предположения\n",
    "По графику кумулятивной выручки видим, что выручка в обих группах стабильно растёт. Выручка группы B увеличивается несколько быстрее и в промежутке между 17 августа и 21 августа совершает резкий скачок. \n",
    "\n",
    "Можно предположить, что:\n",
    "- либо в это время были произведены покупки на большую сумму.\n",
    "- либо в этот период резко увеличилось количество заказов в группе B\n",
    "- также, возможны оба этих варианта вместе"
   ]
  },
  {
   "cell_type": "markdown",
   "metadata": {},
   "source": [
    "#### График кумулятивного среднего чека по группам"
   ]
  },
  {
   "cell_type": "code",
   "execution_count": 28,
   "metadata": {},
   "outputs": [
    {
     "data": {
      "image/png": "[encoded data removed]",
      "text/plain": [
       "<Figure size 1080x504 with 1 Axes>"
      ]
     },
     "metadata": {
      "needs_background": "light"
     },
     "output_type": "display_data"
    }
   ],
   "source": [
    "plt.figure(figsize=(15, 7))\n",
    "plt.title('График кумулятивного среднего чека по группам \\n', fontsize=18)\n",
    "plt.plot(cumulative_rev_A['date'], cumulative_rev_A['revenue']/cumulative_rev_A['orders'], label='A')\n",
    "plt.plot(cumulative_rev_B['date'], cumulative_rev_B['revenue']/cumulative_rev_B['orders'], label='B')\n",
    "plt.legend(loc='upper left', fontsize=14)\n",
    "plt.xlabel('\\n Дни', fontsize=14)\n",
    "plt.ylabel('Сумма \\n', fontsize=14)\n",
    "plt.grid(visible=True)\n",
    "plt.show();"
   ]
  },
  {
   "cell_type": "markdown",
   "metadata": {},
   "source": [
    "##### Вывод и предположения\n",
    "По графику кумулятивного среднего чека видим, что в промежутке между 17 августа и 21 августа в группе B средний чек резко увеличивается, а затем стабильно уменьшается. Вероятно в этот промежуток времени были соверешены покупки на большую сумму.\n",
    "\n",
    "Также видно, что у группы А чек устойчиво растёт в начале и стабилизируется ближе к концу теста."
   ]
  },
  {
   "cell_type": "markdown",
   "metadata": {},
   "source": [
    "#### График относительного изменения кумулятивного среднего чека группы B к группе A"
   ]
  },
  {
   "cell_type": "code",
   "execution_count": 29,
   "metadata": {},
   "outputs": [],
   "source": [
    "merged_cumulative_rev = cumulative_rev_A.merge(cumulative_rev_B, \n",
    "                                               left_on='date', \n",
    "                                               right_on='date', \n",
    "                                               how='left', \n",
    "                                               suffixes=['A', 'B'])"
   ]
  },
  {
   "cell_type": "code",
   "execution_count": 30,
   "metadata": {},
   "outputs": [
    {
     "data": {
      "image/png": "[encoded data removed]",
      "text/plain": [
       "<Figure size 1080x504 with 1 Axes>"
      ]
     },
     "metadata": {
      "needs_background": "light"
     },
     "output_type": "display_data"
    }
   ],
   "source": [
    "plt.figure(figsize=(15, 7))\n",
    "plt.title('График относительного изменения кумулятивного среднего чека группы B к группе A \\n', fontsize=18)\n",
    "plt.plot(merged_cumulative_rev['date'], \n",
    "         (merged_cumulative_rev['revenueB']/\n",
    "          merged_cumulative_rev['ordersB'])/\n",
    "         (merged_cumulative_rev['revenueA']/\n",
    "          merged_cumulative_rev['ordersA'])-1)\n",
    "plt.grid(visible=True)\n",
    "plt.xlabel('\\n Дни', fontsize=14)\n",
    "plt.ylabel('Отношение \\n', fontsize=14)\n",
    "plt.axhline(y=0, color='black', linestyle='--')\n",
    "plt.show()"
   ]
  },
  {
   "cell_type": "markdown",
   "metadata": {},
   "source": [
    "##### Вывод и предположения\n",
    "\n",
    "На графике относительного изменения кумулятивного среднего чека так же видим скачки: один в начале теста, а второй уже в знаком промежутке времени между 17 августа и 21 августа.\n",
    "\n",
    "Всё говорит в пользу предположения о больших покупках в этот период"
   ]
  },
  {
   "cell_type": "markdown",
   "metadata": {},
   "source": [
    "#### График кумулятивного среднего количества заказов на посетителя по группам"
   ]
  },
  {
   "cell_type": "code",
   "execution_count": 31,
   "metadata": {},
   "outputs": [],
   "source": [
    "cumulative_data['conversion'] = cumulative_data['orders'] / cumulative_data['visitors']\n",
    "cumulative_data_A = cumulative_data[cumulative_data['group'] == 'A']\n",
    "cumulative_data_B = cumulative_data[cumulative_data['group'] == 'B']"
   ]
  },
  {
   "cell_type": "code",
   "execution_count": 32,
   "metadata": {},
   "outputs": [
    {
     "data": {
      "image/png": "[encoded data removed]",
      "text/plain": [
       "<Figure size 1080x504 with 1 Axes>"
      ]
     },
     "metadata": {
      "needs_background": "light"
     },
     "output_type": "display_data"
    }
   ],
   "source": [
    "plt.figure(figsize=(15, 7))\n",
    "plt.title('График кумулятивного среднего количества заказов на посетителя по группам \\n', fontsize=18)\n",
    "plt.plot(cumulative_data_A['date'], cumulative_data_A['conversion'], label='A')\n",
    "plt.plot(cumulative_data_B['date'], cumulative_data_B['conversion'], label='B')\n",
    "plt.legend(loc='upper left', fontsize=14)\n",
    "plt.xlabel('\\n Дни', fontsize=14)\n",
    "plt.ylabel('Заказы на посетителя \\n', fontsize=14)\n",
    "plt.grid(visible=True)\n",
    "plt.show();"
   ]
  },
  {
   "cell_type": "markdown",
   "metadata": {},
   "source": [
    "##### Вывод и предположения\n",
    "\n",
    "По графику видно, что в группе А изначально совершалось больше заказов, чем в группе B. \n",
    "Среднее количество заказов в группах сначала резко растёт, затем в группе А - стремительно падает и стабилизируется, а в группе B так же стремительно растёт и стабилизируется.\n",
    "\n",
    "\n",
    "Роста числа заказов в группе B на период между 17 августа и 21 августа не наблюдается, что опять же говорит в пользу покупок на большие суммы.\n",
    "Также возможно, что были совершенны покупки на большую сумму 13 августа в группе А, т.к. среднее количество покупок на посетителя минимально в этот день, в то время, как средний чек самый большой в группе А за весь период теста."
   ]
  },
  {
   "cell_type": "markdown",
   "metadata": {},
   "source": [
    "#### График относительного изменения кумулятивного среднего количества заказов на посетителя группы B к группе A"
   ]
  },
  {
   "cell_type": "code",
   "execution_count": 33,
   "metadata": {},
   "outputs": [],
   "source": [
    "merged_cumulative_conv = cumulative_data_A[['date','conversion']].merge(cumulative_data_B[['date','conversion']], \n",
    "                                                                        left_on='date', \n",
    "                                                                        right_on='date', \n",
    "                                                                        how='left', \n",
    "                                                                        suffixes=['A', 'B'])"
   ]
  },
  {
   "cell_type": "code",
   "execution_count": 34,
   "metadata": {},
   "outputs": [
    {
     "data": {
      "image/png": "[encoded data removed]",
      "text/plain": [
       "<Figure size 1080x504 with 1 Axes>"
      ]
     },
     "metadata": {
      "needs_background": "light"
     },
     "output_type": "display_data"
    }
   ],
   "source": [
    "plt.figure(figsize=(15, 7))\n",
    "plt.title('График относительного изменения кумулятивного \\n среднего количества заказов на посетителя группы B к группе A \\n', \n",
    "          fontsize=18)\n",
    "plt.plot(merged_cumulative_conv['date'], merged_cumulative_conv['conversionB']/merged_cumulative_conv['conversionA']-1)\n",
    "plt.xlabel('\\n Дни', fontsize=14)\n",
    "plt.ylabel('Отношение \\n', fontsize=14)\n",
    "plt.grid(visible=True)\n",
    "plt.axhline(y=0, color='black', linestyle='--')\n",
    "plt.show()"
   ]
  },
  {
   "cell_type": "markdown",
   "metadata": {},
   "source": [
    "##### Вывод и предположения\n",
    "\n",
    "В начале теста группа B проигрывала группе A по числу заказов на посетителя, затем стремительно вырвалась вперёд. Потом среднее количество заказов на посетителя для группы B начало стабилизироваться"
   ]
  },
  {
   "cell_type": "markdown",
   "metadata": {},
   "source": [
    "#### Точечный график количества заказов по пользователям"
   ]
  },
  {
   "cell_type": "code",
   "execution_count": 35,
   "metadata": {},
   "outputs": [],
   "source": [
    "orders_by_visitor = (orders.groupby('visitorId', as_index=False).agg({'transactionId': 'nunique'}))\n",
    "orders_by_visitor.columns = ['visitorId', 'orders']"
   ]
  },
  {
   "cell_type": "code",
   "execution_count": 36,
   "metadata": {},
   "outputs": [
    {
     "data": {
      "image/png": "[encoded data removed]",
      "text/plain": [
       "<Figure size 1080x504 with 1 Axes>"
      ]
     },
     "metadata": {
      "needs_background": "light"
     },
     "output_type": "display_data"
    }
   ],
   "source": [
    "x_values = pd.Series(range(0,len(orders_by_visitor)))\n",
    "\n",
    "plt.figure(figsize=(15, 7))\n",
    "plt.title('График количества заказов по пользователям \\n', fontsize=18)\n",
    "plt.scatter(x_values, orders_by_visitor['orders'])\n",
    "plt.xlabel('\\n Пользователи', fontsize=14)\n",
    "plt.ylabel('Количество заказов \\n', fontsize=14)\n",
    "plt.yticks(range(0,12))\n",
    "plt.grid(visible=True)\n",
    "plt.show()"
   ]
  },
  {
   "cell_type": "markdown",
   "metadata": {},
   "source": [
    "##### Вывод и предположения\n",
    "\n",
    "На графике видно, что большая часть пользователей совершила по одному заказу. Небольшое количество пользователей совершенил 2-3 зказа"
   ]
  },
  {
   "cell_type": "markdown",
   "metadata": {},
   "source": [
    "#### 95-й и 99-й перцентили количества заказов на пользователя."
   ]
  },
  {
   "cell_type": "code",
   "execution_count": 37,
   "metadata": {},
   "outputs": [
    {
     "name": "stdout",
     "output_type": "stream",
     "text": [
      "[1. 2.]\n"
     ]
    }
   ],
   "source": [
    "print(np.percentile(orders_by_visitor['orders'], [95, 99]))"
   ]
  },
  {
   "cell_type": "markdown",
   "metadata": {},
   "source": [
    "Видим, что только 1% пользователей соврешило более 2 заказов.\n",
    "Примем за аномальных пользователей тех, кто сделал более 2 заказов"
   ]
  },
  {
   "cell_type": "markdown",
   "metadata": {},
   "source": [
    "#### Точечный график стоимостей заказов"
   ]
  },
  {
   "cell_type": "code",
   "execution_count": 38,
   "metadata": {},
   "outputs": [
    {
     "data": {
      "image/png": "[encoded data removed]",
      "text/plain": [
       "<Figure size 1080x504 with 1 Axes>"
      ]
     },
     "metadata": {
      "needs_background": "light"
     },
     "output_type": "display_data"
    }
   ],
   "source": [
    "x_values = pd.Series(range(0,len(orders['revenue'])))\n",
    "\n",
    "plt.figure(figsize=(15, 7))\n",
    "plt.title('График стоимостей заказов \\n', fontsize=18)\n",
    "plt.scatter(x_values, orders['revenue'])\n",
    "plt.xlabel('\\n Заказ', fontsize=14)\n",
    "plt.ylabel('Стоимость заказа\\n', fontsize=14)\n",
    "plt.grid(visible=True)\n",
    "plt.show()"
   ]
  },
  {
   "cell_type": "code",
   "execution_count": 39,
   "metadata": {},
   "outputs": [
    {
     "data": {
      "image/png": "[encoded data removed]",
      "text/plain": [
       "<Figure size 1080x504 with 1 Axes>"
      ]
     },
     "metadata": {
      "needs_background": "light"
     },
     "output_type": "display_data"
    }
   ],
   "source": [
    "plt.figure(figsize=(15, 7))\n",
    "plt.title('График стоимостей заказов \\n', fontsize=18)\n",
    "plt.scatter(x_values, orders['revenue'])\n",
    "plt.xlabel('\\n Заказ', fontsize=14)\n",
    "plt.ylabel('Стоимость заказа\\n', fontsize=14)\n",
    "plt.ylim([0, 50000])\n",
    "plt.grid(visible=True)\n",
    "plt.show()"
   ]
  },
  {
   "cell_type": "markdown",
   "metadata": {},
   "source": [
    "##### Вывод и предположения\n",
    "\n",
    "На графике видно, что большая часть заказов на сумму менее 10 тысяч. Есть два особо выделяющихся заказа на крупные суммы более 200 тысяч.\n",
    "\n",
    "Возможно, именно их мы видели в виде скачков на графиках средних чеков и выручки"
   ]
  },
  {
   "cell_type": "markdown",
   "metadata": {},
   "source": [
    "#### 95-й и 99-й перцентили стоимости заказов"
   ]
  },
  {
   "cell_type": "code",
   "execution_count": 40,
   "metadata": {},
   "outputs": [
    {
     "name": "stdout",
     "output_type": "stream",
     "text": [
      "[17990. 26785. 53904.]\n"
     ]
    }
   ],
   "source": [
    "print(np.percentile(orders['revenue'], [90, 95, 99]))"
   ]
  },
  {
   "cell_type": "markdown",
   "metadata": {},
   "source": [
    "Видим, что 5% покупок на сумму свыше 28 тысяч, 1% более 53 тысяч.\n",
    "Примем за аномальные заказы с суммой свыше 26785"
   ]
  },
  {
   "cell_type": "markdown",
   "metadata": {},
   "source": [
    "#### Cтатистическая значимость различий в среднем количестве заказов на посетителя между группами по «сырым» данным"
   ]
  },
  {
   "cell_type": "code",
   "execution_count": 41,
   "metadata": {},
   "outputs": [],
   "source": [
    "visitors_A_daily = visitors[visitors['group'] == 'A'][['date', 'visitors']]\n",
    "visitors_A_daily.columns = ['date', 'visitors_per_date_A']\n",
    "\n",
    "visitors_A_cummulative = visitors_A_daily.apply(\n",
    "    lambda x: visitors_A_daily[visitors_A_daily['date'] <= x['date']].agg(\n",
    "        {'date': 'max', 'visitors_per_date_A': 'sum'}\n",
    "    ),\n",
    "    axis=1,\n",
    ")\n",
    "visitors_A_cummulative.columns = ['date', 'visitors_cummulative_A']\n",
    "\n",
    "visitors_B_daily = visitors[visitors['group'] == 'B'][['date', 'visitors']]\n",
    "visitors_B_daily.columns = ['date', 'visitors_per_date_B']\n",
    "\n",
    "visitors_B_cummulative = visitors_B_daily.apply(\n",
    "    lambda x: visitors_B_daily[visitors_B_daily['date'] <= x['date']].agg(\n",
    "        {'date': 'max', 'visitors_per_date_B': 'sum'}\n",
    "    ),\n",
    "    axis=1,\n",
    ")\n",
    "visitors_B_cummulative.columns = ['date', 'visitors_cummulative_A']\n",
    "\n",
    "orders_A_daily = (\n",
    "    orders[orders['group'] == 'A'][['date', 'transactionId', 'visitorId', 'revenue']]\n",
    "    .groupby('date', as_index=False)\n",
    "    .agg({'transactionId': pd.Series.nunique, 'revenue': 'sum'})\n",
    ")\n",
    "orders_A_daily.columns = ['date', 'orders_per_date_A', 'revenue_per_date_A']\n",
    "\n",
    "orders_A_cummulative = orders_A_daily.apply(\n",
    "    lambda x: orders_A_daily[orders_A_daily['date'] <= x['date']].agg(\n",
    "        {'date': 'max', 'orders_per_date_A': 'sum', 'revenue_per_date_A': 'sum'}\n",
    "    ),\n",
    "    axis=1,\n",
    ").sort_values(by=['date'])\n",
    "orders_A_cummulative.columns = [\n",
    "    'date',\n",
    "    'orders_cummulative_A',\n",
    "    'revenue_cummulative_A',\n",
    "]\n",
    "\n",
    "orders_B_daily = (\n",
    "    orders[orders['group'] == 'A'][['date', 'transactionId', 'visitorId', 'revenue']]\n",
    "    .groupby('date', as_index=False)\n",
    "    .agg({'transactionId': pd.Series.nunique, 'revenue': 'sum'})\n",
    ")\n",
    "orders_B_daily.columns = ['date', 'orders_per_date_B', 'revenue_per_date_B']\n",
    "\n",
    "orders_B_cummulative = orders_B_daily.apply(\n",
    "    lambda x: orders_B_daily[orders_B_daily['date'] <= x['date']].agg(\n",
    "        {'date': 'max', 'orders_per_date_B': 'sum', 'revenue_per_date_B': 'sum'}\n",
    "    ),\n",
    "    axis=1,\n",
    ").sort_values(by=['date'])\n",
    "orders_B_cummulative.columns = [\n",
    "    'date',\n",
    "    'orders_cummulative_B',\n",
    "    'revenue_cummulative_B',\n",
    "]\n",
    "\n",
    "df = (\n",
    "    orders_A_daily.merge(\n",
    "        orders_B_daily, left_on='date', right_on='date', how='left'\n",
    "    )\n",
    "    .merge(orders_A_cummulative, left_on='date', right_on='date', how='left')\n",
    "    .merge(orders_B_cummulative, left_on='date', right_on='date', how='left')\n",
    "    .merge(visitors_A_daily, left_on='date', right_on='date', how='left')\n",
    "    .merge(visitors_B_daily, left_on='date', right_on='date', how='left')\n",
    "    .merge(visitors_A_cummulative, left_on='date', right_on='date', how='left')\n",
    "    .merge(visitors_B_cummulative, left_on='date', right_on='date', how='left')\n",
    ")"
   ]
  },
  {
   "cell_type": "code",
   "execution_count": 42,
   "metadata": {},
   "outputs": [],
   "source": [
    "orders_by_vis_A = (\n",
    "    orders[orders['group'] == 'A']\n",
    "    .groupby('visitorId', as_index=False)\n",
    "    .agg({'transactionId': pd.Series.nunique})\n",
    ")\n",
    "orders_by_vis_A.columns = ['visitorId', 'orders']\n",
    "\n",
    "orders_by_vis_B = (\n",
    "    orders[orders['group'] == 'B']\n",
    "    .groupby('visitorId', as_index=False)\n",
    "    .agg({'transactionId': pd.Series.nunique})\n",
    ")\n",
    "orders_by_vis_B.columns = ['visitorId', 'orders']\n",
    "\n",
    "sample_A = pd.concat([orders_by_vis_A['orders'],\n",
    "                     pd.Series(0, \n",
    "                               index=np.arange(df['visitors_per_date_A'].sum() - len(orders_by_vis_A['orders'])), \n",
    "                                name='orders')],\n",
    "                            axis=0)\n",
    "\n",
    "sample_B = pd.concat([orders_by_vis_B['orders'],\n",
    "                      pd.Series(0, \n",
    "                                index=np.arange(df['visitors_per_date_B'].sum() - len(orders_by_vis_B['orders'])), \n",
    "                                name='orders')],\n",
    "                             axis=0) "
   ]
  },
  {
   "cell_type": "code",
   "execution_count": 43,
   "metadata": {},
   "outputs": [
    {
     "name": "stdout",
     "output_type": "stream",
     "text": [
      "P-value равно 0.011\n",
      "P-value меньше уровня статистической значимости, отвергаем гипотезу\n",
      "Относительный прирост среднего числа заказов группы В: 0.160\n"
     ]
    }
   ],
   "source": [
    "# т.к. данные с выбросами, применяем тест Манна-Уитни\n",
    "# Нулевая гипотеза - различий в среднем количестве заказов на посетителя между группами нет\n",
    "# Альтернативная гипотеза - различия в среднем количестве заказов на посетителя есть\n",
    "\n",
    "test_result = st.mannwhitneyu(sample_A, sample_B)[1]\n",
    "\n",
    "print('P-value равно', \"{0:.3f}\".format(test_result))\n",
    "\n",
    "if test_result < 0.05:\n",
    "    print('P-value меньше уровня статистической значимости, отвергаем гипотезу')\n",
    "else:\n",
    "    print('P-value больше уровня статистической значимости, нельзя отвергнуть гипотезу')\n",
    "    \n",
    "print(\"Относительный прирост среднего числа заказов группы В: {0:.3f}\".format(sample_B.mean() / sample_A.mean() - 1))"
   ]
  },
  {
   "cell_type": "markdown",
   "metadata": {},
   "source": [
    "#####  Выводы и предположения\n",
    "\n",
    "По результатам теста на сырых данных, можно предположить, что между средним количеством заказов на посетителя в группах есть значимая разница.\n",
    "\n",
    "Прирост среднего числа заказов составил 16% в группе В "
   ]
  },
  {
   "cell_type": "markdown",
   "metadata": {},
   "source": [
    "#### Cтатистическая значимость различий в среднем чеке заказа между группами по «сырым» данным"
   ]
  },
  {
   "cell_type": "code",
   "execution_count": 44,
   "metadata": {},
   "outputs": [
    {
     "name": "stdout",
     "output_type": "stream",
     "text": [
      "P-value равно 0.829\n",
      "P-value больше уровня статистической значимости, нельзя отвергнуть гипотезу\n",
      "Относительный прирост среднего чека группы В: -0.223\n"
     ]
    }
   ],
   "source": [
    "# Нулевая гипотеза - различий в среднем чеке нет\n",
    "# Альтернативная гипотеза - различия в среднем чеке есть\n",
    "\n",
    "test_result = st.mannwhitneyu(orders[orders['group']=='A']['revenue'], orders[orders['group']=='B']['revenue'])[1]\n",
    "\n",
    "print('P-value равно','{0:.3f}'.format(test_result))\n",
    "\n",
    "if test_result < 0.05:\n",
    "    print('P-value меньше уровня статистической значимости, отвергаем гипотезу')\n",
    "else:\n",
    "    print('P-value больше уровня статистической значимости, нельзя отвергнуть гипотезу')\n",
    "    \n",
    "print(\"Относительный прирост среднего чека группы В: {0:.3f}\".format(\n",
    "    orders[orders['group']=='A']['revenue'].mean() / orders[orders['group']=='B']['revenue'].mean() - 1))"
   ]
  },
  {
   "cell_type": "markdown",
   "metadata": {},
   "source": [
    "#####  Выводы и предположения\n",
    "\n",
    "По результатам теста на сырых данных, нельзя отвергнуть гипотезу о равенстве срдених чеков группы А и B\n",
    "\n",
    "Прирост среднего чека на стороне группы А"
   ]
  },
  {
   "cell_type": "markdown",
   "metadata": {},
   "source": [
    "#### Cтатистическая значимость различий в среднем количестве заказов на посетителя между группами по «очищенным» данным"
   ]
  },
  {
   "cell_type": "code",
   "execution_count": 45,
   "metadata": {},
   "outputs": [
    {
     "data": {
      "text/plain": [
       "16"
      ]
     },
     "execution_count": 45,
     "metadata": {},
     "output_type": "execute_result"
    }
   ],
   "source": [
    "# находим аномальных пользователей\n",
    "\n",
    "vis_w_many_orders = pd.concat(\n",
    "    [\n",
    "        orders_by_vis_A[orders_by_vis_A['orders'] > np.percentile(orders_by_visitor['orders'], [99])[0]]['visitorId'],\n",
    "        orders_by_vis_B[orders_by_vis_B['orders'] > np.percentile(orders_by_visitor['orders'], [99])[0]]['visitorId'],\n",
    "    ],\n",
    "    axis=0,\n",
    ")\n",
    "\n",
    "vis_w_expensive_orders = orders[orders['revenue'] > np.percentile(orders['revenue'], [99])[0]]['visitorId']\n",
    "\n",
    "abnormal_vis = (\n",
    "    pd.concat([vis_w_many_orders, vis_w_expensive_orders], axis=0)\n",
    "    .drop_duplicates()\n",
    "    .sort_values()\n",
    ")\n",
    "\n",
    "abnormal_vis.shape[0]"
   ]
  },
  {
   "cell_type": "code",
   "execution_count": 46,
   "metadata": {},
   "outputs": [],
   "source": [
    "# фильтруем выборки\n",
    "\n",
    "sample_A_filtered = pd.concat(\n",
    "    [\n",
    "        orders_by_vis_A[\n",
    "            np.logical_not(orders_by_vis_A['visitorId'].isin(abnormal_vis))\n",
    "        ]['orders'],\n",
    "        pd.Series(\n",
    "            0,\n",
    "            index=np.arange(\n",
    "                df['visitors_per_date_A'].sum() - len(orders_by_vis_A['orders'])\n",
    "            ),\n",
    "            name='orders',\n",
    "        ),\n",
    "    ],\n",
    "    axis=0,\n",
    ")\n",
    "\n",
    "sample_B_filtered = pd.concat(\n",
    "    [\n",
    "        orders_by_vis_B[\n",
    "            np.logical_not(orders_by_vis_B['visitorId'].isin(abnormal_vis))\n",
    "        ]['orders'],\n",
    "        pd.Series(\n",
    "            0,\n",
    "            index=np.arange(\n",
    "                df['visitors_per_date_B'].sum() - len(orders_by_vis_A['orders'])\n",
    "            ),\n",
    "            name='orders',\n",
    "        ),\n",
    "    ],\n",
    "    axis=0,\n",
    ")"
   ]
  },
  {
   "cell_type": "code",
   "execution_count": 47,
   "metadata": {},
   "outputs": [
    {
     "name": "stdout",
     "output_type": "stream",
     "text": [
      "P-value равно 0.009\n",
      "P-value меньше уровня статистической значимости, отвергаем гипотезу\n",
      "Относительный прирост среднего числа заказов группы В: 0.160\n"
     ]
    }
   ],
   "source": [
    "# Нулевая гипотеза - различий в среднем количестве заказов на посетителя между группами нет\n",
    "# Альтернативная гипотеза - различия в среднем количестве заказов на посетителя нет\n",
    "\n",
    "test_result = st.mannwhitneyu(sample_A_filtered, sample_B_filtered)[1]\n",
    "\n",
    "print('P-value равно', \"{0:.3f}\".format(test_result))\n",
    "\n",
    "if test_result < 0.05:\n",
    "    print('P-value меньше уровня статистической значимости, отвергаем гипотезу')\n",
    "else:\n",
    "    print('P-value больше уровня статистической значимости, нельзя отвергнуть гипотезу')\n",
    "    \n",
    "print(\"Относительный прирост среднего числа заказов группы В: {0:.3f}\".format(sample_B.mean() / sample_A.mean() - 1))"
   ]
  },
  {
   "cell_type": "markdown",
   "metadata": {},
   "source": [
    "#####  Выводы и предположения\n",
    "\n",
    "По результатам теста на очищенных данных, можно предположить, что между средним количеством заказов на посетителя в группах есть значимая разница"
   ]
  },
  {
   "cell_type": "markdown",
   "metadata": {},
   "source": [
    "#### Статистическая значимость различий в среднем количестве заказов на посетителя между группами по «очищенным» данным"
   ]
  },
  {
   "cell_type": "code",
   "execution_count": 48,
   "metadata": {},
   "outputs": [],
   "source": [
    "# Нулевая гипотеза - различий в среднем чеке нет\n",
    "# Альтернативная гипотеза - различия в среднем чеке есть\n",
    "\n",
    "test_result = st.mannwhitneyu(\n",
    "            orders[\n",
    "                np.logical_and(\n",
    "                    orders['group'] == 'A',\n",
    "                    np.logical_not(orders['visitorId'].isin(abnormal_vis)),\n",
    "                )\n",
    "            ]['revenue'],\n",
    "            orders[\n",
    "                np.logical_and(\n",
    "                    orders['group'] == 'B',\n",
    "                    np.logical_not(orders['visitorId'].isin(abnormal_vis)),\n",
    "                )\n",
    "            ]['revenue'],\n",
    "        )[1]"
   ]
  },
  {
   "cell_type": "code",
   "execution_count": 49,
   "metadata": {},
   "outputs": [
    {
     "name": "stdout",
     "output_type": "stream",
     "text": [
      "P-value равно 0.788\n",
      "P-value больше уровня статистической значимости, нельзя отвергнуть гипотезу\n",
      "Относительный прирост среднего чека группы В: -0.223\n"
     ]
    }
   ],
   "source": [
    "print('P-value равно','{0:.3f}'.format(test_result))\n",
    "\n",
    "if test_result < 0.05:\n",
    "    print('P-value меньше уровня статистической значимости, отвергаем гипотезу')\n",
    "else:\n",
    "    print('P-value больше уровня статистической значимости, нельзя отвергнуть гипотезу')\n",
    "    \n",
    "print(\"Относительный прирост среднего чека группы В: {0:.3f}\".format(\n",
    "    orders[orders['group']=='A']['revenue'].mean() / orders[orders['group']=='B']['revenue'].mean() - 1))"
   ]
  },
  {
   "cell_type": "markdown",
   "metadata": {},
   "source": [
    "#####  Выводы и предположения\n",
    "\n",
    "По результатам теста на очищенных данных, нельзя отвергнуть гипотезу о равенстве средних чеков группы А и B"
   ]
  },
  {
   "cell_type": "markdown",
   "metadata": {},
   "source": [
    "#### Решение по результатам теста\n",
    "\n",
    "По результатам A/B теста известно следующее: \n",
    "- Можно предположить, что между средним количеством заказов на посетителя в группах есть значимая разница;\n",
    "- График относительного изменения кумулятивного среднего количества заказов на посетителя группы B к группе A, показывает что результаты группы B лучше, чем в группе А;\n",
    "- Несмотря на это, нет статистически значимого различия по среднему чеку между группами ни по «сырым», ни по данным после фильтрации аномалий;\n",
    "\n",
    "В этой связи, оптимальным решением будет остановка теста, и признание победы группы B в количестве заказов, но отсутствие значимой разницы в средних чеках между группами."
   ]
  },
  {
   "cell_type": "markdown",
   "metadata": {},
   "source": [
    "### Выводы\n",
    "\n",
    "1. Данные загружены, преобразованы в датафрейм без ошибок. \n",
    "\n",
    "- Пропуски в данных отсутствуют \n",
    "- Полные дубликаты отсутствуют\n",
    "- Столбцы с датами приведены к соответствующему типу данных. \n",
    "- Названия столбцов во всех датафреймах приведены к единому стилю.\n",
    "- Всего в данных информация о двух группах \"А\" и \"В\"\n",
    "- Есть 58 пользователя, которые выходят и в ту и другую группу, они были исключены для более наглядной разницы между группами\n",
    "- Динамика количества пользователей по дням между группами примерно одинаковая и колеблется в зависимости от дня недели, с наиболее выраженным спадом по субботам \n",
    "\n",
    "2. После оценки по фреймворку RICE видно, что на первое место вышли другие гипотезы, нежели при оценке по фреймворку ICE. Такое различие объясняется большими значениями параметра `reach`, как это можно видеть в таблице ниже. Эти гипотезы охватывают большее количество пользователей. Таким образом, наиболее приоритетной выглядит гипотеза \"Добавить форму подписки на все основные страницы, чтобы собрать базу клиентов для email-рассылок\" и \"Добавить блоки рекомендаций товаров на сайт интернет магазина, чтобы повысить конверсию и средний чек заказа\"\n",
    "\n",
    "3. По результатам A/B теста известно следующее:\n",
    "- По графику кумулятивной выручки видим, что выручка в обоих группах стабильно растёт. Выручка группы B увеличивается несколько быстрее и в промежутке между 17 августа и 21 августа совершает резкий скачок. \n",
    "- По графику кумулятивного среднего чека видим, что в промежутке между 17 августа и 21 августа в группе B средний чек резко увеличивается, а затем стабильно уменьшается.\n",
    "- На графике относительного изменения кумулятивного среднего чека так же видим скачки: один в начале текста, а второй уже в знаком промежутке времени между 17 августа и 21 августа.\n",
    "- По графику видно, что в группе А изначально совершалось больше заказов, чем в группе B. Среднее количество заказов в группах сначала резко растёт, затем в группе А - стремительно падает и стабилизируется, а в группе B так же стремительно растёт и стабилизируется.\n",
    "- В начале теста группа B проигрывала группе A по числу заказов на посетителя, затем стремительно вырвалась вперёд. Потом среднее количество заказов на посетителя для группы B начало стабилизироваться\n",
    "- Только 5% пользователей совершило более 2 заказов, и только 1% более 4\n",
    "- 5% покупок на сумму свыше 28 тысяч, 1% более 58 тысяч\n",
    "- По результатам теста на сырых данных, можно предположить, что между средним количеством заказов на посетителя в группах есть значимая разница\n",
    "- По результатам теста на сырых данных, нельзя отвергнуть гипотезу о равенстве средних чеков группы А и B\n",
    "- По результатам теста на очищенных данных, можно предположить, что между средним количеством заказов на посетителя в группах есть значимая разница\n",
    "- По результатам теста на очищенных данных, нельзя отвергнуть гипотезу о равенстве средних чеков группы А и B\n",
    "\n",
    "4. Оптимальным решением будет остановка теста, и признание победы группы B в количестве заказов, но отсутствие значимой разницы в средних чеках между группами."
   ]
  }
 ],
 "metadata": {
  "ExecuteTimeLog": [
   {
    "duration": 1327,
    "start_time": "2024-06-11T18:11:28.387Z"
   },
   {
    "duration": 390,
    "start_time": "2024-06-11T18:16:02.532Z"
   },
   {
    "duration": 13,
    "start_time": "2024-06-11T18:16:30.094Z"
   },
   {
    "duration": 9,
    "start_time": "2024-06-11T18:17:13.379Z"
   },
   {
    "duration": 8,
    "start_time": "2024-06-11T18:17:35.730Z"
   },
   {
    "duration": 11,
    "start_time": "2024-06-11T18:19:16.215Z"
   },
   {
    "duration": 8,
    "start_time": "2024-06-11T18:19:32.234Z"
   },
   {
    "duration": 9,
    "start_time": "2024-06-11T18:19:43.247Z"
   },
   {
    "duration": 11,
    "start_time": "2024-06-11T18:19:55.622Z"
   },
   {
    "duration": 8,
    "start_time": "2024-06-11T18:20:33.399Z"
   },
   {
    "duration": 11,
    "start_time": "2024-06-11T18:20:36.853Z"
   },
   {
    "duration": 11,
    "start_time": "2024-06-11T18:20:40.147Z"
   },
   {
    "duration": 1515,
    "start_time": "2024-06-12T09:40:43.124Z"
   },
   {
    "duration": 424,
    "start_time": "2024-06-12T09:40:45.675Z"
   },
   {
    "duration": 14,
    "start_time": "2024-06-12T09:40:47.545Z"
   },
   {
    "duration": 12,
    "start_time": "2024-06-12T09:40:49.784Z"
   },
   {
    "duration": 9,
    "start_time": "2024-06-12T09:40:55.070Z"
   },
   {
    "duration": 12,
    "start_time": "2024-06-12T09:40:57.157Z"
   },
   {
    "duration": 8,
    "start_time": "2024-06-12T09:41:00.081Z"
   },
   {
    "duration": 11,
    "start_time": "2024-06-12T09:41:00.916Z"
   },
   {
    "duration": 3,
    "start_time": "2024-06-12T09:42:40.884Z"
   },
   {
    "duration": 10,
    "start_time": "2024-06-12T09:42:42.227Z"
   },
   {
    "duration": 99,
    "start_time": "2024-06-12T09:46:31.823Z"
   },
   {
    "duration": 11,
    "start_time": "2024-06-12T09:46:40.643Z"
   },
   {
    "duration": 11,
    "start_time": "2024-06-12T09:48:10.132Z"
   },
   {
    "duration": 13,
    "start_time": "2024-06-12T09:54:38.169Z"
   },
   {
    "duration": 10,
    "start_time": "2024-06-12T09:59:43.693Z"
   },
   {
    "duration": 11,
    "start_time": "2024-06-12T10:01:40.971Z"
   },
   {
    "duration": 281,
    "start_time": "2024-06-12T12:25:53.479Z"
   },
   {
    "duration": 263,
    "start_time": "2024-06-12T12:26:04.027Z"
   },
   {
    "duration": 13,
    "start_time": "2024-06-12T12:28:46.834Z"
   },
   {
    "duration": 271,
    "start_time": "2024-06-12T12:29:10.075Z"
   },
   {
    "duration": 292,
    "start_time": "2024-06-12T12:29:37.956Z"
   },
   {
    "duration": 256,
    "start_time": "2024-06-12T12:30:46.799Z"
   },
   {
    "duration": 224,
    "start_time": "2024-06-12T12:31:16.859Z"
   },
   {
    "duration": 237,
    "start_time": "2024-06-12T12:32:03.656Z"
   },
   {
    "duration": 236,
    "start_time": "2024-06-12T12:32:11.194Z"
   },
   {
    "duration": 254,
    "start_time": "2024-06-12T12:32:19.183Z"
   },
   {
    "duration": 302,
    "start_time": "2024-06-12T12:32:38.256Z"
   },
   {
    "duration": 248,
    "start_time": "2024-06-12T12:32:50.412Z"
   },
   {
    "duration": 7,
    "start_time": "2024-06-12T12:39:27.914Z"
   },
   {
    "duration": 251,
    "start_time": "2024-06-12T12:39:38.278Z"
   },
   {
    "duration": 230,
    "start_time": "2024-06-12T12:39:48.391Z"
   },
   {
    "duration": 168,
    "start_time": "2024-06-12T12:50:14.338Z"
   },
   {
    "duration": 229,
    "start_time": "2024-06-12T12:50:46.011Z"
   },
   {
    "duration": 367,
    "start_time": "2024-06-12T12:50:50.620Z"
   },
   {
    "duration": 235,
    "start_time": "2024-06-12T12:51:08.158Z"
   },
   {
    "duration": 228,
    "start_time": "2024-06-12T12:52:23.495Z"
   },
   {
    "duration": 19,
    "start_time": "2024-06-12T13:38:09.442Z"
   },
   {
    "duration": 357,
    "start_time": "2024-06-12T13:39:11.021Z"
   },
   {
    "duration": 296,
    "start_time": "2024-06-12T13:40:45.581Z"
   },
   {
    "duration": 195,
    "start_time": "2024-06-12T13:40:59.207Z"
   },
   {
    "duration": 6,
    "start_time": "2024-06-12T13:41:32.673Z"
   },
   {
    "duration": 253,
    "start_time": "2024-06-12T13:43:34.476Z"
   },
   {
    "duration": 312,
    "start_time": "2024-06-12T13:43:47.814Z"
   },
   {
    "duration": 310,
    "start_time": "2024-06-12T13:44:05.345Z"
   },
   {
    "duration": 306,
    "start_time": "2024-06-12T13:44:31.878Z"
   },
   {
    "duration": 367,
    "start_time": "2024-06-12T13:44:54.800Z"
   },
   {
    "duration": 296,
    "start_time": "2024-06-12T13:45:07.586Z"
   },
   {
    "duration": 338,
    "start_time": "2024-06-12T13:46:02.870Z"
   },
   {
    "duration": 351,
    "start_time": "2024-06-12T13:46:17.934Z"
   },
   {
    "duration": 6,
    "start_time": "2024-06-12T14:03:07.385Z"
   },
   {
    "duration": 154,
    "start_time": "2024-06-12T14:04:04.321Z"
   },
   {
    "duration": 285,
    "start_time": "2024-06-12T14:04:31.388Z"
   },
   {
    "duration": 343,
    "start_time": "2024-06-12T14:06:20.254Z"
   },
   {
    "duration": 267,
    "start_time": "2024-06-12T14:06:42.416Z"
   },
   {
    "duration": 11,
    "start_time": "2024-06-12T14:31:01.149Z"
   },
   {
    "duration": 216,
    "start_time": "2024-06-12T14:33:22.183Z"
   },
   {
    "duration": 203,
    "start_time": "2024-06-12T14:33:37.386Z"
   },
   {
    "duration": 238,
    "start_time": "2024-06-12T14:34:11.147Z"
   },
   {
    "duration": 356,
    "start_time": "2024-06-12T14:38:04.256Z"
   },
   {
    "duration": 255,
    "start_time": "2024-06-12T14:38:12.483Z"
   },
   {
    "duration": 355,
    "start_time": "2024-06-12T14:38:21.050Z"
   },
   {
    "duration": 357,
    "start_time": "2024-06-12T14:44:47.924Z"
   },
   {
    "duration": 7,
    "start_time": "2024-06-12T14:48:59.278Z"
   },
   {
    "duration": 7,
    "start_time": "2024-06-12T14:49:46.844Z"
   },
   {
    "duration": 10,
    "start_time": "2024-06-12T14:50:50.241Z"
   },
   {
    "duration": 111,
    "start_time": "2024-06-12T14:50:58.668Z"
   },
   {
    "duration": 169,
    "start_time": "2024-06-12T14:52:34.948Z"
   },
   {
    "duration": 192,
    "start_time": "2024-06-12T14:53:17.968Z"
   },
   {
    "duration": 200,
    "start_time": "2024-06-12T14:53:53.274Z"
   },
   {
    "duration": 192,
    "start_time": "2024-06-12T14:54:04.112Z"
   },
   {
    "duration": 10,
    "start_time": "2024-06-12T14:58:26.629Z"
   },
   {
    "duration": 8,
    "start_time": "2024-06-12T14:58:43.814Z"
   },
   {
    "duration": 7,
    "start_time": "2024-06-12T14:58:48.156Z"
   },
   {
    "duration": 9,
    "start_time": "2024-06-12T14:58:52.082Z"
   },
   {
    "duration": 5,
    "start_time": "2024-06-12T15:01:23.866Z"
   },
   {
    "duration": 5,
    "start_time": "2024-06-12T15:01:37.628Z"
   },
   {
    "duration": 5,
    "start_time": "2024-06-12T15:01:49.350Z"
   },
   {
    "duration": 1118,
    "start_time": "2024-06-12T15:11:14.402Z"
   },
   {
    "duration": 1007,
    "start_time": "2024-06-12T15:11:27.392Z"
   },
   {
    "duration": 267,
    "start_time": "2024-06-12T15:11:48.151Z"
   },
   {
    "duration": 181,
    "start_time": "2024-06-12T15:12:32.876Z"
   },
   {
    "duration": 5,
    "start_time": "2024-06-12T15:13:56.184Z"
   },
   {
    "duration": 197,
    "start_time": "2024-06-12T15:14:04.520Z"
   },
   {
    "duration": 199,
    "start_time": "2024-06-12T15:14:20.646Z"
   },
   {
    "duration": 185,
    "start_time": "2024-06-12T15:14:31.969Z"
   },
   {
    "duration": 178,
    "start_time": "2024-06-12T15:15:14.302Z"
   },
   {
    "duration": 184,
    "start_time": "2024-06-12T15:17:43.663Z"
   },
   {
    "duration": 6,
    "start_time": "2024-06-12T17:08:50.944Z"
   },
   {
    "duration": 5,
    "start_time": "2024-06-12T17:53:22.602Z"
   },
   {
    "duration": 11,
    "start_time": "2024-06-12T17:53:36.184Z"
   },
   {
    "duration": 13,
    "start_time": "2024-06-12T17:54:43.305Z"
   },
   {
    "duration": 18,
    "start_time": "2024-06-12T17:54:50.816Z"
   },
   {
    "duration": 79,
    "start_time": "2024-06-12T18:09:05.541Z"
   },
   {
    "duration": 118,
    "start_time": "2024-06-12T18:09:43.660Z"
   },
   {
    "duration": 225,
    "start_time": "2024-06-12T18:10:59.947Z"
   },
   {
    "duration": 19,
    "start_time": "2024-06-12T18:19:51.676Z"
   },
   {
    "duration": 132,
    "start_time": "2024-06-12T18:20:21.114Z"
   },
   {
    "duration": 173,
    "start_time": "2024-06-12T18:21:25.224Z"
   },
   {
    "duration": 129,
    "start_time": "2024-06-12T18:21:38.496Z"
   },
   {
    "duration": 9,
    "start_time": "2024-06-12T18:23:10.673Z"
   },
   {
    "duration": 10,
    "start_time": "2024-06-12T18:23:40.454Z"
   },
   {
    "duration": 26,
    "start_time": "2024-06-12T18:23:53.641Z"
   },
   {
    "duration": 24,
    "start_time": "2024-06-12T18:27:54.129Z"
   },
   {
    "duration": 24,
    "start_time": "2024-06-12T18:29:11.008Z"
   },
   {
    "duration": 250,
    "start_time": "2024-06-12T18:30:28.607Z"
   },
   {
    "duration": 24,
    "start_time": "2024-06-12T18:31:58.763Z"
   },
   {
    "duration": 25,
    "start_time": "2024-06-12T18:38:08.508Z"
   },
   {
    "duration": 46,
    "start_time": "2024-06-12T18:39:31.592Z"
   },
   {
    "duration": 61,
    "start_time": "2024-06-12T18:40:19.206Z"
   },
   {
    "duration": 46,
    "start_time": "2024-06-12T18:40:49.991Z"
   },
   {
    "duration": 45,
    "start_time": "2024-06-12T18:41:07.176Z"
   },
   {
    "duration": 15,
    "start_time": "2024-06-12T18:48:46.867Z"
   },
   {
    "duration": 10,
    "start_time": "2024-06-12T18:48:58.566Z"
   },
   {
    "duration": 1076,
    "start_time": "2024-06-12T19:09:00.437Z"
   },
   {
    "duration": 9,
    "start_time": "2024-06-12T19:09:20.171Z"
   },
   {
    "duration": 10,
    "start_time": "2024-06-12T19:11:19.072Z"
   },
   {
    "duration": 10,
    "start_time": "2024-06-12T19:11:27.613Z"
   },
   {
    "duration": 9,
    "start_time": "2024-06-12T19:12:14.822Z"
   },
   {
    "duration": 8,
    "start_time": "2024-06-12T19:12:33.944Z"
   },
   {
    "duration": 11,
    "start_time": "2024-06-12T19:14:31.614Z"
   },
   {
    "duration": 10,
    "start_time": "2024-06-12T19:15:33.035Z"
   },
   {
    "duration": 9,
    "start_time": "2024-06-12T19:15:49.092Z"
   },
   {
    "duration": 45,
    "start_time": "2024-06-12T19:16:24.898Z"
   },
   {
    "duration": 31,
    "start_time": "2024-06-12T19:17:11.150Z"
   },
   {
    "duration": 25,
    "start_time": "2024-06-12T19:17:26.044Z"
   },
   {
    "duration": 26,
    "start_time": "2024-06-12T19:19:35.986Z"
   },
   {
    "duration": 25,
    "start_time": "2024-06-12T19:19:45.150Z"
   },
   {
    "duration": 11,
    "start_time": "2024-06-12T19:22:18.900Z"
   },
   {
    "duration": 11,
    "start_time": "2024-06-12T19:22:24.801Z"
   },
   {
    "duration": 10,
    "start_time": "2024-06-12T19:22:39.605Z"
   },
   {
    "duration": 5,
    "start_time": "2024-06-12T19:22:57.524Z"
   },
   {
    "duration": 12,
    "start_time": "2024-06-12T19:29:48.579Z"
   },
   {
    "duration": 4,
    "start_time": "2024-06-12T19:29:51.874Z"
   },
   {
    "duration": 1174,
    "start_time": "2024-06-12T19:43:28.007Z"
   },
   {
    "duration": 354,
    "start_time": "2024-06-12T19:43:29.183Z"
   },
   {
    "duration": 12,
    "start_time": "2024-06-12T19:43:29.538Z"
   },
   {
    "duration": 10,
    "start_time": "2024-06-12T19:43:29.552Z"
   },
   {
    "duration": 20,
    "start_time": "2024-06-12T19:43:29.563Z"
   },
   {
    "duration": 12,
    "start_time": "2024-06-12T19:43:29.585Z"
   },
   {
    "duration": 12,
    "start_time": "2024-06-12T19:43:29.599Z"
   },
   {
    "duration": 13,
    "start_time": "2024-06-12T19:43:29.613Z"
   },
   {
    "duration": 27,
    "start_time": "2024-06-12T19:43:29.628Z"
   },
   {
    "duration": 18,
    "start_time": "2024-06-12T19:43:29.659Z"
   },
   {
    "duration": 12,
    "start_time": "2024-06-12T19:43:29.679Z"
   },
   {
    "duration": 12,
    "start_time": "2024-06-12T19:43:29.693Z"
   },
   {
    "duration": 302,
    "start_time": "2024-06-12T19:43:29.707Z"
   },
   {
    "duration": 322,
    "start_time": "2024-06-12T19:43:30.011Z"
   },
   {
    "duration": 243,
    "start_time": "2024-06-12T19:43:30.334Z"
   },
   {
    "duration": 7,
    "start_time": "2024-06-12T19:43:30.579Z"
   },
   {
    "duration": 351,
    "start_time": "2024-06-12T19:43:30.587Z"
   },
   {
    "duration": 8,
    "start_time": "2024-06-12T19:43:30.940Z"
   },
   {
    "duration": 411,
    "start_time": "2024-06-12T19:43:30.950Z"
   },
   {
    "duration": 8,
    "start_time": "2024-06-12T19:43:31.363Z"
   },
   {
    "duration": 356,
    "start_time": "2024-06-12T19:43:31.372Z"
   },
   {
    "duration": 17,
    "start_time": "2024-06-12T19:43:31.730Z"
   },
   {
    "duration": 451,
    "start_time": "2024-06-12T19:43:31.749Z"
   },
   {
    "duration": 34,
    "start_time": "2024-06-12T19:43:32.201Z"
   },
   {
    "duration": 10,
    "start_time": "2024-06-12T19:43:32.237Z"
   },
   {
    "duration": 185,
    "start_time": "2024-06-12T19:43:32.248Z"
   },
   {
    "duration": 295,
    "start_time": "2024-06-12T19:43:32.435Z"
   },
   {
    "duration": 4,
    "start_time": "2024-06-12T19:43:32.733Z"
   },
   {
    "duration": 236,
    "start_time": "2024-06-12T19:43:32.739Z"
   },
   {
    "duration": 143,
    "start_time": "2024-06-12T19:43:32.977Z"
   },
   {
    "duration": 34,
    "start_time": "2024-06-12T19:43:33.122Z"
   },
   {
    "duration": 7,
    "start_time": "2024-06-12T19:43:33.158Z"
   },
   {
    "duration": 10,
    "start_time": "2024-06-12T19:43:33.167Z"
   },
   {
    "duration": 7,
    "start_time": "2024-06-12T19:43:33.178Z"
   },
   {
    "duration": 30,
    "start_time": "2024-06-12T19:43:33.187Z"
   },
   {
    "duration": 31,
    "start_time": "2024-06-12T19:43:33.218Z"
   },
   {
    "duration": 4,
    "start_time": "2024-06-12T19:43:33.251Z"
   },
   {
    "duration": 1226,
    "start_time": "2024-06-12T21:47:08.978Z"
   },
   {
    "duration": 377,
    "start_time": "2024-06-12T21:47:10.206Z"
   },
   {
    "duration": 17,
    "start_time": "2024-06-12T21:47:10.585Z"
   },
   {
    "duration": 4,
    "start_time": "2024-06-12T21:47:10.604Z"
   },
   {
    "duration": 30,
    "start_time": "2024-06-12T21:47:10.610Z"
   },
   {
    "duration": 13,
    "start_time": "2024-06-12T21:47:10.641Z"
   },
   {
    "duration": 28,
    "start_time": "2024-06-12T21:47:10.656Z"
   },
   {
    "duration": 12,
    "start_time": "2024-06-12T21:47:10.686Z"
   },
   {
    "duration": 19,
    "start_time": "2024-06-12T21:47:10.699Z"
   },
   {
    "duration": 23,
    "start_time": "2024-06-12T21:47:10.721Z"
   },
   {
    "duration": 17,
    "start_time": "2024-06-12T21:47:10.747Z"
   },
   {
    "duration": 16,
    "start_time": "2024-06-12T21:47:10.766Z"
   },
   {
    "duration": 341,
    "start_time": "2024-06-12T21:47:10.784Z"
   },
   {
    "duration": 324,
    "start_time": "2024-06-12T21:47:11.126Z"
   },
   {
    "duration": 249,
    "start_time": "2024-06-12T21:47:11.452Z"
   },
   {
    "duration": 6,
    "start_time": "2024-06-12T21:47:11.703Z"
   },
   {
    "duration": 350,
    "start_time": "2024-06-12T21:47:11.711Z"
   },
   {
    "duration": 8,
    "start_time": "2024-06-12T21:47:12.063Z"
   },
   {
    "duration": 317,
    "start_time": "2024-06-12T21:47:12.073Z"
   },
   {
    "duration": 8,
    "start_time": "2024-06-12T21:47:12.392Z"
   },
   {
    "duration": 348,
    "start_time": "2024-06-12T21:47:12.402Z"
   },
   {
    "duration": 10,
    "start_time": "2024-06-12T21:47:12.751Z"
   },
   {
    "duration": 202,
    "start_time": "2024-06-12T21:47:12.763Z"
   },
   {
    "duration": 8,
    "start_time": "2024-06-12T21:47:12.967Z"
   },
   {
    "duration": 4,
    "start_time": "2024-06-12T21:47:12.976Z"
   },
   {
    "duration": 208,
    "start_time": "2024-06-12T21:47:12.982Z"
   },
   {
    "duration": 278,
    "start_time": "2024-06-12T21:47:13.192Z"
   },
   {
    "duration": 5,
    "start_time": "2024-06-12T21:47:13.473Z"
   },
   {
    "duration": 250,
    "start_time": "2024-06-12T21:47:13.479Z"
   },
   {
    "duration": 189,
    "start_time": "2024-06-12T21:47:13.731Z"
   },
   {
    "duration": 53,
    "start_time": "2024-06-12T21:47:13.922Z"
   },
   {
    "duration": 12,
    "start_time": "2024-06-12T21:47:13.978Z"
   },
   {
    "duration": 10,
    "start_time": "2024-06-12T21:47:13.992Z"
   },
   {
    "duration": 10,
    "start_time": "2024-06-12T21:47:14.004Z"
   },
   {
    "duration": 68,
    "start_time": "2024-06-12T21:47:14.015Z"
   },
   {
    "duration": 13,
    "start_time": "2024-06-12T21:47:14.085Z"
   },
   {
    "duration": 5,
    "start_time": "2024-06-12T21:47:14.100Z"
   },
   {
    "duration": 1310,
    "start_time": "2024-06-13T09:41:18.329Z"
   },
   {
    "duration": 377,
    "start_time": "2024-06-13T09:41:19.641Z"
   },
   {
    "duration": 13,
    "start_time": "2024-06-13T09:41:20.020Z"
   },
   {
    "duration": 4,
    "start_time": "2024-06-13T09:41:20.035Z"
   },
   {
    "duration": 17,
    "start_time": "2024-06-13T09:41:20.041Z"
   },
   {
    "duration": 12,
    "start_time": "2024-06-13T09:41:20.060Z"
   },
   {
    "duration": 13,
    "start_time": "2024-06-13T09:41:20.073Z"
   },
   {
    "duration": 7,
    "start_time": "2024-06-13T09:41:20.100Z"
   },
   {
    "duration": 12,
    "start_time": "2024-06-13T09:41:20.109Z"
   },
   {
    "duration": 12,
    "start_time": "2024-06-13T09:41:20.124Z"
   },
   {
    "duration": 11,
    "start_time": "2024-06-13T09:41:20.137Z"
   },
   {
    "duration": 15,
    "start_time": "2024-06-13T09:41:20.149Z"
   },
   {
    "duration": 336,
    "start_time": "2024-06-13T09:41:20.166Z"
   },
   {
    "duration": 324,
    "start_time": "2024-06-13T09:41:20.505Z"
   },
   {
    "duration": 251,
    "start_time": "2024-06-13T09:41:20.831Z"
   },
   {
    "duration": 15,
    "start_time": "2024-06-13T09:41:21.084Z"
   },
   {
    "duration": 393,
    "start_time": "2024-06-13T09:41:21.101Z"
   },
   {
    "duration": 6,
    "start_time": "2024-06-13T09:41:21.496Z"
   },
   {
    "duration": 275,
    "start_time": "2024-06-13T09:41:21.504Z"
   },
   {
    "duration": 8,
    "start_time": "2024-06-13T09:41:21.781Z"
   },
   {
    "duration": 374,
    "start_time": "2024-06-13T09:41:21.791Z"
   },
   {
    "duration": 8,
    "start_time": "2024-06-13T09:41:22.167Z"
   },
   {
    "duration": 205,
    "start_time": "2024-06-13T09:41:22.176Z"
   },
   {
    "duration": 8,
    "start_time": "2024-06-13T09:41:22.383Z"
   },
   {
    "duration": 4,
    "start_time": "2024-06-13T09:41:22.400Z"
   },
   {
    "duration": 196,
    "start_time": "2024-06-13T09:41:22.406Z"
   },
   {
    "duration": 263,
    "start_time": "2024-06-13T09:41:22.603Z"
   },
   {
    "duration": 4,
    "start_time": "2024-06-13T09:41:22.869Z"
   },
   {
    "duration": 233,
    "start_time": "2024-06-13T09:41:22.874Z"
   },
   {
    "duration": 146,
    "start_time": "2024-06-13T09:41:23.108Z"
   },
   {
    "duration": 26,
    "start_time": "2024-06-13T09:41:23.256Z"
   },
   {
    "duration": 24,
    "start_time": "2024-06-13T09:41:23.284Z"
   },
   {
    "duration": 11,
    "start_time": "2024-06-13T09:41:23.310Z"
   },
   {
    "duration": 9,
    "start_time": "2024-06-13T09:41:23.323Z"
   },
   {
    "duration": 25,
    "start_time": "2024-06-13T09:41:23.334Z"
   },
   {
    "duration": 44,
    "start_time": "2024-06-13T09:41:23.361Z"
   },
   {
    "duration": 5,
    "start_time": "2024-06-13T09:41:23.406Z"
   },
   {
    "duration": 1145,
    "start_time": "2024-06-14T14:45:33.340Z"
   },
   {
    "duration": 2,
    "start_time": "2024-06-14T14:45:45.599Z"
   },
   {
    "duration": 92,
    "start_time": "2024-06-14T14:45:47.255Z"
   },
   {
    "duration": 494,
    "start_time": "2024-06-14T14:45:51.254Z"
   },
   {
    "duration": 2,
    "start_time": "2024-06-14T14:45:53.252Z"
   },
   {
    "duration": 10,
    "start_time": "2024-06-14T14:45:53.927Z"
   },
   {
    "duration": 3,
    "start_time": "2024-06-14T14:46:02.352Z"
   },
   {
    "duration": 9,
    "start_time": "2024-06-14T14:46:03.609Z"
   },
   {
    "duration": 7,
    "start_time": "2024-06-14T14:46:04.168Z"
   },
   {
    "duration": 9,
    "start_time": "2024-06-14T14:46:06.870Z"
   },
   {
    "duration": 6,
    "start_time": "2024-06-14T14:46:07.605Z"
   },
   {
    "duration": 10,
    "start_time": "2024-06-14T14:46:08.277Z"
   },
   {
    "duration": 55,
    "start_time": "2024-06-15T11:19:27.930Z"
   },
   {
    "duration": 1432,
    "start_time": "2024-06-15T11:19:41.780Z"
   },
   {
    "duration": 435,
    "start_time": "2024-06-15T11:19:43.214Z"
   },
   {
    "duration": 3,
    "start_time": "2024-06-15T11:19:43.652Z"
   },
   {
    "duration": 30,
    "start_time": "2024-06-15T11:19:43.658Z"
   },
   {
    "duration": 4,
    "start_time": "2024-06-15T11:19:43.690Z"
   },
   {
    "duration": 17,
    "start_time": "2024-06-15T11:19:43.696Z"
   },
   {
    "duration": 8,
    "start_time": "2024-06-15T11:19:43.715Z"
   },
   {
    "duration": 24,
    "start_time": "2024-06-15T11:19:43.724Z"
   },
   {
    "duration": 10,
    "start_time": "2024-06-15T11:19:43.749Z"
   },
   {
    "duration": 28,
    "start_time": "2024-06-15T11:19:43.762Z"
   },
   {
    "duration": 6,
    "start_time": "2024-06-15T11:19:47.819Z"
   },
   {
    "duration": 5,
    "start_time": "2024-06-15T11:20:04.377Z"
   },
   {
    "duration": 8,
    "start_time": "2024-06-15T11:21:51.438Z"
   },
   {
    "duration": 19,
    "start_time": "2024-06-15T11:22:24.093Z"
   },
   {
    "duration": 11,
    "start_time": "2024-06-15T15:56:15.924Z"
   },
   {
    "duration": 5,
    "start_time": "2024-06-15T15:57:07.128Z"
   },
   {
    "duration": 14,
    "start_time": "2024-06-15T15:57:38.804Z"
   },
   {
    "duration": 14,
    "start_time": "2024-06-15T15:57:53.109Z"
   },
   {
    "duration": 14,
    "start_time": "2024-06-15T15:58:08.660Z"
   },
   {
    "duration": 14,
    "start_time": "2024-06-15T15:58:33.249Z"
   },
   {
    "duration": 14,
    "start_time": "2024-06-15T15:58:49.955Z"
   },
   {
    "duration": 4,
    "start_time": "2024-06-15T16:00:52.104Z"
   },
   {
    "duration": 4,
    "start_time": "2024-06-15T16:01:12.432Z"
   },
   {
    "duration": 5,
    "start_time": "2024-06-15T16:01:42.057Z"
   },
   {
    "duration": 4,
    "start_time": "2024-06-15T16:01:59.991Z"
   },
   {
    "duration": 9,
    "start_time": "2024-06-15T16:03:24.584Z"
   },
   {
    "duration": 5,
    "start_time": "2024-06-15T16:05:57.292Z"
   },
   {
    "duration": 2491,
    "start_time": "2024-06-15T16:40:09.907Z"
   },
   {
    "duration": 12,
    "start_time": "2024-06-15T16:40:56.689Z"
   },
   {
    "duration": 11,
    "start_time": "2024-06-15T16:41:03.487Z"
   },
   {
    "duration": 60,
    "start_time": "2024-06-15T18:03:06.666Z"
   },
   {
    "duration": 61,
    "start_time": "2024-06-15T18:03:13.629Z"
   },
   {
    "duration": 6,
    "start_time": "2024-06-15T18:03:31.472Z"
   },
   {
    "duration": 13,
    "start_time": "2024-06-15T18:03:44.320Z"
   },
   {
    "duration": 13,
    "start_time": "2024-06-15T18:04:10.255Z"
   },
   {
    "duration": 167,
    "start_time": "2024-06-15T18:06:23.488Z"
   },
   {
    "duration": 345,
    "start_time": "2024-06-15T18:06:42.987Z"
   },
   {
    "duration": 978,
    "start_time": "2024-06-15T18:09:00.025Z"
   },
   {
    "duration": 904,
    "start_time": "2024-06-15T18:09:17.453Z"
   },
   {
    "duration": 989,
    "start_time": "2024-06-15T18:10:03.798Z"
   },
   {
    "duration": 980,
    "start_time": "2024-06-15T18:10:55.933Z"
   },
   {
    "duration": 1050,
    "start_time": "2024-06-15T18:11:37.113Z"
   },
   {
    "duration": 4,
    "start_time": "2024-06-15T18:12:05.429Z"
   },
   {
    "duration": 4,
    "start_time": "2024-06-15T18:12:17.008Z"
   },
   {
    "duration": 10,
    "start_time": "2024-06-15T18:13:18.334Z"
   },
   {
    "duration": 1393,
    "start_time": "2024-06-15T18:14:54.974Z"
   },
   {
    "duration": 400,
    "start_time": "2024-06-15T18:18:46.121Z"
   },
   {
    "duration": 434,
    "start_time": "2024-06-15T18:20:39.881Z"
   },
   {
    "duration": 420,
    "start_time": "2024-06-15T18:20:56.450Z"
   },
   {
    "duration": 506,
    "start_time": "2024-06-15T18:20:58.776Z"
   },
   {
    "duration": 71,
    "start_time": "2024-06-15T18:24:03.497Z"
   },
   {
    "duration": 752,
    "start_time": "2024-06-15T18:24:10.516Z"
   },
   {
    "duration": 457,
    "start_time": "2024-06-15T18:30:08.059Z"
   },
   {
    "duration": 444,
    "start_time": "2024-06-15T18:30:12.961Z"
   },
   {
    "duration": 14,
    "start_time": "2024-06-15T18:31:58.899Z"
   },
   {
    "duration": 9,
    "start_time": "2024-06-15T18:32:09.621Z"
   },
   {
    "duration": 5,
    "start_time": "2024-06-15T18:32:51.764Z"
   },
   {
    "duration": 12,
    "start_time": "2024-06-15T18:33:09.340Z"
   },
   {
    "duration": 13,
    "start_time": "2024-06-15T18:44:45.876Z"
   },
   {
    "duration": 12,
    "start_time": "2024-06-15T18:45:55.500Z"
   },
   {
    "duration": 16,
    "start_time": "2024-06-15T18:46:55.220Z"
   },
   {
    "duration": 287,
    "start_time": "2024-06-15T18:48:14.873Z"
   },
   {
    "duration": 219,
    "start_time": "2024-06-15T18:48:25.245Z"
   },
   {
    "duration": 346,
    "start_time": "2024-06-15T18:48:39.190Z"
   },
   {
    "duration": 232,
    "start_time": "2024-06-15T19:13:08.754Z"
   },
   {
    "duration": 6,
    "start_time": "2024-06-15T19:13:13.972Z"
   },
   {
    "duration": 337,
    "start_time": "2024-06-15T19:13:15.719Z"
   },
   {
    "duration": 6,
    "start_time": "2024-06-15T19:13:56.442Z"
   },
   {
    "duration": 289,
    "start_time": "2024-06-15T19:13:57.642Z"
   },
   {
    "duration": 8,
    "start_time": "2024-06-15T19:14:06.957Z"
   },
   {
    "duration": 354,
    "start_time": "2024-06-15T19:14:09.196Z"
   },
   {
    "duration": 6,
    "start_time": "2024-06-15T19:14:15.530Z"
   },
   {
    "duration": 206,
    "start_time": "2024-06-15T19:14:16.650Z"
   },
   {
    "duration": 22,
    "start_time": "2024-06-15T19:22:33.824Z"
   },
   {
    "duration": 7,
    "start_time": "2024-06-15T19:23:15.573Z"
   },
   {
    "duration": 7,
    "start_time": "2024-06-15T19:23:29.061Z"
   },
   {
    "duration": 9,
    "start_time": "2024-06-15T19:24:20.489Z"
   },
   {
    "duration": 10,
    "start_time": "2024-06-15T19:24:32.308Z"
   },
   {
    "duration": 1170,
    "start_time": "2024-06-15T19:25:09.620Z"
   },
   {
    "duration": 379,
    "start_time": "2024-06-15T19:25:10.792Z"
   },
   {
    "duration": 3,
    "start_time": "2024-06-15T19:25:11.173Z"
   },
   {
    "duration": 13,
    "start_time": "2024-06-15T19:25:11.179Z"
   },
   {
    "duration": 4,
    "start_time": "2024-06-15T19:25:11.194Z"
   },
   {
    "duration": 12,
    "start_time": "2024-06-15T19:25:11.199Z"
   },
   {
    "duration": 36,
    "start_time": "2024-06-15T19:25:11.213Z"
   },
   {
    "duration": 11,
    "start_time": "2024-06-15T19:25:11.250Z"
   },
   {
    "duration": 8,
    "start_time": "2024-06-15T19:25:11.263Z"
   },
   {
    "duration": 14,
    "start_time": "2024-06-15T19:25:11.273Z"
   },
   {
    "duration": 13,
    "start_time": "2024-06-15T19:25:11.289Z"
   },
   {
    "duration": 17,
    "start_time": "2024-06-15T19:25:11.304Z"
   },
   {
    "duration": 6,
    "start_time": "2024-06-15T19:25:11.323Z"
   },
   {
    "duration": 10,
    "start_time": "2024-06-15T19:25:11.331Z"
   },
   {
    "duration": 8,
    "start_time": "2024-06-15T19:25:11.343Z"
   },
   {
    "duration": 33,
    "start_time": "2024-06-15T19:25:11.353Z"
   },
   {
    "duration": 6,
    "start_time": "2024-06-15T19:25:11.388Z"
   },
   {
    "duration": 6,
    "start_time": "2024-06-15T19:25:15.958Z"
   },
   {
    "duration": 9,
    "start_time": "2024-06-15T19:25:16.800Z"
   },
   {
    "duration": 452,
    "start_time": "2024-06-15T19:25:19.072Z"
   },
   {
    "duration": 415,
    "start_time": "2024-06-15T19:25:19.839Z"
   },
   {
    "duration": 9,
    "start_time": "2024-06-15T19:26:30.289Z"
   },
   {
    "duration": 10,
    "start_time": "2024-06-15T19:29:13.635Z"
   },
   {
    "duration": 122,
    "start_time": "2024-06-15T19:29:15.345Z"
   },
   {
    "duration": 6,
    "start_time": "2024-06-15T19:29:22.035Z"
   },
   {
    "duration": 8,
    "start_time": "2024-06-15T19:29:29.818Z"
   },
   {
    "duration": 11,
    "start_time": "2024-06-15T19:29:35.257Z"
   },
   {
    "duration": 5,
    "start_time": "2024-06-15T19:29:36.214Z"
   },
   {
    "duration": 5,
    "start_time": "2024-06-15T19:29:36.919Z"
   },
   {
    "duration": 9,
    "start_time": "2024-06-15T19:29:37.538Z"
   },
   {
    "duration": 404,
    "start_time": "2024-06-15T19:29:39.640Z"
   },
   {
    "duration": 413,
    "start_time": "2024-06-15T19:29:40.919Z"
   },
   {
    "duration": 5,
    "start_time": "2024-06-15T19:30:18.583Z"
   },
   {
    "duration": 82,
    "start_time": "2024-06-15T19:30:39.405Z"
   },
   {
    "duration": 9,
    "start_time": "2024-06-15T19:30:44.133Z"
   },
   {
    "duration": 499,
    "start_time": "2024-06-15T19:30:52.976Z"
   },
   {
    "duration": 438,
    "start_time": "2024-06-15T19:30:53.729Z"
   },
   {
    "duration": 13,
    "start_time": "2024-06-15T19:31:39.996Z"
   },
   {
    "duration": 11,
    "start_time": "2024-06-15T19:31:41.475Z"
   },
   {
    "duration": 10,
    "start_time": "2024-06-15T19:31:42.706Z"
   },
   {
    "duration": 283,
    "start_time": "2024-06-15T19:31:47.013Z"
   },
   {
    "duration": 319,
    "start_time": "2024-06-15T19:31:49.927Z"
   },
   {
    "duration": 233,
    "start_time": "2024-06-15T19:31:55.901Z"
   },
   {
    "duration": 9,
    "start_time": "2024-06-15T19:32:03.241Z"
   },
   {
    "duration": 317,
    "start_time": "2024-06-15T19:32:03.793Z"
   },
   {
    "duration": 7,
    "start_time": "2024-06-15T19:32:05.440Z"
   },
   {
    "duration": 262,
    "start_time": "2024-06-15T19:32:07.670Z"
   },
   {
    "duration": 9,
    "start_time": "2024-06-15T19:32:17.604Z"
   },
   {
    "duration": 315,
    "start_time": "2024-06-15T19:32:18.012Z"
   },
   {
    "duration": 6,
    "start_time": "2024-06-15T19:32:24.545Z"
   },
   {
    "duration": 191,
    "start_time": "2024-06-15T19:32:25.016Z"
   },
   {
    "duration": 8,
    "start_time": "2024-06-15T19:32:28.534Z"
   },
   {
    "duration": 4,
    "start_time": "2024-06-15T19:33:27.114Z"
   },
   {
    "duration": 4,
    "start_time": "2024-06-15T19:34:30.426Z"
   },
   {
    "duration": 260,
    "start_time": "2024-06-15T19:34:32.490Z"
   },
   {
    "duration": 188,
    "start_time": "2024-06-15T19:34:35.904Z"
   },
   {
    "duration": 4,
    "start_time": "2024-06-15T19:34:38.758Z"
   },
   {
    "duration": 124,
    "start_time": "2024-06-15T19:38:33.234Z"
   },
   {
    "duration": 221,
    "start_time": "2024-06-15T19:38:39.858Z"
   },
   {
    "duration": 125,
    "start_time": "2024-06-15T19:38:42.201Z"
   },
   {
    "duration": 26,
    "start_time": "2024-06-15T19:38:43.490Z"
   },
   {
    "duration": 28,
    "start_time": "2024-06-15T20:05:49.001Z"
   },
   {
    "duration": 28,
    "start_time": "2024-06-15T20:06:13.328Z"
   },
   {
    "duration": 29,
    "start_time": "2024-06-15T20:06:29.202Z"
   },
   {
    "duration": 12,
    "start_time": "2024-06-15T20:07:17.910Z"
   },
   {
    "duration": 12,
    "start_time": "2024-06-15T20:13:40.301Z"
   },
   {
    "duration": 12,
    "start_time": "2024-06-15T20:15:15.890Z"
   },
   {
    "duration": 8,
    "start_time": "2024-06-15T20:15:23.609Z"
   },
   {
    "duration": 25,
    "start_time": "2024-06-15T20:15:25.415Z"
   },
   {
    "duration": 36,
    "start_time": "2024-06-15T20:17:05.116Z"
   },
   {
    "duration": 7,
    "start_time": "2024-06-15T20:17:24.268Z"
   },
   {
    "duration": 1225,
    "start_time": "2024-06-15T20:20:39.677Z"
   },
   {
    "duration": 185,
    "start_time": "2024-06-15T20:20:40.904Z"
   },
   {
    "duration": 2,
    "start_time": "2024-06-15T20:20:41.091Z"
   },
   {
    "duration": 16,
    "start_time": "2024-06-15T20:20:41.096Z"
   },
   {
    "duration": 3,
    "start_time": "2024-06-15T20:20:41.114Z"
   },
   {
    "duration": 36,
    "start_time": "2024-06-15T20:20:41.119Z"
   },
   {
    "duration": 11,
    "start_time": "2024-06-15T20:20:41.157Z"
   },
   {
    "duration": 13,
    "start_time": "2024-06-15T20:20:41.171Z"
   },
   {
    "duration": 20,
    "start_time": "2024-06-15T20:20:41.186Z"
   },
   {
    "duration": 22,
    "start_time": "2024-06-15T20:20:41.208Z"
   },
   {
    "duration": 9,
    "start_time": "2024-06-15T20:20:41.232Z"
   },
   {
    "duration": 15,
    "start_time": "2024-06-15T20:20:41.243Z"
   },
   {
    "duration": 12,
    "start_time": "2024-06-15T20:20:41.260Z"
   },
   {
    "duration": 41,
    "start_time": "2024-06-15T20:20:41.274Z"
   },
   {
    "duration": 6,
    "start_time": "2024-06-15T20:20:41.317Z"
   },
   {
    "duration": 23,
    "start_time": "2024-06-15T20:20:41.325Z"
   },
   {
    "duration": 67,
    "start_time": "2024-06-15T20:20:41.350Z"
   },
   {
    "duration": 17,
    "start_time": "2024-06-15T20:20:41.419Z"
   },
   {
    "duration": 7,
    "start_time": "2024-06-15T20:20:41.437Z"
   },
   {
    "duration": 19,
    "start_time": "2024-06-15T20:20:41.446Z"
   },
   {
    "duration": 430,
    "start_time": "2024-06-15T20:20:41.467Z"
   },
   {
    "duration": 466,
    "start_time": "2024-06-15T20:20:41.898Z"
   },
   {
    "duration": 18,
    "start_time": "2024-06-15T20:20:42.365Z"
   },
   {
    "duration": 13,
    "start_time": "2024-06-15T20:20:42.385Z"
   },
   {
    "duration": 24,
    "start_time": "2024-06-15T20:20:42.399Z"
   },
   {
    "duration": 309,
    "start_time": "2024-06-15T20:20:42.425Z"
   },
   {
    "duration": 305,
    "start_time": "2024-06-15T20:20:42.736Z"
   },
   {
    "duration": 271,
    "start_time": "2024-06-15T20:20:43.045Z"
   },
   {
    "duration": 7,
    "start_time": "2024-06-15T20:20:43.318Z"
   },
   {
    "duration": 379,
    "start_time": "2024-06-15T20:20:43.328Z"
   },
   {
    "duration": 7,
    "start_time": "2024-06-15T20:20:43.709Z"
   },
   {
    "duration": 386,
    "start_time": "2024-06-15T20:20:43.717Z"
   },
   {
    "duration": 8,
    "start_time": "2024-06-15T20:20:44.104Z"
   },
   {
    "duration": 319,
    "start_time": "2024-06-15T20:20:44.113Z"
   },
   {
    "duration": 6,
    "start_time": "2024-06-15T20:20:44.433Z"
   },
   {
    "duration": 215,
    "start_time": "2024-06-15T20:20:44.440Z"
   },
   {
    "duration": 4,
    "start_time": "2024-06-15T20:20:44.656Z"
   },
   {
    "duration": 189,
    "start_time": "2024-06-15T20:20:44.661Z"
   },
   {
    "duration": 190,
    "start_time": "2024-06-15T20:20:44.852Z"
   },
   {
    "duration": 4,
    "start_time": "2024-06-15T20:20:45.043Z"
   },
   {
    "duration": 256,
    "start_time": "2024-06-15T20:20:45.049Z"
   },
   {
    "duration": 152,
    "start_time": "2024-06-15T20:20:45.306Z"
   },
   {
    "duration": 47,
    "start_time": "2024-06-15T20:20:45.459Z"
   },
   {
    "duration": 15,
    "start_time": "2024-06-15T20:20:45.508Z"
   },
   {
    "duration": 14,
    "start_time": "2024-06-15T20:20:45.525Z"
   },
   {
    "duration": 9,
    "start_time": "2024-06-15T20:20:45.541Z"
   },
   {
    "duration": 53,
    "start_time": "2024-06-15T20:20:45.551Z"
   },
   {
    "duration": 10,
    "start_time": "2024-06-15T20:20:45.606Z"
   },
   {
    "duration": 19,
    "start_time": "2024-06-15T20:20:45.617Z"
   },
   {
    "duration": 1187,
    "start_time": "2024-06-15T21:29:02.835Z"
   },
   {
    "duration": 410,
    "start_time": "2024-06-15T21:29:04.024Z"
   },
   {
    "duration": 2,
    "start_time": "2024-06-15T21:29:04.435Z"
   },
   {
    "duration": 23,
    "start_time": "2024-06-15T21:29:04.439Z"
   },
   {
    "duration": 2,
    "start_time": "2024-06-15T21:29:04.464Z"
   },
   {
    "duration": 11,
    "start_time": "2024-06-15T21:29:04.467Z"
   },
   {
    "duration": 7,
    "start_time": "2024-06-15T21:29:04.479Z"
   },
   {
    "duration": 8,
    "start_time": "2024-06-15T21:29:04.487Z"
   },
   {
    "duration": 4,
    "start_time": "2024-06-15T21:29:04.496Z"
   },
   {
    "duration": 3,
    "start_time": "2024-06-15T21:29:04.503Z"
   },
   {
    "duration": 4,
    "start_time": "2024-06-15T21:29:04.508Z"
   },
   {
    "duration": 11,
    "start_time": "2024-06-15T21:29:04.513Z"
   },
   {
    "duration": 5,
    "start_time": "2024-06-15T21:29:04.525Z"
   },
   {
    "duration": 10,
    "start_time": "2024-06-15T21:29:04.531Z"
   },
   {
    "duration": 3,
    "start_time": "2024-06-15T21:29:04.543Z"
   },
   {
    "duration": 10,
    "start_time": "2024-06-15T21:29:04.547Z"
   },
   {
    "duration": 11,
    "start_time": "2024-06-15T21:29:04.558Z"
   },
   {
    "duration": 4,
    "start_time": "2024-06-15T21:29:04.570Z"
   },
   {
    "duration": 5,
    "start_time": "2024-06-15T21:29:04.575Z"
   },
   {
    "duration": 9,
    "start_time": "2024-06-15T21:29:04.581Z"
   },
   {
    "duration": 377,
    "start_time": "2024-06-15T21:29:04.591Z"
   },
   {
    "duration": 357,
    "start_time": "2024-06-15T21:29:04.969Z"
   },
   {
    "duration": 11,
    "start_time": "2024-06-15T21:29:05.327Z"
   },
   {
    "duration": 9,
    "start_time": "2024-06-15T21:29:05.339Z"
   },
   {
    "duration": 13,
    "start_time": "2024-06-15T21:29:05.349Z"
   },
   {
    "duration": 263,
    "start_time": "2024-06-15T21:29:05.364Z"
   },
   {
    "duration": 257,
    "start_time": "2024-06-15T21:29:05.628Z"
   },
   {
    "duration": 211,
    "start_time": "2024-06-15T21:29:05.888Z"
   },
   {
    "duration": 4,
    "start_time": "2024-06-15T21:29:06.101Z"
   },
   {
    "duration": 370,
    "start_time": "2024-06-15T21:29:06.107Z"
   },
   {
    "duration": 5,
    "start_time": "2024-06-15T21:29:06.478Z"
   },
   {
    "duration": 278,
    "start_time": "2024-06-15T21:29:06.484Z"
   },
   {
    "duration": 6,
    "start_time": "2024-06-15T21:29:06.764Z"
   },
   {
    "duration": 277,
    "start_time": "2024-06-15T21:29:06.772Z"
   },
   {
    "duration": 5,
    "start_time": "2024-06-15T21:29:07.051Z"
   },
   {
    "duration": 178,
    "start_time": "2024-06-15T21:29:07.057Z"
   },
   {
    "duration": 4,
    "start_time": "2024-06-15T21:29:07.237Z"
   },
   {
    "duration": 157,
    "start_time": "2024-06-15T21:29:07.242Z"
   },
   {
    "duration": 167,
    "start_time": "2024-06-15T21:29:07.400Z"
   },
   {
    "duration": 3,
    "start_time": "2024-06-15T21:29:07.569Z"
   },
   {
    "duration": 195,
    "start_time": "2024-06-15T21:29:07.574Z"
   },
   {
    "duration": 125,
    "start_time": "2024-06-15T21:29:07.771Z"
   },
   {
    "duration": 33,
    "start_time": "2024-06-15T21:29:07.897Z"
   },
   {
    "duration": 10,
    "start_time": "2024-06-15T21:29:07.931Z"
   },
   {
    "duration": 19,
    "start_time": "2024-06-15T21:29:07.943Z"
   },
   {
    "duration": 9,
    "start_time": "2024-06-15T21:29:07.963Z"
   },
   {
    "duration": 29,
    "start_time": "2024-06-15T21:29:07.973Z"
   },
   {
    "duration": 20,
    "start_time": "2024-06-15T21:29:08.003Z"
   },
   {
    "duration": 6,
    "start_time": "2024-06-15T21:29:08.024Z"
   }
  ],
  "kernelspec": {
   "display_name": "Python 3 (ipykernel)",
   "language": "python",
   "name": "python3"
  },
  "language_info": {
   "codemirror_mode": {
    "name": "ipython",
    "version": 3
   },
   "file_extension": ".py",
   "mimetype": "text/x-python",
   "name": "python",
   "nbconvert_exporter": "python",
   "pygments_lexer": "ipython3",
   "version": "3.9.5"
  },
  "toc": {
   "base_numbering": 1,
   "nav_menu": {},
   "number_sections": true,
   "sideBar": true,
   "skip_h1_title": true,
   "title_cell": "Table of Contents",
   "title_sidebar": "Contents",
   "toc_cell": false,
   "toc_position": {
    "height": "calc(100% - 180px)",
    "left": "10px",
    "top": "150px",
    "width": "384px"
   },
   "toc_section_display": true,
   "toc_window_display": true
  }
 },
 "nbformat": 4,
 "nbformat_minor": 2
}
